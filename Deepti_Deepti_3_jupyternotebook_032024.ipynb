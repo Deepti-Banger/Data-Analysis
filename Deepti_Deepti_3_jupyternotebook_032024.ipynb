{
  "cells": [
    {
      "cell_type": "markdown",
      "id": "38bcec7a-f9ab-48e8-9553-e9ded639a576",
      "metadata": {
        "id": "38bcec7a-f9ab-48e8-9553-e9ded639a576"
      },
      "source": [
        "# Trees in Camden\n",
        "Use this notebook to complete your analysis.\n",
        "Enter code and comments after the TODOs.\n",
        "\n",
        "There are some code cells completed for you.  These are highlighted with a <font style=\"color:crimson;background-color:lemonchiffon\">TODO</font> comment.  You can use these to guide the subsequent tasks.  Other cells require you to read documentation or search for answers.  The markdown comments give you links to some useful documentation and articles.  Read the documentation, look at the examples provided in the documentation and then try to apply them to your data.\n",
        "\n",
        "Remember that you can find information on the pandas functions on the Pandas website https://pandas.pydata.org/pandas-docs/stable/reference/frame.html or directly in the notebook by puttin a ? before or after the function name. for instance: `?df.head()` or `df['Maturity'].value_counts()?`"
      ]
    },
    {
      "cell_type": "markdown",
      "id": "71f2c016-f440-4601-8262-1d814315d1bb",
      "metadata": {
        "id": "71f2c016-f440-4601-8262-1d814315d1bb"
      },
      "source": [
        "## Imports\n",
        "Import the libraries we need to perform the analysis."
      ]
    },
    {
      "cell_type": "code",
      "execution_count": 10,
      "id": "26c7393c-3a3f-4224-8c88-10aa58310351",
      "metadata": {
        "id": "26c7393c-3a3f-4224-8c88-10aa58310351"
      },
      "outputs": [],
      "source": [
        "import pandas as pd"
      ]
    },
    {
      "cell_type": "markdown",
      "id": "ddcf618b-a928-498c-b07e-991c7eb09bb7",
      "metadata": {
        "tags": [],
        "toc-hr-collapsed": true,
        "id": "ddcf618b-a928-498c-b07e-991c7eb09bb7"
      },
      "source": [
        "## Task 2: Load Data and Perform Initial Exploration\n",
        "Load the data from the supplied data files.  The files are in different **file formats**, but Pandas can handle this.\n",
        "\n",
        "You should read the data in using the appropriate function:\n",
        "\n",
        "- [pandas.read_excel](https://pandas.pydata.org/pandas-docs/stable/reference/api/pandas.read_excel.html)\n",
        "- [pandas.read_csv](https://pandas.pydata.org/docs/reference/api/pandas.read_csv.html)\n",
        "- [pandas.read_json](https://pandas.pydata.org/pandas-docs/version/0.23.4/generated/pandas.read_json.html)\n",
        "\n",
        "You can then inspect the first few rows of the loaded dataframe:\n",
        "\n",
        "[pandas.DataFrame.head](https://pandas.pydata.org/docs/reference/api/pandas.DataFrame.head.html)\n",
        "\n",
        "You can get the number of rows and columns:\n",
        "\n",
        "[pandas.DataFrame.shape](https://pandas.pydata.org/pandas-docs/stable/reference/api/pandas.DataFrame.shape.html)\n",
        "\n",
        "You can get the list of column names:\n",
        "\n",
        "[pandas.DataFrame.columns](https://pandas.pydata.org/docs/reference/api/pandas.DataFrame.columns.html)\n",
        "\n",
        "And you can list the data types of the columns:\n",
        "\n",
        "[pandas.DataFrames.dtypes](https://pandas.pydata.org/pandas-docs/stable/reference/api/pandas.DataFrame.dtypes.html)\n",
        "\n",
        "I've done the first one (loading `\"camden_trees.xlsx\"`) for you.  Please load `\"camden_trees_environmental.csv\"` and `\"tree_common_names.json\"` and analyse them in the same way.\n"
      ]
    },
    {
      "cell_type": "markdown",
      "id": "be1b77e3-ef79-49da-a896-dafbc51a3e10",
      "metadata": {
        "id": "be1b77e3-ef79-49da-a896-dafbc51a3e10"
      },
      "source": [
        "### 2.1 Trees\n",
        "The file `\"camden_trees.xlsx\"` is an Excel file, so we use the `read_excel()` function."
      ]
    },
    {
      "cell_type": "code",
      "execution_count": 11,
      "id": "dcc71d80-c6e5-41fa-bdd2-8a9c1c129cc7",
      "metadata": {
        "id": "dcc71d80-c6e5-41fa-bdd2-8a9c1c129cc7"
      },
      "outputs": [],
      "source": [
        "# Create a Pandas dataframe called trees that contains the contents of the Excel file\n",
        "trees = pd.read_excel(\"camden_trees.xlsx\")"
      ]
    },
    {
      "cell_type": "markdown",
      "id": "13689979-f709-4e37-87bc-e005a9dfd0ea",
      "metadata": {
        "id": "13689979-f709-4e37-87bc-e005a9dfd0ea"
      },
      "source": [
        "We can now inspect the first few rows using `head()`.  By default, `head()` displays the first 5 rows."
      ]
    },
    {
      "cell_type": "code",
      "execution_count": 12,
      "id": "34c737a4-0666-450f-8db3-b14fd2c2fec5",
      "metadata": {
        "colab": {
          "base_uri": "https://localhost:8080/",
          "height": 1000
        },
        "id": "34c737a4-0666-450f-8db3-b14fd2c2fec5",
        "outputId": "a7ffdfa7-6ccf-4624-8044-45a1d38eb625"
      },
      "outputs": [
        {
          "output_type": "execute_result",
          "data": {
            "text/plain": [
              "   Identifier  Number Of Trees                         Site Name  \\\n",
              "0    00060053              1.0          Russell Nurseries Estate   \n",
              "1    00057855              1.0                 BRECKNOCK JMI (E)   \n",
              "2    00059953              1.0        Estate 51 Ravenshaw Street   \n",
              "3    00059915              1.0                 ROSARY RC JMI (E)   \n",
              "4    00010762              1.0                Holly Lodge Estate   \n",
              "5    00007523              1.0                Westcroft Estate 1   \n",
              "6    00041657              1.0                Westcroft Estate 4   \n",
              "7    00060359              1.0              TOTTENHAM COURT ROAD   \n",
              "8    00058880              1.0                          YORK WAY   \n",
              "9    00057919              1.0          Weedington Road Estate 2   \n",
              "10   00057833              1.0                     CHETWYND ROAD   \n",
              "11   00060284              1.0                     CAMLEY STREET   \n",
              "12   00059837              1.0                     HAMPSTEAD (E)   \n",
              "13   00046947              1.0       Westcroft Estate Allotments   \n",
              "14   00007528              1.0       Westcroft Estate Allotments   \n",
              "15   00010909              1.0                Holly Lodge Estate   \n",
              "16   00000769              2.0      Alexandra & Ainsworth Estate   \n",
              "17   00048130              1.0            Sidmouth Street Estate   \n",
              "18   00059598              3.0             Regents Park Estate 7   \n",
              "19   00059251              1.0                      BELSIZE ROAD   \n",
              "20   00059489              1.0         ADELAIDE ROAD NATURE AREA   \n",
              "21   00060252              1.0  KILBURN GRANGE, MESSINA AVE (LS)   \n",
              "22   00010868              1.0                Holly Lodge Estate   \n",
              "23   00058882              1.0                          YORK WAY   \n",
              "24   00058873              1.0                 GREENAWAY GARDENS   \n",
              "\n",
              "   Contract Area                            Scientific Name Inspection Date  \\\n",
              "0        Housing                            Vacant Tree Pit             NaT   \n",
              "1      Education                            Vacant Tree Pit      2019-07-17   \n",
              "2        Housing                               Ficus carica             NaT   \n",
              "3      Education                        Betula jacquemontii             NaT   \n",
              "4        Housing                       Ilex x altaclarensis      2017-06-14   \n",
              "5        Housing                             Betula pendula      2018-08-06   \n",
              "6        Housing                             Betula pendula      2018-08-06   \n",
              "7       Highways  Vacant Tree Pit (planned: Acer campestre)             NaT   \n",
              "8       Highways                            Corylus colurna      2019-10-23   \n",
              "9        Housing                         Mespilus germanica             NaT   \n",
              "10      Highways                          Sorbus torminalis             NaT   \n",
              "11      Highways                            Vacant Tree Pit      2019-10-23   \n",
              "12     Education                            Vacant Tree Pit             NaT   \n",
              "13         Parks                         Fraxinus excelsior      2017-12-04   \n",
              "14         Parks                             Pyrus communis      2018-08-06   \n",
              "15       Housing                         Fraxinus excelsior      2017-06-21   \n",
              "16       Housing                               Prunus avium      2018-06-13   \n",
              "17       Housing                                 Stump Only      2019-07-22   \n",
              "18       Housing                   Malus domestica cultivar      2019-04-17   \n",
              "19      Highways             Liquidambar styraciflua Palo A      2019-01-29   \n",
              "20         Parks                              Tilia cordata      2019-03-27   \n",
              "21         Parks                            Vacant Tree Pit             NaT   \n",
              "22       Housing                         Fraxinus excelsior      2017-06-15   \n",
              "23      Highways                              Ginkgo biloba      2019-10-23   \n",
              "24      Highways                    Liquidambar styraciflua             NaT   \n",
              "\n",
              "   Inspection Due Date  Height In Metres  Spread In Metres  \\\n",
              "0                  NaN               NaN               NaN   \n",
              "1            2022/2023               NaN               NaN   \n",
              "2                  NaN               5.0               4.0   \n",
              "3                  NaN               4.0               1.0   \n",
              "4            2020/2021              14.0               6.0   \n",
              "5            2021/2022               9.0               7.0   \n",
              "6            2021/2022               4.0               1.0   \n",
              "7                  NaN               NaN               NaN   \n",
              "8            2022/2023               0.0               0.0   \n",
              "9                  NaN               2.0               1.5   \n",
              "10                 NaN               2.5               1.5   \n",
              "11           2022/2023               NaN               NaN   \n",
              "12                 NaN               NaN               NaN   \n",
              "13           2020/2021               8.0               5.0   \n",
              "14           2021/2022              13.0               9.0   \n",
              "15           2020/2021              17.0              10.0   \n",
              "16           2021/2022              10.0               7.0   \n",
              "17           2022/2023               0.0               0.0   \n",
              "18           2022/2023               3.0               3.0   \n",
              "19           2021/2022               3.0               2.0   \n",
              "20           2021/2022              14.0               1.0   \n",
              "21                 NaN               NaN               NaN   \n",
              "22           2020/2021              19.0               9.0   \n",
              "23           2022/2023               0.0               0.0   \n",
              "24                 NaN               0.0               0.0   \n",
              "\n",
              "    Diameter In Centimetres At Breast Height  Ward Code  \\\n",
              "0                                        NaN  E05000135   \n",
              "1                                        NaN  E05000131   \n",
              "2                                       10.0        NaN   \n",
              "3                                        6.0  E05000135   \n",
              "4                                       26.0  E05000137   \n",
              "5                                       29.0        NaN   \n",
              "6                                        5.0        NaN   \n",
              "7                                        NaN        NaN   \n",
              "8                                        0.0        NaN   \n",
              "9                                        4.0  E05000134   \n",
              "10                                       4.0  E05000137   \n",
              "11                                       NaN  E05000143   \n",
              "12                                       NaN  E05000132   \n",
              "13                                      12.0        NaN   \n",
              "14                                      59.0        NaN   \n",
              "15                                      52.0  E05000137   \n",
              "16                                      23.0  E05000140   \n",
              "17                                       0.0  E05000141   \n",
              "18                                       4.0  E05000142   \n",
              "19                                       6.0  E05000140   \n",
              "20                                      50.0  E05000128   \n",
              "21                                       NaN        NaN   \n",
              "22                                      63.0  E05000137   \n",
              "23                                       0.0        NaN   \n",
              "24                                       0.0        NaN   \n",
              "\n",
              "                     Ward Name  Easting  Northing  Longitude   Latitude  \\\n",
              "0               Hampstead Town   527305    185240  -0.165240  51.551693   \n",
              "1                   Cantelowes   529923    184782  -0.127681  51.546984   \n",
              "2                          NaN        0         0        NaN        NaN   \n",
              "3               Hampstead Town   527249    185261  -0.166051  51.551901   \n",
              "4                     Highgate   528414    186770  -0.148704  51.565198   \n",
              "5                          NaN   524253    185982  -0.208975  51.559049   \n",
              "6                          NaN   524253    185823  -0.209029  51.557613   \n",
              "7                          NaN        0         0        NaN        NaN   \n",
              "8                          NaN   530336    183342  -0.122259  51.533953   \n",
              "9                   Gospel Oak   528174    185268  -0.152705  51.551755   \n",
              "10                    Highgate   528772    185987  -0.143818  51.558080   \n",
              "11  St Pancras and Somers Town   529941    183455  -0.127909  51.535055   \n",
              "12               Fortune Green   524338    185532  -0.207914  51.554982   \n",
              "13                         NaN   524186    185964  -0.209948  51.558896   \n",
              "14                         NaN   524213    185983  -0.209555  51.559062   \n",
              "15                    Highgate   528515    186598  -0.147307  51.563628   \n",
              "16                     Kilburn   525965    183777  -0.185087  51.538847   \n",
              "17                King's Cross   530569    182592  -0.119171  51.527154   \n",
              "18               Regent's Park   528975    182714  -0.142103  51.528618   \n",
              "19                     Kilburn   525718    183816  -0.188631  51.539254   \n",
              "20                     Belsize   527659    184360  -0.160454  51.543711   \n",
              "21                         NaN        0         0        NaN        NaN   \n",
              "22                    Highgate   528537    186678  -0.146953  51.564339   \n",
              "23                         NaN   530336    183328  -0.122265  51.533820   \n",
              "24                         NaN        0         0        NaN        NaN   \n",
              "\n",
              "                  Location  \n",
              "0    (51.551693, -0.16524)  \n",
              "1   (51.546984, -0.127681)  \n",
              "2                      NaN  \n",
              "3   (51.551901, -0.166051)  \n",
              "4   (51.565198, -0.148704)  \n",
              "5   (51.559049, -0.208975)  \n",
              "6   (51.557613, -0.209029)  \n",
              "7                      NaN  \n",
              "8   (51.533953, -0.122259)  \n",
              "9   (51.551755, -0.152705)  \n",
              "10   (51.55808, -0.143818)  \n",
              "11  (51.535055, -0.127909)  \n",
              "12  (51.554982, -0.207914)  \n",
              "13  (51.558896, -0.209948)  \n",
              "14  (51.559062, -0.209555)  \n",
              "15  (51.563628, -0.147307)  \n",
              "16  (51.538847, -0.185087)  \n",
              "17  (51.527154, -0.119171)  \n",
              "18  (51.528618, -0.142103)  \n",
              "19  (51.539254, -0.188631)  \n",
              "20  (51.543711, -0.160454)  \n",
              "21                     NaN  \n",
              "22  (51.564339, -0.146953)  \n",
              "23   (51.53382, -0.122265)  \n",
              "24                     NaN  "
            ],
            "text/html": [
              "\n",
              "  <div id=\"df-1acf3468-d08b-4140-aa1b-7ccc9d31ec6c\" class=\"colab-df-container\">\n",
              "    <div>\n",
              "<style scoped>\n",
              "    .dataframe tbody tr th:only-of-type {\n",
              "        vertical-align: middle;\n",
              "    }\n",
              "\n",
              "    .dataframe tbody tr th {\n",
              "        vertical-align: top;\n",
              "    }\n",
              "\n",
              "    .dataframe thead th {\n",
              "        text-align: right;\n",
              "    }\n",
              "</style>\n",
              "<table border=\"1\" class=\"dataframe\">\n",
              "  <thead>\n",
              "    <tr style=\"text-align: right;\">\n",
              "      <th></th>\n",
              "      <th>Identifier</th>\n",
              "      <th>Number Of Trees</th>\n",
              "      <th>Site Name</th>\n",
              "      <th>Contract Area</th>\n",
              "      <th>Scientific Name</th>\n",
              "      <th>Inspection Date</th>\n",
              "      <th>Inspection Due Date</th>\n",
              "      <th>Height In Metres</th>\n",
              "      <th>Spread In Metres</th>\n",
              "      <th>Diameter In Centimetres At Breast Height</th>\n",
              "      <th>Ward Code</th>\n",
              "      <th>Ward Name</th>\n",
              "      <th>Easting</th>\n",
              "      <th>Northing</th>\n",
              "      <th>Longitude</th>\n",
              "      <th>Latitude</th>\n",
              "      <th>Location</th>\n",
              "    </tr>\n",
              "  </thead>\n",
              "  <tbody>\n",
              "    <tr>\n",
              "      <th>0</th>\n",
              "      <td>00060053</td>\n",
              "      <td>1.0</td>\n",
              "      <td>Russell Nurseries Estate</td>\n",
              "      <td>Housing</td>\n",
              "      <td>Vacant Tree Pit</td>\n",
              "      <td>NaT</td>\n",
              "      <td>NaN</td>\n",
              "      <td>NaN</td>\n",
              "      <td>NaN</td>\n",
              "      <td>NaN</td>\n",
              "      <td>E05000135</td>\n",
              "      <td>Hampstead Town</td>\n",
              "      <td>527305</td>\n",
              "      <td>185240</td>\n",
              "      <td>-0.165240</td>\n",
              "      <td>51.551693</td>\n",
              "      <td>(51.551693, -0.16524)</td>\n",
              "    </tr>\n",
              "    <tr>\n",
              "      <th>1</th>\n",
              "      <td>00057855</td>\n",
              "      <td>1.0</td>\n",
              "      <td>BRECKNOCK JMI (E)</td>\n",
              "      <td>Education</td>\n",
              "      <td>Vacant Tree Pit</td>\n",
              "      <td>2019-07-17</td>\n",
              "      <td>2022/2023</td>\n",
              "      <td>NaN</td>\n",
              "      <td>NaN</td>\n",
              "      <td>NaN</td>\n",
              "      <td>E05000131</td>\n",
              "      <td>Cantelowes</td>\n",
              "      <td>529923</td>\n",
              "      <td>184782</td>\n",
              "      <td>-0.127681</td>\n",
              "      <td>51.546984</td>\n",
              "      <td>(51.546984, -0.127681)</td>\n",
              "    </tr>\n",
              "    <tr>\n",
              "      <th>2</th>\n",
              "      <td>00059953</td>\n",
              "      <td>1.0</td>\n",
              "      <td>Estate 51 Ravenshaw Street</td>\n",
              "      <td>Housing</td>\n",
              "      <td>Ficus carica</td>\n",
              "      <td>NaT</td>\n",
              "      <td>NaN</td>\n",
              "      <td>5.0</td>\n",
              "      <td>4.0</td>\n",
              "      <td>10.0</td>\n",
              "      <td>NaN</td>\n",
              "      <td>NaN</td>\n",
              "      <td>0</td>\n",
              "      <td>0</td>\n",
              "      <td>NaN</td>\n",
              "      <td>NaN</td>\n",
              "      <td>NaN</td>\n",
              "    </tr>\n",
              "    <tr>\n",
              "      <th>3</th>\n",
              "      <td>00059915</td>\n",
              "      <td>1.0</td>\n",
              "      <td>ROSARY RC JMI (E)</td>\n",
              "      <td>Education</td>\n",
              "      <td>Betula jacquemontii</td>\n",
              "      <td>NaT</td>\n",
              "      <td>NaN</td>\n",
              "      <td>4.0</td>\n",
              "      <td>1.0</td>\n",
              "      <td>6.0</td>\n",
              "      <td>E05000135</td>\n",
              "      <td>Hampstead Town</td>\n",
              "      <td>527249</td>\n",
              "      <td>185261</td>\n",
              "      <td>-0.166051</td>\n",
              "      <td>51.551901</td>\n",
              "      <td>(51.551901, -0.166051)</td>\n",
              "    </tr>\n",
              "    <tr>\n",
              "      <th>4</th>\n",
              "      <td>00010762</td>\n",
              "      <td>1.0</td>\n",
              "      <td>Holly Lodge Estate</td>\n",
              "      <td>Housing</td>\n",
              "      <td>Ilex x altaclarensis</td>\n",
              "      <td>2017-06-14</td>\n",
              "      <td>2020/2021</td>\n",
              "      <td>14.0</td>\n",
              "      <td>6.0</td>\n",
              "      <td>26.0</td>\n",
              "      <td>E05000137</td>\n",
              "      <td>Highgate</td>\n",
              "      <td>528414</td>\n",
              "      <td>186770</td>\n",
              "      <td>-0.148704</td>\n",
              "      <td>51.565198</td>\n",
              "      <td>(51.565198, -0.148704)</td>\n",
              "    </tr>\n",
              "    <tr>\n",
              "      <th>5</th>\n",
              "      <td>00007523</td>\n",
              "      <td>1.0</td>\n",
              "      <td>Westcroft Estate 1</td>\n",
              "      <td>Housing</td>\n",
              "      <td>Betula pendula</td>\n",
              "      <td>2018-08-06</td>\n",
              "      <td>2021/2022</td>\n",
              "      <td>9.0</td>\n",
              "      <td>7.0</td>\n",
              "      <td>29.0</td>\n",
              "      <td>NaN</td>\n",
              "      <td>NaN</td>\n",
              "      <td>524253</td>\n",
              "      <td>185982</td>\n",
              "      <td>-0.208975</td>\n",
              "      <td>51.559049</td>\n",
              "      <td>(51.559049, -0.208975)</td>\n",
              "    </tr>\n",
              "    <tr>\n",
              "      <th>6</th>\n",
              "      <td>00041657</td>\n",
              "      <td>1.0</td>\n",
              "      <td>Westcroft Estate 4</td>\n",
              "      <td>Housing</td>\n",
              "      <td>Betula pendula</td>\n",
              "      <td>2018-08-06</td>\n",
              "      <td>2021/2022</td>\n",
              "      <td>4.0</td>\n",
              "      <td>1.0</td>\n",
              "      <td>5.0</td>\n",
              "      <td>NaN</td>\n",
              "      <td>NaN</td>\n",
              "      <td>524253</td>\n",
              "      <td>185823</td>\n",
              "      <td>-0.209029</td>\n",
              "      <td>51.557613</td>\n",
              "      <td>(51.557613, -0.209029)</td>\n",
              "    </tr>\n",
              "    <tr>\n",
              "      <th>7</th>\n",
              "      <td>00060359</td>\n",
              "      <td>1.0</td>\n",
              "      <td>TOTTENHAM COURT ROAD</td>\n",
              "      <td>Highways</td>\n",
              "      <td>Vacant Tree Pit (planned: Acer campestre)</td>\n",
              "      <td>NaT</td>\n",
              "      <td>NaN</td>\n",
              "      <td>NaN</td>\n",
              "      <td>NaN</td>\n",
              "      <td>NaN</td>\n",
              "      <td>NaN</td>\n",
              "      <td>NaN</td>\n",
              "      <td>0</td>\n",
              "      <td>0</td>\n",
              "      <td>NaN</td>\n",
              "      <td>NaN</td>\n",
              "      <td>NaN</td>\n",
              "    </tr>\n",
              "    <tr>\n",
              "      <th>8</th>\n",
              "      <td>00058880</td>\n",
              "      <td>1.0</td>\n",
              "      <td>YORK WAY</td>\n",
              "      <td>Highways</td>\n",
              "      <td>Corylus colurna</td>\n",
              "      <td>2019-10-23</td>\n",
              "      <td>2022/2023</td>\n",
              "      <td>0.0</td>\n",
              "      <td>0.0</td>\n",
              "      <td>0.0</td>\n",
              "      <td>NaN</td>\n",
              "      <td>NaN</td>\n",
              "      <td>530336</td>\n",
              "      <td>183342</td>\n",
              "      <td>-0.122259</td>\n",
              "      <td>51.533953</td>\n",
              "      <td>(51.533953, -0.122259)</td>\n",
              "    </tr>\n",
              "    <tr>\n",
              "      <th>9</th>\n",
              "      <td>00057919</td>\n",
              "      <td>1.0</td>\n",
              "      <td>Weedington Road Estate 2</td>\n",
              "      <td>Housing</td>\n",
              "      <td>Mespilus germanica</td>\n",
              "      <td>NaT</td>\n",
              "      <td>NaN</td>\n",
              "      <td>2.0</td>\n",
              "      <td>1.5</td>\n",
              "      <td>4.0</td>\n",
              "      <td>E05000134</td>\n",
              "      <td>Gospel Oak</td>\n",
              "      <td>528174</td>\n",
              "      <td>185268</td>\n",
              "      <td>-0.152705</td>\n",
              "      <td>51.551755</td>\n",
              "      <td>(51.551755, -0.152705)</td>\n",
              "    </tr>\n",
              "    <tr>\n",
              "      <th>10</th>\n",
              "      <td>00057833</td>\n",
              "      <td>1.0</td>\n",
              "      <td>CHETWYND ROAD</td>\n",
              "      <td>Highways</td>\n",
              "      <td>Sorbus torminalis</td>\n",
              "      <td>NaT</td>\n",
              "      <td>NaN</td>\n",
              "      <td>2.5</td>\n",
              "      <td>1.5</td>\n",
              "      <td>4.0</td>\n",
              "      <td>E05000137</td>\n",
              "      <td>Highgate</td>\n",
              "      <td>528772</td>\n",
              "      <td>185987</td>\n",
              "      <td>-0.143818</td>\n",
              "      <td>51.558080</td>\n",
              "      <td>(51.55808, -0.143818)</td>\n",
              "    </tr>\n",
              "    <tr>\n",
              "      <th>11</th>\n",
              "      <td>00060284</td>\n",
              "      <td>1.0</td>\n",
              "      <td>CAMLEY STREET</td>\n",
              "      <td>Highways</td>\n",
              "      <td>Vacant Tree Pit</td>\n",
              "      <td>2019-10-23</td>\n",
              "      <td>2022/2023</td>\n",
              "      <td>NaN</td>\n",
              "      <td>NaN</td>\n",
              "      <td>NaN</td>\n",
              "      <td>E05000143</td>\n",
              "      <td>St Pancras and Somers Town</td>\n",
              "      <td>529941</td>\n",
              "      <td>183455</td>\n",
              "      <td>-0.127909</td>\n",
              "      <td>51.535055</td>\n",
              "      <td>(51.535055, -0.127909)</td>\n",
              "    </tr>\n",
              "    <tr>\n",
              "      <th>12</th>\n",
              "      <td>00059837</td>\n",
              "      <td>1.0</td>\n",
              "      <td>HAMPSTEAD (E)</td>\n",
              "      <td>Education</td>\n",
              "      <td>Vacant Tree Pit</td>\n",
              "      <td>NaT</td>\n",
              "      <td>NaN</td>\n",
              "      <td>NaN</td>\n",
              "      <td>NaN</td>\n",
              "      <td>NaN</td>\n",
              "      <td>E05000132</td>\n",
              "      <td>Fortune Green</td>\n",
              "      <td>524338</td>\n",
              "      <td>185532</td>\n",
              "      <td>-0.207914</td>\n",
              "      <td>51.554982</td>\n",
              "      <td>(51.554982, -0.207914)</td>\n",
              "    </tr>\n",
              "    <tr>\n",
              "      <th>13</th>\n",
              "      <td>00046947</td>\n",
              "      <td>1.0</td>\n",
              "      <td>Westcroft Estate Allotments</td>\n",
              "      <td>Parks</td>\n",
              "      <td>Fraxinus excelsior</td>\n",
              "      <td>2017-12-04</td>\n",
              "      <td>2020/2021</td>\n",
              "      <td>8.0</td>\n",
              "      <td>5.0</td>\n",
              "      <td>12.0</td>\n",
              "      <td>NaN</td>\n",
              "      <td>NaN</td>\n",
              "      <td>524186</td>\n",
              "      <td>185964</td>\n",
              "      <td>-0.209948</td>\n",
              "      <td>51.558896</td>\n",
              "      <td>(51.558896, -0.209948)</td>\n",
              "    </tr>\n",
              "    <tr>\n",
              "      <th>14</th>\n",
              "      <td>00007528</td>\n",
              "      <td>1.0</td>\n",
              "      <td>Westcroft Estate Allotments</td>\n",
              "      <td>Parks</td>\n",
              "      <td>Pyrus communis</td>\n",
              "      <td>2018-08-06</td>\n",
              "      <td>2021/2022</td>\n",
              "      <td>13.0</td>\n",
              "      <td>9.0</td>\n",
              "      <td>59.0</td>\n",
              "      <td>NaN</td>\n",
              "      <td>NaN</td>\n",
              "      <td>524213</td>\n",
              "      <td>185983</td>\n",
              "      <td>-0.209555</td>\n",
              "      <td>51.559062</td>\n",
              "      <td>(51.559062, -0.209555)</td>\n",
              "    </tr>\n",
              "    <tr>\n",
              "      <th>15</th>\n",
              "      <td>00010909</td>\n",
              "      <td>1.0</td>\n",
              "      <td>Holly Lodge Estate</td>\n",
              "      <td>Housing</td>\n",
              "      <td>Fraxinus excelsior</td>\n",
              "      <td>2017-06-21</td>\n",
              "      <td>2020/2021</td>\n",
              "      <td>17.0</td>\n",
              "      <td>10.0</td>\n",
              "      <td>52.0</td>\n",
              "      <td>E05000137</td>\n",
              "      <td>Highgate</td>\n",
              "      <td>528515</td>\n",
              "      <td>186598</td>\n",
              "      <td>-0.147307</td>\n",
              "      <td>51.563628</td>\n",
              "      <td>(51.563628, -0.147307)</td>\n",
              "    </tr>\n",
              "    <tr>\n",
              "      <th>16</th>\n",
              "      <td>00000769</td>\n",
              "      <td>2.0</td>\n",
              "      <td>Alexandra &amp; Ainsworth Estate</td>\n",
              "      <td>Housing</td>\n",
              "      <td>Prunus avium</td>\n",
              "      <td>2018-06-13</td>\n",
              "      <td>2021/2022</td>\n",
              "      <td>10.0</td>\n",
              "      <td>7.0</td>\n",
              "      <td>23.0</td>\n",
              "      <td>E05000140</td>\n",
              "      <td>Kilburn</td>\n",
              "      <td>525965</td>\n",
              "      <td>183777</td>\n",
              "      <td>-0.185087</td>\n",
              "      <td>51.538847</td>\n",
              "      <td>(51.538847, -0.185087)</td>\n",
              "    </tr>\n",
              "    <tr>\n",
              "      <th>17</th>\n",
              "      <td>00048130</td>\n",
              "      <td>1.0</td>\n",
              "      <td>Sidmouth Street Estate</td>\n",
              "      <td>Housing</td>\n",
              "      <td>Stump Only</td>\n",
              "      <td>2019-07-22</td>\n",
              "      <td>2022/2023</td>\n",
              "      <td>0.0</td>\n",
              "      <td>0.0</td>\n",
              "      <td>0.0</td>\n",
              "      <td>E05000141</td>\n",
              "      <td>King's Cross</td>\n",
              "      <td>530569</td>\n",
              "      <td>182592</td>\n",
              "      <td>-0.119171</td>\n",
              "      <td>51.527154</td>\n",
              "      <td>(51.527154, -0.119171)</td>\n",
              "    </tr>\n",
              "    <tr>\n",
              "      <th>18</th>\n",
              "      <td>00059598</td>\n",
              "      <td>3.0</td>\n",
              "      <td>Regents Park Estate 7</td>\n",
              "      <td>Housing</td>\n",
              "      <td>Malus domestica cultivar</td>\n",
              "      <td>2019-04-17</td>\n",
              "      <td>2022/2023</td>\n",
              "      <td>3.0</td>\n",
              "      <td>3.0</td>\n",
              "      <td>4.0</td>\n",
              "      <td>E05000142</td>\n",
              "      <td>Regent's Park</td>\n",
              "      <td>528975</td>\n",
              "      <td>182714</td>\n",
              "      <td>-0.142103</td>\n",
              "      <td>51.528618</td>\n",
              "      <td>(51.528618, -0.142103)</td>\n",
              "    </tr>\n",
              "    <tr>\n",
              "      <th>19</th>\n",
              "      <td>00059251</td>\n",
              "      <td>1.0</td>\n",
              "      <td>BELSIZE ROAD</td>\n",
              "      <td>Highways</td>\n",
              "      <td>Liquidambar styraciflua Palo A</td>\n",
              "      <td>2019-01-29</td>\n",
              "      <td>2021/2022</td>\n",
              "      <td>3.0</td>\n",
              "      <td>2.0</td>\n",
              "      <td>6.0</td>\n",
              "      <td>E05000140</td>\n",
              "      <td>Kilburn</td>\n",
              "      <td>525718</td>\n",
              "      <td>183816</td>\n",
              "      <td>-0.188631</td>\n",
              "      <td>51.539254</td>\n",
              "      <td>(51.539254, -0.188631)</td>\n",
              "    </tr>\n",
              "    <tr>\n",
              "      <th>20</th>\n",
              "      <td>00059489</td>\n",
              "      <td>1.0</td>\n",
              "      <td>ADELAIDE ROAD NATURE AREA</td>\n",
              "      <td>Parks</td>\n",
              "      <td>Tilia cordata</td>\n",
              "      <td>2019-03-27</td>\n",
              "      <td>2021/2022</td>\n",
              "      <td>14.0</td>\n",
              "      <td>1.0</td>\n",
              "      <td>50.0</td>\n",
              "      <td>E05000128</td>\n",
              "      <td>Belsize</td>\n",
              "      <td>527659</td>\n",
              "      <td>184360</td>\n",
              "      <td>-0.160454</td>\n",
              "      <td>51.543711</td>\n",
              "      <td>(51.543711, -0.160454)</td>\n",
              "    </tr>\n",
              "    <tr>\n",
              "      <th>21</th>\n",
              "      <td>00060252</td>\n",
              "      <td>1.0</td>\n",
              "      <td>KILBURN GRANGE, MESSINA AVE (LS)</td>\n",
              "      <td>Parks</td>\n",
              "      <td>Vacant Tree Pit</td>\n",
              "      <td>NaT</td>\n",
              "      <td>NaN</td>\n",
              "      <td>NaN</td>\n",
              "      <td>NaN</td>\n",
              "      <td>NaN</td>\n",
              "      <td>NaN</td>\n",
              "      <td>NaN</td>\n",
              "      <td>0</td>\n",
              "      <td>0</td>\n",
              "      <td>NaN</td>\n",
              "      <td>NaN</td>\n",
              "      <td>NaN</td>\n",
              "    </tr>\n",
              "    <tr>\n",
              "      <th>22</th>\n",
              "      <td>00010868</td>\n",
              "      <td>1.0</td>\n",
              "      <td>Holly Lodge Estate</td>\n",
              "      <td>Housing</td>\n",
              "      <td>Fraxinus excelsior</td>\n",
              "      <td>2017-06-15</td>\n",
              "      <td>2020/2021</td>\n",
              "      <td>19.0</td>\n",
              "      <td>9.0</td>\n",
              "      <td>63.0</td>\n",
              "      <td>E05000137</td>\n",
              "      <td>Highgate</td>\n",
              "      <td>528537</td>\n",
              "      <td>186678</td>\n",
              "      <td>-0.146953</td>\n",
              "      <td>51.564339</td>\n",
              "      <td>(51.564339, -0.146953)</td>\n",
              "    </tr>\n",
              "    <tr>\n",
              "      <th>23</th>\n",
              "      <td>00058882</td>\n",
              "      <td>1.0</td>\n",
              "      <td>YORK WAY</td>\n",
              "      <td>Highways</td>\n",
              "      <td>Ginkgo biloba</td>\n",
              "      <td>2019-10-23</td>\n",
              "      <td>2022/2023</td>\n",
              "      <td>0.0</td>\n",
              "      <td>0.0</td>\n",
              "      <td>0.0</td>\n",
              "      <td>NaN</td>\n",
              "      <td>NaN</td>\n",
              "      <td>530336</td>\n",
              "      <td>183328</td>\n",
              "      <td>-0.122265</td>\n",
              "      <td>51.533820</td>\n",
              "      <td>(51.53382, -0.122265)</td>\n",
              "    </tr>\n",
              "    <tr>\n",
              "      <th>24</th>\n",
              "      <td>00058873</td>\n",
              "      <td>1.0</td>\n",
              "      <td>GREENAWAY GARDENS</td>\n",
              "      <td>Highways</td>\n",
              "      <td>Liquidambar styraciflua</td>\n",
              "      <td>NaT</td>\n",
              "      <td>NaN</td>\n",
              "      <td>0.0</td>\n",
              "      <td>0.0</td>\n",
              "      <td>0.0</td>\n",
              "      <td>NaN</td>\n",
              "      <td>NaN</td>\n",
              "      <td>0</td>\n",
              "      <td>0</td>\n",
              "      <td>NaN</td>\n",
              "      <td>NaN</td>\n",
              "      <td>NaN</td>\n",
              "    </tr>\n",
              "  </tbody>\n",
              "</table>\n",
              "</div>\n",
              "    <div class=\"colab-df-buttons\">\n",
              "\n",
              "  <div class=\"colab-df-container\">\n",
              "    <button class=\"colab-df-convert\" onclick=\"convertToInteractive('df-1acf3468-d08b-4140-aa1b-7ccc9d31ec6c')\"\n",
              "            title=\"Convert this dataframe to an interactive table.\"\n",
              "            style=\"display:none;\">\n",
              "\n",
              "  <svg xmlns=\"http://www.w3.org/2000/svg\" height=\"24px\" viewBox=\"0 -960 960 960\">\n",
              "    <path d=\"M120-120v-720h720v720H120Zm60-500h600v-160H180v160Zm220 220h160v-160H400v160Zm0 220h160v-160H400v160ZM180-400h160v-160H180v160Zm440 0h160v-160H620v160ZM180-180h160v-160H180v160Zm440 0h160v-160H620v160Z\"/>\n",
              "  </svg>\n",
              "    </button>\n",
              "\n",
              "  <style>\n",
              "    .colab-df-container {\n",
              "      display:flex;\n",
              "      gap: 12px;\n",
              "    }\n",
              "\n",
              "    .colab-df-convert {\n",
              "      background-color: #E8F0FE;\n",
              "      border: none;\n",
              "      border-radius: 50%;\n",
              "      cursor: pointer;\n",
              "      display: none;\n",
              "      fill: #1967D2;\n",
              "      height: 32px;\n",
              "      padding: 0 0 0 0;\n",
              "      width: 32px;\n",
              "    }\n",
              "\n",
              "    .colab-df-convert:hover {\n",
              "      background-color: #E2EBFA;\n",
              "      box-shadow: 0px 1px 2px rgba(60, 64, 67, 0.3), 0px 1px 3px 1px rgba(60, 64, 67, 0.15);\n",
              "      fill: #174EA6;\n",
              "    }\n",
              "\n",
              "    .colab-df-buttons div {\n",
              "      margin-bottom: 4px;\n",
              "    }\n",
              "\n",
              "    [theme=dark] .colab-df-convert {\n",
              "      background-color: #3B4455;\n",
              "      fill: #D2E3FC;\n",
              "    }\n",
              "\n",
              "    [theme=dark] .colab-df-convert:hover {\n",
              "      background-color: #434B5C;\n",
              "      box-shadow: 0px 1px 3px 1px rgba(0, 0, 0, 0.15);\n",
              "      filter: drop-shadow(0px 1px 2px rgba(0, 0, 0, 0.3));\n",
              "      fill: #FFFFFF;\n",
              "    }\n",
              "  </style>\n",
              "\n",
              "    <script>\n",
              "      const buttonEl =\n",
              "        document.querySelector('#df-1acf3468-d08b-4140-aa1b-7ccc9d31ec6c button.colab-df-convert');\n",
              "      buttonEl.style.display =\n",
              "        google.colab.kernel.accessAllowed ? 'block' : 'none';\n",
              "\n",
              "      async function convertToInteractive(key) {\n",
              "        const element = document.querySelector('#df-1acf3468-d08b-4140-aa1b-7ccc9d31ec6c');\n",
              "        const dataTable =\n",
              "          await google.colab.kernel.invokeFunction('convertToInteractive',\n",
              "                                                    [key], {});\n",
              "        if (!dataTable) return;\n",
              "\n",
              "        const docLinkHtml = 'Like what you see? Visit the ' +\n",
              "          '<a target=\"_blank\" href=https://colab.research.google.com/notebooks/data_table.ipynb>data table notebook</a>'\n",
              "          + ' to learn more about interactive tables.';\n",
              "        element.innerHTML = '';\n",
              "        dataTable['output_type'] = 'display_data';\n",
              "        await google.colab.output.renderOutput(dataTable, element);\n",
              "        const docLink = document.createElement('div');\n",
              "        docLink.innerHTML = docLinkHtml;\n",
              "        element.appendChild(docLink);\n",
              "      }\n",
              "    </script>\n",
              "  </div>\n",
              "\n",
              "\n",
              "<div id=\"df-1a659f2a-bff5-48d5-a14a-da8f6fefdede\">\n",
              "  <button class=\"colab-df-quickchart\" onclick=\"quickchart('df-1a659f2a-bff5-48d5-a14a-da8f6fefdede')\"\n",
              "            title=\"Suggest charts\"\n",
              "            style=\"display:none;\">\n",
              "\n",
              "<svg xmlns=\"http://www.w3.org/2000/svg\" height=\"24px\"viewBox=\"0 0 24 24\"\n",
              "     width=\"24px\">\n",
              "    <g>\n",
              "        <path d=\"M19 3H5c-1.1 0-2 .9-2 2v14c0 1.1.9 2 2 2h14c1.1 0 2-.9 2-2V5c0-1.1-.9-2-2-2zM9 17H7v-7h2v7zm4 0h-2V7h2v10zm4 0h-2v-4h2v4z\"/>\n",
              "    </g>\n",
              "</svg>\n",
              "  </button>\n",
              "\n",
              "<style>\n",
              "  .colab-df-quickchart {\n",
              "      --bg-color: #E8F0FE;\n",
              "      --fill-color: #1967D2;\n",
              "      --hover-bg-color: #E2EBFA;\n",
              "      --hover-fill-color: #174EA6;\n",
              "      --disabled-fill-color: #AAA;\n",
              "      --disabled-bg-color: #DDD;\n",
              "  }\n",
              "\n",
              "  [theme=dark] .colab-df-quickchart {\n",
              "      --bg-color: #3B4455;\n",
              "      --fill-color: #D2E3FC;\n",
              "      --hover-bg-color: #434B5C;\n",
              "      --hover-fill-color: #FFFFFF;\n",
              "      --disabled-bg-color: #3B4455;\n",
              "      --disabled-fill-color: #666;\n",
              "  }\n",
              "\n",
              "  .colab-df-quickchart {\n",
              "    background-color: var(--bg-color);\n",
              "    border: none;\n",
              "    border-radius: 50%;\n",
              "    cursor: pointer;\n",
              "    display: none;\n",
              "    fill: var(--fill-color);\n",
              "    height: 32px;\n",
              "    padding: 0;\n",
              "    width: 32px;\n",
              "  }\n",
              "\n",
              "  .colab-df-quickchart:hover {\n",
              "    background-color: var(--hover-bg-color);\n",
              "    box-shadow: 0 1px 2px rgba(60, 64, 67, 0.3), 0 1px 3px 1px rgba(60, 64, 67, 0.15);\n",
              "    fill: var(--button-hover-fill-color);\n",
              "  }\n",
              "\n",
              "  .colab-df-quickchart-complete:disabled,\n",
              "  .colab-df-quickchart-complete:disabled:hover {\n",
              "    background-color: var(--disabled-bg-color);\n",
              "    fill: var(--disabled-fill-color);\n",
              "    box-shadow: none;\n",
              "  }\n",
              "\n",
              "  .colab-df-spinner {\n",
              "    border: 2px solid var(--fill-color);\n",
              "    border-color: transparent;\n",
              "    border-bottom-color: var(--fill-color);\n",
              "    animation:\n",
              "      spin 1s steps(1) infinite;\n",
              "  }\n",
              "\n",
              "  @keyframes spin {\n",
              "    0% {\n",
              "      border-color: transparent;\n",
              "      border-bottom-color: var(--fill-color);\n",
              "      border-left-color: var(--fill-color);\n",
              "    }\n",
              "    20% {\n",
              "      border-color: transparent;\n",
              "      border-left-color: var(--fill-color);\n",
              "      border-top-color: var(--fill-color);\n",
              "    }\n",
              "    30% {\n",
              "      border-color: transparent;\n",
              "      border-left-color: var(--fill-color);\n",
              "      border-top-color: var(--fill-color);\n",
              "      border-right-color: var(--fill-color);\n",
              "    }\n",
              "    40% {\n",
              "      border-color: transparent;\n",
              "      border-right-color: var(--fill-color);\n",
              "      border-top-color: var(--fill-color);\n",
              "    }\n",
              "    60% {\n",
              "      border-color: transparent;\n",
              "      border-right-color: var(--fill-color);\n",
              "    }\n",
              "    80% {\n",
              "      border-color: transparent;\n",
              "      border-right-color: var(--fill-color);\n",
              "      border-bottom-color: var(--fill-color);\n",
              "    }\n",
              "    90% {\n",
              "      border-color: transparent;\n",
              "      border-bottom-color: var(--fill-color);\n",
              "    }\n",
              "  }\n",
              "</style>\n",
              "\n",
              "  <script>\n",
              "    async function quickchart(key) {\n",
              "      const quickchartButtonEl =\n",
              "        document.querySelector('#' + key + ' button');\n",
              "      quickchartButtonEl.disabled = true;  // To prevent multiple clicks.\n",
              "      quickchartButtonEl.classList.add('colab-df-spinner');\n",
              "      try {\n",
              "        const charts = await google.colab.kernel.invokeFunction(\n",
              "            'suggestCharts', [key], {});\n",
              "      } catch (error) {\n",
              "        console.error('Error during call to suggestCharts:', error);\n",
              "      }\n",
              "      quickchartButtonEl.classList.remove('colab-df-spinner');\n",
              "      quickchartButtonEl.classList.add('colab-df-quickchart-complete');\n",
              "    }\n",
              "    (() => {\n",
              "      let quickchartButtonEl =\n",
              "        document.querySelector('#df-1a659f2a-bff5-48d5-a14a-da8f6fefdede button');\n",
              "      quickchartButtonEl.style.display =\n",
              "        google.colab.kernel.accessAllowed ? 'block' : 'none';\n",
              "    })();\n",
              "  </script>\n",
              "</div>\n",
              "\n",
              "    </div>\n",
              "  </div>\n"
            ],
            "application/vnd.google.colaboratory.intrinsic+json": {
              "type": "dataframe",
              "variable_name": "trees",
              "summary": "{\n  \"name\": \"trees\",\n  \"rows\": 23444,\n  \"fields\": [\n    {\n      \"column\": \"Identifier\",\n      \"properties\": {\n        \"dtype\": \"string\",\n        \"num_unique_values\": 23438,\n        \"samples\": [\n          \"00048368\",\n          \"00042139\",\n          \"00000838\"\n        ],\n        \"semantic_type\": \"\",\n        \"description\": \"\"\n      }\n    },\n    {\n      \"column\": \"Number Of Trees\",\n      \"properties\": {\n        \"dtype\": \"number\",\n        \"std\": 1.2880413128722767,\n        \"min\": 0.0,\n        \"max\": 67.0,\n        \"num_unique_values\": 30,\n        \"samples\": [\n          16.0,\n          12.0,\n          21.0\n        ],\n        \"semantic_type\": \"\",\n        \"description\": \"\"\n      }\n    },\n    {\n      \"column\": \"Site Name\",\n      \"properties\": {\n        \"dtype\": \"category\",\n        \"num_unique_values\": 1135,\n        \"samples\": [\n          \"Estate 1-16 Lambourn Close (cons)\",\n          \"Estate 2-17 Delancey Studios (cons)\",\n          \"FITZJOHN'S AVENUE\"\n        ],\n        \"semantic_type\": \"\",\n        \"description\": \"\"\n      }\n    },\n    {\n      \"column\": \"Contract Area\",\n      \"properties\": {\n        \"dtype\": \"category\",\n        \"num_unique_values\": 5,\n        \"samples\": [\n          \"Education\",\n          \"Corporate Landlord\",\n          \"Highways\"\n        ],\n        \"semantic_type\": \"\",\n        \"description\": \"\"\n      }\n    },\n    {\n      \"column\": \"Scientific Name\",\n      \"properties\": {\n        \"dtype\": \"category\",\n        \"num_unique_values\": 543,\n        \"samples\": [\n          \"Vacant Tree Pit (planned: Acer campestre 'Elsrijk')\",\n          \"Betula  jacquemontii Doorenbos\",\n          \"Rosa unidentified species\"\n        ],\n        \"semantic_type\": \"\",\n        \"description\": \"\"\n      }\n    },\n    {\n      \"column\": \"Inspection Date\",\n      \"properties\": {\n        \"dtype\": \"date\",\n        \"min\": \"1999-01-16 00:00:00\",\n        \"max\": \"2020-03-01 00:00:00\",\n        \"num_unique_values\": 414,\n        \"samples\": [\n          \"2016-07-14 00:00:00\",\n          \"2019-04-26 00:00:00\",\n          \"2018-02-10 00:00:00\"\n        ],\n        \"semantic_type\": \"\",\n        \"description\": \"\"\n      }\n    },\n    {\n      \"column\": \"Inspection Due Date\",\n      \"properties\": {\n        \"dtype\": \"category\",\n        \"num_unique_values\": 13,\n        \"samples\": [\n          \"2013/2014\",\n          \"2012/2013\",\n          \"2022/2023\"\n        ],\n        \"semantic_type\": \"\",\n        \"description\": \"\"\n      }\n    },\n    {\n      \"column\": \"Height In Metres\",\n      \"properties\": {\n        \"dtype\": \"number\",\n        \"std\": 6.32529273024118,\n        \"min\": 0.0,\n        \"max\": 127.0,\n        \"num_unique_values\": 97,\n        \"samples\": [\n          41.0,\n          3.5,\n          8.3\n        ],\n        \"semantic_type\": \"\",\n        \"description\": \"\"\n      }\n    },\n    {\n      \"column\": \"Spread In Metres\",\n      \"properties\": {\n        \"dtype\": \"number\",\n        \"std\": 4.132379086121273,\n        \"min\": 0.0,\n        \"max\": 88.0,\n        \"num_unique_values\": 55,\n        \"samples\": [\n          28.0,\n          1.5,\n          1.2\n        ],\n        \"semantic_type\": \"\",\n        \"description\": \"\"\n      }\n    },\n    {\n      \"column\": \"Diameter In Centimetres At Breast Height\",\n      \"properties\": {\n        \"dtype\": \"number\",\n        \"std\": 26.149994342613553,\n        \"min\": 0.0,\n        \"max\": 228.0,\n        \"num_unique_values\": 187,\n        \"samples\": [\n          146.0,\n          93.0,\n          109.0\n        ],\n        \"semantic_type\": \"\",\n        \"description\": \"\"\n      }\n    },\n    {\n      \"column\": \"Ward Code\",\n      \"properties\": {\n        \"dtype\": \"category\",\n        \"num_unique_values\": 18,\n        \"samples\": [\n          \"E05000135\",\n          \"E05000131\",\n          \"E05000142\"\n        ],\n        \"semantic_type\": \"\",\n        \"description\": \"\"\n      }\n    },\n    {\n      \"column\": \"Ward Name\",\n      \"properties\": {\n        \"dtype\": \"category\",\n        \"num_unique_values\": 18,\n        \"samples\": [\n          \"Hampstead Town\",\n          \"Cantelowes\",\n          \"Regent's Park\"\n        ],\n        \"semantic_type\": \"\",\n        \"description\": \"\"\n      }\n    },\n    {\n      \"column\": \"Easting\",\n      \"properties\": {\n        \"dtype\": \"number\",\n        \"std\": 25835,\n        \"min\": 0,\n        \"max\": 531514,\n        \"num_unique_values\": 6365,\n        \"samples\": [\n          528061,\n          528291,\n          530241\n        ],\n        \"semantic_type\": \"\",\n        \"description\": \"\"\n      }\n    },\n    {\n      \"column\": \"Northing\",\n      \"properties\": {\n        \"dtype\": \"number\",\n        \"std\": 9121,\n        \"min\": 0,\n        \"max\": 196188,\n        \"num_unique_values\": 5615,\n        \"samples\": [\n          182020,\n          184114,\n          185610\n        ],\n        \"semantic_type\": \"\",\n        \"description\": \"\"\n      }\n    },\n    {\n      \"column\": \"Longitude\",\n      \"properties\": {\n        \"dtype\": \"number\",\n        \"std\": 0.025058211423147004,\n        \"min\": -0.261719,\n        \"max\": -0.105858,\n        \"num_unique_values\": 20000,\n        \"samples\": [\n          -0.144509,\n          -0.128268,\n          -0.134137\n        ],\n        \"semantic_type\": \"\",\n        \"description\": \"\"\n      }\n    },\n    {\n      \"column\": \"Latitude\",\n      \"properties\": {\n        \"dtype\": \"number\",\n        \"std\": 0.013067078484367917,\n        \"min\": 51.512858,\n        \"max\": 51.650843,\n        \"num_unique_values\": 17905,\n        \"samples\": [\n          51.551337,\n          51.526194,\n          51.547341\n        ],\n        \"semantic_type\": \"\",\n        \"description\": \"\"\n      }\n    },\n    {\n      \"column\": \"Location\",\n      \"properties\": {\n        \"dtype\": \"string\",\n        \"num_unique_values\": 23262,\n        \"samples\": [\n          \"(51.542505, -0.189101)\",\n          \"(51.563801, -0.143554)\",\n          \"(51.533712, -0.129694)\"\n        ],\n        \"semantic_type\": \"\",\n        \"description\": \"\"\n      }\n    }\n  ]\n}"
            }
          },
          "metadata": {},
          "execution_count": 12
        }
      ],
      "source": [
        "# Display the first few rows\n",
        "trees.head(25)"
      ]
    },
    {
      "cell_type": "markdown",
      "id": "2dc1c27b-7658-41be-92f5-6d1ee07f49c0",
      "metadata": {
        "id": "2dc1c27b-7658-41be-92f5-6d1ee07f49c0"
      },
      "source": [
        "It's good to understand the size of the dataset we are dealing with.  The `shape` property does this for us."
      ]
    },
    {
      "cell_type": "code",
      "execution_count": 13,
      "id": "9e7f1cf1-4e79-4cdd-a6b8-0a41c16cb153",
      "metadata": {
        "colab": {
          "base_uri": "https://localhost:8080/"
        },
        "id": "9e7f1cf1-4e79-4cdd-a6b8-0a41c16cb153",
        "outputId": "29933fd5-c1af-4ad9-9b41-d29161f63f0e"
      },
      "outputs": [
        {
          "output_type": "execute_result",
          "data": {
            "text/plain": [
              "(23444, 17)"
            ]
          },
          "metadata": {},
          "execution_count": 13
        }
      ],
      "source": [
        "# Get the number of rows and columns\n",
        "trees.shape"
      ]
    },
    {
      "cell_type": "markdown",
      "id": "d499f569-4200-48e9-b0a5-b84fc72a228a",
      "metadata": {
        "id": "d499f569-4200-48e9-b0a5-b84fc72a228a"
      },
      "source": [
        "If there are lots of columns we can't always see all of them in the `head()` list above.  We can use the `columns` property to get a full list:"
      ]
    },
    {
      "cell_type": "code",
      "execution_count": 14,
      "id": "be4badda-f1c9-481c-a274-8251330cbc5a",
      "metadata": {
        "colab": {
          "base_uri": "https://localhost:8080/"
        },
        "id": "be4badda-f1c9-481c-a274-8251330cbc5a",
        "outputId": "c50072ce-36b3-423d-8118-877d81092939"
      },
      "outputs": [
        {
          "output_type": "execute_result",
          "data": {
            "text/plain": [
              "Index(['Identifier', 'Number Of Trees', 'Site Name', 'Contract Area',\n",
              "       'Scientific Name', 'Inspection Date', 'Inspection Due Date',\n",
              "       'Height In Metres', 'Spread In Metres',\n",
              "       'Diameter In Centimetres At Breast Height', 'Ward Code', 'Ward Name',\n",
              "       'Easting', 'Northing', 'Longitude', 'Latitude', 'Location'],\n",
              "      dtype='object')"
            ]
          },
          "metadata": {},
          "execution_count": 14
        }
      ],
      "source": [
        "# Get a list of all the columns in the dataframe\n",
        "trees.columns"
      ]
    },
    {
      "cell_type": "markdown",
      "id": "7b184dfb-0498-43c0-afa7-9d4be449863a",
      "metadata": {
        "id": "7b184dfb-0498-43c0-afa7-9d4be449863a"
      },
      "source": [
        "In order to process the data properly, we should understand the data type for each column.  Pandas attempts to work this out for us, but sometimes we need to give it a bit of a hand.  We can use the `dtypes` property to list the data types.  Note that `object` is Pandas way of saying `string`, i.e. a text data type."
      ]
    },
    {
      "cell_type": "code",
      "execution_count": 15,
      "id": "f5b603ef-9ce1-4667-a672-5a86fe9daf1a",
      "metadata": {
        "colab": {
          "base_uri": "https://localhost:8080/"
        },
        "id": "f5b603ef-9ce1-4667-a672-5a86fe9daf1a",
        "outputId": "03e672f8-e075-4e64-f1c8-4d1729aadee6"
      },
      "outputs": [
        {
          "output_type": "execute_result",
          "data": {
            "text/plain": [
              "Identifier                                          object\n",
              "Number Of Trees                                    float64\n",
              "Site Name                                           object\n",
              "Contract Area                                       object\n",
              "Scientific Name                                     object\n",
              "Inspection Date                             datetime64[ns]\n",
              "Inspection Due Date                                 object\n",
              "Height In Metres                                   float64\n",
              "Spread In Metres                                   float64\n",
              "Diameter In Centimetres At Breast Height           float64\n",
              "Ward Code                                           object\n",
              "Ward Name                                           object\n",
              "Easting                                              int64\n",
              "Northing                                             int64\n",
              "Longitude                                          float64\n",
              "Latitude                                           float64\n",
              "Location                                            object\n",
              "dtype: object"
            ]
          },
          "metadata": {},
          "execution_count": 15
        }
      ],
      "source": [
        "# List the data types of each column\n",
        "trees.dtypes"
      ]
    },
    {
      "cell_type": "markdown",
      "id": "722d9b40-5f9c-4362-9b46-b052b2449898",
      "metadata": {
        "id": "722d9b40-5f9c-4362-9b46-b052b2449898"
      },
      "source": [
        "### 2.2 Environmental\n",
        "The file `\"camden_trees_environmental.csv\"` is a csv file.  Use the appropriate function to load it into a Pandas DataFrame."
      ]
    },
    {
      "cell_type": "markdown",
      "id": "5585e3b9-4c1c-436e-a34f-f8f19a0cbd02",
      "metadata": {
        "id": "5585e3b9-4c1c-436e-a34f-f8f19a0cbd02"
      },
      "source": [
        "<div style=\"background-color:lemonchiffon; border:1px solid; padding:5px; margin:5px; font-weight:bold\"><font color=\"crimson\">\n",
        "TODO: Complete the following code cells\n",
        "    </font></div>"
      ]
    },
    {
      "cell_type": "code",
      "execution_count": 16,
      "id": "a12780eb-bcb5-4955-bc9b-28439ee81d22",
      "metadata": {
        "id": "a12780eb-bcb5-4955-bc9b-28439ee81d22"
      },
      "outputs": [],
      "source": [
        "# Create a Pandas dataframe called environmental that contains the contents of the csv file\n",
        "environmental = pd.read_csv(\"camden_trees_environmental.csv\")"
      ]
    },
    {
      "cell_type": "code",
      "execution_count": 17,
      "id": "4d6e254d-a3df-4004-b262-004923fdbf9a",
      "metadata": {
        "colab": {
          "base_uri": "https://localhost:8080/",
          "height": 241
        },
        "id": "4d6e254d-a3df-4004-b262-004923fdbf9a",
        "outputId": "da14f49b-3436-42c7-f06f-a5c672c8b52f"
      },
      "outputs": [
        {
          "output_type": "execute_result",
          "data": {
            "text/plain": [
              "  Identifier     Maturity Physiological Condition Tree Set To Be Removed  \\\n",
              "0   00055125     Juvenile                    Good                     No   \n",
              "1   00059429  Middle aged                    Fair                     No   \n",
              "2   00018254       Mature                    Fair                     No   \n",
              "3   00027155       Mature                    Fair                     No   \n",
              "4   00041326     Juvenile                    Good                     No   \n",
              "\n",
              "  Removal Reason  Capital Asset Value For Amenity Trees  \\\n",
              "0            NaN                                 115.07   \n",
              "1            NaN                                7518.08   \n",
              "2            NaN                               20419.63   \n",
              "3            NaN                               21447.74   \n",
              "4            NaN                                 524.30   \n",
              "\n",
              "   Carbon Storage In Kilograms  \\\n",
              "0                          1.6   \n",
              "1                          NaN   \n",
              "2                        426.4   \n",
              "3                        448.3   \n",
              "4                          9.9   \n",
              "\n",
              "   Gross Carbon Sequestration Per Year In Kilograms  \\\n",
              "0                                               0.5   \n",
              "1                                               NaN   \n",
              "2                                               8.8   \n",
              "3                                               9.6   \n",
              "4                                               1.4   \n",
              "\n",
              "   Pollution Removal Per Year In Grams  \n",
              "0                                  5.7  \n",
              "1                                  NaN  \n",
              "2                                215.2  \n",
              "3                                379.1  \n",
              "4                                 12.8  "
            ],
            "text/html": [
              "\n",
              "  <div id=\"df-5f0d64a7-b228-4e33-993b-d4a4e06c381a\" class=\"colab-df-container\">\n",
              "    <div>\n",
              "<style scoped>\n",
              "    .dataframe tbody tr th:only-of-type {\n",
              "        vertical-align: middle;\n",
              "    }\n",
              "\n",
              "    .dataframe tbody tr th {\n",
              "        vertical-align: top;\n",
              "    }\n",
              "\n",
              "    .dataframe thead th {\n",
              "        text-align: right;\n",
              "    }\n",
              "</style>\n",
              "<table border=\"1\" class=\"dataframe\">\n",
              "  <thead>\n",
              "    <tr style=\"text-align: right;\">\n",
              "      <th></th>\n",
              "      <th>Identifier</th>\n",
              "      <th>Maturity</th>\n",
              "      <th>Physiological Condition</th>\n",
              "      <th>Tree Set To Be Removed</th>\n",
              "      <th>Removal Reason</th>\n",
              "      <th>Capital Asset Value For Amenity Trees</th>\n",
              "      <th>Carbon Storage In Kilograms</th>\n",
              "      <th>Gross Carbon Sequestration Per Year In Kilograms</th>\n",
              "      <th>Pollution Removal Per Year In Grams</th>\n",
              "    </tr>\n",
              "  </thead>\n",
              "  <tbody>\n",
              "    <tr>\n",
              "      <th>0</th>\n",
              "      <td>00055125</td>\n",
              "      <td>Juvenile</td>\n",
              "      <td>Good</td>\n",
              "      <td>No</td>\n",
              "      <td>NaN</td>\n",
              "      <td>115.07</td>\n",
              "      <td>1.6</td>\n",
              "      <td>0.5</td>\n",
              "      <td>5.7</td>\n",
              "    </tr>\n",
              "    <tr>\n",
              "      <th>1</th>\n",
              "      <td>00059429</td>\n",
              "      <td>Middle aged</td>\n",
              "      <td>Fair</td>\n",
              "      <td>No</td>\n",
              "      <td>NaN</td>\n",
              "      <td>7518.08</td>\n",
              "      <td>NaN</td>\n",
              "      <td>NaN</td>\n",
              "      <td>NaN</td>\n",
              "    </tr>\n",
              "    <tr>\n",
              "      <th>2</th>\n",
              "      <td>00018254</td>\n",
              "      <td>Mature</td>\n",
              "      <td>Fair</td>\n",
              "      <td>No</td>\n",
              "      <td>NaN</td>\n",
              "      <td>20419.63</td>\n",
              "      <td>426.4</td>\n",
              "      <td>8.8</td>\n",
              "      <td>215.2</td>\n",
              "    </tr>\n",
              "    <tr>\n",
              "      <th>3</th>\n",
              "      <td>00027155</td>\n",
              "      <td>Mature</td>\n",
              "      <td>Fair</td>\n",
              "      <td>No</td>\n",
              "      <td>NaN</td>\n",
              "      <td>21447.74</td>\n",
              "      <td>448.3</td>\n",
              "      <td>9.6</td>\n",
              "      <td>379.1</td>\n",
              "    </tr>\n",
              "    <tr>\n",
              "      <th>4</th>\n",
              "      <td>00041326</td>\n",
              "      <td>Juvenile</td>\n",
              "      <td>Good</td>\n",
              "      <td>No</td>\n",
              "      <td>NaN</td>\n",
              "      <td>524.30</td>\n",
              "      <td>9.9</td>\n",
              "      <td>1.4</td>\n",
              "      <td>12.8</td>\n",
              "    </tr>\n",
              "  </tbody>\n",
              "</table>\n",
              "</div>\n",
              "    <div class=\"colab-df-buttons\">\n",
              "\n",
              "  <div class=\"colab-df-container\">\n",
              "    <button class=\"colab-df-convert\" onclick=\"convertToInteractive('df-5f0d64a7-b228-4e33-993b-d4a4e06c381a')\"\n",
              "            title=\"Convert this dataframe to an interactive table.\"\n",
              "            style=\"display:none;\">\n",
              "\n",
              "  <svg xmlns=\"http://www.w3.org/2000/svg\" height=\"24px\" viewBox=\"0 -960 960 960\">\n",
              "    <path d=\"M120-120v-720h720v720H120Zm60-500h600v-160H180v160Zm220 220h160v-160H400v160Zm0 220h160v-160H400v160ZM180-400h160v-160H180v160Zm440 0h160v-160H620v160ZM180-180h160v-160H180v160Zm440 0h160v-160H620v160Z\"/>\n",
              "  </svg>\n",
              "    </button>\n",
              "\n",
              "  <style>\n",
              "    .colab-df-container {\n",
              "      display:flex;\n",
              "      gap: 12px;\n",
              "    }\n",
              "\n",
              "    .colab-df-convert {\n",
              "      background-color: #E8F0FE;\n",
              "      border: none;\n",
              "      border-radius: 50%;\n",
              "      cursor: pointer;\n",
              "      display: none;\n",
              "      fill: #1967D2;\n",
              "      height: 32px;\n",
              "      padding: 0 0 0 0;\n",
              "      width: 32px;\n",
              "    }\n",
              "\n",
              "    .colab-df-convert:hover {\n",
              "      background-color: #E2EBFA;\n",
              "      box-shadow: 0px 1px 2px rgba(60, 64, 67, 0.3), 0px 1px 3px 1px rgba(60, 64, 67, 0.15);\n",
              "      fill: #174EA6;\n",
              "    }\n",
              "\n",
              "    .colab-df-buttons div {\n",
              "      margin-bottom: 4px;\n",
              "    }\n",
              "\n",
              "    [theme=dark] .colab-df-convert {\n",
              "      background-color: #3B4455;\n",
              "      fill: #D2E3FC;\n",
              "    }\n",
              "\n",
              "    [theme=dark] .colab-df-convert:hover {\n",
              "      background-color: #434B5C;\n",
              "      box-shadow: 0px 1px 3px 1px rgba(0, 0, 0, 0.15);\n",
              "      filter: drop-shadow(0px 1px 2px rgba(0, 0, 0, 0.3));\n",
              "      fill: #FFFFFF;\n",
              "    }\n",
              "  </style>\n",
              "\n",
              "    <script>\n",
              "      const buttonEl =\n",
              "        document.querySelector('#df-5f0d64a7-b228-4e33-993b-d4a4e06c381a button.colab-df-convert');\n",
              "      buttonEl.style.display =\n",
              "        google.colab.kernel.accessAllowed ? 'block' : 'none';\n",
              "\n",
              "      async function convertToInteractive(key) {\n",
              "        const element = document.querySelector('#df-5f0d64a7-b228-4e33-993b-d4a4e06c381a');\n",
              "        const dataTable =\n",
              "          await google.colab.kernel.invokeFunction('convertToInteractive',\n",
              "                                                    [key], {});\n",
              "        if (!dataTable) return;\n",
              "\n",
              "        const docLinkHtml = 'Like what you see? Visit the ' +\n",
              "          '<a target=\"_blank\" href=https://colab.research.google.com/notebooks/data_table.ipynb>data table notebook</a>'\n",
              "          + ' to learn more about interactive tables.';\n",
              "        element.innerHTML = '';\n",
              "        dataTable['output_type'] = 'display_data';\n",
              "        await google.colab.output.renderOutput(dataTable, element);\n",
              "        const docLink = document.createElement('div');\n",
              "        docLink.innerHTML = docLinkHtml;\n",
              "        element.appendChild(docLink);\n",
              "      }\n",
              "    </script>\n",
              "  </div>\n",
              "\n",
              "\n",
              "<div id=\"df-0af6c415-6cf9-4db1-ae66-793658d5e2b4\">\n",
              "  <button class=\"colab-df-quickchart\" onclick=\"quickchart('df-0af6c415-6cf9-4db1-ae66-793658d5e2b4')\"\n",
              "            title=\"Suggest charts\"\n",
              "            style=\"display:none;\">\n",
              "\n",
              "<svg xmlns=\"http://www.w3.org/2000/svg\" height=\"24px\"viewBox=\"0 0 24 24\"\n",
              "     width=\"24px\">\n",
              "    <g>\n",
              "        <path d=\"M19 3H5c-1.1 0-2 .9-2 2v14c0 1.1.9 2 2 2h14c1.1 0 2-.9 2-2V5c0-1.1-.9-2-2-2zM9 17H7v-7h2v7zm4 0h-2V7h2v10zm4 0h-2v-4h2v4z\"/>\n",
              "    </g>\n",
              "</svg>\n",
              "  </button>\n",
              "\n",
              "<style>\n",
              "  .colab-df-quickchart {\n",
              "      --bg-color: #E8F0FE;\n",
              "      --fill-color: #1967D2;\n",
              "      --hover-bg-color: #E2EBFA;\n",
              "      --hover-fill-color: #174EA6;\n",
              "      --disabled-fill-color: #AAA;\n",
              "      --disabled-bg-color: #DDD;\n",
              "  }\n",
              "\n",
              "  [theme=dark] .colab-df-quickchart {\n",
              "      --bg-color: #3B4455;\n",
              "      --fill-color: #D2E3FC;\n",
              "      --hover-bg-color: #434B5C;\n",
              "      --hover-fill-color: #FFFFFF;\n",
              "      --disabled-bg-color: #3B4455;\n",
              "      --disabled-fill-color: #666;\n",
              "  }\n",
              "\n",
              "  .colab-df-quickchart {\n",
              "    background-color: var(--bg-color);\n",
              "    border: none;\n",
              "    border-radius: 50%;\n",
              "    cursor: pointer;\n",
              "    display: none;\n",
              "    fill: var(--fill-color);\n",
              "    height: 32px;\n",
              "    padding: 0;\n",
              "    width: 32px;\n",
              "  }\n",
              "\n",
              "  .colab-df-quickchart:hover {\n",
              "    background-color: var(--hover-bg-color);\n",
              "    box-shadow: 0 1px 2px rgba(60, 64, 67, 0.3), 0 1px 3px 1px rgba(60, 64, 67, 0.15);\n",
              "    fill: var(--button-hover-fill-color);\n",
              "  }\n",
              "\n",
              "  .colab-df-quickchart-complete:disabled,\n",
              "  .colab-df-quickchart-complete:disabled:hover {\n",
              "    background-color: var(--disabled-bg-color);\n",
              "    fill: var(--disabled-fill-color);\n",
              "    box-shadow: none;\n",
              "  }\n",
              "\n",
              "  .colab-df-spinner {\n",
              "    border: 2px solid var(--fill-color);\n",
              "    border-color: transparent;\n",
              "    border-bottom-color: var(--fill-color);\n",
              "    animation:\n",
              "      spin 1s steps(1) infinite;\n",
              "  }\n",
              "\n",
              "  @keyframes spin {\n",
              "    0% {\n",
              "      border-color: transparent;\n",
              "      border-bottom-color: var(--fill-color);\n",
              "      border-left-color: var(--fill-color);\n",
              "    }\n",
              "    20% {\n",
              "      border-color: transparent;\n",
              "      border-left-color: var(--fill-color);\n",
              "      border-top-color: var(--fill-color);\n",
              "    }\n",
              "    30% {\n",
              "      border-color: transparent;\n",
              "      border-left-color: var(--fill-color);\n",
              "      border-top-color: var(--fill-color);\n",
              "      border-right-color: var(--fill-color);\n",
              "    }\n",
              "    40% {\n",
              "      border-color: transparent;\n",
              "      border-right-color: var(--fill-color);\n",
              "      border-top-color: var(--fill-color);\n",
              "    }\n",
              "    60% {\n",
              "      border-color: transparent;\n",
              "      border-right-color: var(--fill-color);\n",
              "    }\n",
              "    80% {\n",
              "      border-color: transparent;\n",
              "      border-right-color: var(--fill-color);\n",
              "      border-bottom-color: var(--fill-color);\n",
              "    }\n",
              "    90% {\n",
              "      border-color: transparent;\n",
              "      border-bottom-color: var(--fill-color);\n",
              "    }\n",
              "  }\n",
              "</style>\n",
              "\n",
              "  <script>\n",
              "    async function quickchart(key) {\n",
              "      const quickchartButtonEl =\n",
              "        document.querySelector('#' + key + ' button');\n",
              "      quickchartButtonEl.disabled = true;  // To prevent multiple clicks.\n",
              "      quickchartButtonEl.classList.add('colab-df-spinner');\n",
              "      try {\n",
              "        const charts = await google.colab.kernel.invokeFunction(\n",
              "            'suggestCharts', [key], {});\n",
              "      } catch (error) {\n",
              "        console.error('Error during call to suggestCharts:', error);\n",
              "      }\n",
              "      quickchartButtonEl.classList.remove('colab-df-spinner');\n",
              "      quickchartButtonEl.classList.add('colab-df-quickchart-complete');\n",
              "    }\n",
              "    (() => {\n",
              "      let quickchartButtonEl =\n",
              "        document.querySelector('#df-0af6c415-6cf9-4db1-ae66-793658d5e2b4 button');\n",
              "      quickchartButtonEl.style.display =\n",
              "        google.colab.kernel.accessAllowed ? 'block' : 'none';\n",
              "    })();\n",
              "  </script>\n",
              "</div>\n",
              "\n",
              "    </div>\n",
              "  </div>\n"
            ],
            "application/vnd.google.colaboratory.intrinsic+json": {
              "type": "dataframe",
              "variable_name": "environmental",
              "summary": "{\n  \"name\": \"environmental\",\n  \"rows\": 23415,\n  \"fields\": [\n    {\n      \"column\": \"Identifier\",\n      \"properties\": {\n        \"dtype\": \"string\",\n        \"num_unique_values\": 23415,\n        \"samples\": [\n          \"00003255\",\n          \"00054165\",\n          \"00005852\"\n        ],\n        \"semantic_type\": \"\",\n        \"description\": \"\"\n      }\n    },\n    {\n      \"column\": \"Maturity\",\n      \"properties\": {\n        \"dtype\": \"category\",\n        \"num_unique_values\": 6,\n        \"samples\": [\n          \"Juvenile\",\n          \"Middle aged\",\n          \"Veteran\"\n        ],\n        \"semantic_type\": \"\",\n        \"description\": \"\"\n      }\n    },\n    {\n      \"column\": \"Physiological Condition\",\n      \"properties\": {\n        \"dtype\": \"category\",\n        \"num_unique_values\": 6,\n        \"samples\": [\n          \"Good\",\n          \"Fair\",\n          \"Excellent\"\n        ],\n        \"semantic_type\": \"\",\n        \"description\": \"\"\n      }\n    },\n    {\n      \"column\": \"Tree Set To Be Removed\",\n      \"properties\": {\n        \"dtype\": \"category\",\n        \"num_unique_values\": 2,\n        \"samples\": [\n          \"Yes\",\n          \"No\"\n        ],\n        \"semantic_type\": \"\",\n        \"description\": \"\"\n      }\n    },\n    {\n      \"column\": \"Removal Reason\",\n      \"properties\": {\n        \"dtype\": \"category\",\n        \"num_unique_values\": 17,\n        \"samples\": [\n          \"Dead, dying\",\n          \"Dog damage\"\n        ],\n        \"semantic_type\": \"\",\n        \"description\": \"\"\n      }\n    },\n    {\n      \"column\": \"Capital Asset Value For Amenity Trees\",\n      \"properties\": {\n        \"dtype\": \"number\",\n        \"std\": 24803.80659514005,\n        \"min\": 0.0,\n        \"max\": 504725.72,\n        \"num_unique_values\": 1509,\n        \"samples\": [\n          6607.69,\n          128453.4\n        ],\n        \"semantic_type\": \"\",\n        \"description\": \"\"\n      }\n    },\n    {\n      \"column\": \"Carbon Storage In Kilograms\",\n      \"properties\": {\n        \"dtype\": \"number\",\n        \"std\": 844.9265553547788,\n        \"min\": 0.5,\n        \"max\": 6000.0,\n        \"num_unique_values\": 3937,\n        \"samples\": [\n          387.9,\n          125.7\n        ],\n        \"semantic_type\": \"\",\n        \"description\": \"\"\n      }\n    },\n    {\n      \"column\": \"Gross Carbon Sequestration Per Year In Kilograms\",\n      \"properties\": {\n        \"dtype\": \"number\",\n        \"std\": 8.68144619954474,\n        \"min\": 0.0,\n        \"max\": 53.8,\n        \"num_unique_values\": 448,\n        \"samples\": [\n          21.9,\n          25.6\n        ],\n        \"semantic_type\": \"\",\n        \"description\": \"\"\n      }\n    },\n    {\n      \"column\": \"Pollution Removal Per Year In Grams\",\n      \"properties\": {\n        \"dtype\": \"number\",\n        \"std\": 306.75192009448836,\n        \"min\": 0.3,\n        \"max\": 8223.7,\n        \"num_unique_values\": 1858,\n        \"samples\": [\n          56.0,\n          384.6\n        ],\n        \"semantic_type\": \"\",\n        \"description\": \"\"\n      }\n    }\n  ]\n}"
            }
          },
          "metadata": {},
          "execution_count": 17
        }
      ],
      "source": [
        "# Display the first few rows\n",
        "environmental.head()"
      ]
    },
    {
      "cell_type": "code",
      "execution_count": 18,
      "id": "66c23391-628f-4612-936b-7f55c561fd1b",
      "metadata": {
        "colab": {
          "base_uri": "https://localhost:8080/"
        },
        "id": "66c23391-628f-4612-936b-7f55c561fd1b",
        "outputId": "6915de75-9b16-4f14-bff3-e8ccd7385b3f"
      },
      "outputs": [
        {
          "output_type": "execute_result",
          "data": {
            "text/plain": [
              "(23415, 9)"
            ]
          },
          "metadata": {},
          "execution_count": 18
        }
      ],
      "source": [
        "# Get the number of rows and columns\n",
        "environmental.shape"
      ]
    },
    {
      "cell_type": "code",
      "execution_count": 19,
      "id": "2ccce95e-0aec-4b3b-a961-5356606c2d60",
      "metadata": {
        "colab": {
          "base_uri": "https://localhost:8080/"
        },
        "id": "2ccce95e-0aec-4b3b-a961-5356606c2d60",
        "outputId": "4ea3b4ac-4406-49d0-ff90-628c701a2cd7"
      },
      "outputs": [
        {
          "output_type": "execute_result",
          "data": {
            "text/plain": [
              "Index(['Identifier', 'Maturity', 'Physiological Condition',\n",
              "       'Tree Set To Be Removed', 'Removal Reason',\n",
              "       'Capital Asset Value For Amenity Trees', 'Carbon Storage In Kilograms',\n",
              "       'Gross Carbon Sequestration Per Year In Kilograms',\n",
              "       'Pollution Removal Per Year In Grams'],\n",
              "      dtype='object')"
            ]
          },
          "metadata": {},
          "execution_count": 19
        }
      ],
      "source": [
        "# Get a list of all the columns in the dataframe\n",
        "environmental.columns"
      ]
    },
    {
      "cell_type": "code",
      "execution_count": 20,
      "id": "b32a0236-40fc-44d8-a0b1-d2afb3baba19",
      "metadata": {
        "colab": {
          "base_uri": "https://localhost:8080/"
        },
        "id": "b32a0236-40fc-44d8-a0b1-d2afb3baba19",
        "outputId": "96ed2437-d3b2-4149-97bd-bc80bdff7913"
      },
      "outputs": [
        {
          "output_type": "execute_result",
          "data": {
            "text/plain": [
              "Identifier                                           object\n",
              "Maturity                                             object\n",
              "Physiological Condition                              object\n",
              "Tree Set To Be Removed                               object\n",
              "Removal Reason                                       object\n",
              "Capital Asset Value For Amenity Trees               float64\n",
              "Carbon Storage In Kilograms                         float64\n",
              "Gross Carbon Sequestration Per Year In Kilograms    float64\n",
              "Pollution Removal Per Year In Grams                 float64\n",
              "dtype: object"
            ]
          },
          "metadata": {},
          "execution_count": 20
        }
      ],
      "source": [
        "# List the data types of each column\n",
        "environmental.dtypes"
      ]
    },
    {
      "cell_type": "markdown",
      "id": "35e2a8fe-944e-4ef0-b944-0a536f699455",
      "metadata": {
        "id": "35e2a8fe-944e-4ef0-b944-0a536f699455"
      },
      "source": [
        "<hr/>"
      ]
    },
    {
      "cell_type": "markdown",
      "id": "faa2e5f5-67d8-4382-bad0-549486826c3a",
      "metadata": {
        "id": "faa2e5f5-67d8-4382-bad0-549486826c3a"
      },
      "source": [
        "### 2.3 Common and Scientific Names\n",
        "The file `\"tree_common_names.json\"` is a json file.  Use the appropriate function to load it into a Pandas DataFrame."
      ]
    },
    {
      "cell_type": "markdown",
      "id": "c60ddc1e-1bc2-498b-83c8-296e182a5048",
      "metadata": {
        "id": "c60ddc1e-1bc2-498b-83c8-296e182a5048"
      },
      "source": [
        "<div style=\"background-color:lemonchiffon; border:1px solid; padding:5px; margin:5px; font-weight:bold\"><font color=\"crimson\">\n",
        "TODO: Complete the following code cells\n",
        "    </font></div>"
      ]
    },
    {
      "cell_type": "code",
      "execution_count": 21,
      "id": "9d3eef7b-123a-4e3d-8d19-5808becb2d35",
      "metadata": {
        "id": "9d3eef7b-123a-4e3d-8d19-5808becb2d35"
      },
      "outputs": [],
      "source": [
        "# Create a Pandas dataframe called names that contains the contents of the json file\n",
        "names=pd.read_json(\"tree_common_names.json\")"
      ]
    },
    {
      "cell_type": "code",
      "execution_count": 22,
      "id": "5d05c25c-b462-481b-b8ca-485f4b5a6cec",
      "metadata": {
        "colab": {
          "base_uri": "https://localhost:8080/",
          "height": 206
        },
        "id": "5d05c25c-b462-481b-b8ca-485f4b5a6cec",
        "outputId": "0b5ba6f0-0d51-42de-aee9-6d0c23afe8be"
      },
      "outputs": [
        {
          "output_type": "execute_result",
          "data": {
            "text/plain": [
              "              Scientific Name          Common Name\n",
              "0      Carpinus betulus Lucas  Hornbeam - European\n",
              "1            Prunus 'Pandora'  Cherry - Ornamental\n",
              "2  Tilia unidentified species                 Lime\n",
              "3   Rosa unidentified species                 None\n",
              "4               Cedrus libani     Cedar of Lebanon"
            ],
            "text/html": [
              "\n",
              "  <div id=\"df-45756d97-e665-48c4-9e71-1db64a66bdb9\" class=\"colab-df-container\">\n",
              "    <div>\n",
              "<style scoped>\n",
              "    .dataframe tbody tr th:only-of-type {\n",
              "        vertical-align: middle;\n",
              "    }\n",
              "\n",
              "    .dataframe tbody tr th {\n",
              "        vertical-align: top;\n",
              "    }\n",
              "\n",
              "    .dataframe thead th {\n",
              "        text-align: right;\n",
              "    }\n",
              "</style>\n",
              "<table border=\"1\" class=\"dataframe\">\n",
              "  <thead>\n",
              "    <tr style=\"text-align: right;\">\n",
              "      <th></th>\n",
              "      <th>Scientific Name</th>\n",
              "      <th>Common Name</th>\n",
              "    </tr>\n",
              "  </thead>\n",
              "  <tbody>\n",
              "    <tr>\n",
              "      <th>0</th>\n",
              "      <td>Carpinus betulus Lucas</td>\n",
              "      <td>Hornbeam - European</td>\n",
              "    </tr>\n",
              "    <tr>\n",
              "      <th>1</th>\n",
              "      <td>Prunus 'Pandora'</td>\n",
              "      <td>Cherry - Ornamental</td>\n",
              "    </tr>\n",
              "    <tr>\n",
              "      <th>2</th>\n",
              "      <td>Tilia unidentified species</td>\n",
              "      <td>Lime</td>\n",
              "    </tr>\n",
              "    <tr>\n",
              "      <th>3</th>\n",
              "      <td>Rosa unidentified species</td>\n",
              "      <td>None</td>\n",
              "    </tr>\n",
              "    <tr>\n",
              "      <th>4</th>\n",
              "      <td>Cedrus libani</td>\n",
              "      <td>Cedar of Lebanon</td>\n",
              "    </tr>\n",
              "  </tbody>\n",
              "</table>\n",
              "</div>\n",
              "    <div class=\"colab-df-buttons\">\n",
              "\n",
              "  <div class=\"colab-df-container\">\n",
              "    <button class=\"colab-df-convert\" onclick=\"convertToInteractive('df-45756d97-e665-48c4-9e71-1db64a66bdb9')\"\n",
              "            title=\"Convert this dataframe to an interactive table.\"\n",
              "            style=\"display:none;\">\n",
              "\n",
              "  <svg xmlns=\"http://www.w3.org/2000/svg\" height=\"24px\" viewBox=\"0 -960 960 960\">\n",
              "    <path d=\"M120-120v-720h720v720H120Zm60-500h600v-160H180v160Zm220 220h160v-160H400v160Zm0 220h160v-160H400v160ZM180-400h160v-160H180v160Zm440 0h160v-160H620v160ZM180-180h160v-160H180v160Zm440 0h160v-160H620v160Z\"/>\n",
              "  </svg>\n",
              "    </button>\n",
              "\n",
              "  <style>\n",
              "    .colab-df-container {\n",
              "      display:flex;\n",
              "      gap: 12px;\n",
              "    }\n",
              "\n",
              "    .colab-df-convert {\n",
              "      background-color: #E8F0FE;\n",
              "      border: none;\n",
              "      border-radius: 50%;\n",
              "      cursor: pointer;\n",
              "      display: none;\n",
              "      fill: #1967D2;\n",
              "      height: 32px;\n",
              "      padding: 0 0 0 0;\n",
              "      width: 32px;\n",
              "    }\n",
              "\n",
              "    .colab-df-convert:hover {\n",
              "      background-color: #E2EBFA;\n",
              "      box-shadow: 0px 1px 2px rgba(60, 64, 67, 0.3), 0px 1px 3px 1px rgba(60, 64, 67, 0.15);\n",
              "      fill: #174EA6;\n",
              "    }\n",
              "\n",
              "    .colab-df-buttons div {\n",
              "      margin-bottom: 4px;\n",
              "    }\n",
              "\n",
              "    [theme=dark] .colab-df-convert {\n",
              "      background-color: #3B4455;\n",
              "      fill: #D2E3FC;\n",
              "    }\n",
              "\n",
              "    [theme=dark] .colab-df-convert:hover {\n",
              "      background-color: #434B5C;\n",
              "      box-shadow: 0px 1px 3px 1px rgba(0, 0, 0, 0.15);\n",
              "      filter: drop-shadow(0px 1px 2px rgba(0, 0, 0, 0.3));\n",
              "      fill: #FFFFFF;\n",
              "    }\n",
              "  </style>\n",
              "\n",
              "    <script>\n",
              "      const buttonEl =\n",
              "        document.querySelector('#df-45756d97-e665-48c4-9e71-1db64a66bdb9 button.colab-df-convert');\n",
              "      buttonEl.style.display =\n",
              "        google.colab.kernel.accessAllowed ? 'block' : 'none';\n",
              "\n",
              "      async function convertToInteractive(key) {\n",
              "        const element = document.querySelector('#df-45756d97-e665-48c4-9e71-1db64a66bdb9');\n",
              "        const dataTable =\n",
              "          await google.colab.kernel.invokeFunction('convertToInteractive',\n",
              "                                                    [key], {});\n",
              "        if (!dataTable) return;\n",
              "\n",
              "        const docLinkHtml = 'Like what you see? Visit the ' +\n",
              "          '<a target=\"_blank\" href=https://colab.research.google.com/notebooks/data_table.ipynb>data table notebook</a>'\n",
              "          + ' to learn more about interactive tables.';\n",
              "        element.innerHTML = '';\n",
              "        dataTable['output_type'] = 'display_data';\n",
              "        await google.colab.output.renderOutput(dataTable, element);\n",
              "        const docLink = document.createElement('div');\n",
              "        docLink.innerHTML = docLinkHtml;\n",
              "        element.appendChild(docLink);\n",
              "      }\n",
              "    </script>\n",
              "  </div>\n",
              "\n",
              "\n",
              "<div id=\"df-ae986c74-9b33-41f2-b415-e92ae057c842\">\n",
              "  <button class=\"colab-df-quickchart\" onclick=\"quickchart('df-ae986c74-9b33-41f2-b415-e92ae057c842')\"\n",
              "            title=\"Suggest charts\"\n",
              "            style=\"display:none;\">\n",
              "\n",
              "<svg xmlns=\"http://www.w3.org/2000/svg\" height=\"24px\"viewBox=\"0 0 24 24\"\n",
              "     width=\"24px\">\n",
              "    <g>\n",
              "        <path d=\"M19 3H5c-1.1 0-2 .9-2 2v14c0 1.1.9 2 2 2h14c1.1 0 2-.9 2-2V5c0-1.1-.9-2-2-2zM9 17H7v-7h2v7zm4 0h-2V7h2v10zm4 0h-2v-4h2v4z\"/>\n",
              "    </g>\n",
              "</svg>\n",
              "  </button>\n",
              "\n",
              "<style>\n",
              "  .colab-df-quickchart {\n",
              "      --bg-color: #E8F0FE;\n",
              "      --fill-color: #1967D2;\n",
              "      --hover-bg-color: #E2EBFA;\n",
              "      --hover-fill-color: #174EA6;\n",
              "      --disabled-fill-color: #AAA;\n",
              "      --disabled-bg-color: #DDD;\n",
              "  }\n",
              "\n",
              "  [theme=dark] .colab-df-quickchart {\n",
              "      --bg-color: #3B4455;\n",
              "      --fill-color: #D2E3FC;\n",
              "      --hover-bg-color: #434B5C;\n",
              "      --hover-fill-color: #FFFFFF;\n",
              "      --disabled-bg-color: #3B4455;\n",
              "      --disabled-fill-color: #666;\n",
              "  }\n",
              "\n",
              "  .colab-df-quickchart {\n",
              "    background-color: var(--bg-color);\n",
              "    border: none;\n",
              "    border-radius: 50%;\n",
              "    cursor: pointer;\n",
              "    display: none;\n",
              "    fill: var(--fill-color);\n",
              "    height: 32px;\n",
              "    padding: 0;\n",
              "    width: 32px;\n",
              "  }\n",
              "\n",
              "  .colab-df-quickchart:hover {\n",
              "    background-color: var(--hover-bg-color);\n",
              "    box-shadow: 0 1px 2px rgba(60, 64, 67, 0.3), 0 1px 3px 1px rgba(60, 64, 67, 0.15);\n",
              "    fill: var(--button-hover-fill-color);\n",
              "  }\n",
              "\n",
              "  .colab-df-quickchart-complete:disabled,\n",
              "  .colab-df-quickchart-complete:disabled:hover {\n",
              "    background-color: var(--disabled-bg-color);\n",
              "    fill: var(--disabled-fill-color);\n",
              "    box-shadow: none;\n",
              "  }\n",
              "\n",
              "  .colab-df-spinner {\n",
              "    border: 2px solid var(--fill-color);\n",
              "    border-color: transparent;\n",
              "    border-bottom-color: var(--fill-color);\n",
              "    animation:\n",
              "      spin 1s steps(1) infinite;\n",
              "  }\n",
              "\n",
              "  @keyframes spin {\n",
              "    0% {\n",
              "      border-color: transparent;\n",
              "      border-bottom-color: var(--fill-color);\n",
              "      border-left-color: var(--fill-color);\n",
              "    }\n",
              "    20% {\n",
              "      border-color: transparent;\n",
              "      border-left-color: var(--fill-color);\n",
              "      border-top-color: var(--fill-color);\n",
              "    }\n",
              "    30% {\n",
              "      border-color: transparent;\n",
              "      border-left-color: var(--fill-color);\n",
              "      border-top-color: var(--fill-color);\n",
              "      border-right-color: var(--fill-color);\n",
              "    }\n",
              "    40% {\n",
              "      border-color: transparent;\n",
              "      border-right-color: var(--fill-color);\n",
              "      border-top-color: var(--fill-color);\n",
              "    }\n",
              "    60% {\n",
              "      border-color: transparent;\n",
              "      border-right-color: var(--fill-color);\n",
              "    }\n",
              "    80% {\n",
              "      border-color: transparent;\n",
              "      border-right-color: var(--fill-color);\n",
              "      border-bottom-color: var(--fill-color);\n",
              "    }\n",
              "    90% {\n",
              "      border-color: transparent;\n",
              "      border-bottom-color: var(--fill-color);\n",
              "    }\n",
              "  }\n",
              "</style>\n",
              "\n",
              "  <script>\n",
              "    async function quickchart(key) {\n",
              "      const quickchartButtonEl =\n",
              "        document.querySelector('#' + key + ' button');\n",
              "      quickchartButtonEl.disabled = true;  // To prevent multiple clicks.\n",
              "      quickchartButtonEl.classList.add('colab-df-spinner');\n",
              "      try {\n",
              "        const charts = await google.colab.kernel.invokeFunction(\n",
              "            'suggestCharts', [key], {});\n",
              "      } catch (error) {\n",
              "        console.error('Error during call to suggestCharts:', error);\n",
              "      }\n",
              "      quickchartButtonEl.classList.remove('colab-df-spinner');\n",
              "      quickchartButtonEl.classList.add('colab-df-quickchart-complete');\n",
              "    }\n",
              "    (() => {\n",
              "      let quickchartButtonEl =\n",
              "        document.querySelector('#df-ae986c74-9b33-41f2-b415-e92ae057c842 button');\n",
              "      quickchartButtonEl.style.display =\n",
              "        google.colab.kernel.accessAllowed ? 'block' : 'none';\n",
              "    })();\n",
              "  </script>\n",
              "</div>\n",
              "\n",
              "    </div>\n",
              "  </div>\n"
            ],
            "application/vnd.google.colaboratory.intrinsic+json": {
              "type": "dataframe",
              "variable_name": "names",
              "summary": "{\n  \"name\": \"names\",\n  \"rows\": 589,\n  \"fields\": [\n    {\n      \"column\": \"Scientific Name\",\n      \"properties\": {\n        \"dtype\": \"string\",\n        \"num_unique_values\": 560,\n        \"samples\": [\n          \"Vacant Tree Pit (planned: Amelanchier arborea Robin Hill)\",\n          \"Sorbus sargentiana\",\n          \"Acer campestre 'Nanum'\"\n        ],\n        \"semantic_type\": \"\",\n        \"description\": \"\"\n      }\n    },\n    {\n      \"column\": \"Common Name\",\n      \"properties\": {\n        \"dtype\": \"string\",\n        \"num_unique_values\": 431,\n        \"samples\": [\n          \"Sitka spruce\",\n          \"Vacant Tree Pit (planned: Rowan)\",\n          \"Larch - Hybrid\"\n        ],\n        \"semantic_type\": \"\",\n        \"description\": \"\"\n      }\n    }\n  ]\n}"
            }
          },
          "metadata": {},
          "execution_count": 22
        }
      ],
      "source": [
        "# Display the first few rows\n",
        "names.head()"
      ]
    },
    {
      "cell_type": "code",
      "execution_count": 23,
      "id": "d6b7cc1e-1ec9-4a5e-a526-23143c0702f7",
      "metadata": {
        "colab": {
          "base_uri": "https://localhost:8080/"
        },
        "id": "d6b7cc1e-1ec9-4a5e-a526-23143c0702f7",
        "outputId": "b997cf0e-36b4-4c06-9836-d77643a9326f"
      },
      "outputs": [
        {
          "output_type": "execute_result",
          "data": {
            "text/plain": [
              "(589, 2)"
            ]
          },
          "metadata": {},
          "execution_count": 23
        }
      ],
      "source": [
        "# Get the number of rows and columns\n",
        "names.shape"
      ]
    },
    {
      "cell_type": "code",
      "execution_count": 24,
      "id": "f349e0ba-c2d0-469b-9f16-530394e85446",
      "metadata": {
        "colab": {
          "base_uri": "https://localhost:8080/"
        },
        "id": "f349e0ba-c2d0-469b-9f16-530394e85446",
        "outputId": "7e0267a3-5564-4711-820e-c10e8da1bc86"
      },
      "outputs": [
        {
          "output_type": "execute_result",
          "data": {
            "text/plain": [
              "Index(['Scientific Name', 'Common Name'], dtype='object')"
            ]
          },
          "metadata": {},
          "execution_count": 24
        }
      ],
      "source": [
        "# Get a list of all the columns in the dataframe\n",
        "names.columns"
      ]
    },
    {
      "cell_type": "code",
      "execution_count": 25,
      "id": "aa722c8d-db42-4d95-85cc-eb3d87bcdc5a",
      "metadata": {
        "colab": {
          "base_uri": "https://localhost:8080/"
        },
        "id": "aa722c8d-db42-4d95-85cc-eb3d87bcdc5a",
        "outputId": "334ac1c0-faf3-4bf2-874b-38189433c676"
      },
      "outputs": [
        {
          "output_type": "execute_result",
          "data": {
            "text/plain": [
              "Scientific Name    object\n",
              "Common Name        object\n",
              "dtype: object"
            ]
          },
          "metadata": {},
          "execution_count": 25
        }
      ],
      "source": [
        "# List the data types of each column\n",
        "names.dtypes"
      ]
    },
    {
      "cell_type": "markdown",
      "id": "17473375-5a50-4709-9d87-8ba11c738dc9",
      "metadata": {
        "id": "17473375-5a50-4709-9d87-8ba11c738dc9"
      },
      "source": [
        "<hr/>"
      ]
    },
    {
      "cell_type": "markdown",
      "id": "5034de69-86fd-4332-9fbd-9ce160540ded",
      "metadata": {
        "id": "5034de69-86fd-4332-9fbd-9ce160540ded"
      },
      "source": [
        "### 2.4 Review\n",
        "At the end of this task you should have a good basic understanding of the contents and overall shape of the different data files.  If you don't, do back and review the outputs above."
      ]
    },
    {
      "cell_type": "markdown",
      "id": "0ba2d5d3-ad1e-4961-a2c6-c6ecd1bcc9e0",
      "metadata": {
        "tags": [],
        "id": "0ba2d5d3-ad1e-4961-a2c6-c6ecd1bcc9e0"
      },
      "source": [
        "## Task 3: Further Inspect the Datasets\n",
        "The initial inspection gave you a very high-level understanding of the data.  We will now drill a bit deeper and try to understand the data column-by-column.\n",
        "\n",
        "For columns with a string data type (`object` in Pandas) we have **qualitative** data.  It would be good to know how many *different* values we have in the column, what those values are and the *count* how many of each different value we have.  This will help us understand if the qualitative variable is **binary**, **nominal** or **ordinal**.\n",
        "\n",
        "For columns with a numeric data type (`int` or `float`) we have **quantitative** data.  Usually integer type variables can the thought of as **discrete** and float type variables can be thought of as **continuous**.  It would be good to know some summary descriptive statistics for these columns.   \n",
        "\n",
        "If you are unsure of what these different data classifications mean, read this:\n",
        "\n",
        "[Types of Variables](https://openclassrooms.com/en/courses/6037301-perform-an-initial-data-analysis/6051886-discover-the-four-variable-types)\n",
        "\n",
        "You can get the list of values and counts for a column using this function:\n",
        "\n",
        "[pandas.Series.value_counts](https://pandas.pydata.org/docs/reference/api/pandas.Series.value_counts.html)\n",
        "\n",
        "You can get the descriptive statistics for a DataFrame using this function:\n",
        "\n",
        "[pandas.DataFrame.describe](https://pandas.pydata.org/pandas-docs/stable/reference/api/pandas.DataFrame.describe.html)\n",
        "\n",
        "Note that Pandas may treat integer columns as floats if there are null values in the columns.  So if you see a float data type it might be worth checking the actual values to confirm if it really is a float or if it really is an int with nulls.  You can check the actual values with:\n",
        "\n",
        "[pandas.Series.unique](https://pandas.pydata.org/docs/reference/api/pandas.Series.unique.html)\n",
        "\n"
      ]
    },
    {
      "cell_type": "markdown",
      "id": "9899c07e-0430-49db-875a-6d5a629d6887",
      "metadata": {
        "id": "9899c07e-0430-49db-875a-6d5a629d6887"
      },
      "source": [
        "### 3.1 Further Inspect the Trees Dataset\n",
        "Let's start with the trees dataset.\n"
      ]
    },
    {
      "cell_type": "markdown",
      "id": "e220daf9-b12b-4d67-9253-6f61b1952e2f",
      "metadata": {
        "id": "e220daf9-b12b-4d67-9253-6f61b1952e2f"
      },
      "source": [
        "#### 3.1.a Counts of Values for String Types Columns\n",
        "Go through each column that is a string (object) type and count the number of rows for each value in the column.  After each one, classify the data as binary, nominal or ordinal using a markdown comment.\n",
        "\n",
        "I've done the first one for you.\n"
      ]
    },
    {
      "cell_type": "markdown",
      "id": "3dd0dd30-406d-4635-888b-4157fa5e3f37",
      "metadata": {
        "id": "3dd0dd30-406d-4635-888b-4157fa5e3f37"
      },
      "source": [
        "**Site Name**"
      ]
    },
    {
      "cell_type": "code",
      "execution_count": 26,
      "id": "3a4a0915-8d0e-45a2-a919-6b9fd49160da",
      "metadata": {
        "colab": {
          "base_uri": "https://localhost:8080/"
        },
        "id": "3a4a0915-8d0e-45a2-a919-6b9fd49160da",
        "outputId": "15aad11b-3a9f-4ef5-ec54-51ec37ed5210"
      },
      "outputs": [
        {
          "output_type": "execute_result",
          "data": {
            "text/plain": [
              "WATERLOW PARK (LS)                         920\n",
              "Alexandra & Ainsworth Estate               289\n",
              "Belsize nature reserve, Russell Nursery    278\n",
              "Holly Lodge Estate                         272\n",
              "LINCOLN'S INN FIELDS, GARDENS (LS)         193\n",
              "                                          ... \n",
              "GOLDINGTON CRESCENT                          1\n",
              "ALLCROFT ROAD                                1\n",
              "WOBURN WALK, LAND BEHIND 4-18                1\n",
              "KILBURN PRIORY                               1\n",
              "GOODGE PLACE                                 1\n",
              "Name: Site Name, Length: 1135, dtype: int64"
            ]
          },
          "metadata": {},
          "execution_count": 26
        }
      ],
      "source": [
        "# List of values in Site Name column and their counts\n",
        "trees[\"Site Name\"].value_counts()"
      ]
    },
    {
      "cell_type": "markdown",
      "id": "9117ae6f-8ecb-429f-9e1e-84931d1291c2",
      "metadata": {
        "id": "9117ae6f-8ecb-429f-9e1e-84931d1291c2"
      },
      "source": [
        "Site Name is **qualitative nominal**."
      ]
    },
    {
      "cell_type": "markdown",
      "id": "62f1b4ef-e76a-4464-af20-70a31385091f",
      "metadata": {
        "id": "62f1b4ef-e76a-4464-af20-70a31385091f"
      },
      "source": [
        "Now do the same on the other string columns.  Use `value_counts()` and then classify as binary, ordered or unordered using a markdown comment.  As you do each one, stop and look at the values and counts and think about how the data in the column might be useful for supporting the council's initiatives.  Don't just treat this as a mechanical copy/paste task. The objective is, after all, to get really intimate with the data!"
      ]
    },
    {
      "cell_type": "markdown",
      "id": "51845db9-18f6-4373-a8fc-e19492568561",
      "metadata": {
        "id": "51845db9-18f6-4373-a8fc-e19492568561"
      },
      "source": [
        "<div style=\"background-color:lemonchiffon; border:1px solid; padding:5px; margin:5px; font-weight:bold\"><font color=\"crimson\">\n",
        "TODO: Enter your code below.  Use one code cell per column and then add a markdown cell after each one to classify the column as in the above example.  Add as many cells as you need.\n",
        "    </font></div>"
      ]
    },
    {
      "cell_type": "code",
      "execution_count": 27,
      "id": "30f79dcc-0c78-407e-9479-131db91b2400",
      "metadata": {
        "colab": {
          "base_uri": "https://localhost:8080/"
        },
        "id": "30f79dcc-0c78-407e-9479-131db91b2400",
        "outputId": "3e460139-f401-4cff-dbcf-1cecf1851d62"
      },
      "outputs": [
        {
          "output_type": "execute_result",
          "data": {
            "text/plain": [
              "00000999    2\n",
              "00060087    2\n",
              "00022744    2\n",
              "00032549    2\n",
              "00022674    2\n",
              "           ..\n",
              "00046158    1\n",
              "00058373    1\n",
              "00059181    1\n",
              "00002274    1\n",
              "00013369    1\n",
              "Name: Identifier, Length: 23438, dtype: int64"
            ]
          },
          "metadata": {},
          "execution_count": 27
        }
      ],
      "source": [
        "trees['Identifier'].value_counts()"
      ]
    },
    {
      "cell_type": "markdown",
      "source": [
        "Wrong Datatype"
      ],
      "metadata": {
        "id": "DNz7lMq3OEG-"
      },
      "id": "DNz7lMq3OEG-"
    },
    {
      "cell_type": "code",
      "execution_count": 28,
      "id": "90a2c62b-fb2c-492d-a529-06cc6066802d",
      "metadata": {
        "colab": {
          "base_uri": "https://localhost:8080/"
        },
        "id": "90a2c62b-fb2c-492d-a529-06cc6066802d",
        "outputId": "8604f30f-c16d-4b14-cf3b-a80140aba43f"
      },
      "outputs": [
        {
          "output_type": "execute_result",
          "data": {
            "text/plain": [
              "Highways              10062\n",
              "Housing                7500\n",
              "Parks                  4330\n",
              "Education              1288\n",
              "Corporate Landlord      264\n",
              "Name: Contract Area, dtype: int64"
            ]
          },
          "metadata": {},
          "execution_count": 28
        }
      ],
      "source": [
        "trees['Contract Area'].value_counts()"
      ]
    },
    {
      "cell_type": "markdown",
      "source": [
        "\n",
        "\n",
        "Contract Aread is **qualitative nominal.**\n"
      ],
      "metadata": {
        "id": "96ukQVCxOPCT"
      },
      "id": "96ukQVCxOPCT"
    },
    {
      "cell_type": "code",
      "execution_count": 29,
      "id": "1f38b812-f955-481d-8964-55ce58be0290",
      "metadata": {
        "colab": {
          "base_uri": "https://localhost:8080/"
        },
        "id": "1f38b812-f955-481d-8964-55ce58be0290",
        "outputId": "598255af-0b0b-4757-af11-364ea8995dbb"
      },
      "outputs": [
        {
          "output_type": "execute_result",
          "data": {
            "text/plain": [
              "Platanus x hispanica                                 3340\n",
              "Tilia europaea                                       1468\n",
              "Acer pseudoplatanus                                   941\n",
              "Betula pendula                                        765\n",
              "Fraxinus excelsior                                    754\n",
              "                                                     ... \n",
              "Vacant Tree Pit (planned: Populus tremula)              1\n",
              "Liriodendron fastigiata                                 1\n",
              "Sequoia sempervirens                                    1\n",
              "Sorbus x hybrida                                        1\n",
              "Vacant Tree Pit (planned: Acer rubrum 'Amstrong')       1\n",
              "Name: Scientific Name, Length: 543, dtype: int64"
            ]
          },
          "metadata": {},
          "execution_count": 29
        }
      ],
      "source": [
        "trees['Scientific Name'].value_counts()"
      ]
    },
    {
      "cell_type": "markdown",
      "source": [
        "Scientific Name is **qualitative nominal.**"
      ],
      "metadata": {
        "id": "IWTUG5PYOfA1"
      },
      "id": "IWTUG5PYOfA1"
    },
    {
      "cell_type": "code",
      "execution_count": 30,
      "id": "128fc054-89ec-494f-b651-2e01a5e95442",
      "metadata": {
        "colab": {
          "base_uri": "https://localhost:8080/"
        },
        "id": "128fc054-89ec-494f-b651-2e01a5e95442",
        "outputId": "8ea70401-f906-454d-f043-2fb8f0c81cda"
      },
      "outputs": [
        {
          "output_type": "execute_result",
          "data": {
            "text/plain": [
              "E05000137    2799\n",
              "E05000143    1832\n",
              "E05000134    1541\n",
              "E05000140    1540\n",
              "E05000139    1463\n",
              "E05000136    1424\n",
              "E05000135    1340\n",
              "E05000138    1293\n",
              "E05000132    1284\n",
              "E05000131    1231\n",
              "E05000133    1229\n",
              "E05000129    1008\n",
              "E05000142     989\n",
              "E05000144     978\n",
              "E05000130     899\n",
              "E05000145     853\n",
              "E05000141     824\n",
              "E05000128     691\n",
              "Name: Ward Code, dtype: int64"
            ]
          },
          "metadata": {},
          "execution_count": 30
        }
      ],
      "source": [
        "trees['Ward Code'].value_counts()"
      ]
    },
    {
      "cell_type": "markdown",
      "source": [
        "Ward Code is **qualitative nominal.**"
      ],
      "metadata": {
        "id": "Ny11Pk7MOsMY"
      },
      "id": "Ny11Pk7MOsMY"
    },
    {
      "cell_type": "code",
      "source": [
        "trees['Ward Name'].value_counts()"
      ],
      "metadata": {
        "colab": {
          "base_uri": "https://localhost:8080/"
        },
        "id": "oUTskhvHOyr-",
        "outputId": "57113082-a42c-4ec6-ee65-f1fbbe88a9a4"
      },
      "id": "oUTskhvHOyr-",
      "execution_count": 31,
      "outputs": [
        {
          "output_type": "execute_result",
          "data": {
            "text/plain": [
              "Highgate                          2799\n",
              "St Pancras and Somers Town        1832\n",
              "Gospel Oak                        1541\n",
              "Kilburn                           1540\n",
              "Kentish Town                      1463\n",
              "Haverstock                        1424\n",
              "Hampstead Town                    1340\n",
              "Holborn and Covent Garden         1293\n",
              "Fortune Green                     1284\n",
              "Cantelowes                        1231\n",
              "Frognal and Fitzjohns             1229\n",
              "Bloomsbury                        1008\n",
              "Regent's Park                      989\n",
              "Swiss Cottage                      978\n",
              "Camden Town with Primrose Hill     899\n",
              "West Hampstead                     853\n",
              "King's Cross                       824\n",
              "Belsize                            691\n",
              "Name: Ward Name, dtype: int64"
            ]
          },
          "metadata": {},
          "execution_count": 31
        }
      ]
    },
    {
      "cell_type": "markdown",
      "source": [
        "Ward name **is qualitative nominal.**"
      ],
      "metadata": {
        "id": "M8Yg0DgmO4TM"
      },
      "id": "M8Yg0DgmO4TM"
    },
    {
      "cell_type": "code",
      "source": [
        "trees['Location'].value_counts()"
      ],
      "metadata": {
        "colab": {
          "base_uri": "https://localhost:8080/"
        },
        "id": "AldvjZNJPDi3",
        "outputId": "6eb49f79-063f-4e7f-92de-282b5b165332"
      },
      "id": "AldvjZNJPDi3",
      "execution_count": 32,
      "outputs": [
        {
          "output_type": "execute_result",
          "data": {
            "text/plain": [
              "(51.556205, -0.173776)    3\n",
              "(51.553475, -0.152668)    3\n",
              "(51.548133, -0.144922)    2\n",
              "(51.544482, -0.144465)    2\n",
              "(51.55468, -0.164744)     2\n",
              "                         ..\n",
              "(51.525312, -0.128846)    1\n",
              "(51.540297, -0.181512)    1\n",
              "(51.556013, -0.211326)    1\n",
              "(51.55969, -0.182457)     1\n",
              "(51.552397, -0.173397)    1\n",
              "Name: Location, Length: 23262, dtype: int64"
            ]
          },
          "metadata": {},
          "execution_count": 32
        }
      ]
    },
    {
      "cell_type": "markdown",
      "source": [
        "Wrong Datatype"
      ],
      "metadata": {
        "id": "zNzDyISrPGT3"
      },
      "id": "zNzDyISrPGT3"
    },
    {
      "cell_type": "markdown",
      "id": "098f1891-aa39-4304-9845-13cf7041d27f",
      "metadata": {
        "id": "098f1891-aa39-4304-9845-13cf7041d27f"
      },
      "source": [
        "<hr/>"
      ]
    },
    {
      "cell_type": "markdown",
      "id": "65820ccc-8566-4b63-b141-7dffa8e9d067",
      "metadata": {
        "id": "65820ccc-8566-4b63-b141-7dffa8e9d067"
      },
      "source": [
        "#### 3.1.b Descriptive Stats for Numeric Type Columns\n",
        "Use the `describe()` function to get the descriptive stats for the numeric columns.\n",
        "\n",
        "For each column, classify the column as discrete or continuous (use the data type to guide you, but check any floats to confirm whether they are really floats or just ints with null values.  Use `pandas.Series.unique()` to check this).\n"
      ]
    },
    {
      "cell_type": "markdown",
      "id": "bef50831-d839-4dd0-833e-cabfda83cba4",
      "metadata": {
        "id": "bef50831-d839-4dd0-833e-cabfda83cba4"
      },
      "source": [
        "<div style=\"background-color:lemonchiffon; border:1px solid; padding:5px; margin:5px; font-weight:bold\"><font color=\"crimson\">\n",
        "TODO: Complete the following code cells\n",
        "    </font></div>"
      ]
    },
    {
      "cell_type": "code",
      "execution_count": 33,
      "id": "0f449063-a7c5-4526-a057-fd20bd17ba6f",
      "metadata": {
        "colab": {
          "base_uri": "https://localhost:8080/"
        },
        "id": "0f449063-a7c5-4526-a057-fd20bd17ba6f",
        "outputId": "c017241e-ccae-48e4-edb5-c08d01a05fe6"
      },
      "outputs": [
        {
          "output_type": "execute_result",
          "data": {
            "text/plain": [
              "count    23422.000000\n",
              "mean         1.100034\n",
              "std          1.288041\n",
              "min          0.000000\n",
              "25%          1.000000\n",
              "50%          1.000000\n",
              "75%          1.000000\n",
              "max         67.000000\n",
              "Name: Number Of Trees, dtype: float64"
            ]
          },
          "metadata": {},
          "execution_count": 33
        }
      ],
      "source": [
        "# Get the descriptive stats for the numeric columns\n",
        "trees['Number Of Trees'].describe()"
      ]
    },
    {
      "cell_type": "code",
      "execution_count": 34,
      "id": "9b793f70-5799-4eb0-aa11-4cb38f86baba",
      "metadata": {
        "colab": {
          "base_uri": "https://localhost:8080/"
        },
        "id": "9b793f70-5799-4eb0-aa11-4cb38f86baba",
        "outputId": "223a0078-56b6-4857-cf31-3caad0fe69dc"
      },
      "outputs": [
        {
          "output_type": "stream",
          "name": "stdout",
          "text": [
            "Column: Number Of Trees\n",
            "Type: Continuous\n"
          ]
        }
      ],
      "source": [
        "# Remind ourselves of the data types\n",
        "number_of_trees_type = 'Discrete' if trees['Number Of Trees'].dtype == 'int64' else 'Continuous'\n",
        "print(\"Column: Number Of Trees\")\n",
        "print(\"Type:\", number_of_trees_type)"
      ]
    },
    {
      "cell_type": "code",
      "source": [
        "trees['Height In Metres'].describe()"
      ],
      "metadata": {
        "colab": {
          "base_uri": "https://localhost:8080/"
        },
        "id": "sb6QaLQXQmXx",
        "outputId": "7c793630-97df-4b6d-8140-1ee7a7195c20"
      },
      "id": "sb6QaLQXQmXx",
      "execution_count": 35,
      "outputs": [
        {
          "output_type": "execute_result",
          "data": {
            "text/plain": [
              "count    23006.000000\n",
              "mean        10.307029\n",
              "std          6.325293\n",
              "min          0.000000\n",
              "25%          5.000000\n",
              "50%          9.000000\n",
              "75%         15.000000\n",
              "max        127.000000\n",
              "Name: Height In Metres, dtype: float64"
            ]
          },
          "metadata": {},
          "execution_count": 35
        }
      ]
    },
    {
      "cell_type": "code",
      "source": [
        "height_type = 'Continuous' if trees['Height In Metres'].dtype == 'float64' else 'Discrete'\n",
        "print(\"Column: Height In Metres\")\n",
        "print(\"Type:\", height_type)"
      ],
      "metadata": {
        "colab": {
          "base_uri": "https://localhost:8080/"
        },
        "id": "kRK0ITwdQmu4",
        "outputId": "7bd7017e-b1f5-4bdc-8cbf-7bb1c7d1335f"
      },
      "id": "kRK0ITwdQmu4",
      "execution_count": 36,
      "outputs": [
        {
          "output_type": "stream",
          "name": "stdout",
          "text": [
            "Column: Height In Metres\n",
            "Type: Continuous\n"
          ]
        }
      ]
    },
    {
      "cell_type": "code",
      "source": [
        "trees['Spread In Metres'].describe()"
      ],
      "metadata": {
        "colab": {
          "base_uri": "https://localhost:8080/"
        },
        "id": "wShQFQ0_QnJF",
        "outputId": "cae2c14a-fbd4-4684-9862-4027d1e3c82b"
      },
      "id": "wShQFQ0_QnJF",
      "execution_count": 37,
      "outputs": [
        {
          "output_type": "execute_result",
          "data": {
            "text/plain": [
              "count    23006.000000\n",
              "mean         5.997612\n",
              "std          4.132379\n",
              "min          0.000000\n",
              "25%          3.000000\n",
              "50%          5.000000\n",
              "75%          8.000000\n",
              "max         88.000000\n",
              "Name: Spread In Metres, dtype: float64"
            ]
          },
          "metadata": {},
          "execution_count": 37
        }
      ]
    },
    {
      "cell_type": "code",
      "source": [
        "spread_type = 'Continuous' if trees['Spread In Metres'].dtype == 'float64' and not trees['Spread In Metres'].isnull().any() else 'Discrete'\n",
        "print(\"Column: Spread In Metres\")\n",
        "print(\"Type:\", spread_type)"
      ],
      "metadata": {
        "colab": {
          "base_uri": "https://localhost:8080/"
        },
        "id": "JnREXeAzQnUG",
        "outputId": "72d0f4b6-01a4-463a-d0be-2055f13b5838"
      },
      "id": "JnREXeAzQnUG",
      "execution_count": 38,
      "outputs": [
        {
          "output_type": "stream",
          "name": "stdout",
          "text": [
            "Column: Spread In Metres\n",
            "Type: Discrete\n"
          ]
        }
      ]
    },
    {
      "cell_type": "code",
      "source": [
        "trees['Diameter In Centimetres At Breast Height'].describe()"
      ],
      "metadata": {
        "colab": {
          "base_uri": "https://localhost:8080/"
        },
        "id": "kzqxfR5hQnfY",
        "outputId": "4b8078e8-8e83-4132-ba82-d2335572e374"
      },
      "id": "kzqxfR5hQnfY",
      "execution_count": 39,
      "outputs": [
        {
          "output_type": "execute_result",
          "data": {
            "text/plain": [
              "count    23005.000000\n",
              "mean        32.595262\n",
              "std         26.149994\n",
              "min          0.000000\n",
              "25%         12.000000\n",
              "50%         27.000000\n",
              "75%         46.000000\n",
              "max        228.000000\n",
              "Name: Diameter In Centimetres At Breast Height, dtype: float64"
            ]
          },
          "metadata": {},
          "execution_count": 39
        }
      ]
    },
    {
      "cell_type": "code",
      "source": [
        "diameter_type = 'Continuous' if trees['Diameter In Centimetres At Breast Height'].dtype == 'float64' and not trees['Diameter In Centimetres At Breast Height'].isnull().any() else 'Discrete'\n",
        "print(\"Column: Diameter In Centimetres At Breast Height\")\n",
        "print(\"Type:\", diameter_type)"
      ],
      "metadata": {
        "colab": {
          "base_uri": "https://localhost:8080/"
        },
        "id": "msNyL_K_QnoM",
        "outputId": "b98f9bf5-44d9-4eb1-9fd9-437125d6f2ae"
      },
      "id": "msNyL_K_QnoM",
      "execution_count": 40,
      "outputs": [
        {
          "output_type": "stream",
          "name": "stdout",
          "text": [
            "Column: Diameter In Centimetres At Breast Height\n",
            "Type: Discrete\n"
          ]
        }
      ]
    },
    {
      "cell_type": "code",
      "source": [
        "trees['Easting'].describe()"
      ],
      "metadata": {
        "colab": {
          "base_uri": "https://localhost:8080/"
        },
        "id": "yHU52MIgRoG3",
        "outputId": "722b097b-441c-4c0c-c43a-0d53a6214556"
      },
      "id": "yHU52MIgRoG3",
      "execution_count": 41,
      "outputs": [
        {
          "output_type": "execute_result",
          "data": {
            "text/plain": [
              "count     23444.000000\n",
              "mean     526762.518171\n",
              "std       25835.857212\n",
              "min           0.000000\n",
              "25%      526583.750000\n",
              "50%      528456.500000\n",
              "75%      529369.000000\n",
              "max      531514.000000\n",
              "Name: Easting, dtype: float64"
            ]
          },
          "metadata": {},
          "execution_count": 41
        }
      ]
    },
    {
      "cell_type": "code",
      "source": [
        "print(\"Column: Easting\")\n",
        "print(\"Type: Discrete\")"
      ],
      "metadata": {
        "colab": {
          "base_uri": "https://localhost:8080/"
        },
        "id": "8XeLUArTRoJk",
        "outputId": "66888a0c-3687-450b-d9a6-43d007437f0b"
      },
      "id": "8XeLUArTRoJk",
      "execution_count": 42,
      "outputs": [
        {
          "output_type": "stream",
          "name": "stdout",
          "text": [
            "Column: Easting\n",
            "Type: Discrete\n"
          ]
        }
      ]
    },
    {
      "cell_type": "code",
      "source": [
        "trees['Northing'].describe()"
      ],
      "metadata": {
        "colab": {
          "base_uri": "https://localhost:8080/"
        },
        "id": "JEgEaBMMRoM6",
        "outputId": "0f199518-3dfb-4bff-91eb-285394454d87"
      },
      "id": "JEgEaBMMRoM6",
      "execution_count": 43,
      "outputs": [
        {
          "output_type": "execute_result",
          "data": {
            "text/plain": [
              "count     23444.000000\n",
              "mean     184085.188662\n",
              "std        9121.059755\n",
              "min           0.000000\n",
              "25%      183665.000000\n",
              "50%      184690.000000\n",
              "75%      185481.000000\n",
              "max      196188.000000\n",
              "Name: Northing, dtype: float64"
            ]
          },
          "metadata": {},
          "execution_count": 43
        }
      ]
    },
    {
      "cell_type": "code",
      "source": [
        "print(\"Column: Northing\")\n",
        "print(\"Type: Discrete\")"
      ],
      "metadata": {
        "colab": {
          "base_uri": "https://localhost:8080/"
        },
        "id": "2baEQhlXRoX2",
        "outputId": "3011ee46-4a2d-4643-929c-26f7b85b7ee4"
      },
      "id": "2baEQhlXRoX2",
      "execution_count": 44,
      "outputs": [
        {
          "output_type": "stream",
          "name": "stdout",
          "text": [
            "Column: Northing\n",
            "Type: Discrete\n"
          ]
        }
      ]
    },
    {
      "cell_type": "code",
      "source": [
        "trees['Longitude'].describe()"
      ],
      "metadata": {
        "colab": {
          "base_uri": "https://localhost:8080/"
        },
        "id": "sLIANBMsSDzn",
        "outputId": "f710104c-3786-4efd-f848-eabd94e8e3be"
      },
      "id": "sLIANBMsSDzn",
      "execution_count": 45,
      "outputs": [
        {
          "output_type": "execute_result",
          "data": {
            "text/plain": [
              "count    23388.000000\n",
              "mean        -0.155145\n",
              "std          0.025058\n",
              "min         -0.261719\n",
              "25%         -0.175734\n",
              "50%         -0.148478\n",
              "75%         -0.135978\n",
              "max         -0.105858\n",
              "Name: Longitude, dtype: float64"
            ]
          },
          "metadata": {},
          "execution_count": 45
        }
      ]
    },
    {
      "cell_type": "code",
      "source": [
        "longitude_type = 'Continuous' if trees['Longitude'].dtype == 'float64' and not trees['Longitude'].isnull().any() else 'Discrete'\n",
        "print(\"Column: Longitude\")\n",
        "print(\"Type:\", longitude_type)"
      ],
      "metadata": {
        "colab": {
          "base_uri": "https://localhost:8080/"
        },
        "id": "eTOtFZyYSD_g",
        "outputId": "3e0da6ec-9ad1-4c88-81a6-dbf06d047fa8"
      },
      "id": "eTOtFZyYSD_g",
      "execution_count": 46,
      "outputs": [
        {
          "output_type": "stream",
          "name": "stdout",
          "text": [
            "Column: Longitude\n",
            "Type: Discrete\n"
          ]
        }
      ]
    },
    {
      "cell_type": "code",
      "source": [
        "trees['Latitude'].describe()"
      ],
      "metadata": {
        "colab": {
          "base_uri": "https://localhost:8080/"
        },
        "id": "9H53MV0dSPqv",
        "outputId": "01726770-1273-49e0-cc5d-12e9e5e1bd6d"
      },
      "id": "9H53MV0dSPqv",
      "execution_count": 47,
      "outputs": [
        {
          "output_type": "execute_result",
          "data": {
            "text/plain": [
              "count    23388.000000\n",
              "mean        51.545115\n",
              "std          0.013067\n",
              "min         51.512858\n",
              "25%         51.537472\n",
              "50%         51.546669\n",
              "75%         51.554032\n",
              "max         51.650843\n",
              "Name: Latitude, dtype: float64"
            ]
          },
          "metadata": {},
          "execution_count": 47
        }
      ]
    },
    {
      "cell_type": "code",
      "source": [
        "latitude_type = 'Continuous' if trees['Latitude'].dtype == 'float64' and not trees['Latitude'].isnull().any() else 'Discrete'\n",
        "print(\"Column: Latitude\")\n",
        "print(\"Type:\", latitude_type)"
      ],
      "metadata": {
        "colab": {
          "base_uri": "https://localhost:8080/"
        },
        "id": "W7uGJJ72SPy7",
        "outputId": "cac3117a-738a-45c2-f489-808b61ae6b6f"
      },
      "id": "W7uGJJ72SPy7",
      "execution_count": 48,
      "outputs": [
        {
          "output_type": "stream",
          "name": "stdout",
          "text": [
            "Column: Latitude\n",
            "Type: Discrete\n"
          ]
        }
      ]
    },
    {
      "cell_type": "markdown",
      "id": "f8139d4e-5890-4d4d-bf64-850c9f783710",
      "metadata": {
        "id": "f8139d4e-5890-4d4d-bf64-850c9f783710"
      },
      "source": [
        "<hr/>\n",
        "\n",
        "Find out if floats are really floats or ints with nulls.\n",
        "\n",
        "<div style=\"background-color:lemonchiffon; border:1px solid; padding:5px; margin:5px; font-weight:bold\"><font color=\"crimson\">\n",
        "TODO: Enter your code below.  Use one code cell per column.   Add as many cells as you need.\n",
        "    </font></div>"
      ]
    },
    {
      "cell_type": "code",
      "execution_count": 49,
      "id": "d1b425fc-edd1-4bfd-9766-6bd300bd2968",
      "metadata": {
        "colab": {
          "base_uri": "https://localhost:8080/"
        },
        "id": "d1b425fc-edd1-4bfd-9766-6bd300bd2968",
        "outputId": "13df38cd-ac66-4f4d-d911-d867b22a91b4"
      },
      "outputs": [
        {
          "output_type": "stream",
          "name": "stdout",
          "text": [
            "Column 'Number Of Trees' is integers with nulls\n",
            "Column 'Height In Metres' is truly a float\n",
            "Column 'Spread In Metres' is truly a float\n",
            "Column 'Diameter In Centimetres At Breast Height' is truly a float\n",
            "Column 'Longitude' is truly a float\n",
            "Column 'Latitude' is truly a float\n"
          ]
        }
      ],
      "source": [
        "float_columns = ['Number Of Trees', 'Height In Metres', 'Spread In Metres', 'Diameter In Centimetres At Breast Height', 'Longitude', 'Latitude']  # List of float column names\n",
        "for col in float_columns:\n",
        "    unique_values = trees[col].dropna().unique()\n",
        "    if all(value.is_integer() for value in unique_values):\n",
        "        print(f\"Column '{col}' is integers with nulls\")\n",
        "    else:\n",
        "        print(f\"Column '{col}' is truly a float\")"
      ]
    },
    {
      "cell_type": "markdown",
      "id": "27c930e8-f1f0-45d1-851a-ac41f43fbdcd",
      "metadata": {
        "id": "27c930e8-f1f0-45d1-851a-ac41f43fbdcd"
      },
      "source": [
        "\n",
        "<hr/>"
      ]
    },
    {
      "cell_type": "markdown",
      "id": "de74dc7d-a346-42ba-9def-8d07b1ef1e0c",
      "metadata": {
        "id": "de74dc7d-a346-42ba-9def-8d07b1ef1e0c"
      },
      "source": [
        "Classify the columns as discrete or continuous.\n",
        "\n",
        "<div style=\"background-color:lemonchiffon; border:1px solid; padding:5px; margin:5px; font-weight:bold\"><font color=\"crimson\">\n",
        "TODO: Enter markdown below.\n",
        "</div>"
      ]
    },
    {
      "cell_type": "markdown",
      "id": "5a7931f5-fac2-4181-84d6-b4999e983057",
      "metadata": {
        "id": "5a7931f5-fac2-4181-84d6-b4999e983057"
      },
      "source": [
        "\n",
        "'Identifier': 'Discrete'\n",
        "\n",
        "'Number Of Trees': 'Continuous'\n",
        "\n",
        "'Height In Metres': 'Continuous'\n",
        "\n",
        "'Spread In Metres': 'Discrete'\n",
        "\n",
        "'Diameter In Centimetres At Breast Height': 'Discrete'\n",
        "\n",
        "'Easting': 'Discrete'\n",
        "\n",
        "'Northing': 'Discrete'\n",
        "\n",
        "'Longitude': 'Discrete'\n",
        "\n",
        "'Latitude': 'Discrete'"
      ]
    },
    {
      "cell_type": "markdown",
      "id": "4ee2e405-e35f-49d7-bcd6-00c12d31fa8d",
      "metadata": {
        "id": "4ee2e405-e35f-49d7-bcd6-00c12d31fa8d"
      },
      "source": [
        "<hr/>"
      ]
    },
    {
      "cell_type": "markdown",
      "id": "90c6e10d-2f2e-4003-b983-f60870b6fc1a",
      "metadata": {
        "id": "90c6e10d-2f2e-4003-b983-f60870b6fc1a"
      },
      "source": [
        "### 3.2 Further Inspect the Environmental Dataset\n",
        "Now repeat the above for the environmental dataset.\n",
        "\n",
        "#### 3.2.a Counts of Values for String Type Columns\n",
        "For each string column in the environmental dataset show the counts of the unique values."
      ]
    },
    {
      "cell_type": "markdown",
      "id": "f077e892-01db-426e-9cae-e59a6b0940be",
      "metadata": {
        "id": "f077e892-01db-426e-9cae-e59a6b0940be"
      },
      "source": [
        "<div style=\"background-color:lemonchiffon; border:1px solid; padding:5px; margin:5px; font-weight:bold\"><font color=\"crimson\">\n",
        "    TODO: Enter your code below.  Use one code cell per column and then add a markdown cell after each one to classify the column.  Add as many cells as you need.\n",
        "</font></div>"
      ]
    },
    {
      "cell_type": "code",
      "execution_count": 50,
      "id": "044f2b73-aa4b-4a10-8546-e3149d39d817",
      "metadata": {
        "colab": {
          "base_uri": "https://localhost:8080/"
        },
        "id": "044f2b73-aa4b-4a10-8546-e3149d39d817",
        "outputId": "6a844a3d-0d1e-4765-ea3f-5d7cb6363739"
      },
      "outputs": [
        {
          "output_type": "stream",
          "name": "stdout",
          "text": [
            "Counts of unique values for column 'Identifier':\n",
            "00055125    1\n",
            "00001681    1\n",
            "00008539    1\n",
            "00019552    1\n",
            "00032062    1\n",
            "           ..\n",
            "00013724    1\n",
            "00005978    1\n",
            "00017336    1\n",
            "00014229    1\n",
            "00001786    1\n",
            "Name: Identifier, Length: 23415, dtype: int64\n"
          ]
        }
      ],
      "source": [
        "identifier_counts = environmental['Identifier'].value_counts()\n",
        "print(\"Counts of unique values for column 'Identifier':\")\n",
        "print(identifier_counts)"
      ]
    },
    {
      "cell_type": "code",
      "execution_count": 51,
      "id": "44ba9648-4ddb-4d61-b176-264bce03818c",
      "metadata": {
        "id": "44ba9648-4ddb-4d61-b176-264bce03818c",
        "colab": {
          "base_uri": "https://localhost:8080/"
        },
        "outputId": "dda0534b-4899-4493-cc55-ce4f43eaf769"
      },
      "outputs": [
        {
          "output_type": "stream",
          "name": "stdout",
          "text": [
            "Descriptive statistics for column 'Capital Asset Value For Amenity Trees':\n",
            "count     22982.000000\n",
            "mean      14056.393047\n",
            "std       24803.806595\n",
            "min           0.000000\n",
            "25%        1035.650000\n",
            "50%        5443.660000\n",
            "75%       16781.420000\n",
            "max      504725.720000\n",
            "Name: Capital Asset Value For Amenity Trees, dtype: float64\n",
            "\n",
            "Descriptive statistics for column 'Carbon Storage In Kilograms':\n",
            "count    20555.000000\n",
            "mean       467.465454\n",
            "std        844.926555\n",
            "min          0.500000\n",
            "25%         24.800000\n",
            "50%        163.900000\n",
            "75%        497.300000\n",
            "max       6000.000000\n",
            "Name: Carbon Storage In Kilograms, dtype: float64\n",
            "\n",
            "Descriptive statistics for column 'Gross Carbon Sequestration Per Year In Kilograms':\n",
            "count    20555.000000\n",
            "mean         8.675057\n",
            "std          8.681446\n",
            "min          0.000000\n",
            "25%          2.200000\n",
            "50%          6.100000\n",
            "75%         11.700000\n",
            "max         53.800000\n",
            "Name: Gross Carbon Sequestration Per Year In Kilograms, dtype: float64\n",
            "\n",
            "Descriptive statistics for column 'Pollution Removal Per Year In Grams':\n",
            "count    20555.000000\n",
            "mean       217.740316\n",
            "std        306.751920\n",
            "min          0.300000\n",
            "25%         29.300000\n",
            "50%        108.100000\n",
            "75%        297.600000\n",
            "max       8223.700000\n",
            "Name: Pollution Removal Per Year In Grams, dtype: float64\n",
            "\n"
          ]
        }
      ],
      "source": [
        "numeric_columns = environmental.select_dtypes(include=['int64', 'float64']).columns\n",
        "for col in numeric_columns:\n",
        "    print(f\"Descriptive statistics for column '{col}':\")\n",
        "    print(environmental[col].describe())\n",
        "    print()"
      ]
    },
    {
      "cell_type": "code",
      "execution_count": 97,
      "id": "089c3831-ae1e-47f9-a907-45260efe3d56",
      "metadata": {
        "id": "089c3831-ae1e-47f9-a907-45260efe3d56",
        "colab": {
          "base_uri": "https://localhost:8080/"
        },
        "outputId": "27051306-89d8-4216-e34b-49933da253c9"
      },
      "outputs": [
        {
          "output_type": "stream",
          "name": "stdout",
          "text": [
            "00055125    1\n",
            "00001681    1\n",
            "00008539    1\n",
            "00019552    1\n",
            "00032062    1\n",
            "           ..\n",
            "00013724    1\n",
            "00005978    1\n",
            "00017336    1\n",
            "00014229    1\n",
            "00001786    1\n",
            "Name: Identifier, Length: 23415, dtype: int64\n",
            "Column: Identifier\n",
            "Type: Nominal\n",
            "\n",
            "Mature            10225\n",
            "Middle aged        7779\n",
            "Juvenile           4393\n",
            "Not Applicable      377\n",
            "Over Mature         191\n",
            "Veteran              41\n",
            "Name: Maturity, dtype: int64\n",
            "Column: Maturity\n",
            "Type: Ordinal\n",
            "\n",
            "Good              12910\n",
            "Fair               9183\n",
            "Poor                357\n",
            "Not applicable      249\n",
            "Dead                236\n",
            "Excellent             8\n",
            "Name: Physiological Condition, dtype: int64\n",
            "Column: Physiological Condition\n",
            "Type: Nominal\n",
            "\n",
            "No     23331\n",
            "Yes       84\n",
            "Name: Tree Set To Be Removed, dtype: int64\n",
            "Column: Tree Set To Be Removed\n",
            "Type: Binary\n",
            "\n",
            "Dead, dying                    30\n",
            "Basal decay                    17\n",
            "Trunk decay                    10\n",
            "Tree defect                     5\n",
            "Crown die-back                  5\n",
            "Dog damage                      3\n",
            "Unsuitable location             3\n",
            "Newly planted tree failure      2\n",
            "Coppiced stump                  1\n",
            "Touching building/structure     1\n",
            "Crown decay                     1\n",
            "Split trunk                     1\n",
            "Broken/split branch             1\n",
            "Climber                         1\n",
            "No defects - work required      1\n",
            "Suppressed                      1\n",
            "ATRD                            1\n",
            "Name: Removal Reason, dtype: int64\n",
            "Column: Removal Reason\n",
            "Type: Nominal\n",
            "\n",
            "count     22982.000000\n",
            "mean      14056.393047\n",
            "std       24803.806595\n",
            "min           0.000000\n",
            "25%        1035.650000\n",
            "50%        5443.660000\n",
            "75%       16781.420000\n",
            "max      504725.720000\n",
            "Name: Capital Asset Value For Amenity Trees, dtype: float64\n",
            "Column: Capital Asset Value For Amenity Trees\n",
            "Type: Continuous\n",
            "\n",
            "count    20555.000000\n",
            "mean       467.465454\n",
            "std        844.926555\n",
            "min          0.500000\n",
            "25%         24.800000\n",
            "50%        163.900000\n",
            "75%        497.300000\n",
            "max       6000.000000\n",
            "Name: Carbon Storage In Kilograms, dtype: float64\n",
            "Column: Carbon Storage In Kilograms\n",
            "Type: Continuous\n",
            "\n",
            "count    20555.000000\n",
            "mean         8.675057\n",
            "std          8.681446\n",
            "min          0.000000\n",
            "25%          2.200000\n",
            "50%          6.100000\n",
            "75%         11.700000\n",
            "max         53.800000\n",
            "Name: Gross Carbon Sequestration Per Year In Kilograms, dtype: float64\n",
            "Column: Gross Carbon Sequestration Per Year In Kilograms\n",
            "Type: Continuous\n",
            "\n",
            "count    20555.000000\n",
            "mean       217.740316\n",
            "std        306.751920\n",
            "min          0.300000\n",
            "25%         29.300000\n",
            "50%        108.100000\n",
            "75%        297.600000\n",
            "max       8223.700000\n",
            "Name: Pollution Removal Per Year In Grams, dtype: float64\n",
            "Column: Pollution Removal Per Year In Grams\n",
            "Type: Continuous\n",
            "\n"
          ]
        }
      ],
      "source": [
        "# Column: Identifier\n",
        "print(environmental['Identifier'].value_counts())\n",
        "print(\"Column: Identifier\")\n",
        "\n",
        "# Classify the data (Assuming Identifier is a unique identifier, it's nominal)\n",
        "print(\"Type: Nominal\")\n",
        "print()\n",
        "\n",
        "# Column: Maturity\n",
        "print(environmental['Maturity'].value_counts())\n",
        "print(\"Column: Maturity\")\n",
        "\n",
        "# Classify the data (Assuming Maturity has ordered values, it's ordinal)\n",
        "print(\"Type: Ordinal\")\n",
        "print()\n",
        "\n",
        "# Column: Physiological Condition\n",
        "print(environmental['Physiological Condition'].value_counts())\n",
        "print(\"Column: Physiological Condition\")\n",
        "\n",
        "# Classify the data (Assuming Physiological Condition has unordered values, it's nominal)\n",
        "print(\"Type: Nominal\")\n",
        "print()\n",
        "\n",
        "# Column: Tree Set To Be Removed\n",
        "print(environmental['Tree Set To Be Removed'].value_counts())\n",
        "print(\"Column: Tree Set To Be Removed\")\n",
        "\n",
        "# Classify the data (Assuming Tree Set To Be Removed has binary values, it's binary)\n",
        "print(\"Type: Binary\")\n",
        "print()\n",
        "\n",
        "# Column: Removal Reason\n",
        "print(environmental['Removal Reason'].value_counts())\n",
        "print(\"Column: Removal Reason\")\n",
        "\n",
        "# Classify the data (Assuming Removal Reason has unordered values, it's nominal)\n",
        "print(\"Type: Nominal\")\n",
        "print()\n",
        "\n",
        "# Column: Capital Asset Value For Amenity Trees\n",
        "print(environmental['Capital Asset Value For Amenity Trees'].describe())\n",
        "print(\"Column: Capital Asset Value For Amenity Trees\")\n",
        "\n",
        "# Classify the data (Assuming Capital Asset Value For Amenity Trees is a continuous variable)\n",
        "print(\"Type: Continuous\")\n",
        "print()\n",
        "\n",
        "# Column: Carbon Storage In Kilograms\n",
        "print(environmental['Carbon Storage In Kilograms'].describe())\n",
        "print(\"Column: Carbon Storage In Kilograms\")\n",
        "\n",
        "# Classify the data (Assuming Carbon Storage In Kilograms is a continuous variable)\n",
        "print(\"Type: Continuous\")\n",
        "print()\n",
        "\n",
        "# Column: Gross Carbon Sequestration Per Year In Kilograms\n",
        "print(environmental['Gross Carbon Sequestration Per Year In Kilograms'].describe())\n",
        "print(\"Column: Gross Carbon Sequestration Per Year In Kilograms\")\n",
        "\n",
        "# Classify the data (Assuming Gross Carbon Sequestration Per Year In Kilograms is a continuous variable)\n",
        "print(\"Type: Continuous\")\n",
        "print()\n",
        "\n",
        "# Column: Pollution Removal Per Year In Grams\n",
        "print(environmental['Pollution Removal Per Year In Grams'].describe())\n",
        "print(\"Column: Pollution Removal Per Year In Grams\")\n",
        "\n",
        "# Classify the data (Assuming Pollution Removal Per Year In Grams is a continuous variable)\n",
        "print(\"Type: Continuous\")\n",
        "print()"
      ]
    },
    {
      "cell_type": "code",
      "execution_count": 51,
      "id": "eb9ecfc7-a941-4980-8c2e-aec88871c8c0",
      "metadata": {
        "id": "eb9ecfc7-a941-4980-8c2e-aec88871c8c0"
      },
      "outputs": [],
      "source": []
    },
    {
      "cell_type": "markdown",
      "id": "fa84e8d1-57aa-483b-bb38-e54a07e6aff8",
      "metadata": {
        "id": "fa84e8d1-57aa-483b-bb38-e54a07e6aff8"
      },
      "source": [
        "<hr/>"
      ]
    },
    {
      "cell_type": "markdown",
      "id": "5c9ae370-ab1f-43f3-ba17-5dd062a2cbf1",
      "metadata": {
        "id": "5c9ae370-ab1f-43f3-ba17-5dd062a2cbf1"
      },
      "source": [
        "#### 3.2.b Descriptive Stats for Numeric Type Columns\n",
        "For each numeric column in the environmental dataset show the descriptive stats"
      ]
    },
    {
      "cell_type": "markdown",
      "id": "eafafa68-7cf4-4f9d-bbe1-7513151aa727",
      "metadata": {
        "id": "eafafa68-7cf4-4f9d-bbe1-7513151aa727"
      },
      "source": [
        "<div style=\"background-color:lemonchiffon; border:1px solid; padding:5px; margin:5px; font-weight:bold\"><font color=\"crimson\">\n",
        "TODO: Complete the following code cells\n",
        "    </font></div>"
      ]
    },
    {
      "cell_type": "code",
      "execution_count": 98,
      "id": "4380cd76-3b4c-4488-8b5d-b8429c747228",
      "metadata": {
        "id": "4380cd76-3b4c-4488-8b5d-b8429c747228",
        "colab": {
          "base_uri": "https://localhost:8080/"
        },
        "outputId": "b0329a10-5cb7-46ba-ea3e-3ba8aff0f51c"
      },
      "outputs": [
        {
          "output_type": "stream",
          "name": "stdout",
          "text": [
            "Descriptive statistics for column 'Capital Asset Value For Amenity Trees':\n",
            "count     22982.000000\n",
            "mean      14056.393047\n",
            "std       24803.806595\n",
            "min           0.000000\n",
            "25%        1035.650000\n",
            "50%        5443.660000\n",
            "75%       16781.420000\n",
            "max      504725.720000\n",
            "Name: Capital Asset Value For Amenity Trees, dtype: float64\n",
            "\n",
            "Descriptive statistics for column 'Carbon Storage In Kilograms':\n",
            "count    20555.000000\n",
            "mean       467.465454\n",
            "std        844.926555\n",
            "min          0.500000\n",
            "25%         24.800000\n",
            "50%        163.900000\n",
            "75%        497.300000\n",
            "max       6000.000000\n",
            "Name: Carbon Storage In Kilograms, dtype: float64\n",
            "\n",
            "Descriptive statistics for column 'Gross Carbon Sequestration Per Year In Kilograms':\n",
            "count    20555.000000\n",
            "mean         8.675057\n",
            "std          8.681446\n",
            "min          0.000000\n",
            "25%          2.200000\n",
            "50%          6.100000\n",
            "75%         11.700000\n",
            "max         53.800000\n",
            "Name: Gross Carbon Sequestration Per Year In Kilograms, dtype: float64\n",
            "\n",
            "Descriptive statistics for column 'Pollution Removal Per Year In Grams':\n",
            "count    20555.000000\n",
            "mean       217.740316\n",
            "std        306.751920\n",
            "min          0.300000\n",
            "25%         29.300000\n",
            "50%        108.100000\n",
            "75%        297.600000\n",
            "max       8223.700000\n",
            "Name: Pollution Removal Per Year In Grams, dtype: float64\n",
            "\n"
          ]
        }
      ],
      "source": [
        "# Get the descriptive stats for all numeric columns\n",
        "numeric_columns = environmental.select_dtypes(include=['int64', 'float64']).columns\n",
        "for col in numeric_columns:\n",
        "    print(f\"Descriptive statistics for column '{col}':\")\n",
        "    print(environmental[col].describe())\n",
        "    print()"
      ]
    },
    {
      "cell_type": "code",
      "execution_count": 99,
      "id": "d0f77821-130d-4f5d-b92e-0ce89e6b3bcd",
      "metadata": {
        "id": "d0f77821-130d-4f5d-b92e-0ce89e6b3bcd",
        "colab": {
          "base_uri": "https://localhost:8080/"
        },
        "outputId": "a3b69c07-3c8a-427d-867e-1b1c176dad98"
      },
      "outputs": [
        {
          "output_type": "stream",
          "name": "stdout",
          "text": [
            "Identifier                                           object\n",
            "Maturity                                             object\n",
            "Physiological Condition                              object\n",
            "Tree Set To Be Removed                               object\n",
            "Removal Reason                                       object\n",
            "Capital Asset Value For Amenity Trees               float64\n",
            "Carbon Storage In Kilograms                         float64\n",
            "Gross Carbon Sequestration Per Year In Kilograms    float64\n",
            "Pollution Removal Per Year In Grams                 float64\n",
            "dtype: object\n"
          ]
        }
      ],
      "source": [
        "# Remind ourselves of the data types\n",
        "print(environmental.dtypes)\n"
      ]
    },
    {
      "cell_type": "markdown",
      "id": "eb227586-d79a-46b9-a665-854b330a4c72",
      "metadata": {
        "id": "eb227586-d79a-46b9-a665-854b330a4c72"
      },
      "source": [
        "<hr/>\n",
        "\n",
        "Find out if floats are really floats or ints with nulls.\n",
        "\n",
        "<div style=\"background-color:lemonchiffon; border:1px solid; padding:5px; margin:5px; font-weight:bold\"><font color=\"crimson\">\n",
        "TODO: Enter your code below.  Use one code cell per column.   Add as many cells as you need.\n",
        "    </font></div>"
      ]
    },
    {
      "cell_type": "code",
      "execution_count": 100,
      "id": "20d9ddc5-3be9-4836-bc1a-5974d9b6b6b8",
      "metadata": {
        "id": "20d9ddc5-3be9-4836-bc1a-5974d9b6b6b8",
        "colab": {
          "base_uri": "https://localhost:8080/"
        },
        "outputId": "6d4bd9b7-1bd2-48c0-d241-b6a534a27f6c"
      },
      "outputs": [
        {
          "output_type": "stream",
          "name": "stdout",
          "text": [
            "'Capital Asset Value For Amenity Trees' is a float column.\n"
          ]
        }
      ],
      "source": [
        "float_values = environmental['Capital Asset Value For Amenity Trees'].dropna()\n",
        "if all(value.is_integer() for value in float_values):\n",
        "    print(\"'Capital Asset Value For Amenity Trees' is actually an integer with nulls.\")\n",
        "else:\n",
        "    print(\"'Capital Asset Value For Amenity Trees' is a float column.\")"
      ]
    },
    {
      "cell_type": "code",
      "execution_count": 101,
      "id": "0ac2cda7-cc1c-4a51-935e-033958ee9072",
      "metadata": {
        "id": "0ac2cda7-cc1c-4a51-935e-033958ee9072",
        "colab": {
          "base_uri": "https://localhost:8080/"
        },
        "outputId": "187ab018-3070-40ae-f96b-74a4b12b01e1"
      },
      "outputs": [
        {
          "output_type": "stream",
          "name": "stdout",
          "text": [
            "'Carbon Storage In Kilograms' is a float column.\n"
          ]
        }
      ],
      "source": [
        "float_values = environmental['Carbon Storage In Kilograms'].dropna()\n",
        "if all(value.is_integer() for value in float_values):\n",
        "    print(\"'Carbon Storage In Kilograms' is actually an integer with nulls.\")\n",
        "else:\n",
        "    print(\"'Carbon Storage In Kilograms' is a float column.\")"
      ]
    },
    {
      "cell_type": "code",
      "execution_count": 102,
      "id": "5503930d-debf-40d0-b845-e00adc7ac40b",
      "metadata": {
        "id": "5503930d-debf-40d0-b845-e00adc7ac40b",
        "colab": {
          "base_uri": "https://localhost:8080/"
        },
        "outputId": "d158925d-0544-4f38-92ec-1bba221b3735"
      },
      "outputs": [
        {
          "output_type": "stream",
          "name": "stdout",
          "text": [
            "'Gross Carbon Sequestration Per Year In Kilograms' is a float column.\n"
          ]
        }
      ],
      "source": [
        "float_values = environmental['Gross Carbon Sequestration Per Year In Kilograms'].dropna()\n",
        "if all(value.is_integer() for value in float_values):\n",
        "    print(\"'Gross Carbon Sequestration Per Year In Kilograms' is actually an integer with nulls.\")\n",
        "else:\n",
        "    print(\"'Gross Carbon Sequestration Per Year In Kilograms' is a float column.\")"
      ]
    },
    {
      "cell_type": "code",
      "execution_count": 103,
      "id": "2a1ad19d-b9d9-4752-a876-c39121829f22",
      "metadata": {
        "id": "2a1ad19d-b9d9-4752-a876-c39121829f22",
        "colab": {
          "base_uri": "https://localhost:8080/"
        },
        "outputId": "48008c60-68cc-4790-c116-63b728094a34"
      },
      "outputs": [
        {
          "output_type": "stream",
          "name": "stdout",
          "text": [
            "'Pollution Removal Per Year In Grams' is a float column.\n"
          ]
        }
      ],
      "source": [
        "float_values = environmental['Pollution Removal Per Year In Grams'].dropna()\n",
        "if all(value.is_integer() for value in float_values):\n",
        "    print(\"'Pollution Removal Per Year In Grams' is actually an integer with nulls.\")\n",
        "else:\n",
        "    print(\"'Pollution Removal Per Year In Grams' is a float column.\")"
      ]
    },
    {
      "cell_type": "markdown",
      "id": "6d550cf1-defa-4c65-9fcf-7d334a0c8899",
      "metadata": {
        "id": "6d550cf1-defa-4c65-9fcf-7d334a0c8899"
      },
      "source": [
        "<hr/>"
      ]
    },
    {
      "cell_type": "markdown",
      "id": "8bda5350-317b-43c1-91b1-71aeedf06ed3",
      "metadata": {
        "id": "8bda5350-317b-43c1-91b1-71aeedf06ed3"
      },
      "source": [
        "\n",
        "Classify the columns as discrete or continuous.\n",
        "\n",
        "<div style=\"background-color:lemonchiffon; border:1px solid; padding:5px; margin:5px; font-weight:bold\"><font color=\"crimson\">\n",
        "TODO: Enter markdown below.\n",
        "    </font></div>\n"
      ]
    },
    {
      "cell_type": "code",
      "source": [
        "# Assuming 'environmental' is your DataFrame containing the data\n",
        "# Replace 'environmental' with the actual name of your DataFrame\n",
        "\n",
        "# Classify each column as discrete or continuous\n",
        "column_types = {}\n",
        "\n",
        "# Classify 'Identifier' column as discrete since it contains unique identifiers\n",
        "column_types['Identifier'] = 'Discrete'\n",
        "\n",
        "# Classify 'Maturity' column as ordinal since it likely represents categorical maturity levels\n",
        "column_types['Maturity'] = 'Ordinal'\n",
        "\n",
        "# Classify 'Physiological Condition' column as nominal since it likely represents categorical physiological conditions\n",
        "column_types['Physiological Condition'] = 'Nominal'\n",
        "\n",
        "# Classify 'Tree Set To Be Removed' column as binary since it likely represents a binary decision (yes/no)\n",
        "column_types['Tree Set To Be Removed'] = 'Binary'\n",
        "\n",
        "# Classify 'Removal Reason' column as nominal since it likely represents categorical reasons for removal\n",
        "column_types['Removal Reason'] = 'Nominal'\n",
        "\n",
        "# Classify float columns\n",
        "# For float columns, we'll classify them as continuous\n",
        "float_columns = ['Capital Asset Value For Amenity Trees',\n",
        "                 'Carbon Storage In Kilograms',\n",
        "                 'Gross Carbon Sequestration Per Year In Kilograms',\n",
        "                 'Pollution Removal Per Year In Grams']\n",
        "\n",
        "for col in float_columns:\n",
        "    column_types[col] = 'Continuous'\n",
        "\n",
        "# Print column types\n",
        "for col, col_type in column_types.items():\n",
        "    print(f\"{col}: {col_type}\")"
      ],
      "metadata": {
        "colab": {
          "base_uri": "https://localhost:8080/"
        },
        "id": "UZnvv8QsmK_u",
        "outputId": "0292bc95-baf4-47c4-862e-98ca02802a56"
      },
      "id": "UZnvv8QsmK_u",
      "execution_count": 104,
      "outputs": [
        {
          "output_type": "stream",
          "name": "stdout",
          "text": [
            "Identifier: Discrete\n",
            "Maturity: Ordinal\n",
            "Physiological Condition: Nominal\n",
            "Tree Set To Be Removed: Binary\n",
            "Removal Reason: Nominal\n",
            "Capital Asset Value For Amenity Trees: Continuous\n",
            "Carbon Storage In Kilograms: Continuous\n",
            "Gross Carbon Sequestration Per Year In Kilograms: Continuous\n",
            "Pollution Removal Per Year In Grams: Continuous\n"
          ]
        }
      ]
    },
    {
      "cell_type": "markdown",
      "id": "1467aacd-ee75-46c9-b1d9-753c78869723",
      "metadata": {
        "id": "1467aacd-ee75-46c9-b1d9-753c78869723"
      },
      "source": [
        "<hr/>"
      ]
    },
    {
      "cell_type": "markdown",
      "id": "5edacbd1-2ef6-4719-acc7-2d8f630d4195",
      "metadata": {
        "id": "5edacbd1-2ef6-4719-acc7-2d8f630d4195"
      },
      "source": [
        "### 3.3 Further Inspect the Common Names Dataset\n",
        "Now repeat the above for the common names dataset.\n",
        "\n",
        "#### 3.3.a (Names) Counts of Values for String Type Columns\n",
        "For each string column in the common names dataset show the counts of the unique values.\n",
        "\n",
        "<div style=\"background-color:lemonchiffon; border:1px solid; padding:5px; margin:5px; font-weight:bold\"><font color=\"crimson\">\n",
        "<font color=\"crimson\">TODO: Enter your code below.  Use one code cell per column and then add a markdown cell after each one to classify the column.  Add as many cells as you need.</font>\n",
        "    </font></div>\n"
      ]
    },
    {
      "cell_type": "code",
      "execution_count": 106,
      "id": "0c83c5e3-e84a-4e29-a05c-2c10b7d5dfb0",
      "metadata": {
        "id": "0c83c5e3-e84a-4e29-a05c-2c10b7d5dfb0",
        "colab": {
          "base_uri": "https://localhost:8080/"
        },
        "outputId": "dcf71c99-73fe-4b66-be24-683d442619cb"
      },
      "outputs": [
        {
          "output_type": "stream",
          "name": "stdout",
          "text": [
            "Value counts for column 'Scientific Name':\n",
            "Cupressocyparis leylandii                             2\n",
            "Larix decidua                                         2\n",
            "Salix fragilis                                        2\n",
            "Alnus cordata                                         2\n",
            "Populus nigra                                         2\n",
            "                                                     ..\n",
            "Pyrus salicifolia 'Pendula'                           1\n",
            "Chamaecyparis lawsoniana 'unid                        1\n",
            "Platanus x hispanica Tremonia                         1\n",
            "Vacant Tree Pit (planned: Gymnocladus dioicus)        1\n",
            "Vacant Tree Pit (planned: Liquidambar styraciflua)    1\n",
            "Name: Scientific Name, Length: 560, dtype: int64\n",
            "\n",
            "Value counts for column 'Common Name':\n",
            "Cherry                         12\n",
            "Rowan                          10\n",
            "Magnolia                       10\n",
            "Vacant Tree Pit (planned: )    10\n",
            "Apple - Crab                    9\n",
            "                               ..\n",
            "Pittosporum                     1\n",
            "Birch - Purple                  1\n",
            "Maple - Column Norway           1\n",
            "Maple - Crimson King Norway     1\n",
            "Castlewellan gold               1\n",
            "Name: Common Name, Length: 431, dtype: int64\n",
            "\n"
          ]
        }
      ],
      "source": [
        "string_columns = names.select_dtypes(include=['object']).columns\n",
        "\n",
        "# Iterate over each string column\n",
        "for col in string_columns:\n",
        "    print(f\"Value counts for column '{col}':\")\n",
        "    print(names[col].value_counts())\n",
        "    print()"
      ]
    },
    {
      "cell_type": "markdown",
      "id": "2778e230-5042-42eb-b51a-022a1c9710cc",
      "metadata": {
        "id": "2778e230-5042-42eb-b51a-022a1c9710cc"
      },
      "source": [
        "<hr/>\n"
      ]
    },
    {
      "cell_type": "markdown",
      "id": "8b9a614c-0c3f-41f1-9b30-7259bcb3a2d3",
      "metadata": {
        "id": "8b9a614c-0c3f-41f1-9b30-7259bcb3a2d3"
      },
      "source": [
        "#### 3.3.b (Names) Descriptive Stats for Numeric Type Columns\n",
        "There are no numeric columns."
      ]
    },
    {
      "cell_type": "markdown",
      "id": "8641574f-7ee8-4cac-98d9-4c33a54891af",
      "metadata": {
        "tags": [],
        "id": "8641574f-7ee8-4cac-98d9-4c33a54891af"
      },
      "source": [
        "## Task 4: Identify Missing Values\n",
        "Find the number of missing values in each column.  Missing values can indicate data quality issues.  Missing are nulls in our data.  But sometimes zero values indicate missing values.  For example, a zero value for a tree height is clearly not a valid valid, so should be considered missing.\n",
        "\n",
        "Use these functions to find rows that have missing and zero values:\n",
        "\n",
        "- [pandas.DataFrame.isnull](https://pandas.pydata.org/docs/reference/api/pandas.DataFrame.isnull.html)\n",
        "- [pandas.DataFrame.isin](https://pandas.pydata.org/docs/reference/api/pandas.DataFrame.isin.html)\n",
        "- [pandas.DataFrame.mean](https://pandas.pydata.org/pandas-docs/stable/reference/api/pandas.DataFrame.mean.html)\n",
        "- [pandas.DataFrame.sum](https://pandas.pydata.org/docs/reference/api/pandas.DataFrame.sum.html)\n",
        "\n",
        "As you go through this task, think about the possible impact of the missing values on the ability of the data to deliver on the council's initiatives.  There is no absolute answer to \"how many missing values is too many\".  It depends on the context of what you intend to do with the data.  Try to make an interpretation based on your understanding of the requirements."
      ]
    },
    {
      "cell_type": "markdown",
      "id": "5ee7f2e0-20bf-4249-9f5d-57ab6cc0fa30",
      "metadata": {
        "id": "5ee7f2e0-20bf-4249-9f5d-57ab6cc0fa30"
      },
      "source": [
        "### 4.1 Missing Values for the Trees Dataset\n",
        "I've shown you how to do this for the trees dataset."
      ]
    },
    {
      "cell_type": "code",
      "execution_count": 54,
      "id": "0bd1e712-9211-44f8-a22c-fb1df46c1961",
      "metadata": {
        "colab": {
          "base_uri": "https://localhost:8080/"
        },
        "id": "0bd1e712-9211-44f8-a22c-fb1df46c1961",
        "outputId": "7da813b1-d977-454b-813a-dd84ef1304ed"
      },
      "outputs": [
        {
          "output_type": "execute_result",
          "data": {
            "text/plain": [
              "Identifier                                  0.000000\n",
              "Number Of Trees                             0.093841\n",
              "Site Name                                   0.000000\n",
              "Contract Area                               0.000000\n",
              "Scientific Name                             0.000000\n",
              "Inspection Date                             1.710459\n",
              "Inspection Due Date                         1.710459\n",
              "Height In Metres                            1.868282\n",
              "Spread In Metres                            1.868282\n",
              "Diameter In Centimetres At Breast Height    1.872547\n",
              "Ward Code                                   0.963999\n",
              "Ward Name                                   0.963999\n",
              "Easting                                     0.000000\n",
              "Northing                                    0.000000\n",
              "Longitude                                   0.238867\n",
              "Latitude                                    0.238867\n",
              "Location                                    0.238867\n",
              "dtype: float64"
            ]
          },
          "metadata": {},
          "execution_count": 54
        }
      ],
      "source": [
        "# Percentage of null values\n",
        "trees.isnull().mean()*100"
      ]
    },
    {
      "cell_type": "code",
      "execution_count": 55,
      "id": "afbf5093-5716-440a-8f89-eeb6a5d66662",
      "metadata": {
        "colab": {
          "base_uri": "https://localhost:8080/"
        },
        "id": "afbf5093-5716-440a-8f89-eeb6a5d66662",
        "outputId": "e41c80ab-3bf4-4846-e00e-6ac8167511d5"
      },
      "outputs": [
        {
          "output_type": "execute_result",
          "data": {
            "text/plain": [
              "Identifier                                    0\n",
              "Number Of Trees                              22\n",
              "Site Name                                     0\n",
              "Contract Area                                 0\n",
              "Scientific Name                               0\n",
              "Inspection Date                             401\n",
              "Inspection Due Date                         401\n",
              "Height In Metres                            438\n",
              "Spread In Metres                            438\n",
              "Diameter In Centimetres At Breast Height    439\n",
              "Ward Code                                   226\n",
              "Ward Name                                   226\n",
              "Easting                                       0\n",
              "Northing                                      0\n",
              "Longitude                                    56\n",
              "Latitude                                     56\n",
              "Location                                     56\n",
              "dtype: int64"
            ]
          },
          "metadata": {},
          "execution_count": 55
        }
      ],
      "source": [
        "# Number of null values\n",
        "trees.isnull().sum()"
      ]
    },
    {
      "cell_type": "code",
      "execution_count": 56,
      "id": "cde99d54-297d-41d8-954d-94ba2e08a2c5",
      "metadata": {
        "colab": {
          "base_uri": "https://localhost:8080/"
        },
        "id": "cde99d54-297d-41d8-954d-94ba2e08a2c5",
        "outputId": "e6ba8f55-7245-4d26-daea-8ae2654f3c92"
      },
      "outputs": [
        {
          "output_type": "execute_result",
          "data": {
            "text/plain": [
              "Identifier                                  0.000000\n",
              "Number Of Trees                             0.396690\n",
              "Site Name                                   0.000000\n",
              "Contract Area                               0.000000\n",
              "Scientific Name                             0.000000\n",
              "Inspection Date                             0.000000\n",
              "Inspection Due Date                         0.000000\n",
              "Height In Metres                            0.733663\n",
              "Spread In Metres                            1.181539\n",
              "Diameter In Centimetres At Breast Height    1.164477\n",
              "Ward Code                                   0.000000\n",
              "Ward Name                                   0.000000\n",
              "Easting                                     0.238867\n",
              "Northing                                    0.238867\n",
              "Longitude                                   0.000000\n",
              "Latitude                                    0.000000\n",
              "Location                                    0.000000\n",
              "dtype: float64"
            ]
          },
          "metadata": {},
          "execution_count": 56
        }
      ],
      "source": [
        "# Percentage of zero values\n",
        "trees.isin([0]).mean()*100"
      ]
    },
    {
      "cell_type": "code",
      "execution_count": 57,
      "id": "d0947b5d-8978-46d8-8d57-252d29c25ca8",
      "metadata": {
        "colab": {
          "base_uri": "https://localhost:8080/"
        },
        "id": "d0947b5d-8978-46d8-8d57-252d29c25ca8",
        "outputId": "7ad1e9bd-49dc-4dad-f9de-fed33ebadc99"
      },
      "outputs": [
        {
          "output_type": "execute_result",
          "data": {
            "text/plain": [
              "Identifier                                    0\n",
              "Number Of Trees                              93\n",
              "Site Name                                     0\n",
              "Contract Area                                 0\n",
              "Scientific Name                               0\n",
              "Inspection Date                               0\n",
              "Inspection Due Date                           0\n",
              "Height In Metres                            172\n",
              "Spread In Metres                            277\n",
              "Diameter In Centimetres At Breast Height    273\n",
              "Ward Code                                     0\n",
              "Ward Name                                     0\n",
              "Easting                                      56\n",
              "Northing                                     56\n",
              "Longitude                                     0\n",
              "Latitude                                      0\n",
              "Location                                      0\n",
              "dtype: int64"
            ]
          },
          "metadata": {},
          "execution_count": 57
        }
      ],
      "source": [
        "# Number of zero values\n",
        "trees.isin([0]).sum()"
      ]
    },
    {
      "cell_type": "code",
      "execution_count": 58,
      "id": "de03ea2b-8ea2-48ff-b620-d9fd16290c7b",
      "metadata": {
        "colab": {
          "base_uri": "https://localhost:8080/"
        },
        "id": "de03ea2b-8ea2-48ff-b620-d9fd16290c7b",
        "outputId": "e502fe7d-9a4e-4cb0-e016-8ff1fe326cb8"
      },
      "outputs": [
        {
          "output_type": "execute_result",
          "data": {
            "text/plain": [
              "Identifier                                  0.000000\n",
              "Number Of Trees                             0.004905\n",
              "Site Name                                   0.000000\n",
              "Contract Area                               0.000000\n",
              "Scientific Name                             0.000000\n",
              "Inspection Date                             0.017105\n",
              "Inspection Due Date                         0.017105\n",
              "Height In Metres                            0.026019\n",
              "Spread In Metres                            0.030498\n",
              "Diameter In Centimetres At Breast Height    0.030370\n",
              "Ward Code                                   0.009640\n",
              "Ward Name                                   0.009640\n",
              "Easting                                     0.002389\n",
              "Northing                                    0.002389\n",
              "Longitude                                   0.002389\n",
              "Latitude                                    0.002389\n",
              "Location                                    0.002389\n",
              "dtype: float64"
            ]
          },
          "metadata": {},
          "execution_count": 58
        }
      ],
      "source": [
        "# Percentage of null and zero values\n",
        "(trees.isnull().sum() + trees.isin([0]).sum())/trees.shape[0]"
      ]
    },
    {
      "cell_type": "code",
      "execution_count": 59,
      "id": "f43e38e0-00c6-4ebd-9899-8f91557becb7",
      "metadata": {
        "colab": {
          "base_uri": "https://localhost:8080/"
        },
        "id": "f43e38e0-00c6-4ebd-9899-8f91557becb7",
        "outputId": "918e919e-4db9-4f56-c033-59500d2276d2"
      },
      "outputs": [
        {
          "output_type": "execute_result",
          "data": {
            "text/plain": [
              "Identifier                                    0\n",
              "Number Of Trees                             115\n",
              "Site Name                                     0\n",
              "Contract Area                                 0\n",
              "Scientific Name                               0\n",
              "Inspection Date                             401\n",
              "Inspection Due Date                         401\n",
              "Height In Metres                            610\n",
              "Spread In Metres                            715\n",
              "Diameter In Centimetres At Breast Height    712\n",
              "Ward Code                                   226\n",
              "Ward Name                                   226\n",
              "Easting                                      56\n",
              "Northing                                     56\n",
              "Longitude                                    56\n",
              "Latitude                                     56\n",
              "Location                                     56\n",
              "dtype: int64"
            ]
          },
          "metadata": {},
          "execution_count": 59
        }
      ],
      "source": [
        "# Number of null and zero values\n",
        "(trees.isnull().sum() + trees.isin([0]).sum())"
      ]
    },
    {
      "cell_type": "markdown",
      "id": "a7416001-4d63-4bd5-9bea-2412d322ed88",
      "metadata": {
        "id": "a7416001-4d63-4bd5-9bea-2412d322ed88"
      },
      "source": [
        "### 4.2 Missing Values for the Environmental Dataset\n",
        "Now repeat the missing values check for the environmental dataset.\n",
        "\n",
        "<div style=\"background-color:lemonchiffon; border:1px solid; padding:5px; margin:5px; font-weight:bold\"><font color=\"crimson\">\n",
        "TODO: Complete the following code cells\n",
        "    </font></div>"
      ]
    },
    {
      "cell_type": "code",
      "execution_count": 60,
      "id": "45971fda-0b80-4652-bc63-ed8baeaad087",
      "metadata": {
        "colab": {
          "base_uri": "https://localhost:8080/"
        },
        "id": "45971fda-0b80-4652-bc63-ed8baeaad087",
        "outputId": "790a2985-ecb3-42fe-9b18-f5ef03ba8360"
      },
      "outputs": [
        {
          "output_type": "execute_result",
          "data": {
            "text/plain": [
              "Identifier                                           0.000000\n",
              "Maturity                                             1.746744\n",
              "Physiological Condition                              2.015802\n",
              "Tree Set To Be Removed                               0.000000\n",
              "Removal Reason                                      99.641256\n",
              "Capital Asset Value For Amenity Trees                1.849242\n",
              "Carbon Storage In Kilograms                         12.214392\n",
              "Gross Carbon Sequestration Per Year In Kilograms    12.214392\n",
              "Pollution Removal Per Year In Grams                 12.214392\n",
              "dtype: float64"
            ]
          },
          "metadata": {},
          "execution_count": 60
        }
      ],
      "source": [
        "# Percentage of null values\n",
        "environmental.isnull().mean()*100"
      ]
    },
    {
      "cell_type": "code",
      "execution_count": 61,
      "id": "35471141-aca6-453d-afc8-babde8975f14",
      "metadata": {
        "colab": {
          "base_uri": "https://localhost:8080/"
        },
        "id": "35471141-aca6-453d-afc8-babde8975f14",
        "outputId": "87867b0b-02aa-4b60-978b-4162f59144ba"
      },
      "outputs": [
        {
          "output_type": "execute_result",
          "data": {
            "text/plain": [
              "Identifier                                              0\n",
              "Maturity                                              409\n",
              "Physiological Condition                               472\n",
              "Tree Set To Be Removed                                  0\n",
              "Removal Reason                                      23331\n",
              "Capital Asset Value For Amenity Trees                 433\n",
              "Carbon Storage In Kilograms                          2860\n",
              "Gross Carbon Sequestration Per Year In Kilograms     2860\n",
              "Pollution Removal Per Year In Grams                  2860\n",
              "dtype: int64"
            ]
          },
          "metadata": {},
          "execution_count": 61
        }
      ],
      "source": [
        "# Number of null values\n",
        "environmental.isnull().sum()"
      ]
    },
    {
      "cell_type": "code",
      "execution_count": 62,
      "id": "333f86d0-8443-48b5-ba17-6bb91cfd1190",
      "metadata": {
        "colab": {
          "base_uri": "https://localhost:8080/"
        },
        "id": "333f86d0-8443-48b5-ba17-6bb91cfd1190",
        "outputId": "c797f67e-2365-4412-a418-a6d45667f815"
      },
      "outputs": [
        {
          "output_type": "execute_result",
          "data": {
            "text/plain": [
              "Identifier                                          0.000000\n",
              "Maturity                                            0.000000\n",
              "Physiological Condition                             0.000000\n",
              "Tree Set To Be Removed                              0.000000\n",
              "Removal Reason                                      0.000000\n",
              "Capital Asset Value For Amenity Trees               1.183002\n",
              "Carbon Storage In Kilograms                         0.000000\n",
              "Gross Carbon Sequestration Per Year In Kilograms    0.025625\n",
              "Pollution Removal Per Year In Grams                 0.000000\n",
              "dtype: float64"
            ]
          },
          "metadata": {},
          "execution_count": 62
        }
      ],
      "source": [
        "# Percentage of zero values\n",
        "environmental.isin([0]).mean()*100"
      ]
    },
    {
      "cell_type": "code",
      "execution_count": 63,
      "id": "809d3c20-113f-4665-b18d-cbdaa07b613c",
      "metadata": {
        "colab": {
          "base_uri": "https://localhost:8080/"
        },
        "id": "809d3c20-113f-4665-b18d-cbdaa07b613c",
        "outputId": "9878fdd9-4ba7-48aa-cf77-5af1c6498cf5"
      },
      "outputs": [
        {
          "output_type": "execute_result",
          "data": {
            "text/plain": [
              "Identifier                                            0\n",
              "Maturity                                              0\n",
              "Physiological Condition                               0\n",
              "Tree Set To Be Removed                                0\n",
              "Removal Reason                                        0\n",
              "Capital Asset Value For Amenity Trees               277\n",
              "Carbon Storage In Kilograms                           0\n",
              "Gross Carbon Sequestration Per Year In Kilograms      6\n",
              "Pollution Removal Per Year In Grams                   0\n",
              "dtype: int64"
            ]
          },
          "metadata": {},
          "execution_count": 63
        }
      ],
      "source": [
        "# Number of zero values\n",
        "environmental.isin([0]).sum()"
      ]
    },
    {
      "cell_type": "code",
      "execution_count": 64,
      "id": "bbada47a-e7aa-43be-bfca-624feda60cb7",
      "metadata": {
        "colab": {
          "base_uri": "https://localhost:8080/"
        },
        "id": "bbada47a-e7aa-43be-bfca-624feda60cb7",
        "outputId": "3fc5cbde-869c-47a7-8cf5-a0af13525053"
      },
      "outputs": [
        {
          "output_type": "execute_result",
          "data": {
            "text/plain": [
              "Capital Asset Value For Amenity Trees               NaN\n",
              "Carbon Storage In Kilograms                         NaN\n",
              "Contract Area                                       NaN\n",
              "Diameter In Centimetres At Breast Height            NaN\n",
              "Easting                                             NaN\n",
              "Gross Carbon Sequestration Per Year In Kilograms    NaN\n",
              "Height In Metres                                    NaN\n",
              "Identifier                                          0.0\n",
              "Inspection Date                                     NaN\n",
              "Inspection Due Date                                 NaN\n",
              "Latitude                                            NaN\n",
              "Location                                            NaN\n",
              "Longitude                                           NaN\n",
              "Maturity                                            NaN\n",
              "Northing                                            NaN\n",
              "Number Of Trees                                     NaN\n",
              "Physiological Condition                             NaN\n",
              "Pollution Removal Per Year In Grams                 NaN\n",
              "Removal Reason                                      NaN\n",
              "Scientific Name                                     NaN\n",
              "Site Name                                           NaN\n",
              "Spread In Metres                                    NaN\n",
              "Tree Set To Be Removed                              NaN\n",
              "Ward Code                                           NaN\n",
              "Ward Name                                           NaN\n",
              "dtype: float64"
            ]
          },
          "metadata": {},
          "execution_count": 64
        }
      ],
      "source": [
        "# Percentage of null and zero values\n",
        "(environmental.isnull().sum() + trees.isin([0]).sum())/trees.shape[0]"
      ]
    },
    {
      "cell_type": "code",
      "execution_count": 65,
      "id": "27dcd851-d4a3-4014-9167-9330c033738d",
      "metadata": {
        "colab": {
          "base_uri": "https://localhost:8080/"
        },
        "id": "27dcd851-d4a3-4014-9167-9330c033738d",
        "outputId": "e14881de-ec8a-41b0-c50e-8695c2786479"
      },
      "outputs": [
        {
          "output_type": "execute_result",
          "data": {
            "text/plain": [
              "Identifier                                    0\n",
              "Number Of Trees                             115\n",
              "Site Name                                     0\n",
              "Contract Area                                 0\n",
              "Scientific Name                               0\n",
              "Inspection Date                             401\n",
              "Inspection Due Date                         401\n",
              "Height In Metres                            610\n",
              "Spread In Metres                            715\n",
              "Diameter In Centimetres At Breast Height    712\n",
              "Ward Code                                   226\n",
              "Ward Name                                   226\n",
              "Easting                                      56\n",
              "Northing                                     56\n",
              "Longitude                                    56\n",
              "Latitude                                     56\n",
              "Location                                     56\n",
              "dtype: int64"
            ]
          },
          "metadata": {},
          "execution_count": 65
        }
      ],
      "source": [
        "# Number of null and zero values\n",
        "(trees.isnull().sum() + trees.isin([0]).sum())"
      ]
    },
    {
      "cell_type": "markdown",
      "id": "cc5e09d4-fc27-454c-8462-f918e46a241e",
      "metadata": {
        "id": "cc5e09d4-fc27-454c-8462-f918e46a241e"
      },
      "source": [
        "<hr/>"
      ]
    },
    {
      "cell_type": "markdown",
      "id": "86bc5c0f-498e-47f1-b993-5ae66b325fc1",
      "metadata": {
        "id": "86bc5c0f-498e-47f1-b993-5ae66b325fc1"
      },
      "source": [
        "### 4.3 Missing Values for the Common Names Dataset\n",
        "Now repeat the missing values check for the common names dataset.\n",
        "\n",
        "<div style=\"background-color:lemonchiffon; border:1px solid; padding:5px; margin:5px; font-weight:bold\"><font color=\"crimson\">\n",
        "TODO: Enter your code below.  Add as many cells as you need.\n",
        "    </font></div>"
      ]
    },
    {
      "cell_type": "code",
      "execution_count": 66,
      "id": "84581b31-98a4-4b20-a7b3-af1685cf0131",
      "metadata": {
        "colab": {
          "base_uri": "https://localhost:8080/"
        },
        "id": "84581b31-98a4-4b20-a7b3-af1685cf0131",
        "outputId": "bed3809a-7191-40cd-eeb5-08ce92227912"
      },
      "outputs": [
        {
          "output_type": "execute_result",
          "data": {
            "text/plain": [
              "Scientific Name    0.000000\n",
              "Common Name        4.074703\n",
              "dtype: float64"
            ]
          },
          "metadata": {},
          "execution_count": 66
        }
      ],
      "source": [
        "# Percentage of null values\n",
        "names.isnull().mean()*100"
      ]
    },
    {
      "cell_type": "code",
      "execution_count": 67,
      "id": "b881b1d4-661d-46f6-943a-a5037f98facb",
      "metadata": {
        "colab": {
          "base_uri": "https://localhost:8080/"
        },
        "id": "b881b1d4-661d-46f6-943a-a5037f98facb",
        "outputId": "1dafc868-8e63-4328-9169-e91072590943"
      },
      "outputs": [
        {
          "output_type": "execute_result",
          "data": {
            "text/plain": [
              "Scientific Name     0\n",
              "Common Name        24\n",
              "dtype: int64"
            ]
          },
          "metadata": {},
          "execution_count": 67
        }
      ],
      "source": [
        "# Number of null values\n",
        "names.isnull().sum()"
      ]
    },
    {
      "cell_type": "code",
      "source": [
        "# Percentage of zero values\n",
        "names.isin([0]).mean()*100"
      ],
      "metadata": {
        "colab": {
          "base_uri": "https://localhost:8080/"
        },
        "id": "3JeNDZyv9aZ0",
        "outputId": "ea82cc45-53a5-4573-c8b0-f963b2825dfc"
      },
      "id": "3JeNDZyv9aZ0",
      "execution_count": 68,
      "outputs": [
        {
          "output_type": "execute_result",
          "data": {
            "text/plain": [
              "Scientific Name    0.0\n",
              "Common Name        0.0\n",
              "dtype: float64"
            ]
          },
          "metadata": {},
          "execution_count": 68
        }
      ]
    },
    {
      "cell_type": "code",
      "source": [
        "# Number of zero values\n",
        "names.isin([0]).sum()"
      ],
      "metadata": {
        "colab": {
          "base_uri": "https://localhost:8080/"
        },
        "id": "NmWvJ42W9ai3",
        "outputId": "ab25a113-ad62-442b-ac06-5f46a2ba67fd"
      },
      "id": "NmWvJ42W9ai3",
      "execution_count": 69,
      "outputs": [
        {
          "output_type": "execute_result",
          "data": {
            "text/plain": [
              "Scientific Name    0\n",
              "Common Name        0\n",
              "dtype: int64"
            ]
          },
          "metadata": {},
          "execution_count": 69
        }
      ]
    },
    {
      "cell_type": "code",
      "source": [
        "# Percentage of null and zero values\n",
        "(names.isnull().sum() + trees.isin([0]).sum())/trees.shape[0]"
      ],
      "metadata": {
        "colab": {
          "base_uri": "https://localhost:8080/"
        },
        "id": "wJq01kLl9asC",
        "outputId": "569cf340-da8c-4d7a-8b9b-83af91495d96"
      },
      "id": "wJq01kLl9asC",
      "execution_count": 70,
      "outputs": [
        {
          "output_type": "execute_result",
          "data": {
            "text/plain": [
              "Common Name                                 NaN\n",
              "Contract Area                               NaN\n",
              "Diameter In Centimetres At Breast Height    NaN\n",
              "Easting                                     NaN\n",
              "Height In Metres                            NaN\n",
              "Identifier                                  NaN\n",
              "Inspection Date                             NaN\n",
              "Inspection Due Date                         NaN\n",
              "Latitude                                    NaN\n",
              "Location                                    NaN\n",
              "Longitude                                   NaN\n",
              "Northing                                    NaN\n",
              "Number Of Trees                             NaN\n",
              "Scientific Name                             0.0\n",
              "Site Name                                   NaN\n",
              "Spread In Metres                            NaN\n",
              "Ward Code                                   NaN\n",
              "Ward Name                                   NaN\n",
              "dtype: float64"
            ]
          },
          "metadata": {},
          "execution_count": 70
        }
      ]
    },
    {
      "cell_type": "code",
      "source": [
        "# Number of null and zero values\n",
        "(names.isnull().sum() + trees.isin([0]).sum())"
      ],
      "metadata": {
        "colab": {
          "base_uri": "https://localhost:8080/"
        },
        "id": "Phz9z8_e9avc",
        "outputId": "743b87ff-aed7-4c79-e7f1-ab8e96d5059c"
      },
      "id": "Phz9z8_e9avc",
      "execution_count": 71,
      "outputs": [
        {
          "output_type": "execute_result",
          "data": {
            "text/plain": [
              "Common Name                                 NaN\n",
              "Contract Area                               NaN\n",
              "Diameter In Centimetres At Breast Height    NaN\n",
              "Easting                                     NaN\n",
              "Height In Metres                            NaN\n",
              "Identifier                                  NaN\n",
              "Inspection Date                             NaN\n",
              "Inspection Due Date                         NaN\n",
              "Latitude                                    NaN\n",
              "Location                                    NaN\n",
              "Longitude                                   NaN\n",
              "Northing                                    NaN\n",
              "Number Of Trees                             NaN\n",
              "Scientific Name                             0.0\n",
              "Site Name                                   NaN\n",
              "Spread In Metres                            NaN\n",
              "Ward Code                                   NaN\n",
              "Ward Name                                   NaN\n",
              "dtype: float64"
            ]
          },
          "metadata": {},
          "execution_count": 71
        }
      ]
    },
    {
      "cell_type": "markdown",
      "id": "fe30f689-88b0-4526-abae-1e19a320acf9",
      "metadata": {
        "id": "fe30f689-88b0-4526-abae-1e19a320acf9"
      },
      "source": [
        "<hr/>\n",
        "\n",
        "### 4.4 Observations\n",
        "\n",
        "**Trees Dataset:**\n",
        "\n",
        "0.09% to 1.87% of null values across columns.\n",
        "\n",
        "0.40% to 1.18% of zero values.\n",
        "\n",
        "Highest null values in 'Number Of Trees' (0.09%) and highest zero values in 'Spread In Metres' (1.18%).\n",
        "\n",
        "1.71% null values in 'Inspection Date' and 'Inspection Due Date'.\n",
        "\n",
        "Missing ward information (0.96%) may hinder ward-level management.\n",
        "\n",
        "\n",
        "\n",
        "**Environmental Dataset:**\n",
        "\n",
        "1.75% to 99.64% null values.\n",
        "\n",
        "0% to 1.18% zero values.\n",
        "\n",
        "'Removal Reason' has 99.64% null values.\n",
        "\n",
        "12.21% null values in carbon and pollution metrics.\n",
        "\n",
        "Null values in 'Maturity' and 'Physiological Condition' (1.75% and 2.02%).\n",
        "\n",
        "\n",
        "**Common Names Dataset:**\n",
        "\n",
        "4.07% null values in 'Common Name'.\n",
        "\n",
        "No zero values.\n",
        "\n",
        "Missing common names (4.07%) may impact public engagement.\n",
        "\n",
        "\n",
        "\n",
        "The presence of missing values, especially in vital attributes like tree dimensions and environmental impact metrics, could impede decision-making and assessment of Camden's urban forest health. Addressing these issues is crucial for effective tree management and environmental initiatives.\n"
      ]
    },
    {
      "cell_type": "markdown",
      "id": "ec7ce6ee-8fd6-446a-a63a-08babd1e0390",
      "metadata": {
        "id": "ec7ce6ee-8fd6-446a-a63a-08babd1e0390"
      },
      "source": [
        "ENTER MARKDOWN HERE"
      ]
    },
    {
      "cell_type": "markdown",
      "id": "a4094437-06e3-4376-9c94-14e30a910c36",
      "metadata": {
        "id": "a4094437-06e3-4376-9c94-14e30a910c36"
      },
      "source": [
        "\n",
        "<hr/>"
      ]
    },
    {
      "cell_type": "markdown",
      "id": "33d42c68-e660-4892-b2de-0552a062c7ff",
      "metadata": {
        "tags": [],
        "id": "33d42c68-e660-4892-b2de-0552a062c7ff"
      },
      "source": [
        "## Task 5: Identify Outliers in the Trees Dimensions\n",
        "Outliers are values that are so unusual they are possibly incorrect!  We can use a boxplot to show the spread of data and any outliers.  Read the following section if you are unfamiliar with them:\n",
        "\n",
        "- [Box plots](https://openclassrooms.com/en/courses/6037301-perform-an-initial-data-analysis/6052306-calculate-the-value-spread-in-your-data#/id/r-6133902)\n",
        "\n",
        "Any circles represent what the boxplot considers outliers, but some of these might just be correct but extreme values.  We want to only highlight really *crazy* values which are clearly incorrect.\n",
        "\n",
        "We can use this function to draw boxplots:\n",
        "\n",
        "- [pandas.DataFrame.boxplot](https://pandas.pydata.org/pandas-docs/stable/reference/api/pandas.DataFrame.plot.html)\n",
        "\n",
        "Once we have found if there are outliers, it would be nice to show the rows containing the outliers.  The technique for filtering Pandas DataFrames is described here:\n",
        "\n",
        "- [Filtering Pandas DataFrames](https://pandas.pydata.org/pandas-docs/stable/getting_started/intro_tutorials/03_subset_data.html)\n",
        "\n",
        "The filtering technique creates a mask of rows that we want to select, e.g:\n",
        "\n",
        "`mask = df['mycolumn'] > 500`\n",
        "\n",
        "and then uses the mask to select rows:\n",
        "\n",
        "`df[mask]`\n",
        "\n",
        "Note that there is no absolute definition of what \"crazy\" means here.  You will need to make some judgements based on your understanding of the world (or specifically the world of trees in Camden!)."
      ]
    },
    {
      "cell_type": "markdown",
      "id": "52de8466-d0ed-4c29-af9a-bf7c79b80c09",
      "metadata": {
        "id": "52de8466-d0ed-4c29-af9a-bf7c79b80c09"
      },
      "source": [
        "### 5.1 Outliers for Height\n",
        "Find the outliers in the tree height column.\n",
        "<div style=\"background-color:lemonchiffon; border:1px solid; padding:5px; margin:5px; font-weight:bold\"><font color=\"crimson\">\n",
        "TODO: Complete the following code cells\n",
        "    </font></div>"
      ]
    },
    {
      "cell_type": "code",
      "execution_count": 72,
      "id": "ecaa87b9-9558-4fd6-8383-3a8046d26a5c",
      "metadata": {
        "colab": {
          "base_uri": "https://localhost:8080/",
          "height": 452
        },
        "id": "ecaa87b9-9558-4fd6-8383-3a8046d26a5c",
        "outputId": "e33afbd6-9186-4b63-850b-bdce78addb02"
      },
      "outputs": [
        {
          "output_type": "display_data",
          "data": {
            "text/plain": [
              "<Figure size 640x480 with 1 Axes>"
            ],
            "image/png": "[encoded data removed]"
          },
          "metadata": {}
        }
      ],
      "source": [
        "# Use a boxplot to find the outliers\n",
        "import matplotlib.pyplot as plt\n",
        "\n",
        "\n",
        "trees.boxplot(column='Height In Metres')\n",
        "plt.title('Boxplot of Height In Metres')\n",
        "plt.show()"
      ]
    },
    {
      "cell_type": "code",
      "source": [
        "# Function to identify outliers in a column\n",
        "def identify_outliers(column):\n",
        "    q1 = column.quantile(0.25)\n",
        "    q3 = column.quantile(0.75)\n",
        "    iqr = q3 - q1\n",
        "    lower_bound = q1 - 1.5 * iqr\n",
        "    upper_bound = q3 + 1.5 * iqr\n",
        "    outliers = column[(column < lower_bound) | (column > upper_bound)]\n",
        "    return outliers"
      ],
      "metadata": {
        "id": "Qjn4IOEOB1gC"
      },
      "id": "Qjn4IOEOB1gC",
      "execution_count": 73,
      "outputs": []
    },
    {
      "cell_type": "code",
      "execution_count": 74,
      "id": "7a614957-0a50-41f2-bebd-ca48e3660674",
      "metadata": {
        "colab": {
          "base_uri": "https://localhost:8080/"
        },
        "id": "7a614957-0a50-41f2-bebd-ca48e3660674",
        "outputId": "a8ffba3b-f6c7-40c8-c696-6e78085d5829"
      },
      "outputs": [
        {
          "output_type": "stream",
          "name": "stdout",
          "text": [
            "Outliers in 'Height In Metres' column:\n",
            "547      38.0\n",
            "830      34.0\n",
            "920      38.0\n",
            "1193     36.0\n",
            "1213     31.0\n",
            "         ... \n",
            "22686    32.0\n",
            "22701    33.0\n",
            "22901    33.0\n",
            "23007    35.0\n",
            "23147    31.0\n",
            "Name: Height In Metres, Length: 91, dtype: float64\n"
          ]
        }
      ],
      "source": [
        "# Select the crazy outlier rows\n",
        "height_outliers = identify_outliers(trees['Height In Metres'])\n",
        "print(\"Outliers in 'Height In Metres' column:\")\n",
        "print(height_outliers)"
      ]
    },
    {
      "cell_type": "markdown",
      "id": "c3e7ff2b-b69c-4095-a20d-bd6d2df1e68a",
      "metadata": {
        "id": "c3e7ff2b-b69c-4095-a20d-bd6d2df1e68a"
      },
      "source": [
        "<hr/>"
      ]
    },
    {
      "cell_type": "markdown",
      "id": "f4d3025c-4a29-42e3-8821-8df2d8daa5e0",
      "metadata": {
        "id": "f4d3025c-4a29-42e3-8821-8df2d8daa5e0"
      },
      "source": [
        "### 5.2 Outliers for Spread\n",
        "Now repeat the analysis for spread.\n",
        "<div style=\"background-color:lemonchiffon; border:1px solid; padding:5px; margin:5px; font-weight:bold\"><font color=\"crimson\">\n",
        "TODO: Complete the following code cells\n",
        "    </font></div>"
      ]
    },
    {
      "cell_type": "code",
      "execution_count": 75,
      "id": "ce6760cf-78d0-465d-b4a3-f199596983fa",
      "metadata": {
        "colab": {
          "base_uri": "https://localhost:8080/",
          "height": 452
        },
        "id": "ce6760cf-78d0-465d-b4a3-f199596983fa",
        "outputId": "f981ba75-cb25-41c9-e98c-8d59a4786ee6"
      },
      "outputs": [
        {
          "output_type": "display_data",
          "data": {
            "text/plain": [
              "<Figure size 640x480 with 1 Axes>"
            ],
            "image/png": "[encoded data removed]"
          },
          "metadata": {}
        }
      ],
      "source": [
        "# Use a boxplot to find the outliers\n",
        "trees.boxplot(column='Spread In Metres')\n",
        "plt.title('Boxplot of Spread In Metres')\n",
        "plt.show()"
      ]
    },
    {
      "cell_type": "code",
      "execution_count": 76,
      "id": "6ab3697f-02f9-4e35-acd7-520ac7a1aa83",
      "metadata": {
        "colab": {
          "base_uri": "https://localhost:8080/"
        },
        "id": "6ab3697f-02f9-4e35-acd7-520ac7a1aa83",
        "outputId": "7557c8fc-e909-4b8f-f272-17d3fe66b59d"
      },
      "outputs": [
        {
          "output_type": "stream",
          "name": "stdout",
          "text": [
            "Outliers in 'Spread In Metres' column:\n",
            "109      17.0\n",
            "227      20.0\n",
            "233      18.0\n",
            "239      16.0\n",
            "245      22.0\n",
            "         ... \n",
            "23235    18.0\n",
            "23271    16.0\n",
            "23279    18.0\n",
            "23373    18.0\n",
            "23383    16.0\n",
            "Name: Spread In Metres, Length: 722, dtype: float64\n"
          ]
        }
      ],
      "source": [
        "# Select the crazy outlier rows (if any)\n",
        "spread_outliers = identify_outliers(trees['Spread In Metres'])\n",
        "print(\"Outliers in 'Spread In Metres' column:\")\n",
        "print(spread_outliers)\n"
      ]
    },
    {
      "cell_type": "markdown",
      "id": "70810045-0b5e-4dfe-bba1-fe6b0c2ea8d0",
      "metadata": {
        "id": "70810045-0b5e-4dfe-bba1-fe6b0c2ea8d0"
      },
      "source": [
        "<hr/>"
      ]
    },
    {
      "cell_type": "markdown",
      "id": "cc0982a2-f528-49ee-ae07-6d611cb4c564",
      "metadata": {
        "id": "cc0982a2-f528-49ee-ae07-6d611cb4c564"
      },
      "source": [
        "### 5.3 Outliers for Diameter\n",
        "Now repeat the analysis for diameter.\n",
        "<div style=\"background-color:lemonchiffon; border:1px solid; padding:5px; margin:5px; font-weight:bold\"><font color=\"crimson\">\n",
        "TODO: Complete the following code cells\n",
        "    </font></div>"
      ]
    },
    {
      "cell_type": "code",
      "execution_count": 77,
      "id": "f09b82f0-44c7-4b2c-b7d6-7b1059f8e424",
      "metadata": {
        "colab": {
          "base_uri": "https://localhost:8080/",
          "height": 452
        },
        "id": "f09b82f0-44c7-4b2c-b7d6-7b1059f8e424",
        "outputId": "2364b747-7b27-4bc8-b23b-eeeebbaec819"
      },
      "outputs": [
        {
          "output_type": "display_data",
          "data": {
            "text/plain": [
              "<Figure size 640x480 with 1 Axes>"
            ],
            "image/png": "[encoded data removed]"
          },
          "metadata": {}
        }
      ],
      "source": [
        "# Use a boxplot to find the outliers\n",
        "trees.boxplot(column='Diameter In Centimetres At Breast Height')\n",
        "plt.title('Boxplot of Diameter In Centimetres At Breast Height')\n",
        "plt.show()"
      ]
    },
    {
      "cell_type": "code",
      "execution_count": 78,
      "id": "6299642f-bf98-43da-a7bc-2880c88c002e",
      "metadata": {
        "colab": {
          "base_uri": "https://localhost:8080/"
        },
        "id": "6299642f-bf98-43da-a7bc-2880c88c002e",
        "outputId": "810c3ba8-9186-40a7-9bb9-5ccc3f634294"
      },
      "outputs": [
        {
          "output_type": "stream",
          "name": "stdout",
          "text": [
            "Outliers in 'Diameter In Centimetres At Breast Height' column:\n",
            "74       119.0\n",
            "155      109.0\n",
            "169      106.0\n",
            "227      117.0\n",
            "245      114.0\n",
            "         ...  \n",
            "23130    101.0\n",
            "23147    170.0\n",
            "23183    110.0\n",
            "23373     99.0\n",
            "23383     99.0\n",
            "Name: Diameter In Centimetres At Breast Height, Length: 572, dtype: float64\n"
          ]
        }
      ],
      "source": [
        "# Select the outlier rows (if any)\n",
        "diameter_outliers = identify_outliers(trees['Diameter In Centimetres At Breast Height'])\n",
        "print(\"Outliers in 'Diameter In Centimetres At Breast Height' column:\")\n",
        "print(diameter_outliers)"
      ]
    },
    {
      "cell_type": "markdown",
      "id": "19fb2357-f25f-4840-b4a7-5a016256ff28",
      "metadata": {
        "id": "19fb2357-f25f-4840-b4a7-5a016256ff28"
      },
      "source": [
        "<hr/>\n",
        "\n",
        "### 5.4 Observations\n",
        "\n",
        "**Outliers for Height**:\n",
        "\n",
        "Outliers were identified with heights ranging from 30 to 38 meters.\n",
        "Assumption: Heights exceeding 30 meters are uncommon in urban tree populations, suggesting potential data anomalies or exceptional tree specimens.\n",
        "\n",
        "**Outliers for Spread:**\n",
        "\n",
        "Outliers ranged from 16 to 22 meters in spread.\n",
        "Assumption: Tree spreads surpassing 16 meters are atypical in urban settings, indicating possible data inaccuracies or unique tree species.\n",
        "\n",
        "**Outliers for Diameter:**\n",
        "\n",
        "Detected outliers spanned from 98 to 170 centimeters in diameter.\n",
        "Assumption: Breast-height diameters exceeding 98 centimeters are unusual for urban trees, implying potential errors in data recording or presence of extraordinary tree specimens.\n",
        "\n",
        "\n",
        "These assumptions are based on general observations of tree dimensions in urban environments and may vary depending on specific tree species and environmental conditions.\n"
      ]
    },
    {
      "cell_type": "markdown",
      "id": "12f67262-3fe4-4238-8e6f-e04382b8594d",
      "metadata": {
        "id": "12f67262-3fe4-4238-8e6f-e04382b8594d"
      },
      "source": [
        "ENTER MARKDOWN HERE"
      ]
    },
    {
      "cell_type": "markdown",
      "id": "bd36393a-8904-4be8-affe-1a99e5d4e69f",
      "metadata": {
        "id": "bd36393a-8904-4be8-affe-1a99e5d4e69f"
      },
      "source": [
        "<hr/>"
      ]
    },
    {
      "cell_type": "markdown",
      "id": "a433b035-abc4-4ce2-b86e-484e698bd941",
      "metadata": {
        "id": "a433b035-abc4-4ce2-b86e-484e698bd941"
      },
      "source": [
        "## Task 6: Identify Duplicates in the Trees Dataset\n",
        "Sometimes data has duplicate entries.  This is another sign of data quality issues!\n",
        "\n",
        "### 6.1 Find Duplicate Rows\n",
        "\n",
        "In our dataset the `Identifier` column should be unique.  Find out if it is!  We've already used a function that can count how many times each value in a column exists.  Use is to see if we have duplicates in the trees Dataframe.\n",
        "\n",
        "<div style=\"background-color:lemonchiffon; border:1px solid; padding:5px; margin:5px; font-weight:bold\"><font color=\"crimson\">\n",
        "TODO: Complete the following code cells\n",
        "    </font></div>"
      ]
    },
    {
      "cell_type": "code",
      "source": [
        "# Check if there are any duplicates\n",
        "duplicate_mask = trees.duplicated(subset=['Identifier'], keep=False)\n",
        "duplicate_rows = trees[duplicate_mask]\n",
        "\n",
        "# Check if there are any duplicates\n",
        "if not duplicate_rows.empty:\n",
        "    print(\"Duplicates found.\")\n",
        "else:\n",
        "    print(\"No duplicates found.\")"
      ],
      "metadata": {
        "colab": {
          "base_uri": "https://localhost:8080/"
        },
        "id": "mA9a9HxiChOH",
        "outputId": "c7bcc783-dc7d-4f0f-ef24-54e42eae967e"
      },
      "id": "mA9a9HxiChOH",
      "execution_count": 79,
      "outputs": [
        {
          "output_type": "stream",
          "name": "stdout",
          "text": [
            "Duplicates found.\n"
          ]
        }
      ]
    },
    {
      "cell_type": "markdown",
      "id": "787be537-4f13-466e-9a65-108d93563fc8",
      "metadata": {
        "id": "787be537-4f13-466e-9a65-108d93563fc8"
      },
      "source": [
        "Now see if you can select the rows from trees DataFrame that are duplicates.  You will need to use the output from the cell above and use it to filter the trees dataframe."
      ]
    },
    {
      "cell_type": "code",
      "execution_count": 80,
      "id": "3d2fbdbf-c839-4e84-ad7c-add0f4fa31ef",
      "metadata": {
        "colab": {
          "base_uri": "https://localhost:8080/"
        },
        "id": "3d2fbdbf-c839-4e84-ad7c-add0f4fa31ef",
        "outputId": "2bcebf4c-c14d-4fc2-e79c-46e2254ffdfa"
      },
      "outputs": [
        {
          "output_type": "stream",
          "name": "stdout",
          "text": [
            "Rows containing duplicates:\n",
            "      Identifier  Number Of Trees         Site Name Contract Area  \\\n",
            "1219    00060088              1.0  FREDERICK STREET      Highways   \n",
            "4388    00032549              1.0    NARCISSUS ROAD      Highways   \n",
            "5491    00000999              1.0       ALMA STREET      Highways   \n",
            "6111    00032549              1.0    NARCISSUS ROAD      Highways   \n",
            "7027    00022744              1.0          YORK WAY      Highways   \n",
            "9186    00022744              1.0          YORK WAY      Highways   \n",
            "9482    00022674              1.0     WOODSOME ROAD      Highways   \n",
            "10972   00060088              1.0  FREDERICK STREET      Highways   \n",
            "13098   00000999              1.0       ALMA STREET      Highways   \n",
            "13628   00022674              1.0     WOODSOME ROAD      Highways   \n",
            "15393   00060087              1.0     ARGYLE SQUARE      Highways   \n",
            "15653   00060087              1.0     ARGYLE SQUARE      Highways   \n",
            "\n",
            "                                         Scientific Name Inspection Date  \\\n",
            "1219                   Vacant Tree Pit (planned: Access)      2019-11-09   \n",
            "4388                           Betula albosinensis Fasc.      2018-09-19   \n",
            "5491                                   Sorbus hupehensis      2017-07-25   \n",
            "6111                           Betula albosinensis Fasc.      2018-09-19   \n",
            "7027                                 Ailanthus altissima      2019-10-30   \n",
            "9186                                 Ailanthus altissima      2019-10-30   \n",
            "9482                                              Sorbus      2017-10-07   \n",
            "10972  Vacant Tree Pit (planned: Acer campestre eco s...      2019-11-09   \n",
            "13098                                  Sorbus hupehensis      2017-07-25   \n",
            "13628                                             Sorbus      2017-10-07   \n",
            "15393                  Vacant Tree Pit (planned: Access)      2019-11-09   \n",
            "15653  Vacant Tree Pit (planned: Acer campestre eco s...      2019-11-09   \n",
            "\n",
            "      Inspection Due Date  Height In Metres  Spread In Metres  \\\n",
            "1219            2022/2023               NaN               NaN   \n",
            "4388            2021/2022               9.0               6.0   \n",
            "5491            2020/2021               5.0               4.0   \n",
            "6111            2021/2022               9.0               6.0   \n",
            "7027            2022/2023               7.5               3.0   \n",
            "9186            2022/2023               7.5               3.0   \n",
            "9482            2020/2021               7.0               6.0   \n",
            "10972           2022/2023               NaN               NaN   \n",
            "13098           2020/2021               5.0               4.0   \n",
            "13628           2020/2021               7.0               6.0   \n",
            "15393           2022/2023               NaN               NaN   \n",
            "15653           2022/2023               NaN               NaN   \n",
            "\n",
            "       Diameter In Centimetres At Breast Height  Ward Code       Ward Name  \\\n",
            "1219                                        NaN  E05000141    King's Cross   \n",
            "4388                                       19.0  E05000145  West Hampstead   \n",
            "5491                                       18.0  E05000139    Kentish Town   \n",
            "6111                                       19.0  E05000145  West Hampstead   \n",
            "7027                                       18.0  E05000131      Cantelowes   \n",
            "9186                                       18.0  E05000131      Cantelowes   \n",
            "9482                                       28.0  E05000137        Highgate   \n",
            "10972                                       NaN  E05000141    King's Cross   \n",
            "13098                                      18.0  E05000139    Kentish Town   \n",
            "13628                                      28.0  E05000137        Highgate   \n",
            "15393                                       NaN  E05000141    King's Cross   \n",
            "15653                                       NaN  E05000141    King's Cross   \n",
            "\n",
            "       Easting  Northing  Longitude   Latitude                Location  \n",
            "1219    530770    182696  -0.116241  51.528046  (51.528046, -0.116241)  \n",
            "4388    525185    185127  -0.195840  51.551159   (51.551159, -0.19584)  \n",
            "5491    528834    184856  -0.143337  51.547904  (51.547904, -0.143337)  \n",
            "6111    525185    185127  -0.195840  51.551159   (51.551159, -0.19584)  \n",
            "7027    529983    184724  -0.126837  51.546447  (51.546447, -0.126837)  \n",
            "9186    529983    184724  -0.126837  51.546447  (51.546447, -0.126837)  \n",
            "9482    528515    186109  -0.147481  51.559237  (51.559237, -0.147481)  \n",
            "10972   530770    182696  -0.116241  51.528046  (51.528046, -0.116241)  \n",
            "13098   528834    184856  -0.143337  51.547904  (51.547904, -0.143337)  \n",
            "13628   528515    186109  -0.147481  51.559237  (51.559237, -0.147481)  \n",
            "15393   530342    182839  -0.122352  51.529428  (51.529428, -0.122352)  \n",
            "15653   530342    182839  -0.122352  51.529428  (51.529428, -0.122352)  \n"
          ]
        }
      ],
      "source": [
        "# Select the rows that are duplicated\n",
        "if not duplicate_rows.empty:\n",
        "    duplicate_identifiers = duplicate_rows['Identifier']\n",
        "    duplicate_entries = trees[trees['Identifier'].isin(duplicate_identifiers)]\n",
        "    print(\"Rows containing duplicates:\")\n",
        "    print(duplicate_entries)\n",
        "else:\n",
        "    print(\"No duplicates found.\")"
      ]
    },
    {
      "cell_type": "markdown",
      "id": "a74e447b-7ae5-43f3-a189-94c066fe6fc0",
      "metadata": {
        "id": "a74e447b-7ae5-43f3-a189-94c066fe6fc0"
      },
      "source": [
        "<hr/>\n",
        "\n",
        "### 6.2 Observations\n",
        "\n",
        "Observations about duplicates in the trees dataset:\n",
        "\n",
        "1. There are several rows with duplicate 'Identifier' values, indicating that there are multiple entries with the same identifier in the dataset.\n",
        "\n",
        "2. The duplicate entries have identical values across most columns, suggesting that these are true duplicates.\n",
        "\n",
        "3. Duplicate entries can lead to incorrect analysis and interpretation of the data if not handled properly.\n",
        "\n",
        "4. It's important to identify and remove duplicate entries to ensure data integrity and accuracy in analysis.\n"
      ]
    },
    {
      "cell_type": "markdown",
      "id": "d0f41ea4-112c-4ea9-96a5-ca76e4b972b3",
      "metadata": {
        "id": "d0f41ea4-112c-4ea9-96a5-ca76e4b972b3"
      },
      "source": [
        "<hr/>"
      ]
    },
    {
      "cell_type": "markdown",
      "id": "59990f3e-6f73-46ee-8644-2dc503baa93a",
      "metadata": {
        "id": "59990f3e-6f73-46ee-8644-2dc503baa93a"
      },
      "source": [
        "## Task 7: Identify Geolocation Issues\n",
        "The geographic coordinates (Easting and Northing) can be used to plot the trees on a map.  We can use this approach to see if there are any unusual tree locations!\n",
        "\n",
        "We will make a copy of the original trees dataset and remove any rows that have a missing easting or northing as these can't be plotted on the map.\n",
        "\n",
        "We can copy the DataFrame using:\n",
        "\n",
        "- [pandas.DataFrame.copy](https://pandas.pydata.org/pandas-docs/stable/reference/api/pandas.DataFrame.copy.html)\n",
        "\n",
        "We can use the DataFrame filtering technique we saw before to remove the missing values.  E.g. the following code filters out rows where the value for 'mycolumn' is 100:\n",
        "\n",
        "    mask = df['mycolumn'] != 100\n",
        "    df = df[mask]\n",
        "\n",
        "You can also create masks using a function, e.g. this creates a mask which excludes nulls:\n",
        "\n",
        "    mask = df['mycolumn'].isnull()\n",
        "\n",
        "We can use this function to plot the trees on a map. Set x to \"Easting\" and y to \"Northing\" and set a figsize parameter to (6, 6) to get a square aspect ratio:\n",
        "\n",
        "- [pandas.DataFrame.plot.scatter](https://pandas.pydata.org/pandas-docs/version/0.25.0/reference/api/pandas.DataFrame.plot.scatter.html)\n",
        "\n",
        "\n"
      ]
    },
    {
      "cell_type": "markdown",
      "id": "0bdaf281-68a3-43d4-abb6-f3c42a088f7f",
      "metadata": {
        "id": "0bdaf281-68a3-43d4-abb6-f3c42a088f7f"
      },
      "source": [
        "### 7.1 Remove Trees with Missing Geo-coordinates\n",
        "Check if there are any rows with null or 0 geo-coordinates.  If there are, remove them as we can't plot these.\n",
        "\n",
        "<div style=\"background-color:lemonchiffon; border:1px solid; padding:5px; margin:5px; font-weight:bold\"><font color=\"crimson\">\n",
        "TODO: Complete the following code cells\n",
        "    </font></div>"
      ]
    },
    {
      "cell_type": "code",
      "execution_count": 81,
      "id": "913c1d69-b105-44aa-be2f-73b537313c6e",
      "metadata": {
        "id": "913c1d69-b105-44aa-be2f-73b537313c6e"
      },
      "outputs": [],
      "source": [
        "# Make a copy of the trees\n",
        "geotrees = trees.copy()"
      ]
    },
    {
      "cell_type": "code",
      "execution_count": 82,
      "id": "3a9b5bf6-bda3-472f-9796-060023cff4e8",
      "metadata": {
        "id": "3a9b5bf6-bda3-472f-9796-060023cff4e8"
      },
      "outputs": [],
      "source": [
        "# Remove null Eastings\n",
        "geotrees = geotrees[geotrees['Easting'].notnull()]"
      ]
    },
    {
      "cell_type": "code",
      "execution_count": 83,
      "id": "7f77324a-f2e4-4d69-a0fe-1d71757c6f6e",
      "metadata": {
        "id": "7f77324a-f2e4-4d69-a0fe-1d71757c6f6e"
      },
      "outputs": [],
      "source": [
        "# Remove 0 Eastings.\n",
        "geotrees = geotrees[geotrees['Easting'] != 0]"
      ]
    },
    {
      "cell_type": "code",
      "execution_count": 84,
      "id": "40ccb789-0cab-4218-9caa-e7e08b2b71ae",
      "metadata": {
        "id": "40ccb789-0cab-4218-9caa-e7e08b2b71ae"
      },
      "outputs": [],
      "source": [
        "# Remove null Northings\n",
        "geotrees = geotrees[geotrees['Northing'].notnull()]"
      ]
    },
    {
      "cell_type": "code",
      "execution_count": 85,
      "id": "c77858c5-99e7-4f1f-affa-bd2370b9aed8",
      "metadata": {
        "id": "c77858c5-99e7-4f1f-affa-bd2370b9aed8"
      },
      "outputs": [],
      "source": [
        "# Remove 0 Northings.\n",
        "geotrees = geotrees[geotrees['Northing'] != 0]"
      ]
    },
    {
      "cell_type": "code",
      "execution_count": 86,
      "id": "616a5473-5d71-486a-9ea0-c401fc7f4428",
      "metadata": {
        "colab": {
          "base_uri": "https://localhost:8080/"
        },
        "id": "616a5473-5d71-486a-9ea0-c401fc7f4428",
        "outputId": "3d0fd8e3-e776-4fa8-9b59-d61b06afa0e6"
      },
      "outputs": [
        {
          "output_type": "stream",
          "name": "stdout",
          "text": [
            "Number of rows after removing trees with missing or zero geo-coordinates: 23388\n"
          ]
        }
      ],
      "source": [
        "# Confirm how many rows we have\n",
        "print(\"Number of rows after removing trees with missing or zero geo-coordinates:\", len(geotrees))"
      ]
    },
    {
      "cell_type": "markdown",
      "id": "a63dbcfc-e781-4812-9a10-1cf5be028dae",
      "metadata": {
        "id": "a63dbcfc-e781-4812-9a10-1cf5be028dae"
      },
      "source": [
        "<hr/>"
      ]
    },
    {
      "cell_type": "markdown",
      "id": "d1e84a3c-7eed-408a-a724-3944d89e0755",
      "metadata": {
        "id": "d1e84a3c-7eed-408a-a724-3944d89e0755"
      },
      "source": [
        "### 7.2 Plot Map of Trees\n",
        "Now make the plot.  Do a scatter plot of Northing vs Easting. You should obtain an outline of the map of Camden. Compare that outline with a real map of Camden (use good old google maps!). You’ll be able to spot the trees that should not be in that dataset from there!\n",
        "\n",
        "<div style=\"background-color:lemonchiffon; border:1px solid; padding:5px; margin:5px; font-weight:bold\"><font color=\"crimson\">\n",
        "TODO: Complete the following code cell\n",
        "    </font></div>"
      ]
    },
    {
      "cell_type": "code",
      "execution_count": 87,
      "id": "b51e227f-bd09-4064-9f60-be766962646d",
      "metadata": {
        "colab": {
          "base_uri": "https://localhost:8080/",
          "height": 872
        },
        "id": "b51e227f-bd09-4064-9f60-be766962646d",
        "outputId": "98abce82-ae7b-42a4-b525-f1b853f04d89"
      },
      "outputs": [
        {
          "output_type": "display_data",
          "data": {
            "text/plain": [
              "<Figure size 1000x1000 with 1 Axes>"
            ],
            "image/png": "[encoded data removed]"
          },
          "metadata": {}
        }
      ],
      "source": [
        "# Plot the trees on a map\n",
        "plt.figure(figsize=(10, 10))\n",
        "plt.scatter(geotrees['Easting'], geotrees['Northing'], s=5, c='green', alpha=0.5)\n",
        "plt.title('Map of Trees in Camden')\n",
        "plt.xlabel('Easting')\n",
        "plt.ylabel('Northing')\n",
        "plt.grid(True)\n",
        "plt.show()\n",
        "\n",
        "#remove outliers"
      ]
    },
    {
      "cell_type": "markdown",
      "id": "6914e59e-aaeb-4b9b-8a84-b4007e2ad747",
      "metadata": {
        "id": "6914e59e-aaeb-4b9b-8a84-b4007e2ad747"
      },
      "source": [
        "### 7.3 Find Trees Outside Camden\n",
        "From the scatter plot, you should be able to determine how to select the rows from the trees data set containing the offending trees (using the Easting and Northing values)\n",
        "\n",
        "Select the rows containing trees outside of Camden.  Use the filter technique again.\n",
        "\n",
        "<div style=\"background-color:lemonchiffon; border:1px solid; padding:5px; margin:5px; font-weight:bold\"><font color=\"crimson\">\n",
        "TODO: Complete the following code cells\n",
        "    </font></div>"
      ]
    },
    {
      "cell_type": "code",
      "execution_count": 88,
      "id": "4b992a8f-d5be-4adb-a383-4f8e5505b2ed",
      "metadata": {
        "id": "4b992a8f-d5be-4adb-a383-4f8e5505b2ed"
      },
      "outputs": [],
      "source": [
        "# Select the outlier rows\n",
        "outlier_rows = geotrees[geotrees['Northing'] > 194000]"
      ]
    },
    {
      "cell_type": "code",
      "execution_count": 89,
      "id": "0270dae9-9bcf-4b63-95cf-13b7c5184424",
      "metadata": {
        "id": "0270dae9-9bcf-4b63-95cf-13b7c5184424",
        "colab": {
          "base_uri": "https://localhost:8080/"
        },
        "outputId": "ede55f7b-5723-4ca9-f098-3e385fc2f97a"
      },
      "outputs": [
        {
          "output_type": "stream",
          "name": "stdout",
          "text": [
            "Number of rows containing trees outside of Camden: 8\n"
          ]
        }
      ],
      "source": [
        "# Confirm how many rows we have\n",
        "print(\"Number of rows containing trees outside of Camden:\", len(outlier_rows))"
      ]
    },
    {
      "cell_type": "markdown",
      "id": "ee3f0cff-17bb-4f75-a92c-876c56e230c5",
      "metadata": {
        "id": "ee3f0cff-17bb-4f75-a92c-876c56e230c5"
      },
      "source": [
        "<hr/>\n",
        "\n",
        "### 7.4 Observations\n",
        "\n",
        "1. After removing trees with missing or zero geo-coordinates, we obtained a dataset containing 23,388 rows, indicating that a significant number of trees had valid geo-coordinates.\n",
        "\n",
        "2. The scatter plot of Northing vs Easting created an outline of the map of Camden. Comparing this outline with a real map of Camden, we can observe that the majority of the trees are indeed within the boundaries of Camden, aligning well with the expected geographical distribution.\n",
        "\n",
        "3. However, we identified 8 trees that are located outside of Camden based on their geo-coordinates. These trees are outliers and might indicate data entry errors or inaccuracies in the dataset.\n",
        "\n",
        "4. Further investigation is needed to understand why these trees are located outside of Camden. It could be due to errors in geo-location data entry, mislabeling of locations, or genuine outliers.\n",
        "\n",
        "5. Identifying and addressing these outliers is important for maintaining the integrity and accuracy of the dataset, especially for tasks such as urban planning and environmental management in the Camden area."
      ]
    },
    {
      "cell_type": "markdown",
      "id": "0680cf79-2a3a-4e9c-8332-609680b69040",
      "metadata": {
        "id": "0680cf79-2a3a-4e9c-8332-609680b69040"
      },
      "source": [
        "<hr/>"
      ]
    },
    {
      "cell_type": "markdown",
      "id": "2c6f941f-e14a-4a51-aa29-66010910009a",
      "metadata": {
        "tags": [],
        "id": "2c6f941f-e14a-4a51-aa29-66010910009a"
      },
      "source": [
        "## Task 8: Identify Unmatched Data\n",
        "We have multiple datasets that will need to be joined together to produce the analyses required by the Camden Parks and Open Spaces team.  The data will need to be joined in the following way:\n",
        "\n",
        "- Use the `Identifier` column in the trees dataset to match to the `Identifier` column in the environmental data set (so we can bring in the environmental data for each tree)\n",
        "- Use the `Scientific Name` column in the trees dataset to match to the `Scientific Name` column in the common names data set (so we can look up the `Common Name`)\n",
        "\n",
        "There may be mismatches in the data.  Of particular concern we want to check\n",
        "\n",
        "- That every tree in the trees dataset has matching environmental data in the environmental data set\n",
        "- That every environmental row in the environmental dataset has matching tree data in the tree data set\n",
        "- That every scientific name in the trees dataset has a matching common name in the common names data set\n",
        "\n",
        "We aren't too concerned about the reverse of the last scenario (if we have extra names in the common names dataset that aren't in the trees data set).  We don't expect Camden to have a specimen of every tree that exists!  \n",
        "\n",
        "There are a few ways this can be done, but one technique is to use the `isin` function to check if some column in one dataframe contains values that are in another column in another dataframe.  This creates a mask containing rows that match between the two dataframes:\n",
        "\n",
        "    mask = df1['column_name1'].isin(df2['column_name2'])\n",
        "    \n",
        "To select the non-matching rows, we can use Python's bitwise not operator ~:\n",
        "\n",
        "    mask = ~df1['column_name1'].isin(df2['column_name2'])\n",
        "    \n",
        "As we have seen before, the mask can be used to select that subset of rows back from the original dataframe."
      ]
    },
    {
      "cell_type": "markdown",
      "id": "1f5064f7-e956-4420-b80c-f14c2d2d3427",
      "metadata": {
        "id": "1f5064f7-e956-4420-b80c-f14c2d2d3427"
      },
      "source": [
        "### 8.1 Find Trees that Don't have Matching Environmental Data\n",
        "<div style=\"background-color:lemonchiffon; border:1px solid; padding:5px; margin:5px; font-weight:bold\"><font color=\"crimson\">\n",
        "TODO: Complete the following code cells\n",
        "    </font></div>"
      ]
    },
    {
      "cell_type": "code",
      "execution_count": 90,
      "id": "ec5e5506-1c6f-4f33-92d1-420ea57b6da5",
      "metadata": {
        "id": "ec5e5506-1c6f-4f33-92d1-420ea57b6da5"
      },
      "outputs": [],
      "source": [
        "# Find trees that don't have matching environmental data\n",
        "unmatched_trees = trees[~trees['Identifier'].isin(environmental['Identifier'])]"
      ]
    },
    {
      "cell_type": "code",
      "execution_count": 91,
      "id": "36cabc0b-2d67-4a8d-8d85-6d3d3b40acfb",
      "metadata": {
        "id": "36cabc0b-2d67-4a8d-8d85-6d3d3b40acfb",
        "colab": {
          "base_uri": "https://localhost:8080/"
        },
        "outputId": "5573aafe-afe8-4e82-8f22-4d9da0318500"
      },
      "outputs": [
        {
          "output_type": "stream",
          "name": "stdout",
          "text": [
            "Number of trees without matching environmental data: 23\n"
          ]
        }
      ],
      "source": [
        "# Confirm how many rows we have\n",
        "print(\"Number of trees without matching environmental data:\", len(unmatched_trees))"
      ]
    },
    {
      "cell_type": "code",
      "source": [
        "unmatched_trees.shape"
      ],
      "metadata": {
        "colab": {
          "base_uri": "https://localhost:8080/"
        },
        "id": "hi-YRQv61H9r",
        "outputId": "9dcafeb2-c51b-47dc-ad63-8f099aac94a3"
      },
      "id": "hi-YRQv61H9r",
      "execution_count": 92,
      "outputs": [
        {
          "output_type": "execute_result",
          "data": {
            "text/plain": [
              "(23, 17)"
            ]
          },
          "metadata": {},
          "execution_count": 92
        }
      ]
    },
    {
      "cell_type": "markdown",
      "id": "163e0301-fae2-41cc-a7a7-11a31b9e0499",
      "metadata": {
        "id": "163e0301-fae2-41cc-a7a7-11a31b9e0499"
      },
      "source": [
        "### 8.2 Find Environmental Data that Doesn't have Matching Tree Data\n",
        "<div style=\"background-color:lemonchiffon; border:1px solid; padding:5px; margin:5px; font-weight:bold\"><font color=\"crimson\">\n",
        "TODO: Complete the following code cells\n",
        "    </font></div>"
      ]
    },
    {
      "cell_type": "code",
      "execution_count": 93,
      "id": "17727576-c7c3-487a-87d1-d27d326f661c",
      "metadata": {
        "id": "17727576-c7c3-487a-87d1-d27d326f661c"
      },
      "outputs": [],
      "source": [
        "# Find environmental data that doesn't have matching tree data\n",
        "unmatched_environmental = environmental[~environmental['Identifier'].isin(trees['Identifier'])]"
      ]
    },
    {
      "cell_type": "code",
      "execution_count": 94,
      "id": "7c562a4f-6a70-4e53-8dc5-c2ebd3a1417f",
      "metadata": {
        "id": "7c562a4f-6a70-4e53-8dc5-c2ebd3a1417f",
        "colab": {
          "base_uri": "https://localhost:8080/"
        },
        "outputId": "8841d12e-6561-4ed8-82ad-bcba5082a706"
      },
      "outputs": [
        {
          "output_type": "stream",
          "name": "stdout",
          "text": [
            "Number of environmental data without matching tree data: 0\n"
          ]
        }
      ],
      "source": [
        "# Confirm how many rows we have\n",
        "print(\"Number of environmental data without matching tree data:\", len(unmatched_environmental))"
      ]
    },
    {
      "cell_type": "markdown",
      "id": "ce4445b4-53db-4d95-82b6-4af1088046bf",
      "metadata": {
        "id": "ce4445b4-53db-4d95-82b6-4af1088046bf"
      },
      "source": [
        "### 8.3 Find Trees that Don't have Matching Common Names Data\n",
        "<div style=\"background-color:lemonchiffon; border:1px solid; padding:5px; margin:5px; font-weight:bold\"><font color=\"crimson\">\n",
        "TODO: Complete the following code cells\n",
        "    </font></div>"
      ]
    },
    {
      "cell_type": "code",
      "execution_count": 95,
      "id": "f66f9bfd-6bfc-4faf-946e-d5d8f6cbb4b6",
      "metadata": {
        "id": "f66f9bfd-6bfc-4faf-946e-d5d8f6cbb4b6"
      },
      "outputs": [],
      "source": [
        "# Find trees with scientific names that don't have matching common names data\n",
        "unmatched_trees_common_names = trees[~trees['Scientific Name'].isin(names['Scientific Name'])]"
      ]
    },
    {
      "cell_type": "code",
      "execution_count": 96,
      "id": "183f5951-2c4e-486a-beb9-68abc8be8674",
      "metadata": {
        "id": "183f5951-2c4e-486a-beb9-68abc8be8674",
        "colab": {
          "base_uri": "https://localhost:8080/"
        },
        "outputId": "3f3301a0-5b18-4f09-cba5-1d1c8a3c24f1"
      },
      "outputs": [
        {
          "output_type": "stream",
          "name": "stdout",
          "text": [
            "Number of trees without matching common names data: 76\n"
          ]
        }
      ],
      "source": [
        "# Confirm how many rows we have\n",
        "print(\"Number of trees without matching common names data:\", len(unmatched_trees_common_names))"
      ]
    },
    {
      "cell_type": "markdown",
      "id": "28a9ce1a-e0d6-42b2-b83a-bfb1c1a21f75",
      "metadata": {
        "id": "28a9ce1a-e0d6-42b2-b83a-bfb1c1a21f75"
      },
      "source": [
        "<hr/>\n",
        "\n",
        "### 8.4 Observations\n",
        "\n",
        "1. There are 23 trees in the trees dataset that don't have matching environmental data in the environmental dataset. These trees may have missing or incorrect identifiers in the environmental dataset, or they may not have been included in the environmental data collection process.\n",
        "\n",
        "2. There are no rows in the environmental dataset without matching tree data in the trees dataset. This indicates that all environmental data entries are associated with a tree in the trees dataset.\n",
        "\n",
        "3. There are 76 trees in the trees dataset that don't have matching common names data in the common names dataset. This could be due to differences in naming conventions between the two datasets, misspellings, or missing entries in the common names dataset.\n",
        "\n",
        "4. Addressing unmatched data issues is crucial for ensuring data integrity and accuracy in analyses. It may require further investigation into data collection processes, data entry errors, or discrepancies between datasets. Resolving these issues will enhance the reliability of analyses and insights derived from the data.\n"
      ]
    },
    {
      "cell_type": "markdown",
      "id": "663f0130-1aee-4590-b6d3-ddc531035415",
      "metadata": {
        "id": "663f0130-1aee-4590-b6d3-ddc531035415"
      },
      "source": [
        "<hr/>"
      ]
    },
    {
      "cell_type": "markdown",
      "id": "ecb4c78f-147a-4cb7-b646-1de2d365c5e5",
      "metadata": {
        "id": "ecb4c78f-147a-4cb7-b646-1de2d365c5e5"
      },
      "source": [
        "# END OF NOTEBOOK"
      ]
    }
  ],
  "metadata": {
    "kernelspec": {
      "display_name": "Python 3 (ipykernel)",
      "language": "python",
      "name": "python3"
    },
    "language_info": {
      "codemirror_mode": {
        "name": "ipython",
        "version": 3
      },
      "file_extension": ".py",
      "mimetype": "text/x-python",
      "name": "python",
      "nbconvert_exporter": "python",
      "pygments_lexer": "ipython3",
      "version": "3.9.7"
    },
    "colab": {
      "provenance": []
    }
  },
  "nbformat": 4,
  "nbformat_minor": 5
}