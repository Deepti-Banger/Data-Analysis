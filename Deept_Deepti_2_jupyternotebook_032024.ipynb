{
  "cells": [
    {
      "cell_type": "markdown",
      "metadata": {
        "id": "S2Mqy0xk7WvX"
      },
      "source": [
        "# ChatData\n",
        "\n",
        "## Sqlite\n",
        "We are using a file system called **sqlite**. It looks and acts like a real single user relational database (RDB). sqlite3 comes packaged with python. You do not need to install the library. You simply import it (as below).\n",
        "\n",
        "- We are using Pandas to write and read to sqlite. Pandas will manage a lot of the complexity of dealing with a RDB. There are other ways of reading and writing to a RDB that are VERY common and often used in production systems.  \n",
        "\n",
        "- The most common other way is to read or write to the RDB row by row. As you can see Pandas puts the entire dataframe into the RDB or extracts a new dataframe from the RDB. These are not row by row operations. These are set operations. Set operations ARE more efficient. However, it is common to use row by row operations to avoid needing large memory computers to hold the dataframes. One row only takes a few bytes. An entire dataframe could be many gigabytes and even petabytes of data. Obviously you will end up with problems with your compute resource if your files are this big. This will not happen to you in this activity and may never happen to you while you are a data analyst. Please just be aware of this.\n",
        "\n",
        "- This activity is primarily about querying a RDB, so, we are using a simple way that Pandas provides. If you want to learn the more complex way, just google 'reading and wrting to a relational database using python'. There are many resources to learn from.\n",
        "\n",
        "- The data types that sqlite supports are quite limited. for example, it does not have a DATE type.  This is not a challenge for this project. However, more sophisticated database systems,such as Postgresql, have a large array of data types, such as \"DATE\", etc. that give those systems additional capability.\n",
        "\n",
        "- All of the SQL queries could also be performed on the Pandas DataFrames directly.  You may want to try this yourself for comparison (but make sure you do the SQL queries first, as this is an exercise in using SQL!).\n",
        "\n",
        "\n",
        "## SQL Magic\n",
        "Within the Jupyter notebook we will be using something called **SQL Magic**.  This provides a convenient way to write SQL queries directly into code cells in the notebook and to read the results back into a Pandas DataFrame.  This makes working with SQL much easier!\n",
        "\n",
        "Note that you may need to update your sqlite version using `conda update -c anaconda sqlite` in order for the SQL Magic to work correctly.\n",
        "\n",
        "## The Data Analysis Lifecycle\n",
        "The sections in this notebook follow the stages of the Data Analysis Lifecycle introduced in an earlier activity.  The stages are:\n",
        "\n",
        "- Acquire\n",
        "- Transform\n",
        "- Organise\n",
        "- Analyse\n",
        "- Communicate\n",
        "- Maintain\n"
      ]
    },
    {
      "cell_type": "markdown",
      "metadata": {
        "id": "LmmWx7jB7Wvc"
      },
      "source": [
        "The requirements document for this project is Template SQL queries.xlsx."
      ]
    },
    {
      "cell_type": "markdown",
      "metadata": {
        "id": "mrLFA-xK7Wvd"
      },
      "source": [
        "# Preliminary Steps: Create a Database\n",
        "First let's import Sqlite and the other libraries we will need."
      ]
    },
    {
      "cell_type": "code",
      "execution_count": 1,
      "metadata": {
        "id": "Gh2E8axr7Wvf"
      },
      "outputs": [],
      "source": [
        "# Import Libraries\n",
        "import numpy as np\n",
        "import pandas as pd\n",
        "import sqlite3"
      ]
    },
    {
      "cell_type": "markdown",
      "metadata": {
        "id": "o41reMfY7Wvh"
      },
      "source": [
        "### Create the Database\n",
        "Now we will create the Sqlite database.  Here is some code that does this for you.  We use the `%load_ext` magic command to load the SQL Magic extension and then use `%sql` to connect to the database."
      ]
    },
    {
      "cell_type": "code",
      "execution_count": 2,
      "metadata": {
        "id": "M9Al4y9C7Wvi"
      },
      "outputs": [],
      "source": [
        "# If the db does not exist, sqlite will create it.\n",
        "con = sqlite3.connect('chatdata.db')\n",
        "\n",
        "# loads sql magic\n",
        "%load_ext sql\n",
        "\n",
        "# connects sql magic command to the correct db\n",
        "%sql sqlite:///chatdata.db"
      ]
    },
    {
      "cell_type": "markdown",
      "metadata": {
        "id": "n7kzh2Ag7Wvj"
      },
      "source": [
        "#### Drop the `queries` table if it already exists\n",
        "The queries table will be our record of the queries created to answer the questions from the requirements spreadsheet.  As we will be running this Jupyter notebook a few times, let's drop (i.e. remove) the queries table so that we start fresh each time.  Here is the code to do this.  We use the `%%sql` magic command to tell Jupyter that we are going to write SQL in the cell.\n"
      ]
    },
    {
      "cell_type": "code",
      "execution_count": 3,
      "metadata": {
        "colab": {
          "base_uri": "https://localhost:8080/"
        },
        "id": "wYuNslE77Wvk",
        "outputId": "e5d640ab-42b4-42df-e075-27adaf74f558"
      },
      "outputs": [
        {
          "output_type": "stream",
          "name": "stdout",
          "text": [
            " * sqlite:///chatdata.db\n",
            "Done.\n"
          ]
        },
        {
          "output_type": "execute_result",
          "data": {
            "text/plain": [
              "[]"
            ]
          },
          "metadata": {},
          "execution_count": 3
        }
      ],
      "source": [
        "%%sql\n",
        "DROP TABLE IF EXISTS 'queries'"
      ]
    },
    {
      "cell_type": "markdown",
      "metadata": {
        "id": "a8G6MhmQ7Wvl"
      },
      "source": [
        "# Task 1: Load the Data\n",
        "Now we can start loading the data.  The tables will be created as we load the data.  \n",
        "\n",
        "Note that some of these files are quite large, so make sure you have plenty of free memory!"
      ]
    },
    {
      "cell_type": "markdown",
      "metadata": {
        "id": "h_My5me17Wvl"
      },
      "source": [
        "## Lifecycle Stages: Transform and Organise\n",
        "The data has already been processed into 3 clean data files ready for this project:\n",
        "\n",
        "- queries.csv\n",
        "- posts.csv\n",
        "- comments.csv\n",
        "\n",
        "We will load these files into our database."
      ]
    },
    {
      "cell_type": "markdown",
      "metadata": {
        "id": "3BQ11yTk7Wvm"
      },
      "source": [
        "## Lifecycle Stage: Acquire\n",
        "The data can be found in the OpenClassrooms instructions for this activity."
      ]
    },
    {
      "cell_type": "markdown",
      "metadata": {
        "id": "zuMjJJMy7Wvn"
      },
      "source": [
        "### Load Comments Data into a `comments` table\n",
        "Now we will load the data from the csv files into our sqlite database.\n",
        "\n",
        "First we load the csv file into a Pandas dataframe:"
      ]
    },
    {
      "cell_type": "code",
      "execution_count": 4,
      "metadata": {
        "colab": {
          "base_uri": "https://localhost:8080/",
          "height": 206
        },
        "id": "n8kgVtzg7Wvn",
        "outputId": "d13185a5-a7d7-4cbb-e9f4-4e765401cd3c"
      },
      "outputs": [
        {
          "output_type": "execute_result",
          "data": {
            "text/plain": [
              "       Id  PostId  Score                                               Text  \\\n",
              "0  723182  385124      0  @BenBolker I don't understand. The fit cannot ...   \n",
              "1  723183  385124      3  You can't add *less* than (`-min(y)`), but you...   \n",
              "2  723186  385137      0  nice. If you felt like doing the work it would...   \n",
              "3  723187  385137      0  i.e. `emdbook::curve3d(-sum(dnbinom(y,mu=mu,si...   \n",
              "4  723188  385134      0  Don't you mean \"so variance should be $\\sigma^...   \n",
              "\n",
              "          CreationDate  UserId  \n",
              "0  2019-01-01 00:06:39   78575  \n",
              "1  2019-01-01 00:09:22    2126  \n",
              "2  2019-01-01 00:32:11    2126  \n",
              "3  2019-01-01 00:40:36    2126  \n",
              "4  2019-01-01 00:41:28  112141  "
            ],
            "text/html": [
              "\n",
              "  <div id=\"df-bb63256d-89c9-4317-b03e-099b47c0a43e\" class=\"colab-df-container\">\n",
              "    <div>\n",
              "<style scoped>\n",
              "    .dataframe tbody tr th:only-of-type {\n",
              "        vertical-align: middle;\n",
              "    }\n",
              "\n",
              "    .dataframe tbody tr th {\n",
              "        vertical-align: top;\n",
              "    }\n",
              "\n",
              "    .dataframe thead th {\n",
              "        text-align: right;\n",
              "    }\n",
              "</style>\n",
              "<table border=\"1\" class=\"dataframe\">\n",
              "  <thead>\n",
              "    <tr style=\"text-align: right;\">\n",
              "      <th></th>\n",
              "      <th>Id</th>\n",
              "      <th>PostId</th>\n",
              "      <th>Score</th>\n",
              "      <th>Text</th>\n",
              "      <th>CreationDate</th>\n",
              "      <th>UserId</th>\n",
              "    </tr>\n",
              "  </thead>\n",
              "  <tbody>\n",
              "    <tr>\n",
              "      <th>0</th>\n",
              "      <td>723182</td>\n",
              "      <td>385124</td>\n",
              "      <td>0</td>\n",
              "      <td>@BenBolker I don't understand. The fit cannot ...</td>\n",
              "      <td>2019-01-01 00:06:39</td>\n",
              "      <td>78575</td>\n",
              "    </tr>\n",
              "    <tr>\n",
              "      <th>1</th>\n",
              "      <td>723183</td>\n",
              "      <td>385124</td>\n",
              "      <td>3</td>\n",
              "      <td>You can't add *less* than (`-min(y)`), but you...</td>\n",
              "      <td>2019-01-01 00:09:22</td>\n",
              "      <td>2126</td>\n",
              "    </tr>\n",
              "    <tr>\n",
              "      <th>2</th>\n",
              "      <td>723186</td>\n",
              "      <td>385137</td>\n",
              "      <td>0</td>\n",
              "      <td>nice. If you felt like doing the work it would...</td>\n",
              "      <td>2019-01-01 00:32:11</td>\n",
              "      <td>2126</td>\n",
              "    </tr>\n",
              "    <tr>\n",
              "      <th>3</th>\n",
              "      <td>723187</td>\n",
              "      <td>385137</td>\n",
              "      <td>0</td>\n",
              "      <td>i.e. `emdbook::curve3d(-sum(dnbinom(y,mu=mu,si...</td>\n",
              "      <td>2019-01-01 00:40:36</td>\n",
              "      <td>2126</td>\n",
              "    </tr>\n",
              "    <tr>\n",
              "      <th>4</th>\n",
              "      <td>723188</td>\n",
              "      <td>385134</td>\n",
              "      <td>0</td>\n",
              "      <td>Don't you mean \"so variance should be $\\sigma^...</td>\n",
              "      <td>2019-01-01 00:41:28</td>\n",
              "      <td>112141</td>\n",
              "    </tr>\n",
              "  </tbody>\n",
              "</table>\n",
              "</div>\n",
              "    <div class=\"colab-df-buttons\">\n",
              "\n",
              "  <div class=\"colab-df-container\">\n",
              "    <button class=\"colab-df-convert\" onclick=\"convertToInteractive('df-bb63256d-89c9-4317-b03e-099b47c0a43e')\"\n",
              "            title=\"Convert this dataframe to an interactive table.\"\n",
              "            style=\"display:none;\">\n",
              "\n",
              "  <svg xmlns=\"http://www.w3.org/2000/svg\" height=\"24px\" viewBox=\"0 -960 960 960\">\n",
              "    <path d=\"M120-120v-720h720v720H120Zm60-500h600v-160H180v160Zm220 220h160v-160H400v160Zm0 220h160v-160H400v160ZM180-400h160v-160H180v160Zm440 0h160v-160H620v160ZM180-180h160v-160H180v160Zm440 0h160v-160H620v160Z\"/>\n",
              "  </svg>\n",
              "    </button>\n",
              "\n",
              "  <style>\n",
              "    .colab-df-container {\n",
              "      display:flex;\n",
              "      gap: 12px;\n",
              "    }\n",
              "\n",
              "    .colab-df-convert {\n",
              "      background-color: #E8F0FE;\n",
              "      border: none;\n",
              "      border-radius: 50%;\n",
              "      cursor: pointer;\n",
              "      display: none;\n",
              "      fill: #1967D2;\n",
              "      height: 32px;\n",
              "      padding: 0 0 0 0;\n",
              "      width: 32px;\n",
              "    }\n",
              "\n",
              "    .colab-df-convert:hover {\n",
              "      background-color: #E2EBFA;\n",
              "      box-shadow: 0px 1px 2px rgba(60, 64, 67, 0.3), 0px 1px 3px 1px rgba(60, 64, 67, 0.15);\n",
              "      fill: #174EA6;\n",
              "    }\n",
              "\n",
              "    .colab-df-buttons div {\n",
              "      margin-bottom: 4px;\n",
              "    }\n",
              "\n",
              "    [theme=dark] .colab-df-convert {\n",
              "      background-color: #3B4455;\n",
              "      fill: #D2E3FC;\n",
              "    }\n",
              "\n",
              "    [theme=dark] .colab-df-convert:hover {\n",
              "      background-color: #434B5C;\n",
              "      box-shadow: 0px 1px 3px 1px rgba(0, 0, 0, 0.15);\n",
              "      filter: drop-shadow(0px 1px 2px rgba(0, 0, 0, 0.3));\n",
              "      fill: #FFFFFF;\n",
              "    }\n",
              "  </style>\n",
              "\n",
              "    <script>\n",
              "      const buttonEl =\n",
              "        document.querySelector('#df-bb63256d-89c9-4317-b03e-099b47c0a43e button.colab-df-convert');\n",
              "      buttonEl.style.display =\n",
              "        google.colab.kernel.accessAllowed ? 'block' : 'none';\n",
              "\n",
              "      async function convertToInteractive(key) {\n",
              "        const element = document.querySelector('#df-bb63256d-89c9-4317-b03e-099b47c0a43e');\n",
              "        const dataTable =\n",
              "          await google.colab.kernel.invokeFunction('convertToInteractive',\n",
              "                                                    [key], {});\n",
              "        if (!dataTable) return;\n",
              "\n",
              "        const docLinkHtml = 'Like what you see? Visit the ' +\n",
              "          '<a target=\"_blank\" href=https://colab.research.google.com/notebooks/data_table.ipynb>data table notebook</a>'\n",
              "          + ' to learn more about interactive tables.';\n",
              "        element.innerHTML = '';\n",
              "        dataTable['output_type'] = 'display_data';\n",
              "        await google.colab.output.renderOutput(dataTable, element);\n",
              "        const docLink = document.createElement('div');\n",
              "        docLink.innerHTML = docLinkHtml;\n",
              "        element.appendChild(docLink);\n",
              "      }\n",
              "    </script>\n",
              "  </div>\n",
              "\n",
              "\n",
              "<div id=\"df-d1bc000e-8a73-44e0-ad9c-b07596d7a57c\">\n",
              "  <button class=\"colab-df-quickchart\" onclick=\"quickchart('df-d1bc000e-8a73-44e0-ad9c-b07596d7a57c')\"\n",
              "            title=\"Suggest charts\"\n",
              "            style=\"display:none;\">\n",
              "\n",
              "<svg xmlns=\"http://www.w3.org/2000/svg\" height=\"24px\"viewBox=\"0 0 24 24\"\n",
              "     width=\"24px\">\n",
              "    <g>\n",
              "        <path d=\"M19 3H5c-1.1 0-2 .9-2 2v14c0 1.1.9 2 2 2h14c1.1 0 2-.9 2-2V5c0-1.1-.9-2-2-2zM9 17H7v-7h2v7zm4 0h-2V7h2v10zm4 0h-2v-4h2v4z\"/>\n",
              "    </g>\n",
              "</svg>\n",
              "  </button>\n",
              "\n",
              "<style>\n",
              "  .colab-df-quickchart {\n",
              "      --bg-color: #E8F0FE;\n",
              "      --fill-color: #1967D2;\n",
              "      --hover-bg-color: #E2EBFA;\n",
              "      --hover-fill-color: #174EA6;\n",
              "      --disabled-fill-color: #AAA;\n",
              "      --disabled-bg-color: #DDD;\n",
              "  }\n",
              "\n",
              "  [theme=dark] .colab-df-quickchart {\n",
              "      --bg-color: #3B4455;\n",
              "      --fill-color: #D2E3FC;\n",
              "      --hover-bg-color: #434B5C;\n",
              "      --hover-fill-color: #FFFFFF;\n",
              "      --disabled-bg-color: #3B4455;\n",
              "      --disabled-fill-color: #666;\n",
              "  }\n",
              "\n",
              "  .colab-df-quickchart {\n",
              "    background-color: var(--bg-color);\n",
              "    border: none;\n",
              "    border-radius: 50%;\n",
              "    cursor: pointer;\n",
              "    display: none;\n",
              "    fill: var(--fill-color);\n",
              "    height: 32px;\n",
              "    padding: 0;\n",
              "    width: 32px;\n",
              "  }\n",
              "\n",
              "  .colab-df-quickchart:hover {\n",
              "    background-color: var(--hover-bg-color);\n",
              "    box-shadow: 0 1px 2px rgba(60, 64, 67, 0.3), 0 1px 3px 1px rgba(60, 64, 67, 0.15);\n",
              "    fill: var(--button-hover-fill-color);\n",
              "  }\n",
              "\n",
              "  .colab-df-quickchart-complete:disabled,\n",
              "  .colab-df-quickchart-complete:disabled:hover {\n",
              "    background-color: var(--disabled-bg-color);\n",
              "    fill: var(--disabled-fill-color);\n",
              "    box-shadow: none;\n",
              "  }\n",
              "\n",
              "  .colab-df-spinner {\n",
              "    border: 2px solid var(--fill-color);\n",
              "    border-color: transparent;\n",
              "    border-bottom-color: var(--fill-color);\n",
              "    animation:\n",
              "      spin 1s steps(1) infinite;\n",
              "  }\n",
              "\n",
              "  @keyframes spin {\n",
              "    0% {\n",
              "      border-color: transparent;\n",
              "      border-bottom-color: var(--fill-color);\n",
              "      border-left-color: var(--fill-color);\n",
              "    }\n",
              "    20% {\n",
              "      border-color: transparent;\n",
              "      border-left-color: var(--fill-color);\n",
              "      border-top-color: var(--fill-color);\n",
              "    }\n",
              "    30% {\n",
              "      border-color: transparent;\n",
              "      border-left-color: var(--fill-color);\n",
              "      border-top-color: var(--fill-color);\n",
              "      border-right-color: var(--fill-color);\n",
              "    }\n",
              "    40% {\n",
              "      border-color: transparent;\n",
              "      border-right-color: var(--fill-color);\n",
              "      border-top-color: var(--fill-color);\n",
              "    }\n",
              "    60% {\n",
              "      border-color: transparent;\n",
              "      border-right-color: var(--fill-color);\n",
              "    }\n",
              "    80% {\n",
              "      border-color: transparent;\n",
              "      border-right-color: var(--fill-color);\n",
              "      border-bottom-color: var(--fill-color);\n",
              "    }\n",
              "    90% {\n",
              "      border-color: transparent;\n",
              "      border-bottom-color: var(--fill-color);\n",
              "    }\n",
              "  }\n",
              "</style>\n",
              "\n",
              "  <script>\n",
              "    async function quickchart(key) {\n",
              "      const quickchartButtonEl =\n",
              "        document.querySelector('#' + key + ' button');\n",
              "      quickchartButtonEl.disabled = true;  // To prevent multiple clicks.\n",
              "      quickchartButtonEl.classList.add('colab-df-spinner');\n",
              "      try {\n",
              "        const charts = await google.colab.kernel.invokeFunction(\n",
              "            'suggestCharts', [key], {});\n",
              "      } catch (error) {\n",
              "        console.error('Error during call to suggestCharts:', error);\n",
              "      }\n",
              "      quickchartButtonEl.classList.remove('colab-df-spinner');\n",
              "      quickchartButtonEl.classList.add('colab-df-quickchart-complete');\n",
              "    }\n",
              "    (() => {\n",
              "      let quickchartButtonEl =\n",
              "        document.querySelector('#df-d1bc000e-8a73-44e0-ad9c-b07596d7a57c button');\n",
              "      quickchartButtonEl.style.display =\n",
              "        google.colab.kernel.accessAllowed ? 'block' : 'none';\n",
              "    })();\n",
              "  </script>\n",
              "</div>\n",
              "    </div>\n",
              "  </div>\n"
            ],
            "application/vnd.google.colaboratory.intrinsic+json": {
              "type": "dataframe",
              "variable_name": "comments",
              "summary": "{\n  \"name\": \"comments\",\n  \"rows\": 50000,\n  \"fields\": [\n    {\n      \"column\": \"Id\",\n      \"properties\": {\n        \"dtype\": \"number\",\n        \"std\": 19776,\n        \"min\": 723182,\n        \"max\": 791753,\n        \"num_unique_values\": 50000,\n        \"samples\": [\n          768962,\n          736484,\n          723488\n        ],\n        \"semantic_type\": \"\",\n        \"description\": \"\"\n      }\n    },\n    {\n      \"column\": \"PostId\",\n      \"properties\": {\n        \"dtype\": \"number\",\n        \"std\": 65998,\n        \"min\": 6,\n        \"max\": 424214,\n        \"num_unique_values\": 18099,\n        \"samples\": [\n          395631,\n          400903,\n          398032\n        ],\n        \"semantic_type\": \"\",\n        \"description\": \"\"\n      }\n    },\n    {\n      \"column\": \"Score\",\n      \"properties\": {\n        \"dtype\": \"number\",\n        \"std\": 0,\n        \"min\": 0,\n        \"max\": 70,\n        \"num_unique_values\": 28,\n        \"samples\": [\n          5,\n          17,\n          7\n        ],\n        \"semantic_type\": \"\",\n        \"description\": \"\"\n      }\n    },\n    {\n      \"column\": \"Text\",\n      \"properties\": {\n        \"dtype\": \"string\",\n        \"num_unique_values\": 49794,\n        \"samples\": [\n          \"Thank you for your answer! I want to make sure I'm interpreting correctly. By adding time as an additional random factor, this will account for any effects that the previous temperatures/behaviors observed (e.g. temperature and behavior observed at the time 12:05) have on the next observation (temperature and behavior observed at 12:10)? I've read that there are two methods of incorporating multiple random effects-crossed and nested. In this problem, does it make sense to use them as crossed random effects? Thanks again for your help!\",\n          \"That makes no sense, either mathematically or practically.  Are you perhaps trying to ask about the [negative binomial distribution](https://en.wikipedia.org/wiki/Negative_binomial_distribution)?\",\n          \"One idea is to look into the `robustbase::glmrob` function in `R`, which can use methods protecting against outliers in the predictors.\"\n        ],\n        \"semantic_type\": \"\",\n        \"description\": \"\"\n      }\n    },\n    {\n      \"column\": \"CreationDate\",\n      \"properties\": {\n        \"dtype\": \"object\",\n        \"num_unique_values\": 49926,\n        \"samples\": [\n          \"2019-02-20 20:23:47\",\n          \"2019-03-02 17:21:27\",\n          \"2019-06-28 14:20:52\"\n        ],\n        \"semantic_type\": \"\",\n        \"description\": \"\"\n      }\n    },\n    {\n      \"column\": \"UserId\",\n      \"properties\": {\n        \"dtype\": \"number\",\n        \"std\": 93402,\n        \"min\": 0,\n        \"max\": 260045,\n        \"num_unique_values\": 7716,\n        \"samples\": [\n          29964,\n          184597,\n          219390\n        ],\n        \"semantic_type\": \"\",\n        \"description\": \"\"\n      }\n    }\n  ]\n}"
            }
          },
          "metadata": {},
          "execution_count": 4
        }
      ],
      "source": [
        "comments = pd.read_csv('comments.csv')\n",
        "comments.head()"
      ]
    },
    {
      "cell_type": "markdown",
      "metadata": {
        "id": "AtcJRcob7Wvo"
      },
      "source": [
        "Now take the comments dataframe and push the data into the Sqlite database table called 'comments':"
      ]
    },
    {
      "cell_type": "code",
      "execution_count": 5,
      "metadata": {
        "colab": {
          "base_uri": "https://localhost:8080/",
          "height": 206
        },
        "id": "OxuXu64G7Wvo",
        "outputId": "cee14246-27e1-47d3-9caa-da30e09054f8"
      },
      "outputs": [
        {
          "output_type": "execute_result",
          "data": {
            "text/plain": [
              "       Id  PostId  Score                                               Text  \\\n",
              "0  723182  385124      0  @BenBolker I don't understand. The fit cannot ...   \n",
              "1  723183  385124      3  You can't add *less* than (`-min(y)`), but you...   \n",
              "2  723186  385137      0  nice. If you felt like doing the work it would...   \n",
              "3  723187  385137      0  i.e. `emdbook::curve3d(-sum(dnbinom(y,mu=mu,si...   \n",
              "4  723188  385134      0  Don't you mean \"so variance should be $\\sigma^...   \n",
              "\n",
              "          CreationDate  UserId  \n",
              "0  2019-01-01 00:06:39   78575  \n",
              "1  2019-01-01 00:09:22    2126  \n",
              "2  2019-01-01 00:32:11    2126  \n",
              "3  2019-01-01 00:40:36    2126  \n",
              "4  2019-01-01 00:41:28  112141  "
            ],
            "text/html": [
              "\n",
              "  <div id=\"df-3d815dc5-18ee-4155-81d8-d25024d1fdc1\" class=\"colab-df-container\">\n",
              "    <div>\n",
              "<style scoped>\n",
              "    .dataframe tbody tr th:only-of-type {\n",
              "        vertical-align: middle;\n",
              "    }\n",
              "\n",
              "    .dataframe tbody tr th {\n",
              "        vertical-align: top;\n",
              "    }\n",
              "\n",
              "    .dataframe thead th {\n",
              "        text-align: right;\n",
              "    }\n",
              "</style>\n",
              "<table border=\"1\" class=\"dataframe\">\n",
              "  <thead>\n",
              "    <tr style=\"text-align: right;\">\n",
              "      <th></th>\n",
              "      <th>Id</th>\n",
              "      <th>PostId</th>\n",
              "      <th>Score</th>\n",
              "      <th>Text</th>\n",
              "      <th>CreationDate</th>\n",
              "      <th>UserId</th>\n",
              "    </tr>\n",
              "  </thead>\n",
              "  <tbody>\n",
              "    <tr>\n",
              "      <th>0</th>\n",
              "      <td>723182</td>\n",
              "      <td>385124</td>\n",
              "      <td>0</td>\n",
              "      <td>@BenBolker I don't understand. The fit cannot ...</td>\n",
              "      <td>2019-01-01 00:06:39</td>\n",
              "      <td>78575</td>\n",
              "    </tr>\n",
              "    <tr>\n",
              "      <th>1</th>\n",
              "      <td>723183</td>\n",
              "      <td>385124</td>\n",
              "      <td>3</td>\n",
              "      <td>You can't add *less* than (`-min(y)`), but you...</td>\n",
              "      <td>2019-01-01 00:09:22</td>\n",
              "      <td>2126</td>\n",
              "    </tr>\n",
              "    <tr>\n",
              "      <th>2</th>\n",
              "      <td>723186</td>\n",
              "      <td>385137</td>\n",
              "      <td>0</td>\n",
              "      <td>nice. If you felt like doing the work it would...</td>\n",
              "      <td>2019-01-01 00:32:11</td>\n",
              "      <td>2126</td>\n",
              "    </tr>\n",
              "    <tr>\n",
              "      <th>3</th>\n",
              "      <td>723187</td>\n",
              "      <td>385137</td>\n",
              "      <td>0</td>\n",
              "      <td>i.e. `emdbook::curve3d(-sum(dnbinom(y,mu=mu,si...</td>\n",
              "      <td>2019-01-01 00:40:36</td>\n",
              "      <td>2126</td>\n",
              "    </tr>\n",
              "    <tr>\n",
              "      <th>4</th>\n",
              "      <td>723188</td>\n",
              "      <td>385134</td>\n",
              "      <td>0</td>\n",
              "      <td>Don't you mean \"so variance should be $\\sigma^...</td>\n",
              "      <td>2019-01-01 00:41:28</td>\n",
              "      <td>112141</td>\n",
              "    </tr>\n",
              "  </tbody>\n",
              "</table>\n",
              "</div>\n",
              "    <div class=\"colab-df-buttons\">\n",
              "\n",
              "  <div class=\"colab-df-container\">\n",
              "    <button class=\"colab-df-convert\" onclick=\"convertToInteractive('df-3d815dc5-18ee-4155-81d8-d25024d1fdc1')\"\n",
              "            title=\"Convert this dataframe to an interactive table.\"\n",
              "            style=\"display:none;\">\n",
              "\n",
              "  <svg xmlns=\"http://www.w3.org/2000/svg\" height=\"24px\" viewBox=\"0 -960 960 960\">\n",
              "    <path d=\"M120-120v-720h720v720H120Zm60-500h600v-160H180v160Zm220 220h160v-160H400v160Zm0 220h160v-160H400v160ZM180-400h160v-160H180v160Zm440 0h160v-160H620v160ZM180-180h160v-160H180v160Zm440 0h160v-160H620v160Z\"/>\n",
              "  </svg>\n",
              "    </button>\n",
              "\n",
              "  <style>\n",
              "    .colab-df-container {\n",
              "      display:flex;\n",
              "      gap: 12px;\n",
              "    }\n",
              "\n",
              "    .colab-df-convert {\n",
              "      background-color: #E8F0FE;\n",
              "      border: none;\n",
              "      border-radius: 50%;\n",
              "      cursor: pointer;\n",
              "      display: none;\n",
              "      fill: #1967D2;\n",
              "      height: 32px;\n",
              "      padding: 0 0 0 0;\n",
              "      width: 32px;\n",
              "    }\n",
              "\n",
              "    .colab-df-convert:hover {\n",
              "      background-color: #E2EBFA;\n",
              "      box-shadow: 0px 1px 2px rgba(60, 64, 67, 0.3), 0px 1px 3px 1px rgba(60, 64, 67, 0.15);\n",
              "      fill: #174EA6;\n",
              "    }\n",
              "\n",
              "    .colab-df-buttons div {\n",
              "      margin-bottom: 4px;\n",
              "    }\n",
              "\n",
              "    [theme=dark] .colab-df-convert {\n",
              "      background-color: #3B4455;\n",
              "      fill: #D2E3FC;\n",
              "    }\n",
              "\n",
              "    [theme=dark] .colab-df-convert:hover {\n",
              "      background-color: #434B5C;\n",
              "      box-shadow: 0px 1px 3px 1px rgba(0, 0, 0, 0.15);\n",
              "      filter: drop-shadow(0px 1px 2px rgba(0, 0, 0, 0.3));\n",
              "      fill: #FFFFFF;\n",
              "    }\n",
              "  </style>\n",
              "\n",
              "    <script>\n",
              "      const buttonEl =\n",
              "        document.querySelector('#df-3d815dc5-18ee-4155-81d8-d25024d1fdc1 button.colab-df-convert');\n",
              "      buttonEl.style.display =\n",
              "        google.colab.kernel.accessAllowed ? 'block' : 'none';\n",
              "\n",
              "      async function convertToInteractive(key) {\n",
              "        const element = document.querySelector('#df-3d815dc5-18ee-4155-81d8-d25024d1fdc1');\n",
              "        const dataTable =\n",
              "          await google.colab.kernel.invokeFunction('convertToInteractive',\n",
              "                                                    [key], {});\n",
              "        if (!dataTable) return;\n",
              "\n",
              "        const docLinkHtml = 'Like what you see? Visit the ' +\n",
              "          '<a target=\"_blank\" href=https://colab.research.google.com/notebooks/data_table.ipynb>data table notebook</a>'\n",
              "          + ' to learn more about interactive tables.';\n",
              "        element.innerHTML = '';\n",
              "        dataTable['output_type'] = 'display_data';\n",
              "        await google.colab.output.renderOutput(dataTable, element);\n",
              "        const docLink = document.createElement('div');\n",
              "        docLink.innerHTML = docLinkHtml;\n",
              "        element.appendChild(docLink);\n",
              "      }\n",
              "    </script>\n",
              "  </div>\n",
              "\n",
              "\n",
              "<div id=\"df-54a09d24-ed99-4079-815a-b6e5bf8f1223\">\n",
              "  <button class=\"colab-df-quickchart\" onclick=\"quickchart('df-54a09d24-ed99-4079-815a-b6e5bf8f1223')\"\n",
              "            title=\"Suggest charts\"\n",
              "            style=\"display:none;\">\n",
              "\n",
              "<svg xmlns=\"http://www.w3.org/2000/svg\" height=\"24px\"viewBox=\"0 0 24 24\"\n",
              "     width=\"24px\">\n",
              "    <g>\n",
              "        <path d=\"M19 3H5c-1.1 0-2 .9-2 2v14c0 1.1.9 2 2 2h14c1.1 0 2-.9 2-2V5c0-1.1-.9-2-2-2zM9 17H7v-7h2v7zm4 0h-2V7h2v10zm4 0h-2v-4h2v4z\"/>\n",
              "    </g>\n",
              "</svg>\n",
              "  </button>\n",
              "\n",
              "<style>\n",
              "  .colab-df-quickchart {\n",
              "      --bg-color: #E8F0FE;\n",
              "      --fill-color: #1967D2;\n",
              "      --hover-bg-color: #E2EBFA;\n",
              "      --hover-fill-color: #174EA6;\n",
              "      --disabled-fill-color: #AAA;\n",
              "      --disabled-bg-color: #DDD;\n",
              "  }\n",
              "\n",
              "  [theme=dark] .colab-df-quickchart {\n",
              "      --bg-color: #3B4455;\n",
              "      --fill-color: #D2E3FC;\n",
              "      --hover-bg-color: #434B5C;\n",
              "      --hover-fill-color: #FFFFFF;\n",
              "      --disabled-bg-color: #3B4455;\n",
              "      --disabled-fill-color: #666;\n",
              "  }\n",
              "\n",
              "  .colab-df-quickchart {\n",
              "    background-color: var(--bg-color);\n",
              "    border: none;\n",
              "    border-radius: 50%;\n",
              "    cursor: pointer;\n",
              "    display: none;\n",
              "    fill: var(--fill-color);\n",
              "    height: 32px;\n",
              "    padding: 0;\n",
              "    width: 32px;\n",
              "  }\n",
              "\n",
              "  .colab-df-quickchart:hover {\n",
              "    background-color: var(--hover-bg-color);\n",
              "    box-shadow: 0 1px 2px rgba(60, 64, 67, 0.3), 0 1px 3px 1px rgba(60, 64, 67, 0.15);\n",
              "    fill: var(--button-hover-fill-color);\n",
              "  }\n",
              "\n",
              "  .colab-df-quickchart-complete:disabled,\n",
              "  .colab-df-quickchart-complete:disabled:hover {\n",
              "    background-color: var(--disabled-bg-color);\n",
              "    fill: var(--disabled-fill-color);\n",
              "    box-shadow: none;\n",
              "  }\n",
              "\n",
              "  .colab-df-spinner {\n",
              "    border: 2px solid var(--fill-color);\n",
              "    border-color: transparent;\n",
              "    border-bottom-color: var(--fill-color);\n",
              "    animation:\n",
              "      spin 1s steps(1) infinite;\n",
              "  }\n",
              "\n",
              "  @keyframes spin {\n",
              "    0% {\n",
              "      border-color: transparent;\n",
              "      border-bottom-color: var(--fill-color);\n",
              "      border-left-color: var(--fill-color);\n",
              "    }\n",
              "    20% {\n",
              "      border-color: transparent;\n",
              "      border-left-color: var(--fill-color);\n",
              "      border-top-color: var(--fill-color);\n",
              "    }\n",
              "    30% {\n",
              "      border-color: transparent;\n",
              "      border-left-color: var(--fill-color);\n",
              "      border-top-color: var(--fill-color);\n",
              "      border-right-color: var(--fill-color);\n",
              "    }\n",
              "    40% {\n",
              "      border-color: transparent;\n",
              "      border-right-color: var(--fill-color);\n",
              "      border-top-color: var(--fill-color);\n",
              "    }\n",
              "    60% {\n",
              "      border-color: transparent;\n",
              "      border-right-color: var(--fill-color);\n",
              "    }\n",
              "    80% {\n",
              "      border-color: transparent;\n",
              "      border-right-color: var(--fill-color);\n",
              "      border-bottom-color: var(--fill-color);\n",
              "    }\n",
              "    90% {\n",
              "      border-color: transparent;\n",
              "      border-bottom-color: var(--fill-color);\n",
              "    }\n",
              "  }\n",
              "</style>\n",
              "\n",
              "  <script>\n",
              "    async function quickchart(key) {\n",
              "      const quickchartButtonEl =\n",
              "        document.querySelector('#' + key + ' button');\n",
              "      quickchartButtonEl.disabled = true;  // To prevent multiple clicks.\n",
              "      quickchartButtonEl.classList.add('colab-df-spinner');\n",
              "      try {\n",
              "        const charts = await google.colab.kernel.invokeFunction(\n",
              "            'suggestCharts', [key], {});\n",
              "      } catch (error) {\n",
              "        console.error('Error during call to suggestCharts:', error);\n",
              "      }\n",
              "      quickchartButtonEl.classList.remove('colab-df-spinner');\n",
              "      quickchartButtonEl.classList.add('colab-df-quickchart-complete');\n",
              "    }\n",
              "    (() => {\n",
              "      let quickchartButtonEl =\n",
              "        document.querySelector('#df-54a09d24-ed99-4079-815a-b6e5bf8f1223 button');\n",
              "      quickchartButtonEl.style.display =\n",
              "        google.colab.kernel.accessAllowed ? 'block' : 'none';\n",
              "    })();\n",
              "  </script>\n",
              "</div>\n",
              "    </div>\n",
              "  </div>\n"
            ],
            "application/vnd.google.colaboratory.intrinsic+json": {
              "type": "dataframe",
              "variable_name": "comments",
              "summary": "{\n  \"name\": \"comments\",\n  \"rows\": 50000,\n  \"fields\": [\n    {\n      \"column\": \"Id\",\n      \"properties\": {\n        \"dtype\": \"number\",\n        \"std\": 19776,\n        \"min\": 723182,\n        \"max\": 791753,\n        \"num_unique_values\": 50000,\n        \"samples\": [\n          768962,\n          736484,\n          723488\n        ],\n        \"semantic_type\": \"\",\n        \"description\": \"\"\n      }\n    },\n    {\n      \"column\": \"PostId\",\n      \"properties\": {\n        \"dtype\": \"number\",\n        \"std\": 65998,\n        \"min\": 6,\n        \"max\": 424214,\n        \"num_unique_values\": 18099,\n        \"samples\": [\n          395631,\n          400903,\n          398032\n        ],\n        \"semantic_type\": \"\",\n        \"description\": \"\"\n      }\n    },\n    {\n      \"column\": \"Score\",\n      \"properties\": {\n        \"dtype\": \"number\",\n        \"std\": 0,\n        \"min\": 0,\n        \"max\": 70,\n        \"num_unique_values\": 28,\n        \"samples\": [\n          5,\n          17,\n          7\n        ],\n        \"semantic_type\": \"\",\n        \"description\": \"\"\n      }\n    },\n    {\n      \"column\": \"Text\",\n      \"properties\": {\n        \"dtype\": \"string\",\n        \"num_unique_values\": 49794,\n        \"samples\": [\n          \"Thank you for your answer! I want to make sure I'm interpreting correctly. By adding time as an additional random factor, this will account for any effects that the previous temperatures/behaviors observed (e.g. temperature and behavior observed at the time 12:05) have on the next observation (temperature and behavior observed at 12:10)? I've read that there are two methods of incorporating multiple random effects-crossed and nested. In this problem, does it make sense to use them as crossed random effects? Thanks again for your help!\",\n          \"That makes no sense, either mathematically or practically.  Are you perhaps trying to ask about the [negative binomial distribution](https://en.wikipedia.org/wiki/Negative_binomial_distribution)?\",\n          \"One idea is to look into the `robustbase::glmrob` function in `R`, which can use methods protecting against outliers in the predictors.\"\n        ],\n        \"semantic_type\": \"\",\n        \"description\": \"\"\n      }\n    },\n    {\n      \"column\": \"CreationDate\",\n      \"properties\": {\n        \"dtype\": \"object\",\n        \"num_unique_values\": 49926,\n        \"samples\": [\n          \"2019-02-20 20:23:47\",\n          \"2019-03-02 17:21:27\",\n          \"2019-06-28 14:20:52\"\n        ],\n        \"semantic_type\": \"\",\n        \"description\": \"\"\n      }\n    },\n    {\n      \"column\": \"UserId\",\n      \"properties\": {\n        \"dtype\": \"number\",\n        \"std\": 93402,\n        \"min\": 0,\n        \"max\": 260045,\n        \"num_unique_values\": 7716,\n        \"samples\": [\n          29964,\n          184597,\n          219390\n        ],\n        \"semantic_type\": \"\",\n        \"description\": \"\"\n      }\n    }\n  ]\n}"
            }
          },
          "metadata": {},
          "execution_count": 5
        }
      ],
      "source": [
        "# load comments into sqlite\n",
        "comments.to_sql('comments', con, if_exists='replace', index=False)\n",
        "\n",
        "# read back in to prove that it worked\n",
        "sql = 'SELECT * FROM comments'\n",
        "comments = pd.read_sql(sql, con)\n",
        "comments.head()"
      ]
    },
    {
      "cell_type": "markdown",
      "metadata": {
        "id": "sTdE80cD7Wvo"
      },
      "source": [
        "### Load Other CSVs\n",
        "Now that you have seen the code for loading in the comments.csv now do the same to read and write the posts.csv and users.csv to sqlite.\n",
        "\n",
        "<div style=\"background-color:lemonchiffon; border:1px solid; padding:5px; margin:5px; font-weight:bold\"><font color=\"crimson\">\n",
        "TODO: Enter code in the following cells. Insert as many cells as you want to do this.\n",
        "    </font></div>"
      ]
    },
    {
      "cell_type": "code",
      "execution_count": 6,
      "metadata": {
        "colab": {
          "base_uri": "https://localhost:8080/",
          "height": 550
        },
        "id": "MEAMJgie7Wvp",
        "outputId": "86c2b65e-b601-4a8f-9d8f-c5604add223e"
      },
      "outputs": [
        {
          "output_type": "execute_result",
          "data": {
            "text/plain": [
              "       Id  PostTypeId  AcceptedAnswerId  ParentId         CreationDate  Score  \\\n",
              "0  423497           1            423511         0  2019-08-24 09:39:31      2   \n",
              "1  423498           1                 0         0  2019-08-24 09:47:42      1   \n",
              "2  423499           1                 0         0  2019-08-24 09:48:26      1   \n",
              "3  423500           2                 0    215865  2019-08-24 09:57:01      0   \n",
              "4  423502           2                 0    423286  2019-08-24 10:44:52      3   \n",
              "\n",
              "   ViewCount                                               Body  OwnerUserId  \\\n",
              "0         68  <p>From wikipedia <a href=\"https://en.wikipedi...        64552   \n",
              "1         24  <p>I am currently doing local sensitivity anal...        87231   \n",
              "2         56  <p>I'm an honours student in psychology doing ...       257207   \n",
              "3          0  <p>Maybe you can look this <a href=\"https://me...       106606   \n",
              "4          0  <blockquote>\\n  <p>Q1) Is my approach valid?</...       220643   \n",
              "\n",
              "  OwnerDisplayName  ...  LastEditorDisplayName         LastEditDate  \\\n",
              "0              NaN  ...                    NaN                  NaN   \n",
              "1              NaN  ...                    NaN  2019-09-06 12:52:32   \n",
              "2              NaN  ...                    NaN                  NaN   \n",
              "3              NaN  ...                    NaN                  NaN   \n",
              "4              NaN  ...                    NaN  2019-08-24 12:13:46   \n",
              "\n",
              "      LastActivityDate                                              Title  \\\n",
              "0  2019-08-24 11:38:54  When are biased estimators with lower MSE pref...   \n",
              "1  2019-09-06 12:52:32  How to interpret the result from local sensiti...   \n",
              "2  2019-08-25 08:54:17      Power Analysis in G-Power - Mixed Model Anova   \n",
              "3  2019-08-24 09:57:01                                                NaN   \n",
              "4  2019-08-24 12:13:46                                                NaN   \n",
              "\n",
              "                                 Tags AnswerCount  CommentCount  \\\n",
              "0     <bias><unbiased-estimator><mse>           1             0   \n",
              "1  <sensitivity-analysis><elasticity>           1             0   \n",
              "2                     <anova><gpower>           2             0   \n",
              "3                                 NaN           0             0   \n",
              "4                                 NaN           0             1   \n",
              "\n",
              "   FavoriteCount           ClosedDate CommunityOwnedDate  \n",
              "0              1  2019-08-25 10:25:24                NaN  \n",
              "1              0                  NaN                NaN  \n",
              "2              0                  NaN                NaN  \n",
              "3              0                  NaN                NaN  \n",
              "4              0                  NaN                NaN  \n",
              "\n",
              "[5 rows x 21 columns]"
            ],
            "text/html": [
              "\n",
              "  <div id=\"df-edeab1ba-df7a-453d-bb19-1c2a0040c185\" class=\"colab-df-container\">\n",
              "    <div>\n",
              "<style scoped>\n",
              "    .dataframe tbody tr th:only-of-type {\n",
              "        vertical-align: middle;\n",
              "    }\n",
              "\n",
              "    .dataframe tbody tr th {\n",
              "        vertical-align: top;\n",
              "    }\n",
              "\n",
              "    .dataframe thead th {\n",
              "        text-align: right;\n",
              "    }\n",
              "</style>\n",
              "<table border=\"1\" class=\"dataframe\">\n",
              "  <thead>\n",
              "    <tr style=\"text-align: right;\">\n",
              "      <th></th>\n",
              "      <th>Id</th>\n",
              "      <th>PostTypeId</th>\n",
              "      <th>AcceptedAnswerId</th>\n",
              "      <th>ParentId</th>\n",
              "      <th>CreationDate</th>\n",
              "      <th>Score</th>\n",
              "      <th>ViewCount</th>\n",
              "      <th>Body</th>\n",
              "      <th>OwnerUserId</th>\n",
              "      <th>OwnerDisplayName</th>\n",
              "      <th>...</th>\n",
              "      <th>LastEditorDisplayName</th>\n",
              "      <th>LastEditDate</th>\n",
              "      <th>LastActivityDate</th>\n",
              "      <th>Title</th>\n",
              "      <th>Tags</th>\n",
              "      <th>AnswerCount</th>\n",
              "      <th>CommentCount</th>\n",
              "      <th>FavoriteCount</th>\n",
              "      <th>ClosedDate</th>\n",
              "      <th>CommunityOwnedDate</th>\n",
              "    </tr>\n",
              "  </thead>\n",
              "  <tbody>\n",
              "    <tr>\n",
              "      <th>0</th>\n",
              "      <td>423497</td>\n",
              "      <td>1</td>\n",
              "      <td>423511</td>\n",
              "      <td>0</td>\n",
              "      <td>2019-08-24 09:39:31</td>\n",
              "      <td>2</td>\n",
              "      <td>68</td>\n",
              "      <td>&lt;p&gt;From wikipedia &lt;a href=\"https://en.wikipedi...</td>\n",
              "      <td>64552</td>\n",
              "      <td>NaN</td>\n",
              "      <td>...</td>\n",
              "      <td>NaN</td>\n",
              "      <td>NaN</td>\n",
              "      <td>2019-08-24 11:38:54</td>\n",
              "      <td>When are biased estimators with lower MSE pref...</td>\n",
              "      <td>&lt;bias&gt;&lt;unbiased-estimator&gt;&lt;mse&gt;</td>\n",
              "      <td>1</td>\n",
              "      <td>0</td>\n",
              "      <td>1</td>\n",
              "      <td>2019-08-25 10:25:24</td>\n",
              "      <td>NaN</td>\n",
              "    </tr>\n",
              "    <tr>\n",
              "      <th>1</th>\n",
              "      <td>423498</td>\n",
              "      <td>1</td>\n",
              "      <td>0</td>\n",
              "      <td>0</td>\n",
              "      <td>2019-08-24 09:47:42</td>\n",
              "      <td>1</td>\n",
              "      <td>24</td>\n",
              "      <td>&lt;p&gt;I am currently doing local sensitivity anal...</td>\n",
              "      <td>87231</td>\n",
              "      <td>NaN</td>\n",
              "      <td>...</td>\n",
              "      <td>NaN</td>\n",
              "      <td>2019-09-06 12:52:32</td>\n",
              "      <td>2019-09-06 12:52:32</td>\n",
              "      <td>How to interpret the result from local sensiti...</td>\n",
              "      <td>&lt;sensitivity-analysis&gt;&lt;elasticity&gt;</td>\n",
              "      <td>1</td>\n",
              "      <td>0</td>\n",
              "      <td>0</td>\n",
              "      <td>NaN</td>\n",
              "      <td>NaN</td>\n",
              "    </tr>\n",
              "    <tr>\n",
              "      <th>2</th>\n",
              "      <td>423499</td>\n",
              "      <td>1</td>\n",
              "      <td>0</td>\n",
              "      <td>0</td>\n",
              "      <td>2019-08-24 09:48:26</td>\n",
              "      <td>1</td>\n",
              "      <td>56</td>\n",
              "      <td>&lt;p&gt;I'm an honours student in psychology doing ...</td>\n",
              "      <td>257207</td>\n",
              "      <td>NaN</td>\n",
              "      <td>...</td>\n",
              "      <td>NaN</td>\n",
              "      <td>NaN</td>\n",
              "      <td>2019-08-25 08:54:17</td>\n",
              "      <td>Power Analysis in G-Power - Mixed Model Anova</td>\n",
              "      <td>&lt;anova&gt;&lt;gpower&gt;</td>\n",
              "      <td>2</td>\n",
              "      <td>0</td>\n",
              "      <td>0</td>\n",
              "      <td>NaN</td>\n",
              "      <td>NaN</td>\n",
              "    </tr>\n",
              "    <tr>\n",
              "      <th>3</th>\n",
              "      <td>423500</td>\n",
              "      <td>2</td>\n",
              "      <td>0</td>\n",
              "      <td>215865</td>\n",
              "      <td>2019-08-24 09:57:01</td>\n",
              "      <td>0</td>\n",
              "      <td>0</td>\n",
              "      <td>&lt;p&gt;Maybe you can look this &lt;a href=\"https://me...</td>\n",
              "      <td>106606</td>\n",
              "      <td>NaN</td>\n",
              "      <td>...</td>\n",
              "      <td>NaN</td>\n",
              "      <td>NaN</td>\n",
              "      <td>2019-08-24 09:57:01</td>\n",
              "      <td>NaN</td>\n",
              "      <td>NaN</td>\n",
              "      <td>0</td>\n",
              "      <td>0</td>\n",
              "      <td>0</td>\n",
              "      <td>NaN</td>\n",
              "      <td>NaN</td>\n",
              "    </tr>\n",
              "    <tr>\n",
              "      <th>4</th>\n",
              "      <td>423502</td>\n",
              "      <td>2</td>\n",
              "      <td>0</td>\n",
              "      <td>423286</td>\n",
              "      <td>2019-08-24 10:44:52</td>\n",
              "      <td>3</td>\n",
              "      <td>0</td>\n",
              "      <td>&lt;blockquote&gt;\\n  &lt;p&gt;Q1) Is my approach valid?&lt;/...</td>\n",
              "      <td>220643</td>\n",
              "      <td>NaN</td>\n",
              "      <td>...</td>\n",
              "      <td>NaN</td>\n",
              "      <td>2019-08-24 12:13:46</td>\n",
              "      <td>2019-08-24 12:13:46</td>\n",
              "      <td>NaN</td>\n",
              "      <td>NaN</td>\n",
              "      <td>0</td>\n",
              "      <td>1</td>\n",
              "      <td>0</td>\n",
              "      <td>NaN</td>\n",
              "      <td>NaN</td>\n",
              "    </tr>\n",
              "  </tbody>\n",
              "</table>\n",
              "<p>5 rows × 21 columns</p>\n",
              "</div>\n",
              "    <div class=\"colab-df-buttons\">\n",
              "\n",
              "  <div class=\"colab-df-container\">\n",
              "    <button class=\"colab-df-convert\" onclick=\"convertToInteractive('df-edeab1ba-df7a-453d-bb19-1c2a0040c185')\"\n",
              "            title=\"Convert this dataframe to an interactive table.\"\n",
              "            style=\"display:none;\">\n",
              "\n",
              "  <svg xmlns=\"http://www.w3.org/2000/svg\" height=\"24px\" viewBox=\"0 -960 960 960\">\n",
              "    <path d=\"M120-120v-720h720v720H120Zm60-500h600v-160H180v160Zm220 220h160v-160H400v160Zm0 220h160v-160H400v160ZM180-400h160v-160H180v160Zm440 0h160v-160H620v160ZM180-180h160v-160H180v160Zm440 0h160v-160H620v160Z\"/>\n",
              "  </svg>\n",
              "    </button>\n",
              "\n",
              "  <style>\n",
              "    .colab-df-container {\n",
              "      display:flex;\n",
              "      gap: 12px;\n",
              "    }\n",
              "\n",
              "    .colab-df-convert {\n",
              "      background-color: #E8F0FE;\n",
              "      border: none;\n",
              "      border-radius: 50%;\n",
              "      cursor: pointer;\n",
              "      display: none;\n",
              "      fill: #1967D2;\n",
              "      height: 32px;\n",
              "      padding: 0 0 0 0;\n",
              "      width: 32px;\n",
              "    }\n",
              "\n",
              "    .colab-df-convert:hover {\n",
              "      background-color: #E2EBFA;\n",
              "      box-shadow: 0px 1px 2px rgba(60, 64, 67, 0.3), 0px 1px 3px 1px rgba(60, 64, 67, 0.15);\n",
              "      fill: #174EA6;\n",
              "    }\n",
              "\n",
              "    .colab-df-buttons div {\n",
              "      margin-bottom: 4px;\n",
              "    }\n",
              "\n",
              "    [theme=dark] .colab-df-convert {\n",
              "      background-color: #3B4455;\n",
              "      fill: #D2E3FC;\n",
              "    }\n",
              "\n",
              "    [theme=dark] .colab-df-convert:hover {\n",
              "      background-color: #434B5C;\n",
              "      box-shadow: 0px 1px 3px 1px rgba(0, 0, 0, 0.15);\n",
              "      filter: drop-shadow(0px 1px 2px rgba(0, 0, 0, 0.3));\n",
              "      fill: #FFFFFF;\n",
              "    }\n",
              "  </style>\n",
              "\n",
              "    <script>\n",
              "      const buttonEl =\n",
              "        document.querySelector('#df-edeab1ba-df7a-453d-bb19-1c2a0040c185 button.colab-df-convert');\n",
              "      buttonEl.style.display =\n",
              "        google.colab.kernel.accessAllowed ? 'block' : 'none';\n",
              "\n",
              "      async function convertToInteractive(key) {\n",
              "        const element = document.querySelector('#df-edeab1ba-df7a-453d-bb19-1c2a0040c185');\n",
              "        const dataTable =\n",
              "          await google.colab.kernel.invokeFunction('convertToInteractive',\n",
              "                                                    [key], {});\n",
              "        if (!dataTable) return;\n",
              "\n",
              "        const docLinkHtml = 'Like what you see? Visit the ' +\n",
              "          '<a target=\"_blank\" href=https://colab.research.google.com/notebooks/data_table.ipynb>data table notebook</a>'\n",
              "          + ' to learn more about interactive tables.';\n",
              "        element.innerHTML = '';\n",
              "        dataTable['output_type'] = 'display_data';\n",
              "        await google.colab.output.renderOutput(dataTable, element);\n",
              "        const docLink = document.createElement('div');\n",
              "        docLink.innerHTML = docLinkHtml;\n",
              "        element.appendChild(docLink);\n",
              "      }\n",
              "    </script>\n",
              "  </div>\n",
              "\n",
              "\n",
              "<div id=\"df-dc57b64f-e9d5-4047-9bfa-db8bfc70792c\">\n",
              "  <button class=\"colab-df-quickchart\" onclick=\"quickchart('df-dc57b64f-e9d5-4047-9bfa-db8bfc70792c')\"\n",
              "            title=\"Suggest charts\"\n",
              "            style=\"display:none;\">\n",
              "\n",
              "<svg xmlns=\"http://www.w3.org/2000/svg\" height=\"24px\"viewBox=\"0 0 24 24\"\n",
              "     width=\"24px\">\n",
              "    <g>\n",
              "        <path d=\"M19 3H5c-1.1 0-2 .9-2 2v14c0 1.1.9 2 2 2h14c1.1 0 2-.9 2-2V5c0-1.1-.9-2-2-2zM9 17H7v-7h2v7zm4 0h-2V7h2v10zm4 0h-2v-4h2v4z\"/>\n",
              "    </g>\n",
              "</svg>\n",
              "  </button>\n",
              "\n",
              "<style>\n",
              "  .colab-df-quickchart {\n",
              "      --bg-color: #E8F0FE;\n",
              "      --fill-color: #1967D2;\n",
              "      --hover-bg-color: #E2EBFA;\n",
              "      --hover-fill-color: #174EA6;\n",
              "      --disabled-fill-color: #AAA;\n",
              "      --disabled-bg-color: #DDD;\n",
              "  }\n",
              "\n",
              "  [theme=dark] .colab-df-quickchart {\n",
              "      --bg-color: #3B4455;\n",
              "      --fill-color: #D2E3FC;\n",
              "      --hover-bg-color: #434B5C;\n",
              "      --hover-fill-color: #FFFFFF;\n",
              "      --disabled-bg-color: #3B4455;\n",
              "      --disabled-fill-color: #666;\n",
              "  }\n",
              "\n",
              "  .colab-df-quickchart {\n",
              "    background-color: var(--bg-color);\n",
              "    border: none;\n",
              "    border-radius: 50%;\n",
              "    cursor: pointer;\n",
              "    display: none;\n",
              "    fill: var(--fill-color);\n",
              "    height: 32px;\n",
              "    padding: 0;\n",
              "    width: 32px;\n",
              "  }\n",
              "\n",
              "  .colab-df-quickchart:hover {\n",
              "    background-color: var(--hover-bg-color);\n",
              "    box-shadow: 0 1px 2px rgba(60, 64, 67, 0.3), 0 1px 3px 1px rgba(60, 64, 67, 0.15);\n",
              "    fill: var(--button-hover-fill-color);\n",
              "  }\n",
              "\n",
              "  .colab-df-quickchart-complete:disabled,\n",
              "  .colab-df-quickchart-complete:disabled:hover {\n",
              "    background-color: var(--disabled-bg-color);\n",
              "    fill: var(--disabled-fill-color);\n",
              "    box-shadow: none;\n",
              "  }\n",
              "\n",
              "  .colab-df-spinner {\n",
              "    border: 2px solid var(--fill-color);\n",
              "    border-color: transparent;\n",
              "    border-bottom-color: var(--fill-color);\n",
              "    animation:\n",
              "      spin 1s steps(1) infinite;\n",
              "  }\n",
              "\n",
              "  @keyframes spin {\n",
              "    0% {\n",
              "      border-color: transparent;\n",
              "      border-bottom-color: var(--fill-color);\n",
              "      border-left-color: var(--fill-color);\n",
              "    }\n",
              "    20% {\n",
              "      border-color: transparent;\n",
              "      border-left-color: var(--fill-color);\n",
              "      border-top-color: var(--fill-color);\n",
              "    }\n",
              "    30% {\n",
              "      border-color: transparent;\n",
              "      border-left-color: var(--fill-color);\n",
              "      border-top-color: var(--fill-color);\n",
              "      border-right-color: var(--fill-color);\n",
              "    }\n",
              "    40% {\n",
              "      border-color: transparent;\n",
              "      border-right-color: var(--fill-color);\n",
              "      border-top-color: var(--fill-color);\n",
              "    }\n",
              "    60% {\n",
              "      border-color: transparent;\n",
              "      border-right-color: var(--fill-color);\n",
              "    }\n",
              "    80% {\n",
              "      border-color: transparent;\n",
              "      border-right-color: var(--fill-color);\n",
              "      border-bottom-color: var(--fill-color);\n",
              "    }\n",
              "    90% {\n",
              "      border-color: transparent;\n",
              "      border-bottom-color: var(--fill-color);\n",
              "    }\n",
              "  }\n",
              "</style>\n",
              "\n",
              "  <script>\n",
              "    async function quickchart(key) {\n",
              "      const quickchartButtonEl =\n",
              "        document.querySelector('#' + key + ' button');\n",
              "      quickchartButtonEl.disabled = true;  // To prevent multiple clicks.\n",
              "      quickchartButtonEl.classList.add('colab-df-spinner');\n",
              "      try {\n",
              "        const charts = await google.colab.kernel.invokeFunction(\n",
              "            'suggestCharts', [key], {});\n",
              "      } catch (error) {\n",
              "        console.error('Error during call to suggestCharts:', error);\n",
              "      }\n",
              "      quickchartButtonEl.classList.remove('colab-df-spinner');\n",
              "      quickchartButtonEl.classList.add('colab-df-quickchart-complete');\n",
              "    }\n",
              "    (() => {\n",
              "      let quickchartButtonEl =\n",
              "        document.querySelector('#df-dc57b64f-e9d5-4047-9bfa-db8bfc70792c button');\n",
              "      quickchartButtonEl.style.display =\n",
              "        google.colab.kernel.accessAllowed ? 'block' : 'none';\n",
              "    })();\n",
              "  </script>\n",
              "</div>\n",
              "    </div>\n",
              "  </div>\n"
            ],
            "application/vnd.google.colaboratory.intrinsic+json": {
              "type": "dataframe",
              "variable_name": "posts"
            }
          },
          "metadata": {},
          "execution_count": 6
        }
      ],
      "source": [
        "# TODO\n",
        "posts = pd.read_csv('posts.csv')\n",
        "posts.head()"
      ]
    },
    {
      "cell_type": "code",
      "execution_count": 7,
      "metadata": {
        "colab": {
          "base_uri": "https://localhost:8080/",
          "height": 347
        },
        "id": "JSPwwaWq7Wvp",
        "outputId": "7b4f9d07-651e-44d4-c4a8-08ff15d7a593"
      },
      "outputs": [
        {
          "output_type": "execute_result",
          "data": {
            "text/plain": [
              "       Id  Reputation         CreationDate DisplayName       LastAccessDate  \\\n",
              "0  157607          31  2017-04-17 14:50:42  user157607  2019-07-23 16:44:08   \n",
              "1  157656         101  2017-04-17 20:08:20  user102859  2019-06-26 13:42:13   \n",
              "2  157704         133  2017-04-18 05:10:47      jupiar  2019-11-25 13:32:27   \n",
              "3  157709         155  2017-04-18 06:39:18      farmer  2019-02-17 19:44:24   \n",
              "4  157755         101  2017-04-18 12:56:17      Miki P  2019-08-12 17:02:21   \n",
              "\n",
              "  WebsiteUrl         Location  \\\n",
              "0        NaN              NaN   \n",
              "1        NaN              NaN   \n",
              "2        NaN  Shanghai, China   \n",
              "3        NaN              NaN   \n",
              "4        NaN              NaN   \n",
              "\n",
              "                                             AboutMe  Views  UpVotes  \\\n",
              "0                                                NaN      0        0   \n",
              "1                                                NaN      3        0   \n",
              "2  <p>Originally from the U.K, I have an Undergra...      1        1   \n",
              "3                                                NaN     16        0   \n",
              "4                                                NaN      1        9   \n",
              "\n",
              "   DownVotes                                    ProfileImageUrl  AccountId  \n",
              "0          0  https://www.gravatar.com/avatar/2efb161849efa4...   10705183  \n",
              "1          0      https://i.stack.imgur.com/eY4ka.jpg?s=128&g=1   10567606  \n",
              "2          0  https://www.gravatar.com/avatar/720e20205122c5...    9501631  \n",
              "3          0  https://www.gravatar.com/avatar/0f8c4bde3d8f25...   10709837  \n",
              "4          0  https://www.gravatar.com/avatar/af088558cd81c5...    7969290  "
            ],
            "text/html": [
              "\n",
              "  <div id=\"df-14daa497-ffe3-496c-87e9-b1f38836b1fd\" class=\"colab-df-container\">\n",
              "    <div>\n",
              "<style scoped>\n",
              "    .dataframe tbody tr th:only-of-type {\n",
              "        vertical-align: middle;\n",
              "    }\n",
              "\n",
              "    .dataframe tbody tr th {\n",
              "        vertical-align: top;\n",
              "    }\n",
              "\n",
              "    .dataframe thead th {\n",
              "        text-align: right;\n",
              "    }\n",
              "</style>\n",
              "<table border=\"1\" class=\"dataframe\">\n",
              "  <thead>\n",
              "    <tr style=\"text-align: right;\">\n",
              "      <th></th>\n",
              "      <th>Id</th>\n",
              "      <th>Reputation</th>\n",
              "      <th>CreationDate</th>\n",
              "      <th>DisplayName</th>\n",
              "      <th>LastAccessDate</th>\n",
              "      <th>WebsiteUrl</th>\n",
              "      <th>Location</th>\n",
              "      <th>AboutMe</th>\n",
              "      <th>Views</th>\n",
              "      <th>UpVotes</th>\n",
              "      <th>DownVotes</th>\n",
              "      <th>ProfileImageUrl</th>\n",
              "      <th>AccountId</th>\n",
              "    </tr>\n",
              "  </thead>\n",
              "  <tbody>\n",
              "    <tr>\n",
              "      <th>0</th>\n",
              "      <td>157607</td>\n",
              "      <td>31</td>\n",
              "      <td>2017-04-17 14:50:42</td>\n",
              "      <td>user157607</td>\n",
              "      <td>2019-07-23 16:44:08</td>\n",
              "      <td>NaN</td>\n",
              "      <td>NaN</td>\n",
              "      <td>NaN</td>\n",
              "      <td>0</td>\n",
              "      <td>0</td>\n",
              "      <td>0</td>\n",
              "      <td>https://www.gravatar.com/avatar/2efb161849efa4...</td>\n",
              "      <td>10705183</td>\n",
              "    </tr>\n",
              "    <tr>\n",
              "      <th>1</th>\n",
              "      <td>157656</td>\n",
              "      <td>101</td>\n",
              "      <td>2017-04-17 20:08:20</td>\n",
              "      <td>user102859</td>\n",
              "      <td>2019-06-26 13:42:13</td>\n",
              "      <td>NaN</td>\n",
              "      <td>NaN</td>\n",
              "      <td>NaN</td>\n",
              "      <td>3</td>\n",
              "      <td>0</td>\n",
              "      <td>0</td>\n",
              "      <td>https://i.stack.imgur.com/eY4ka.jpg?s=128&amp;g=1</td>\n",
              "      <td>10567606</td>\n",
              "    </tr>\n",
              "    <tr>\n",
              "      <th>2</th>\n",
              "      <td>157704</td>\n",
              "      <td>133</td>\n",
              "      <td>2017-04-18 05:10:47</td>\n",
              "      <td>jupiar</td>\n",
              "      <td>2019-11-25 13:32:27</td>\n",
              "      <td>NaN</td>\n",
              "      <td>Shanghai, China</td>\n",
              "      <td>&lt;p&gt;Originally from the U.K, I have an Undergra...</td>\n",
              "      <td>1</td>\n",
              "      <td>1</td>\n",
              "      <td>0</td>\n",
              "      <td>https://www.gravatar.com/avatar/720e20205122c5...</td>\n",
              "      <td>9501631</td>\n",
              "    </tr>\n",
              "    <tr>\n",
              "      <th>3</th>\n",
              "      <td>157709</td>\n",
              "      <td>155</td>\n",
              "      <td>2017-04-18 06:39:18</td>\n",
              "      <td>farmer</td>\n",
              "      <td>2019-02-17 19:44:24</td>\n",
              "      <td>NaN</td>\n",
              "      <td>NaN</td>\n",
              "      <td>NaN</td>\n",
              "      <td>16</td>\n",
              "      <td>0</td>\n",
              "      <td>0</td>\n",
              "      <td>https://www.gravatar.com/avatar/0f8c4bde3d8f25...</td>\n",
              "      <td>10709837</td>\n",
              "    </tr>\n",
              "    <tr>\n",
              "      <th>4</th>\n",
              "      <td>157755</td>\n",
              "      <td>101</td>\n",
              "      <td>2017-04-18 12:56:17</td>\n",
              "      <td>Miki P</td>\n",
              "      <td>2019-08-12 17:02:21</td>\n",
              "      <td>NaN</td>\n",
              "      <td>NaN</td>\n",
              "      <td>NaN</td>\n",
              "      <td>1</td>\n",
              "      <td>9</td>\n",
              "      <td>0</td>\n",
              "      <td>https://www.gravatar.com/avatar/af088558cd81c5...</td>\n",
              "      <td>7969290</td>\n",
              "    </tr>\n",
              "  </tbody>\n",
              "</table>\n",
              "</div>\n",
              "    <div class=\"colab-df-buttons\">\n",
              "\n",
              "  <div class=\"colab-df-container\">\n",
              "    <button class=\"colab-df-convert\" onclick=\"convertToInteractive('df-14daa497-ffe3-496c-87e9-b1f38836b1fd')\"\n",
              "            title=\"Convert this dataframe to an interactive table.\"\n",
              "            style=\"display:none;\">\n",
              "\n",
              "  <svg xmlns=\"http://www.w3.org/2000/svg\" height=\"24px\" viewBox=\"0 -960 960 960\">\n",
              "    <path d=\"M120-120v-720h720v720H120Zm60-500h600v-160H180v160Zm220 220h160v-160H400v160Zm0 220h160v-160H400v160ZM180-400h160v-160H180v160Zm440 0h160v-160H620v160ZM180-180h160v-160H180v160Zm440 0h160v-160H620v160Z\"/>\n",
              "  </svg>\n",
              "    </button>\n",
              "\n",
              "  <style>\n",
              "    .colab-df-container {\n",
              "      display:flex;\n",
              "      gap: 12px;\n",
              "    }\n",
              "\n",
              "    .colab-df-convert {\n",
              "      background-color: #E8F0FE;\n",
              "      border: none;\n",
              "      border-radius: 50%;\n",
              "      cursor: pointer;\n",
              "      display: none;\n",
              "      fill: #1967D2;\n",
              "      height: 32px;\n",
              "      padding: 0 0 0 0;\n",
              "      width: 32px;\n",
              "    }\n",
              "\n",
              "    .colab-df-convert:hover {\n",
              "      background-color: #E2EBFA;\n",
              "      box-shadow: 0px 1px 2px rgba(60, 64, 67, 0.3), 0px 1px 3px 1px rgba(60, 64, 67, 0.15);\n",
              "      fill: #174EA6;\n",
              "    }\n",
              "\n",
              "    .colab-df-buttons div {\n",
              "      margin-bottom: 4px;\n",
              "    }\n",
              "\n",
              "    [theme=dark] .colab-df-convert {\n",
              "      background-color: #3B4455;\n",
              "      fill: #D2E3FC;\n",
              "    }\n",
              "\n",
              "    [theme=dark] .colab-df-convert:hover {\n",
              "      background-color: #434B5C;\n",
              "      box-shadow: 0px 1px 3px 1px rgba(0, 0, 0, 0.15);\n",
              "      filter: drop-shadow(0px 1px 2px rgba(0, 0, 0, 0.3));\n",
              "      fill: #FFFFFF;\n",
              "    }\n",
              "  </style>\n",
              "\n",
              "    <script>\n",
              "      const buttonEl =\n",
              "        document.querySelector('#df-14daa497-ffe3-496c-87e9-b1f38836b1fd button.colab-df-convert');\n",
              "      buttonEl.style.display =\n",
              "        google.colab.kernel.accessAllowed ? 'block' : 'none';\n",
              "\n",
              "      async function convertToInteractive(key) {\n",
              "        const element = document.querySelector('#df-14daa497-ffe3-496c-87e9-b1f38836b1fd');\n",
              "        const dataTable =\n",
              "          await google.colab.kernel.invokeFunction('convertToInteractive',\n",
              "                                                    [key], {});\n",
              "        if (!dataTable) return;\n",
              "\n",
              "        const docLinkHtml = 'Like what you see? Visit the ' +\n",
              "          '<a target=\"_blank\" href=https://colab.research.google.com/notebooks/data_table.ipynb>data table notebook</a>'\n",
              "          + ' to learn more about interactive tables.';\n",
              "        element.innerHTML = '';\n",
              "        dataTable['output_type'] = 'display_data';\n",
              "        await google.colab.output.renderOutput(dataTable, element);\n",
              "        const docLink = document.createElement('div');\n",
              "        docLink.innerHTML = docLinkHtml;\n",
              "        element.appendChild(docLink);\n",
              "      }\n",
              "    </script>\n",
              "  </div>\n",
              "\n",
              "\n",
              "<div id=\"df-982a2016-d024-4761-985f-d1f813b2253a\">\n",
              "  <button class=\"colab-df-quickchart\" onclick=\"quickchart('df-982a2016-d024-4761-985f-d1f813b2253a')\"\n",
              "            title=\"Suggest charts\"\n",
              "            style=\"display:none;\">\n",
              "\n",
              "<svg xmlns=\"http://www.w3.org/2000/svg\" height=\"24px\"viewBox=\"0 0 24 24\"\n",
              "     width=\"24px\">\n",
              "    <g>\n",
              "        <path d=\"M19 3H5c-1.1 0-2 .9-2 2v14c0 1.1.9 2 2 2h14c1.1 0 2-.9 2-2V5c0-1.1-.9-2-2-2zM9 17H7v-7h2v7zm4 0h-2V7h2v10zm4 0h-2v-4h2v4z\"/>\n",
              "    </g>\n",
              "</svg>\n",
              "  </button>\n",
              "\n",
              "<style>\n",
              "  .colab-df-quickchart {\n",
              "      --bg-color: #E8F0FE;\n",
              "      --fill-color: #1967D2;\n",
              "      --hover-bg-color: #E2EBFA;\n",
              "      --hover-fill-color: #174EA6;\n",
              "      --disabled-fill-color: #AAA;\n",
              "      --disabled-bg-color: #DDD;\n",
              "  }\n",
              "\n",
              "  [theme=dark] .colab-df-quickchart {\n",
              "      --bg-color: #3B4455;\n",
              "      --fill-color: #D2E3FC;\n",
              "      --hover-bg-color: #434B5C;\n",
              "      --hover-fill-color: #FFFFFF;\n",
              "      --disabled-bg-color: #3B4455;\n",
              "      --disabled-fill-color: #666;\n",
              "  }\n",
              "\n",
              "  .colab-df-quickchart {\n",
              "    background-color: var(--bg-color);\n",
              "    border: none;\n",
              "    border-radius: 50%;\n",
              "    cursor: pointer;\n",
              "    display: none;\n",
              "    fill: var(--fill-color);\n",
              "    height: 32px;\n",
              "    padding: 0;\n",
              "    width: 32px;\n",
              "  }\n",
              "\n",
              "  .colab-df-quickchart:hover {\n",
              "    background-color: var(--hover-bg-color);\n",
              "    box-shadow: 0 1px 2px rgba(60, 64, 67, 0.3), 0 1px 3px 1px rgba(60, 64, 67, 0.15);\n",
              "    fill: var(--button-hover-fill-color);\n",
              "  }\n",
              "\n",
              "  .colab-df-quickchart-complete:disabled,\n",
              "  .colab-df-quickchart-complete:disabled:hover {\n",
              "    background-color: var(--disabled-bg-color);\n",
              "    fill: var(--disabled-fill-color);\n",
              "    box-shadow: none;\n",
              "  }\n",
              "\n",
              "  .colab-df-spinner {\n",
              "    border: 2px solid var(--fill-color);\n",
              "    border-color: transparent;\n",
              "    border-bottom-color: var(--fill-color);\n",
              "    animation:\n",
              "      spin 1s steps(1) infinite;\n",
              "  }\n",
              "\n",
              "  @keyframes spin {\n",
              "    0% {\n",
              "      border-color: transparent;\n",
              "      border-bottom-color: var(--fill-color);\n",
              "      border-left-color: var(--fill-color);\n",
              "    }\n",
              "    20% {\n",
              "      border-color: transparent;\n",
              "      border-left-color: var(--fill-color);\n",
              "      border-top-color: var(--fill-color);\n",
              "    }\n",
              "    30% {\n",
              "      border-color: transparent;\n",
              "      border-left-color: var(--fill-color);\n",
              "      border-top-color: var(--fill-color);\n",
              "      border-right-color: var(--fill-color);\n",
              "    }\n",
              "    40% {\n",
              "      border-color: transparent;\n",
              "      border-right-color: var(--fill-color);\n",
              "      border-top-color: var(--fill-color);\n",
              "    }\n",
              "    60% {\n",
              "      border-color: transparent;\n",
              "      border-right-color: var(--fill-color);\n",
              "    }\n",
              "    80% {\n",
              "      border-color: transparent;\n",
              "      border-right-color: var(--fill-color);\n",
              "      border-bottom-color: var(--fill-color);\n",
              "    }\n",
              "    90% {\n",
              "      border-color: transparent;\n",
              "      border-bottom-color: var(--fill-color);\n",
              "    }\n",
              "  }\n",
              "</style>\n",
              "\n",
              "  <script>\n",
              "    async function quickchart(key) {\n",
              "      const quickchartButtonEl =\n",
              "        document.querySelector('#' + key + ' button');\n",
              "      quickchartButtonEl.disabled = true;  // To prevent multiple clicks.\n",
              "      quickchartButtonEl.classList.add('colab-df-spinner');\n",
              "      try {\n",
              "        const charts = await google.colab.kernel.invokeFunction(\n",
              "            'suggestCharts', [key], {});\n",
              "      } catch (error) {\n",
              "        console.error('Error during call to suggestCharts:', error);\n",
              "      }\n",
              "      quickchartButtonEl.classList.remove('colab-df-spinner');\n",
              "      quickchartButtonEl.classList.add('colab-df-quickchart-complete');\n",
              "    }\n",
              "    (() => {\n",
              "      let quickchartButtonEl =\n",
              "        document.querySelector('#df-982a2016-d024-4761-985f-d1f813b2253a button');\n",
              "      quickchartButtonEl.style.display =\n",
              "        google.colab.kernel.accessAllowed ? 'block' : 'none';\n",
              "    })();\n",
              "  </script>\n",
              "</div>\n",
              "    </div>\n",
              "  </div>\n"
            ],
            "application/vnd.google.colaboratory.intrinsic+json": {
              "type": "dataframe",
              "variable_name": "users",
              "summary": "{\n  \"name\": \"users\",\n  \"rows\": 18412,\n  \"fields\": [\n    {\n      \"column\": \"Id\",\n      \"properties\": {\n        \"dtype\": \"number\",\n        \"std\": 75825,\n        \"min\": -1,\n        \"max\": 267322,\n        \"num_unique_values\": 18412,\n        \"samples\": [\n          67860,\n          36738,\n          179924\n        ],\n        \"semantic_type\": \"\",\n        \"description\": \"\"\n      }\n    },\n    {\n      \"column\": \"Reputation\",\n      \"properties\": {\n        \"dtype\": \"number\",\n        \"std\": 3307,\n        \"min\": 1,\n        \"max\": 228662,\n        \"num_unique_values\": 1301,\n        \"samples\": [\n          579,\n          7773,\n          2237\n        ],\n        \"semantic_type\": \"\",\n        \"description\": \"\"\n      }\n    },\n    {\n      \"column\": \"CreationDate\",\n      \"properties\": {\n        \"dtype\": \"object\",\n        \"num_unique_values\": 18411,\n        \"samples\": [\n          \"2015-01-31 07:58:27\",\n          \"2013-12-31 19:31:26\",\n          \"2017-10-07 10:04:05\"\n        ],\n        \"semantic_type\": \"\",\n        \"description\": \"\"\n      }\n    },\n    {\n      \"column\": \"DisplayName\",\n      \"properties\": {\n        \"dtype\": \"string\",\n        \"num_unique_values\": 17066,\n        \"samples\": [\n          \"dizq22\",\n          \"S.Gradit\",\n          \"ANKIT BISHT\"\n        ],\n        \"semantic_type\": \"\",\n        \"description\": \"\"\n      }\n    },\n    {\n      \"column\": \"LastAccessDate\",\n      \"properties\": {\n        \"dtype\": \"object\",\n        \"num_unique_values\": 18381,\n        \"samples\": [\n          \"2019-11-21 15:22:38\",\n          \"2019-11-29 15:36:19\",\n          \"2019-06-23 00:41:36\"\n        ],\n        \"semantic_type\": \"\",\n        \"description\": \"\"\n      }\n    },\n    {\n      \"column\": \"WebsiteUrl\",\n      \"properties\": {\n        \"dtype\": \"category\",\n        \"num_unique_values\": 1638,\n        \"samples\": [\n          \"http://www.hyamani.eu\",\n          \"http://log2.ch\",\n          \"http://blog.espol.edu.ec/nemo/\"\n        ],\n        \"semantic_type\": \"\",\n        \"description\": \"\"\n      }\n    },\n    {\n      \"column\": \"Location\",\n      \"properties\": {\n        \"dtype\": \"category\",\n        \"num_unique_values\": 1900,\n        \"samples\": [\n          \"Luxembourg\",\n          \"Berkeley, CA, United States\",\n          \"Strasbourg, France\"\n        ],\n        \"semantic_type\": \"\",\n        \"description\": \"\"\n      }\n    },\n    {\n      \"column\": \"AboutMe\",\n      \"properties\": {\n        \"dtype\": \"category\",\n        \"num_unique_values\": 3929,\n        \"samples\": [\n          \"<p>Fourth Year Undergraduate Honor's student in Physics and Computer Science</p>\\n\",\n          \"<p>Data Scientist @ Neal Analytics</p>\\n\",\n          \"<p>I have a variety of interests most of which are focused on water and soil quality and the resulting ecology. The majority of my work is focused on freshwater  wetlands but have been known to venture into the marine environment. I enjoy quantitative analysis and rely heavily on statistics. Overall I feel that I have a strong statistics background but can always learn more!!!</p>\\n\\n<p>I am ecologist with a multi-disciplinary background and can easily straddle the line between biologist and chemist.</p>\\n\"\n        ],\n        \"semantic_type\": \"\",\n        \"description\": \"\"\n      }\n    },\n    {\n      \"column\": \"Views\",\n      \"properties\": {\n        \"dtype\": \"number\",\n        \"std\": 919,\n        \"min\": 0,\n        \"max\": 85180,\n        \"num_unique_values\": 547,\n        \"samples\": [\n          52,\n          1852,\n          475\n        ],\n        \"semantic_type\": \"\",\n        \"description\": \"\"\n      }\n    },\n    {\n      \"column\": \"UpVotes\",\n      \"properties\": {\n        \"dtype\": \"number\",\n        \"std\": 527,\n        \"min\": 0,\n        \"max\": 47550,\n        \"num_unique_values\": 485,\n        \"samples\": [\n          90,\n          172,\n          301\n        ],\n        \"semantic_type\": \"\",\n        \"description\": \"\"\n      }\n    },\n    {\n      \"column\": \"DownVotes\",\n      \"properties\": {\n        \"dtype\": \"number\",\n        \"std\": 73,\n        \"min\": 0,\n        \"max\": 7620,\n        \"num_unique_values\": 120,\n        \"samples\": [\n          7,\n          92,\n          8\n        ],\n        \"semantic_type\": \"\",\n        \"description\": \"\"\n      }\n    },\n    {\n      \"column\": \"ProfileImageUrl\",\n      \"properties\": {\n        \"dtype\": \"string\",\n        \"num_unique_values\": 14681,\n        \"samples\": [\n          \"https://www.gravatar.com/avatar/d523f606e4c07824bbc8e40ee8fe369c?s=128&d=identicon&r=PG&f=1\",\n          \"https://www.gravatar.com/avatar/f88796965d6ee794c50bc4e9814ed4bc?s=128&d=identicon&r=PG&f=1\",\n          \"https://www.gravatar.com/avatar/3ee04181fab01a2763347f4cc8c06244?s=128&d=identicon&r=PG&f=1\"\n        ],\n        \"semantic_type\": \"\",\n        \"description\": \"\"\n      }\n    },\n    {\n      \"column\": \"AccountId\",\n      \"properties\": {\n        \"dtype\": \"number\",\n        \"std\": 5633054,\n        \"min\": -1,\n        \"max\": 17213801,\n        \"num_unique_values\": 18412,\n        \"samples\": [\n          380279,\n          3586979,\n          11452068\n        ],\n        \"semantic_type\": \"\",\n        \"description\": \"\"\n      }\n    }\n  ]\n}"
            }
          },
          "metadata": {},
          "execution_count": 7
        }
      ],
      "source": [
        "# TODO\n",
        "users = pd.read_csv('users.csv')\n",
        "users.head()"
      ]
    },
    {
      "cell_type": "code",
      "execution_count": 8,
      "metadata": {
        "colab": {
          "base_uri": "https://localhost:8080/"
        },
        "id": "9HSXyR8V7Wvq",
        "outputId": "d0aeca6f-995f-4915-8df5-5dda8fb86b55"
      },
      "outputs": [
        {
          "output_type": "execute_result",
          "data": {
            "text/plain": [
              "(42234, 21)"
            ]
          },
          "metadata": {},
          "execution_count": 8
        }
      ],
      "source": [
        "# TODO\n",
        "# load posts into sqlite\n",
        "posts.to_sql('posts', con, if_exists='replace', index=False)\n",
        "\n",
        "# read back in to prove that it worked\n",
        "sql = 'SELECT * FROM posts'\n",
        "posts = pd.read_sql(sql, con)\n",
        "posts.head()\n",
        "posts.shape"
      ]
    },
    {
      "cell_type": "code",
      "execution_count": 9,
      "metadata": {
        "colab": {
          "base_uri": "https://localhost:8080/"
        },
        "id": "W34A3jNr7Wvr",
        "outputId": "beecc519-b39b-4f22-81e9-2b9f92056f93"
      },
      "outputs": [
        {
          "output_type": "execute_result",
          "data": {
            "text/plain": [
              "(18412, 13)"
            ]
          },
          "metadata": {},
          "execution_count": 9
        }
      ],
      "source": [
        "# TODO\n",
        "# load posts into sqlite\n",
        "users.to_sql('users', con, if_exists='replace', index=False)\n",
        "\n",
        "# read back in to prove that it worked\n",
        "sql = 'SELECT * FROM users'\n",
        "users = pd.read_sql(sql, con)\n",
        "users.head()\n",
        "users.shape"
      ]
    },
    {
      "cell_type": "markdown",
      "metadata": {
        "id": "MT0talYo7Wvr"
      },
      "source": [
        "### **TODO**: Drop Duplicates\n",
        "Look for and drop any duplicates in all 3 of the tables (if they exist). Use Pandas to do this. If you find duplicates, you will need to rewrite the table.\n",
        "\n",
        "<div style=\"background-color:lemonchiffon; border:1px solid; padding:5px; margin:5px; font-weight:bold\"><font color=\"crimson\">\n",
        "TODO: Enter code in the following cells.\n",
        "    </font></div>"
      ]
    },
    {
      "cell_type": "code",
      "source": [
        "import pandas as pd"
      ],
      "metadata": {
        "id": "jeZ0Na0YAbj6"
      },
      "execution_count": 10,
      "outputs": []
    },
    {
      "cell_type": "code",
      "execution_count": 11,
      "metadata": {
        "id": "SOecgKXZ7Wvs"
      },
      "outputs": [],
      "source": [
        "# TODO\n",
        "if comments.duplicated().any():\n",
        "    print(\"Duplicates found in comments table. Dropping duplicates...\")\n",
        "    comments.drop_duplicates(inplace=True)"
      ]
    },
    {
      "cell_type": "code",
      "execution_count": 12,
      "metadata": {
        "id": "nRugWmnP7Wvs"
      },
      "outputs": [],
      "source": [
        "# TODO\n",
        "if posts.duplicated().any():\n",
        "    print(\"Duplicates found in posts table. Dropping duplicates...\")\n",
        "    posts.drop_duplicates(inplace=True)"
      ]
    },
    {
      "cell_type": "code",
      "execution_count": 13,
      "metadata": {
        "id": "QlcWrOlk7Wvs"
      },
      "outputs": [],
      "source": [
        "# TODO\n",
        "if users.duplicated().any():\n",
        "    print(\"Duplicates found in users table. Dropping duplicates...\")\n",
        "    users.drop_duplicates(inplace=True)"
      ]
    },
    {
      "cell_type": "markdown",
      "metadata": {
        "id": "cHWUcAZZ7Wvt"
      },
      "source": [
        "## Review the Data\n",
        "\n",
        "Spend some time reviewing the data.  Understand what data we have, think about how that data can be used to assist in the initiative of understanding how ChatData is used in the real world.  Is the data organised in a way that would lend itself to being manged in a relational database?  How would the different tables be connected?  What are the primary and foreign keys?  Would this give you a 3NF model?\n",
        "\n",
        "Also think about security and ethics.  Is there personal data in here?  Could individuals be identified through this data?  It it ethical to use the data in this way?  You will be asked to comment on these questions later!\n",
        "\n",
        "Use the code below to help you."
      ]
    },
    {
      "cell_type": "code",
      "execution_count": 14,
      "metadata": {
        "colab": {
          "base_uri": "https://localhost:8080/"
        },
        "id": "cKrbspS77Wvt",
        "outputId": "d5f8db35-9112-428a-99d5-a6b8a66aa2b7"
      },
      "outputs": [
        {
          "output_type": "execute_result",
          "data": {
            "text/plain": [
              "Index(['Id', 'Reputation', 'CreationDate', 'DisplayName', 'LastAccessDate',\n",
              "       'WebsiteUrl', 'Location', 'AboutMe', 'Views', 'UpVotes', 'DownVotes',\n",
              "       'ProfileImageUrl', 'AccountId'],\n",
              "      dtype='object')"
            ]
          },
          "metadata": {},
          "execution_count": 14
        }
      ],
      "source": [
        "users.columns"
      ]
    },
    {
      "cell_type": "code",
      "execution_count": 15,
      "metadata": {
        "colab": {
          "base_uri": "https://localhost:8080/",
          "height": 347
        },
        "id": "16Lc14Ly7Wvt",
        "outputId": "6782b68f-966d-49e3-9bae-744f48c0ee95"
      },
      "outputs": [
        {
          "output_type": "execute_result",
          "data": {
            "text/plain": [
              "       Id  Reputation         CreationDate DisplayName       LastAccessDate  \\\n",
              "0  157607          31  2017-04-17 14:50:42  user157607  2019-07-23 16:44:08   \n",
              "1  157656         101  2017-04-17 20:08:20  user102859  2019-06-26 13:42:13   \n",
              "2  157704         133  2017-04-18 05:10:47      jupiar  2019-11-25 13:32:27   \n",
              "3  157709         155  2017-04-18 06:39:18      farmer  2019-02-17 19:44:24   \n",
              "4  157755         101  2017-04-18 12:56:17      Miki P  2019-08-12 17:02:21   \n",
              "\n",
              "  WebsiteUrl         Location  \\\n",
              "0       None             None   \n",
              "1       None             None   \n",
              "2       None  Shanghai, China   \n",
              "3       None             None   \n",
              "4       None             None   \n",
              "\n",
              "                                             AboutMe  Views  UpVotes  \\\n",
              "0                                               None      0        0   \n",
              "1                                               None      3        0   \n",
              "2  <p>Originally from the U.K, I have an Undergra...      1        1   \n",
              "3                                               None     16        0   \n",
              "4                                               None      1        9   \n",
              "\n",
              "   DownVotes                                    ProfileImageUrl  AccountId  \n",
              "0          0  https://www.gravatar.com/avatar/2efb161849efa4...   10705183  \n",
              "1          0      https://i.stack.imgur.com/eY4ka.jpg?s=128&g=1   10567606  \n",
              "2          0  https://www.gravatar.com/avatar/720e20205122c5...    9501631  \n",
              "3          0  https://www.gravatar.com/avatar/0f8c4bde3d8f25...   10709837  \n",
              "4          0  https://www.gravatar.com/avatar/af088558cd81c5...    7969290  "
            ],
            "text/html": [
              "\n",
              "  <div id=\"df-0867f1d9-b2be-42ce-bd9f-56f412c65fe3\" class=\"colab-df-container\">\n",
              "    <div>\n",
              "<style scoped>\n",
              "    .dataframe tbody tr th:only-of-type {\n",
              "        vertical-align: middle;\n",
              "    }\n",
              "\n",
              "    .dataframe tbody tr th {\n",
              "        vertical-align: top;\n",
              "    }\n",
              "\n",
              "    .dataframe thead th {\n",
              "        text-align: right;\n",
              "    }\n",
              "</style>\n",
              "<table border=\"1\" class=\"dataframe\">\n",
              "  <thead>\n",
              "    <tr style=\"text-align: right;\">\n",
              "      <th></th>\n",
              "      <th>Id</th>\n",
              "      <th>Reputation</th>\n",
              "      <th>CreationDate</th>\n",
              "      <th>DisplayName</th>\n",
              "      <th>LastAccessDate</th>\n",
              "      <th>WebsiteUrl</th>\n",
              "      <th>Location</th>\n",
              "      <th>AboutMe</th>\n",
              "      <th>Views</th>\n",
              "      <th>UpVotes</th>\n",
              "      <th>DownVotes</th>\n",
              "      <th>ProfileImageUrl</th>\n",
              "      <th>AccountId</th>\n",
              "    </tr>\n",
              "  </thead>\n",
              "  <tbody>\n",
              "    <tr>\n",
              "      <th>0</th>\n",
              "      <td>157607</td>\n",
              "      <td>31</td>\n",
              "      <td>2017-04-17 14:50:42</td>\n",
              "      <td>user157607</td>\n",
              "      <td>2019-07-23 16:44:08</td>\n",
              "      <td>None</td>\n",
              "      <td>None</td>\n",
              "      <td>None</td>\n",
              "      <td>0</td>\n",
              "      <td>0</td>\n",
              "      <td>0</td>\n",
              "      <td>https://www.gravatar.com/avatar/2efb161849efa4...</td>\n",
              "      <td>10705183</td>\n",
              "    </tr>\n",
              "    <tr>\n",
              "      <th>1</th>\n",
              "      <td>157656</td>\n",
              "      <td>101</td>\n",
              "      <td>2017-04-17 20:08:20</td>\n",
              "      <td>user102859</td>\n",
              "      <td>2019-06-26 13:42:13</td>\n",
              "      <td>None</td>\n",
              "      <td>None</td>\n",
              "      <td>None</td>\n",
              "      <td>3</td>\n",
              "      <td>0</td>\n",
              "      <td>0</td>\n",
              "      <td>https://i.stack.imgur.com/eY4ka.jpg?s=128&amp;g=1</td>\n",
              "      <td>10567606</td>\n",
              "    </tr>\n",
              "    <tr>\n",
              "      <th>2</th>\n",
              "      <td>157704</td>\n",
              "      <td>133</td>\n",
              "      <td>2017-04-18 05:10:47</td>\n",
              "      <td>jupiar</td>\n",
              "      <td>2019-11-25 13:32:27</td>\n",
              "      <td>None</td>\n",
              "      <td>Shanghai, China</td>\n",
              "      <td>&lt;p&gt;Originally from the U.K, I have an Undergra...</td>\n",
              "      <td>1</td>\n",
              "      <td>1</td>\n",
              "      <td>0</td>\n",
              "      <td>https://www.gravatar.com/avatar/720e20205122c5...</td>\n",
              "      <td>9501631</td>\n",
              "    </tr>\n",
              "    <tr>\n",
              "      <th>3</th>\n",
              "      <td>157709</td>\n",
              "      <td>155</td>\n",
              "      <td>2017-04-18 06:39:18</td>\n",
              "      <td>farmer</td>\n",
              "      <td>2019-02-17 19:44:24</td>\n",
              "      <td>None</td>\n",
              "      <td>None</td>\n",
              "      <td>None</td>\n",
              "      <td>16</td>\n",
              "      <td>0</td>\n",
              "      <td>0</td>\n",
              "      <td>https://www.gravatar.com/avatar/0f8c4bde3d8f25...</td>\n",
              "      <td>10709837</td>\n",
              "    </tr>\n",
              "    <tr>\n",
              "      <th>4</th>\n",
              "      <td>157755</td>\n",
              "      <td>101</td>\n",
              "      <td>2017-04-18 12:56:17</td>\n",
              "      <td>Miki P</td>\n",
              "      <td>2019-08-12 17:02:21</td>\n",
              "      <td>None</td>\n",
              "      <td>None</td>\n",
              "      <td>None</td>\n",
              "      <td>1</td>\n",
              "      <td>9</td>\n",
              "      <td>0</td>\n",
              "      <td>https://www.gravatar.com/avatar/af088558cd81c5...</td>\n",
              "      <td>7969290</td>\n",
              "    </tr>\n",
              "  </tbody>\n",
              "</table>\n",
              "</div>\n",
              "    <div class=\"colab-df-buttons\">\n",
              "\n",
              "  <div class=\"colab-df-container\">\n",
              "    <button class=\"colab-df-convert\" onclick=\"convertToInteractive('df-0867f1d9-b2be-42ce-bd9f-56f412c65fe3')\"\n",
              "            title=\"Convert this dataframe to an interactive table.\"\n",
              "            style=\"display:none;\">\n",
              "\n",
              "  <svg xmlns=\"http://www.w3.org/2000/svg\" height=\"24px\" viewBox=\"0 -960 960 960\">\n",
              "    <path d=\"M120-120v-720h720v720H120Zm60-500h600v-160H180v160Zm220 220h160v-160H400v160Zm0 220h160v-160H400v160ZM180-400h160v-160H180v160Zm440 0h160v-160H620v160ZM180-180h160v-160H180v160Zm440 0h160v-160H620v160Z\"/>\n",
              "  </svg>\n",
              "    </button>\n",
              "\n",
              "  <style>\n",
              "    .colab-df-container {\n",
              "      display:flex;\n",
              "      gap: 12px;\n",
              "    }\n",
              "\n",
              "    .colab-df-convert {\n",
              "      background-color: #E8F0FE;\n",
              "      border: none;\n",
              "      border-radius: 50%;\n",
              "      cursor: pointer;\n",
              "      display: none;\n",
              "      fill: #1967D2;\n",
              "      height: 32px;\n",
              "      padding: 0 0 0 0;\n",
              "      width: 32px;\n",
              "    }\n",
              "\n",
              "    .colab-df-convert:hover {\n",
              "      background-color: #E2EBFA;\n",
              "      box-shadow: 0px 1px 2px rgba(60, 64, 67, 0.3), 0px 1px 3px 1px rgba(60, 64, 67, 0.15);\n",
              "      fill: #174EA6;\n",
              "    }\n",
              "\n",
              "    .colab-df-buttons div {\n",
              "      margin-bottom: 4px;\n",
              "    }\n",
              "\n",
              "    [theme=dark] .colab-df-convert {\n",
              "      background-color: #3B4455;\n",
              "      fill: #D2E3FC;\n",
              "    }\n",
              "\n",
              "    [theme=dark] .colab-df-convert:hover {\n",
              "      background-color: #434B5C;\n",
              "      box-shadow: 0px 1px 3px 1px rgba(0, 0, 0, 0.15);\n",
              "      filter: drop-shadow(0px 1px 2px rgba(0, 0, 0, 0.3));\n",
              "      fill: #FFFFFF;\n",
              "    }\n",
              "  </style>\n",
              "\n",
              "    <script>\n",
              "      const buttonEl =\n",
              "        document.querySelector('#df-0867f1d9-b2be-42ce-bd9f-56f412c65fe3 button.colab-df-convert');\n",
              "      buttonEl.style.display =\n",
              "        google.colab.kernel.accessAllowed ? 'block' : 'none';\n",
              "\n",
              "      async function convertToInteractive(key) {\n",
              "        const element = document.querySelector('#df-0867f1d9-b2be-42ce-bd9f-56f412c65fe3');\n",
              "        const dataTable =\n",
              "          await google.colab.kernel.invokeFunction('convertToInteractive',\n",
              "                                                    [key], {});\n",
              "        if (!dataTable) return;\n",
              "\n",
              "        const docLinkHtml = 'Like what you see? Visit the ' +\n",
              "          '<a target=\"_blank\" href=https://colab.research.google.com/notebooks/data_table.ipynb>data table notebook</a>'\n",
              "          + ' to learn more about interactive tables.';\n",
              "        element.innerHTML = '';\n",
              "        dataTable['output_type'] = 'display_data';\n",
              "        await google.colab.output.renderOutput(dataTable, element);\n",
              "        const docLink = document.createElement('div');\n",
              "        docLink.innerHTML = docLinkHtml;\n",
              "        element.appendChild(docLink);\n",
              "      }\n",
              "    </script>\n",
              "  </div>\n",
              "\n",
              "\n",
              "<div id=\"df-f00513ba-bfc1-4f3d-b5f7-9402cb32b44a\">\n",
              "  <button class=\"colab-df-quickchart\" onclick=\"quickchart('df-f00513ba-bfc1-4f3d-b5f7-9402cb32b44a')\"\n",
              "            title=\"Suggest charts\"\n",
              "            style=\"display:none;\">\n",
              "\n",
              "<svg xmlns=\"http://www.w3.org/2000/svg\" height=\"24px\"viewBox=\"0 0 24 24\"\n",
              "     width=\"24px\">\n",
              "    <g>\n",
              "        <path d=\"M19 3H5c-1.1 0-2 .9-2 2v14c0 1.1.9 2 2 2h14c1.1 0 2-.9 2-2V5c0-1.1-.9-2-2-2zM9 17H7v-7h2v7zm4 0h-2V7h2v10zm4 0h-2v-4h2v4z\"/>\n",
              "    </g>\n",
              "</svg>\n",
              "  </button>\n",
              "\n",
              "<style>\n",
              "  .colab-df-quickchart {\n",
              "      --bg-color: #E8F0FE;\n",
              "      --fill-color: #1967D2;\n",
              "      --hover-bg-color: #E2EBFA;\n",
              "      --hover-fill-color: #174EA6;\n",
              "      --disabled-fill-color: #AAA;\n",
              "      --disabled-bg-color: #DDD;\n",
              "  }\n",
              "\n",
              "  [theme=dark] .colab-df-quickchart {\n",
              "      --bg-color: #3B4455;\n",
              "      --fill-color: #D2E3FC;\n",
              "      --hover-bg-color: #434B5C;\n",
              "      --hover-fill-color: #FFFFFF;\n",
              "      --disabled-bg-color: #3B4455;\n",
              "      --disabled-fill-color: #666;\n",
              "  }\n",
              "\n",
              "  .colab-df-quickchart {\n",
              "    background-color: var(--bg-color);\n",
              "    border: none;\n",
              "    border-radius: 50%;\n",
              "    cursor: pointer;\n",
              "    display: none;\n",
              "    fill: var(--fill-color);\n",
              "    height: 32px;\n",
              "    padding: 0;\n",
              "    width: 32px;\n",
              "  }\n",
              "\n",
              "  .colab-df-quickchart:hover {\n",
              "    background-color: var(--hover-bg-color);\n",
              "    box-shadow: 0 1px 2px rgba(60, 64, 67, 0.3), 0 1px 3px 1px rgba(60, 64, 67, 0.15);\n",
              "    fill: var(--button-hover-fill-color);\n",
              "  }\n",
              "\n",
              "  .colab-df-quickchart-complete:disabled,\n",
              "  .colab-df-quickchart-complete:disabled:hover {\n",
              "    background-color: var(--disabled-bg-color);\n",
              "    fill: var(--disabled-fill-color);\n",
              "    box-shadow: none;\n",
              "  }\n",
              "\n",
              "  .colab-df-spinner {\n",
              "    border: 2px solid var(--fill-color);\n",
              "    border-color: transparent;\n",
              "    border-bottom-color: var(--fill-color);\n",
              "    animation:\n",
              "      spin 1s steps(1) infinite;\n",
              "  }\n",
              "\n",
              "  @keyframes spin {\n",
              "    0% {\n",
              "      border-color: transparent;\n",
              "      border-bottom-color: var(--fill-color);\n",
              "      border-left-color: var(--fill-color);\n",
              "    }\n",
              "    20% {\n",
              "      border-color: transparent;\n",
              "      border-left-color: var(--fill-color);\n",
              "      border-top-color: var(--fill-color);\n",
              "    }\n",
              "    30% {\n",
              "      border-color: transparent;\n",
              "      border-left-color: var(--fill-color);\n",
              "      border-top-color: var(--fill-color);\n",
              "      border-right-color: var(--fill-color);\n",
              "    }\n",
              "    40% {\n",
              "      border-color: transparent;\n",
              "      border-right-color: var(--fill-color);\n",
              "      border-top-color: var(--fill-color);\n",
              "    }\n",
              "    60% {\n",
              "      border-color: transparent;\n",
              "      border-right-color: var(--fill-color);\n",
              "    }\n",
              "    80% {\n",
              "      border-color: transparent;\n",
              "      border-right-color: var(--fill-color);\n",
              "      border-bottom-color: var(--fill-color);\n",
              "    }\n",
              "    90% {\n",
              "      border-color: transparent;\n",
              "      border-bottom-color: var(--fill-color);\n",
              "    }\n",
              "  }\n",
              "</style>\n",
              "\n",
              "  <script>\n",
              "    async function quickchart(key) {\n",
              "      const quickchartButtonEl =\n",
              "        document.querySelector('#' + key + ' button');\n",
              "      quickchartButtonEl.disabled = true;  // To prevent multiple clicks.\n",
              "      quickchartButtonEl.classList.add('colab-df-spinner');\n",
              "      try {\n",
              "        const charts = await google.colab.kernel.invokeFunction(\n",
              "            'suggestCharts', [key], {});\n",
              "      } catch (error) {\n",
              "        console.error('Error during call to suggestCharts:', error);\n",
              "      }\n",
              "      quickchartButtonEl.classList.remove('colab-df-spinner');\n",
              "      quickchartButtonEl.classList.add('colab-df-quickchart-complete');\n",
              "    }\n",
              "    (() => {\n",
              "      let quickchartButtonEl =\n",
              "        document.querySelector('#df-f00513ba-bfc1-4f3d-b5f7-9402cb32b44a button');\n",
              "      quickchartButtonEl.style.display =\n",
              "        google.colab.kernel.accessAllowed ? 'block' : 'none';\n",
              "    })();\n",
              "  </script>\n",
              "</div>\n",
              "    </div>\n",
              "  </div>\n"
            ],
            "application/vnd.google.colaboratory.intrinsic+json": {
              "type": "dataframe",
              "variable_name": "users",
              "summary": "{\n  \"name\": \"users\",\n  \"rows\": 18412,\n  \"fields\": [\n    {\n      \"column\": \"Id\",\n      \"properties\": {\n        \"dtype\": \"number\",\n        \"std\": 75825,\n        \"min\": -1,\n        \"max\": 267322,\n        \"num_unique_values\": 18412,\n        \"samples\": [\n          67860,\n          36738,\n          179924\n        ],\n        \"semantic_type\": \"\",\n        \"description\": \"\"\n      }\n    },\n    {\n      \"column\": \"Reputation\",\n      \"properties\": {\n        \"dtype\": \"number\",\n        \"std\": 3307,\n        \"min\": 1,\n        \"max\": 228662,\n        \"num_unique_values\": 1301,\n        \"samples\": [\n          579,\n          7773,\n          2237\n        ],\n        \"semantic_type\": \"\",\n        \"description\": \"\"\n      }\n    },\n    {\n      \"column\": \"CreationDate\",\n      \"properties\": {\n        \"dtype\": \"object\",\n        \"num_unique_values\": 18411,\n        \"samples\": [\n          \"2015-01-31 07:58:27\",\n          \"2013-12-31 19:31:26\",\n          \"2017-10-07 10:04:05\"\n        ],\n        \"semantic_type\": \"\",\n        \"description\": \"\"\n      }\n    },\n    {\n      \"column\": \"DisplayName\",\n      \"properties\": {\n        \"dtype\": \"string\",\n        \"num_unique_values\": 17066,\n        \"samples\": [\n          \"dizq22\",\n          \"S.Gradit\",\n          \"ANKIT BISHT\"\n        ],\n        \"semantic_type\": \"\",\n        \"description\": \"\"\n      }\n    },\n    {\n      \"column\": \"LastAccessDate\",\n      \"properties\": {\n        \"dtype\": \"object\",\n        \"num_unique_values\": 18381,\n        \"samples\": [\n          \"2019-11-21 15:22:38\",\n          \"2019-11-29 15:36:19\",\n          \"2019-06-23 00:41:36\"\n        ],\n        \"semantic_type\": \"\",\n        \"description\": \"\"\n      }\n    },\n    {\n      \"column\": \"WebsiteUrl\",\n      \"properties\": {\n        \"dtype\": \"category\",\n        \"num_unique_values\": 1638,\n        \"samples\": [\n          \"http://www.hyamani.eu\",\n          \"http://log2.ch\",\n          \"http://blog.espol.edu.ec/nemo/\"\n        ],\n        \"semantic_type\": \"\",\n        \"description\": \"\"\n      }\n    },\n    {\n      \"column\": \"Location\",\n      \"properties\": {\n        \"dtype\": \"category\",\n        \"num_unique_values\": 1900,\n        \"samples\": [\n          \"Luxembourg\",\n          \"Berkeley, CA, United States\",\n          \"Strasbourg, France\"\n        ],\n        \"semantic_type\": \"\",\n        \"description\": \"\"\n      }\n    },\n    {\n      \"column\": \"AboutMe\",\n      \"properties\": {\n        \"dtype\": \"category\",\n        \"num_unique_values\": 3929,\n        \"samples\": [\n          \"<p>Fourth Year Undergraduate Honor's student in Physics and Computer Science</p>\\n\",\n          \"<p>Data Scientist @ Neal Analytics</p>\\n\",\n          \"<p>I have a variety of interests most of which are focused on water and soil quality and the resulting ecology. The majority of my work is focused on freshwater  wetlands but have been known to venture into the marine environment. I enjoy quantitative analysis and rely heavily on statistics. Overall I feel that I have a strong statistics background but can always learn more!!!</p>\\n\\n<p>I am ecologist with a multi-disciplinary background and can easily straddle the line between biologist and chemist.</p>\\n\"\n        ],\n        \"semantic_type\": \"\",\n        \"description\": \"\"\n      }\n    },\n    {\n      \"column\": \"Views\",\n      \"properties\": {\n        \"dtype\": \"number\",\n        \"std\": 919,\n        \"min\": 0,\n        \"max\": 85180,\n        \"num_unique_values\": 547,\n        \"samples\": [\n          52,\n          1852,\n          475\n        ],\n        \"semantic_type\": \"\",\n        \"description\": \"\"\n      }\n    },\n    {\n      \"column\": \"UpVotes\",\n      \"properties\": {\n        \"dtype\": \"number\",\n        \"std\": 527,\n        \"min\": 0,\n        \"max\": 47550,\n        \"num_unique_values\": 485,\n        \"samples\": [\n          90,\n          172,\n          301\n        ],\n        \"semantic_type\": \"\",\n        \"description\": \"\"\n      }\n    },\n    {\n      \"column\": \"DownVotes\",\n      \"properties\": {\n        \"dtype\": \"number\",\n        \"std\": 73,\n        \"min\": 0,\n        \"max\": 7620,\n        \"num_unique_values\": 120,\n        \"samples\": [\n          7,\n          92,\n          8\n        ],\n        \"semantic_type\": \"\",\n        \"description\": \"\"\n      }\n    },\n    {\n      \"column\": \"ProfileImageUrl\",\n      \"properties\": {\n        \"dtype\": \"string\",\n        \"num_unique_values\": 14681,\n        \"samples\": [\n          \"https://www.gravatar.com/avatar/d523f606e4c07824bbc8e40ee8fe369c?s=128&d=identicon&r=PG&f=1\",\n          \"https://www.gravatar.com/avatar/f88796965d6ee794c50bc4e9814ed4bc?s=128&d=identicon&r=PG&f=1\",\n          \"https://www.gravatar.com/avatar/3ee04181fab01a2763347f4cc8c06244?s=128&d=identicon&r=PG&f=1\"\n        ],\n        \"semantic_type\": \"\",\n        \"description\": \"\"\n      }\n    },\n    {\n      \"column\": \"AccountId\",\n      \"properties\": {\n        \"dtype\": \"number\",\n        \"std\": 5633054,\n        \"min\": -1,\n        \"max\": 17213801,\n        \"num_unique_values\": 18412,\n        \"samples\": [\n          380279,\n          3586979,\n          11452068\n        ],\n        \"semantic_type\": \"\",\n        \"description\": \"\"\n      }\n    }\n  ]\n}"
            }
          },
          "metadata": {},
          "execution_count": 15
        }
      ],
      "source": [
        "users.head()"
      ]
    },
    {
      "cell_type": "code",
      "execution_count": 16,
      "metadata": {
        "colab": {
          "base_uri": "https://localhost:8080/"
        },
        "id": "7Em9sQNF7Wvu",
        "outputId": "5022fc0d-f091-4bc5-a471-19995be29a5e"
      },
      "outputs": [
        {
          "output_type": "execute_result",
          "data": {
            "text/plain": [
              "Index(['Id', 'PostId', 'Score', 'Text', 'CreationDate', 'UserId'], dtype='object')"
            ]
          },
          "metadata": {},
          "execution_count": 16
        }
      ],
      "source": [
        "comments.columns"
      ]
    },
    {
      "cell_type": "code",
      "execution_count": 17,
      "metadata": {
        "colab": {
          "base_uri": "https://localhost:8080/",
          "height": 206
        },
        "id": "nYoXdIt27Wvu",
        "outputId": "2e8d0b2e-b1dc-42af-80f1-f2a72f63522a"
      },
      "outputs": [
        {
          "output_type": "execute_result",
          "data": {
            "text/plain": [
              "       Id  PostId  Score                                               Text  \\\n",
              "0  723182  385124      0  @BenBolker I don't understand. The fit cannot ...   \n",
              "1  723183  385124      3  You can't add *less* than (`-min(y)`), but you...   \n",
              "2  723186  385137      0  nice. If you felt like doing the work it would...   \n",
              "3  723187  385137      0  i.e. `emdbook::curve3d(-sum(dnbinom(y,mu=mu,si...   \n",
              "4  723188  385134      0  Don't you mean \"so variance should be $\\sigma^...   \n",
              "\n",
              "          CreationDate  UserId  \n",
              "0  2019-01-01 00:06:39   78575  \n",
              "1  2019-01-01 00:09:22    2126  \n",
              "2  2019-01-01 00:32:11    2126  \n",
              "3  2019-01-01 00:40:36    2126  \n",
              "4  2019-01-01 00:41:28  112141  "
            ],
            "text/html": [
              "\n",
              "  <div id=\"df-982a3929-751f-4850-9714-0164564002aa\" class=\"colab-df-container\">\n",
              "    <div>\n",
              "<style scoped>\n",
              "    .dataframe tbody tr th:only-of-type {\n",
              "        vertical-align: middle;\n",
              "    }\n",
              "\n",
              "    .dataframe tbody tr th {\n",
              "        vertical-align: top;\n",
              "    }\n",
              "\n",
              "    .dataframe thead th {\n",
              "        text-align: right;\n",
              "    }\n",
              "</style>\n",
              "<table border=\"1\" class=\"dataframe\">\n",
              "  <thead>\n",
              "    <tr style=\"text-align: right;\">\n",
              "      <th></th>\n",
              "      <th>Id</th>\n",
              "      <th>PostId</th>\n",
              "      <th>Score</th>\n",
              "      <th>Text</th>\n",
              "      <th>CreationDate</th>\n",
              "      <th>UserId</th>\n",
              "    </tr>\n",
              "  </thead>\n",
              "  <tbody>\n",
              "    <tr>\n",
              "      <th>0</th>\n",
              "      <td>723182</td>\n",
              "      <td>385124</td>\n",
              "      <td>0</td>\n",
              "      <td>@BenBolker I don't understand. The fit cannot ...</td>\n",
              "      <td>2019-01-01 00:06:39</td>\n",
              "      <td>78575</td>\n",
              "    </tr>\n",
              "    <tr>\n",
              "      <th>1</th>\n",
              "      <td>723183</td>\n",
              "      <td>385124</td>\n",
              "      <td>3</td>\n",
              "      <td>You can't add *less* than (`-min(y)`), but you...</td>\n",
              "      <td>2019-01-01 00:09:22</td>\n",
              "      <td>2126</td>\n",
              "    </tr>\n",
              "    <tr>\n",
              "      <th>2</th>\n",
              "      <td>723186</td>\n",
              "      <td>385137</td>\n",
              "      <td>0</td>\n",
              "      <td>nice. If you felt like doing the work it would...</td>\n",
              "      <td>2019-01-01 00:32:11</td>\n",
              "      <td>2126</td>\n",
              "    </tr>\n",
              "    <tr>\n",
              "      <th>3</th>\n",
              "      <td>723187</td>\n",
              "      <td>385137</td>\n",
              "      <td>0</td>\n",
              "      <td>i.e. `emdbook::curve3d(-sum(dnbinom(y,mu=mu,si...</td>\n",
              "      <td>2019-01-01 00:40:36</td>\n",
              "      <td>2126</td>\n",
              "    </tr>\n",
              "    <tr>\n",
              "      <th>4</th>\n",
              "      <td>723188</td>\n",
              "      <td>385134</td>\n",
              "      <td>0</td>\n",
              "      <td>Don't you mean \"so variance should be $\\sigma^...</td>\n",
              "      <td>2019-01-01 00:41:28</td>\n",
              "      <td>112141</td>\n",
              "    </tr>\n",
              "  </tbody>\n",
              "</table>\n",
              "</div>\n",
              "    <div class=\"colab-df-buttons\">\n",
              "\n",
              "  <div class=\"colab-df-container\">\n",
              "    <button class=\"colab-df-convert\" onclick=\"convertToInteractive('df-982a3929-751f-4850-9714-0164564002aa')\"\n",
              "            title=\"Convert this dataframe to an interactive table.\"\n",
              "            style=\"display:none;\">\n",
              "\n",
              "  <svg xmlns=\"http://www.w3.org/2000/svg\" height=\"24px\" viewBox=\"0 -960 960 960\">\n",
              "    <path d=\"M120-120v-720h720v720H120Zm60-500h600v-160H180v160Zm220 220h160v-160H400v160Zm0 220h160v-160H400v160ZM180-400h160v-160H180v160Zm440 0h160v-160H620v160ZM180-180h160v-160H180v160Zm440 0h160v-160H620v160Z\"/>\n",
              "  </svg>\n",
              "    </button>\n",
              "\n",
              "  <style>\n",
              "    .colab-df-container {\n",
              "      display:flex;\n",
              "      gap: 12px;\n",
              "    }\n",
              "\n",
              "    .colab-df-convert {\n",
              "      background-color: #E8F0FE;\n",
              "      border: none;\n",
              "      border-radius: 50%;\n",
              "      cursor: pointer;\n",
              "      display: none;\n",
              "      fill: #1967D2;\n",
              "      height: 32px;\n",
              "      padding: 0 0 0 0;\n",
              "      width: 32px;\n",
              "    }\n",
              "\n",
              "    .colab-df-convert:hover {\n",
              "      background-color: #E2EBFA;\n",
              "      box-shadow: 0px 1px 2px rgba(60, 64, 67, 0.3), 0px 1px 3px 1px rgba(60, 64, 67, 0.15);\n",
              "      fill: #174EA6;\n",
              "    }\n",
              "\n",
              "    .colab-df-buttons div {\n",
              "      margin-bottom: 4px;\n",
              "    }\n",
              "\n",
              "    [theme=dark] .colab-df-convert {\n",
              "      background-color: #3B4455;\n",
              "      fill: #D2E3FC;\n",
              "    }\n",
              "\n",
              "    [theme=dark] .colab-df-convert:hover {\n",
              "      background-color: #434B5C;\n",
              "      box-shadow: 0px 1px 3px 1px rgba(0, 0, 0, 0.15);\n",
              "      filter: drop-shadow(0px 1px 2px rgba(0, 0, 0, 0.3));\n",
              "      fill: #FFFFFF;\n",
              "    }\n",
              "  </style>\n",
              "\n",
              "    <script>\n",
              "      const buttonEl =\n",
              "        document.querySelector('#df-982a3929-751f-4850-9714-0164564002aa button.colab-df-convert');\n",
              "      buttonEl.style.display =\n",
              "        google.colab.kernel.accessAllowed ? 'block' : 'none';\n",
              "\n",
              "      async function convertToInteractive(key) {\n",
              "        const element = document.querySelector('#df-982a3929-751f-4850-9714-0164564002aa');\n",
              "        const dataTable =\n",
              "          await google.colab.kernel.invokeFunction('convertToInteractive',\n",
              "                                                    [key], {});\n",
              "        if (!dataTable) return;\n",
              "\n",
              "        const docLinkHtml = 'Like what you see? Visit the ' +\n",
              "          '<a target=\"_blank\" href=https://colab.research.google.com/notebooks/data_table.ipynb>data table notebook</a>'\n",
              "          + ' to learn more about interactive tables.';\n",
              "        element.innerHTML = '';\n",
              "        dataTable['output_type'] = 'display_data';\n",
              "        await google.colab.output.renderOutput(dataTable, element);\n",
              "        const docLink = document.createElement('div');\n",
              "        docLink.innerHTML = docLinkHtml;\n",
              "        element.appendChild(docLink);\n",
              "      }\n",
              "    </script>\n",
              "  </div>\n",
              "\n",
              "\n",
              "<div id=\"df-7c6f03af-4c53-4272-97c2-2b2f37e06043\">\n",
              "  <button class=\"colab-df-quickchart\" onclick=\"quickchart('df-7c6f03af-4c53-4272-97c2-2b2f37e06043')\"\n",
              "            title=\"Suggest charts\"\n",
              "            style=\"display:none;\">\n",
              "\n",
              "<svg xmlns=\"http://www.w3.org/2000/svg\" height=\"24px\"viewBox=\"0 0 24 24\"\n",
              "     width=\"24px\">\n",
              "    <g>\n",
              "        <path d=\"M19 3H5c-1.1 0-2 .9-2 2v14c0 1.1.9 2 2 2h14c1.1 0 2-.9 2-2V5c0-1.1-.9-2-2-2zM9 17H7v-7h2v7zm4 0h-2V7h2v10zm4 0h-2v-4h2v4z\"/>\n",
              "    </g>\n",
              "</svg>\n",
              "  </button>\n",
              "\n",
              "<style>\n",
              "  .colab-df-quickchart {\n",
              "      --bg-color: #E8F0FE;\n",
              "      --fill-color: #1967D2;\n",
              "      --hover-bg-color: #E2EBFA;\n",
              "      --hover-fill-color: #174EA6;\n",
              "      --disabled-fill-color: #AAA;\n",
              "      --disabled-bg-color: #DDD;\n",
              "  }\n",
              "\n",
              "  [theme=dark] .colab-df-quickchart {\n",
              "      --bg-color: #3B4455;\n",
              "      --fill-color: #D2E3FC;\n",
              "      --hover-bg-color: #434B5C;\n",
              "      --hover-fill-color: #FFFFFF;\n",
              "      --disabled-bg-color: #3B4455;\n",
              "      --disabled-fill-color: #666;\n",
              "  }\n",
              "\n",
              "  .colab-df-quickchart {\n",
              "    background-color: var(--bg-color);\n",
              "    border: none;\n",
              "    border-radius: 50%;\n",
              "    cursor: pointer;\n",
              "    display: none;\n",
              "    fill: var(--fill-color);\n",
              "    height: 32px;\n",
              "    padding: 0;\n",
              "    width: 32px;\n",
              "  }\n",
              "\n",
              "  .colab-df-quickchart:hover {\n",
              "    background-color: var(--hover-bg-color);\n",
              "    box-shadow: 0 1px 2px rgba(60, 64, 67, 0.3), 0 1px 3px 1px rgba(60, 64, 67, 0.15);\n",
              "    fill: var(--button-hover-fill-color);\n",
              "  }\n",
              "\n",
              "  .colab-df-quickchart-complete:disabled,\n",
              "  .colab-df-quickchart-complete:disabled:hover {\n",
              "    background-color: var(--disabled-bg-color);\n",
              "    fill: var(--disabled-fill-color);\n",
              "    box-shadow: none;\n",
              "  }\n",
              "\n",
              "  .colab-df-spinner {\n",
              "    border: 2px solid var(--fill-color);\n",
              "    border-color: transparent;\n",
              "    border-bottom-color: var(--fill-color);\n",
              "    animation:\n",
              "      spin 1s steps(1) infinite;\n",
              "  }\n",
              "\n",
              "  @keyframes spin {\n",
              "    0% {\n",
              "      border-color: transparent;\n",
              "      border-bottom-color: var(--fill-color);\n",
              "      border-left-color: var(--fill-color);\n",
              "    }\n",
              "    20% {\n",
              "      border-color: transparent;\n",
              "      border-left-color: var(--fill-color);\n",
              "      border-top-color: var(--fill-color);\n",
              "    }\n",
              "    30% {\n",
              "      border-color: transparent;\n",
              "      border-left-color: var(--fill-color);\n",
              "      border-top-color: var(--fill-color);\n",
              "      border-right-color: var(--fill-color);\n",
              "    }\n",
              "    40% {\n",
              "      border-color: transparent;\n",
              "      border-right-color: var(--fill-color);\n",
              "      border-top-color: var(--fill-color);\n",
              "    }\n",
              "    60% {\n",
              "      border-color: transparent;\n",
              "      border-right-color: var(--fill-color);\n",
              "    }\n",
              "    80% {\n",
              "      border-color: transparent;\n",
              "      border-right-color: var(--fill-color);\n",
              "      border-bottom-color: var(--fill-color);\n",
              "    }\n",
              "    90% {\n",
              "      border-color: transparent;\n",
              "      border-bottom-color: var(--fill-color);\n",
              "    }\n",
              "  }\n",
              "</style>\n",
              "\n",
              "  <script>\n",
              "    async function quickchart(key) {\n",
              "      const quickchartButtonEl =\n",
              "        document.querySelector('#' + key + ' button');\n",
              "      quickchartButtonEl.disabled = true;  // To prevent multiple clicks.\n",
              "      quickchartButtonEl.classList.add('colab-df-spinner');\n",
              "      try {\n",
              "        const charts = await google.colab.kernel.invokeFunction(\n",
              "            'suggestCharts', [key], {});\n",
              "      } catch (error) {\n",
              "        console.error('Error during call to suggestCharts:', error);\n",
              "      }\n",
              "      quickchartButtonEl.classList.remove('colab-df-spinner');\n",
              "      quickchartButtonEl.classList.add('colab-df-quickchart-complete');\n",
              "    }\n",
              "    (() => {\n",
              "      let quickchartButtonEl =\n",
              "        document.querySelector('#df-7c6f03af-4c53-4272-97c2-2b2f37e06043 button');\n",
              "      quickchartButtonEl.style.display =\n",
              "        google.colab.kernel.accessAllowed ? 'block' : 'none';\n",
              "    })();\n",
              "  </script>\n",
              "</div>\n",
              "    </div>\n",
              "  </div>\n"
            ],
            "application/vnd.google.colaboratory.intrinsic+json": {
              "type": "dataframe",
              "variable_name": "comments",
              "summary": "{\n  \"name\": \"comments\",\n  \"rows\": 50000,\n  \"fields\": [\n    {\n      \"column\": \"Id\",\n      \"properties\": {\n        \"dtype\": \"number\",\n        \"std\": 19776,\n        \"min\": 723182,\n        \"max\": 791753,\n        \"num_unique_values\": 50000,\n        \"samples\": [\n          768962,\n          736484,\n          723488\n        ],\n        \"semantic_type\": \"\",\n        \"description\": \"\"\n      }\n    },\n    {\n      \"column\": \"PostId\",\n      \"properties\": {\n        \"dtype\": \"number\",\n        \"std\": 65998,\n        \"min\": 6,\n        \"max\": 424214,\n        \"num_unique_values\": 18099,\n        \"samples\": [\n          395631,\n          400903,\n          398032\n        ],\n        \"semantic_type\": \"\",\n        \"description\": \"\"\n      }\n    },\n    {\n      \"column\": \"Score\",\n      \"properties\": {\n        \"dtype\": \"number\",\n        \"std\": 0,\n        \"min\": 0,\n        \"max\": 70,\n        \"num_unique_values\": 28,\n        \"samples\": [\n          5,\n          17,\n          7\n        ],\n        \"semantic_type\": \"\",\n        \"description\": \"\"\n      }\n    },\n    {\n      \"column\": \"Text\",\n      \"properties\": {\n        \"dtype\": \"string\",\n        \"num_unique_values\": 49794,\n        \"samples\": [\n          \"Thank you for your answer! I want to make sure I'm interpreting correctly. By adding time as an additional random factor, this will account for any effects that the previous temperatures/behaviors observed (e.g. temperature and behavior observed at the time 12:05) have on the next observation (temperature and behavior observed at 12:10)? I've read that there are two methods of incorporating multiple random effects-crossed and nested. In this problem, does it make sense to use them as crossed random effects? Thanks again for your help!\",\n          \"That makes no sense, either mathematically or practically.  Are you perhaps trying to ask about the [negative binomial distribution](https://en.wikipedia.org/wiki/Negative_binomial_distribution)?\",\n          \"One idea is to look into the `robustbase::glmrob` function in `R`, which can use methods protecting against outliers in the predictors.\"\n        ],\n        \"semantic_type\": \"\",\n        \"description\": \"\"\n      }\n    },\n    {\n      \"column\": \"CreationDate\",\n      \"properties\": {\n        \"dtype\": \"object\",\n        \"num_unique_values\": 49926,\n        \"samples\": [\n          \"2019-02-20 20:23:47\",\n          \"2019-03-02 17:21:27\",\n          \"2019-06-28 14:20:52\"\n        ],\n        \"semantic_type\": \"\",\n        \"description\": \"\"\n      }\n    },\n    {\n      \"column\": \"UserId\",\n      \"properties\": {\n        \"dtype\": \"number\",\n        \"std\": 93402,\n        \"min\": 0,\n        \"max\": 260045,\n        \"num_unique_values\": 7716,\n        \"samples\": [\n          29964,\n          184597,\n          219390\n        ],\n        \"semantic_type\": \"\",\n        \"description\": \"\"\n      }\n    }\n  ]\n}"
            }
          },
          "metadata": {},
          "execution_count": 17
        }
      ],
      "source": [
        "comments.head()"
      ]
    },
    {
      "cell_type": "code",
      "execution_count": 18,
      "metadata": {
        "colab": {
          "base_uri": "https://localhost:8080/"
        },
        "id": "aPdys-LU7Wvu",
        "outputId": "659a771c-3bb6-437d-fb87-d8da2e6e6b4d"
      },
      "outputs": [
        {
          "output_type": "execute_result",
          "data": {
            "text/plain": [
              "Index(['Id', 'PostTypeId', 'AcceptedAnswerId', 'ParentId', 'CreationDate',\n",
              "       'Score', 'ViewCount', 'Body', 'OwnerUserId', 'OwnerDisplayName',\n",
              "       'LastEditorUserId', 'LastEditorDisplayName', 'LastEditDate',\n",
              "       'LastActivityDate', 'Title', 'Tags', 'AnswerCount', 'CommentCount',\n",
              "       'FavoriteCount', 'ClosedDate', 'CommunityOwnedDate'],\n",
              "      dtype='object')"
            ]
          },
          "metadata": {},
          "execution_count": 18
        }
      ],
      "source": [
        "posts.columns"
      ]
    },
    {
      "cell_type": "code",
      "execution_count": 19,
      "metadata": {
        "colab": {
          "base_uri": "https://localhost:8080/",
          "height": 550
        },
        "id": "Op98BNvN7Wvv",
        "outputId": "85ca2420-1866-42f4-f5d2-387b99c7e4a0"
      },
      "outputs": [
        {
          "output_type": "execute_result",
          "data": {
            "text/plain": [
              "       Id  PostTypeId  AcceptedAnswerId  ParentId         CreationDate  Score  \\\n",
              "0  423497           1            423511         0  2019-08-24 09:39:31      2   \n",
              "1  423498           1                 0         0  2019-08-24 09:47:42      1   \n",
              "2  423499           1                 0         0  2019-08-24 09:48:26      1   \n",
              "3  423500           2                 0    215865  2019-08-24 09:57:01      0   \n",
              "4  423502           2                 0    423286  2019-08-24 10:44:52      3   \n",
              "\n",
              "   ViewCount                                               Body  OwnerUserId  \\\n",
              "0         68  <p>From wikipedia <a href=\"https://en.wikipedi...        64552   \n",
              "1         24  <p>I am currently doing local sensitivity anal...        87231   \n",
              "2         56  <p>I'm an honours student in psychology doing ...       257207   \n",
              "3          0  <p>Maybe you can look this <a href=\"https://me...       106606   \n",
              "4          0  <blockquote>\\n  <p>Q1) Is my approach valid?</...       220643   \n",
              "\n",
              "  OwnerDisplayName  ...  LastEditorDisplayName         LastEditDate  \\\n",
              "0             None  ...                   None                 None   \n",
              "1             None  ...                   None  2019-09-06 12:52:32   \n",
              "2             None  ...                   None                 None   \n",
              "3             None  ...                   None                 None   \n",
              "4             None  ...                   None  2019-08-24 12:13:46   \n",
              "\n",
              "      LastActivityDate                                              Title  \\\n",
              "0  2019-08-24 11:38:54  When are biased estimators with lower MSE pref...   \n",
              "1  2019-09-06 12:52:32  How to interpret the result from local sensiti...   \n",
              "2  2019-08-25 08:54:17      Power Analysis in G-Power - Mixed Model Anova   \n",
              "3  2019-08-24 09:57:01                                               None   \n",
              "4  2019-08-24 12:13:46                                               None   \n",
              "\n",
              "                                 Tags AnswerCount  CommentCount  \\\n",
              "0     <bias><unbiased-estimator><mse>           1             0   \n",
              "1  <sensitivity-analysis><elasticity>           1             0   \n",
              "2                     <anova><gpower>           2             0   \n",
              "3                                None           0             0   \n",
              "4                                None           0             1   \n",
              "\n",
              "   FavoriteCount           ClosedDate CommunityOwnedDate  \n",
              "0              1  2019-08-25 10:25:24               None  \n",
              "1              0                 None               None  \n",
              "2              0                 None               None  \n",
              "3              0                 None               None  \n",
              "4              0                 None               None  \n",
              "\n",
              "[5 rows x 21 columns]"
            ],
            "text/html": [
              "\n",
              "  <div id=\"df-f94ef214-82c4-4315-a670-bd955dc33d3d\" class=\"colab-df-container\">\n",
              "    <div>\n",
              "<style scoped>\n",
              "    .dataframe tbody tr th:only-of-type {\n",
              "        vertical-align: middle;\n",
              "    }\n",
              "\n",
              "    .dataframe tbody tr th {\n",
              "        vertical-align: top;\n",
              "    }\n",
              "\n",
              "    .dataframe thead th {\n",
              "        text-align: right;\n",
              "    }\n",
              "</style>\n",
              "<table border=\"1\" class=\"dataframe\">\n",
              "  <thead>\n",
              "    <tr style=\"text-align: right;\">\n",
              "      <th></th>\n",
              "      <th>Id</th>\n",
              "      <th>PostTypeId</th>\n",
              "      <th>AcceptedAnswerId</th>\n",
              "      <th>ParentId</th>\n",
              "      <th>CreationDate</th>\n",
              "      <th>Score</th>\n",
              "      <th>ViewCount</th>\n",
              "      <th>Body</th>\n",
              "      <th>OwnerUserId</th>\n",
              "      <th>OwnerDisplayName</th>\n",
              "      <th>...</th>\n",
              "      <th>LastEditorDisplayName</th>\n",
              "      <th>LastEditDate</th>\n",
              "      <th>LastActivityDate</th>\n",
              "      <th>Title</th>\n",
              "      <th>Tags</th>\n",
              "      <th>AnswerCount</th>\n",
              "      <th>CommentCount</th>\n",
              "      <th>FavoriteCount</th>\n",
              "      <th>ClosedDate</th>\n",
              "      <th>CommunityOwnedDate</th>\n",
              "    </tr>\n",
              "  </thead>\n",
              "  <tbody>\n",
              "    <tr>\n",
              "      <th>0</th>\n",
              "      <td>423497</td>\n",
              "      <td>1</td>\n",
              "      <td>423511</td>\n",
              "      <td>0</td>\n",
              "      <td>2019-08-24 09:39:31</td>\n",
              "      <td>2</td>\n",
              "      <td>68</td>\n",
              "      <td>&lt;p&gt;From wikipedia &lt;a href=\"https://en.wikipedi...</td>\n",
              "      <td>64552</td>\n",
              "      <td>None</td>\n",
              "      <td>...</td>\n",
              "      <td>None</td>\n",
              "      <td>None</td>\n",
              "      <td>2019-08-24 11:38:54</td>\n",
              "      <td>When are biased estimators with lower MSE pref...</td>\n",
              "      <td>&lt;bias&gt;&lt;unbiased-estimator&gt;&lt;mse&gt;</td>\n",
              "      <td>1</td>\n",
              "      <td>0</td>\n",
              "      <td>1</td>\n",
              "      <td>2019-08-25 10:25:24</td>\n",
              "      <td>None</td>\n",
              "    </tr>\n",
              "    <tr>\n",
              "      <th>1</th>\n",
              "      <td>423498</td>\n",
              "      <td>1</td>\n",
              "      <td>0</td>\n",
              "      <td>0</td>\n",
              "      <td>2019-08-24 09:47:42</td>\n",
              "      <td>1</td>\n",
              "      <td>24</td>\n",
              "      <td>&lt;p&gt;I am currently doing local sensitivity anal...</td>\n",
              "      <td>87231</td>\n",
              "      <td>None</td>\n",
              "      <td>...</td>\n",
              "      <td>None</td>\n",
              "      <td>2019-09-06 12:52:32</td>\n",
              "      <td>2019-09-06 12:52:32</td>\n",
              "      <td>How to interpret the result from local sensiti...</td>\n",
              "      <td>&lt;sensitivity-analysis&gt;&lt;elasticity&gt;</td>\n",
              "      <td>1</td>\n",
              "      <td>0</td>\n",
              "      <td>0</td>\n",
              "      <td>None</td>\n",
              "      <td>None</td>\n",
              "    </tr>\n",
              "    <tr>\n",
              "      <th>2</th>\n",
              "      <td>423499</td>\n",
              "      <td>1</td>\n",
              "      <td>0</td>\n",
              "      <td>0</td>\n",
              "      <td>2019-08-24 09:48:26</td>\n",
              "      <td>1</td>\n",
              "      <td>56</td>\n",
              "      <td>&lt;p&gt;I'm an honours student in psychology doing ...</td>\n",
              "      <td>257207</td>\n",
              "      <td>None</td>\n",
              "      <td>...</td>\n",
              "      <td>None</td>\n",
              "      <td>None</td>\n",
              "      <td>2019-08-25 08:54:17</td>\n",
              "      <td>Power Analysis in G-Power - Mixed Model Anova</td>\n",
              "      <td>&lt;anova&gt;&lt;gpower&gt;</td>\n",
              "      <td>2</td>\n",
              "      <td>0</td>\n",
              "      <td>0</td>\n",
              "      <td>None</td>\n",
              "      <td>None</td>\n",
              "    </tr>\n",
              "    <tr>\n",
              "      <th>3</th>\n",
              "      <td>423500</td>\n",
              "      <td>2</td>\n",
              "      <td>0</td>\n",
              "      <td>215865</td>\n",
              "      <td>2019-08-24 09:57:01</td>\n",
              "      <td>0</td>\n",
              "      <td>0</td>\n",
              "      <td>&lt;p&gt;Maybe you can look this &lt;a href=\"https://me...</td>\n",
              "      <td>106606</td>\n",
              "      <td>None</td>\n",
              "      <td>...</td>\n",
              "      <td>None</td>\n",
              "      <td>None</td>\n",
              "      <td>2019-08-24 09:57:01</td>\n",
              "      <td>None</td>\n",
              "      <td>None</td>\n",
              "      <td>0</td>\n",
              "      <td>0</td>\n",
              "      <td>0</td>\n",
              "      <td>None</td>\n",
              "      <td>None</td>\n",
              "    </tr>\n",
              "    <tr>\n",
              "      <th>4</th>\n",
              "      <td>423502</td>\n",
              "      <td>2</td>\n",
              "      <td>0</td>\n",
              "      <td>423286</td>\n",
              "      <td>2019-08-24 10:44:52</td>\n",
              "      <td>3</td>\n",
              "      <td>0</td>\n",
              "      <td>&lt;blockquote&gt;\\n  &lt;p&gt;Q1) Is my approach valid?&lt;/...</td>\n",
              "      <td>220643</td>\n",
              "      <td>None</td>\n",
              "      <td>...</td>\n",
              "      <td>None</td>\n",
              "      <td>2019-08-24 12:13:46</td>\n",
              "      <td>2019-08-24 12:13:46</td>\n",
              "      <td>None</td>\n",
              "      <td>None</td>\n",
              "      <td>0</td>\n",
              "      <td>1</td>\n",
              "      <td>0</td>\n",
              "      <td>None</td>\n",
              "      <td>None</td>\n",
              "    </tr>\n",
              "  </tbody>\n",
              "</table>\n",
              "<p>5 rows × 21 columns</p>\n",
              "</div>\n",
              "    <div class=\"colab-df-buttons\">\n",
              "\n",
              "  <div class=\"colab-df-container\">\n",
              "    <button class=\"colab-df-convert\" onclick=\"convertToInteractive('df-f94ef214-82c4-4315-a670-bd955dc33d3d')\"\n",
              "            title=\"Convert this dataframe to an interactive table.\"\n",
              "            style=\"display:none;\">\n",
              "\n",
              "  <svg xmlns=\"http://www.w3.org/2000/svg\" height=\"24px\" viewBox=\"0 -960 960 960\">\n",
              "    <path d=\"M120-120v-720h720v720H120Zm60-500h600v-160H180v160Zm220 220h160v-160H400v160Zm0 220h160v-160H400v160ZM180-400h160v-160H180v160Zm440 0h160v-160H620v160ZM180-180h160v-160H180v160Zm440 0h160v-160H620v160Z\"/>\n",
              "  </svg>\n",
              "    </button>\n",
              "\n",
              "  <style>\n",
              "    .colab-df-container {\n",
              "      display:flex;\n",
              "      gap: 12px;\n",
              "    }\n",
              "\n",
              "    .colab-df-convert {\n",
              "      background-color: #E8F0FE;\n",
              "      border: none;\n",
              "      border-radius: 50%;\n",
              "      cursor: pointer;\n",
              "      display: none;\n",
              "      fill: #1967D2;\n",
              "      height: 32px;\n",
              "      padding: 0 0 0 0;\n",
              "      width: 32px;\n",
              "    }\n",
              "\n",
              "    .colab-df-convert:hover {\n",
              "      background-color: #E2EBFA;\n",
              "      box-shadow: 0px 1px 2px rgba(60, 64, 67, 0.3), 0px 1px 3px 1px rgba(60, 64, 67, 0.15);\n",
              "      fill: #174EA6;\n",
              "    }\n",
              "\n",
              "    .colab-df-buttons div {\n",
              "      margin-bottom: 4px;\n",
              "    }\n",
              "\n",
              "    [theme=dark] .colab-df-convert {\n",
              "      background-color: #3B4455;\n",
              "      fill: #D2E3FC;\n",
              "    }\n",
              "\n",
              "    [theme=dark] .colab-df-convert:hover {\n",
              "      background-color: #434B5C;\n",
              "      box-shadow: 0px 1px 3px 1px rgba(0, 0, 0, 0.15);\n",
              "      filter: drop-shadow(0px 1px 2px rgba(0, 0, 0, 0.3));\n",
              "      fill: #FFFFFF;\n",
              "    }\n",
              "  </style>\n",
              "\n",
              "    <script>\n",
              "      const buttonEl =\n",
              "        document.querySelector('#df-f94ef214-82c4-4315-a670-bd955dc33d3d button.colab-df-convert');\n",
              "      buttonEl.style.display =\n",
              "        google.colab.kernel.accessAllowed ? 'block' : 'none';\n",
              "\n",
              "      async function convertToInteractive(key) {\n",
              "        const element = document.querySelector('#df-f94ef214-82c4-4315-a670-bd955dc33d3d');\n",
              "        const dataTable =\n",
              "          await google.colab.kernel.invokeFunction('convertToInteractive',\n",
              "                                                    [key], {});\n",
              "        if (!dataTable) return;\n",
              "\n",
              "        const docLinkHtml = 'Like what you see? Visit the ' +\n",
              "          '<a target=\"_blank\" href=https://colab.research.google.com/notebooks/data_table.ipynb>data table notebook</a>'\n",
              "          + ' to learn more about interactive tables.';\n",
              "        element.innerHTML = '';\n",
              "        dataTable['output_type'] = 'display_data';\n",
              "        await google.colab.output.renderOutput(dataTable, element);\n",
              "        const docLink = document.createElement('div');\n",
              "        docLink.innerHTML = docLinkHtml;\n",
              "        element.appendChild(docLink);\n",
              "      }\n",
              "    </script>\n",
              "  </div>\n",
              "\n",
              "\n",
              "<div id=\"df-04c979da-12ba-49c4-81cb-c2be57e9b8f4\">\n",
              "  <button class=\"colab-df-quickchart\" onclick=\"quickchart('df-04c979da-12ba-49c4-81cb-c2be57e9b8f4')\"\n",
              "            title=\"Suggest charts\"\n",
              "            style=\"display:none;\">\n",
              "\n",
              "<svg xmlns=\"http://www.w3.org/2000/svg\" height=\"24px\"viewBox=\"0 0 24 24\"\n",
              "     width=\"24px\">\n",
              "    <g>\n",
              "        <path d=\"M19 3H5c-1.1 0-2 .9-2 2v14c0 1.1.9 2 2 2h14c1.1 0 2-.9 2-2V5c0-1.1-.9-2-2-2zM9 17H7v-7h2v7zm4 0h-2V7h2v10zm4 0h-2v-4h2v4z\"/>\n",
              "    </g>\n",
              "</svg>\n",
              "  </button>\n",
              "\n",
              "<style>\n",
              "  .colab-df-quickchart {\n",
              "      --bg-color: #E8F0FE;\n",
              "      --fill-color: #1967D2;\n",
              "      --hover-bg-color: #E2EBFA;\n",
              "      --hover-fill-color: #174EA6;\n",
              "      --disabled-fill-color: #AAA;\n",
              "      --disabled-bg-color: #DDD;\n",
              "  }\n",
              "\n",
              "  [theme=dark] .colab-df-quickchart {\n",
              "      --bg-color: #3B4455;\n",
              "      --fill-color: #D2E3FC;\n",
              "      --hover-bg-color: #434B5C;\n",
              "      --hover-fill-color: #FFFFFF;\n",
              "      --disabled-bg-color: #3B4455;\n",
              "      --disabled-fill-color: #666;\n",
              "  }\n",
              "\n",
              "  .colab-df-quickchart {\n",
              "    background-color: var(--bg-color);\n",
              "    border: none;\n",
              "    border-radius: 50%;\n",
              "    cursor: pointer;\n",
              "    display: none;\n",
              "    fill: var(--fill-color);\n",
              "    height: 32px;\n",
              "    padding: 0;\n",
              "    width: 32px;\n",
              "  }\n",
              "\n",
              "  .colab-df-quickchart:hover {\n",
              "    background-color: var(--hover-bg-color);\n",
              "    box-shadow: 0 1px 2px rgba(60, 64, 67, 0.3), 0 1px 3px 1px rgba(60, 64, 67, 0.15);\n",
              "    fill: var(--button-hover-fill-color);\n",
              "  }\n",
              "\n",
              "  .colab-df-quickchart-complete:disabled,\n",
              "  .colab-df-quickchart-complete:disabled:hover {\n",
              "    background-color: var(--disabled-bg-color);\n",
              "    fill: var(--disabled-fill-color);\n",
              "    box-shadow: none;\n",
              "  }\n",
              "\n",
              "  .colab-df-spinner {\n",
              "    border: 2px solid var(--fill-color);\n",
              "    border-color: transparent;\n",
              "    border-bottom-color: var(--fill-color);\n",
              "    animation:\n",
              "      spin 1s steps(1) infinite;\n",
              "  }\n",
              "\n",
              "  @keyframes spin {\n",
              "    0% {\n",
              "      border-color: transparent;\n",
              "      border-bottom-color: var(--fill-color);\n",
              "      border-left-color: var(--fill-color);\n",
              "    }\n",
              "    20% {\n",
              "      border-color: transparent;\n",
              "      border-left-color: var(--fill-color);\n",
              "      border-top-color: var(--fill-color);\n",
              "    }\n",
              "    30% {\n",
              "      border-color: transparent;\n",
              "      border-left-color: var(--fill-color);\n",
              "      border-top-color: var(--fill-color);\n",
              "      border-right-color: var(--fill-color);\n",
              "    }\n",
              "    40% {\n",
              "      border-color: transparent;\n",
              "      border-right-color: var(--fill-color);\n",
              "      border-top-color: var(--fill-color);\n",
              "    }\n",
              "    60% {\n",
              "      border-color: transparent;\n",
              "      border-right-color: var(--fill-color);\n",
              "    }\n",
              "    80% {\n",
              "      border-color: transparent;\n",
              "      border-right-color: var(--fill-color);\n",
              "      border-bottom-color: var(--fill-color);\n",
              "    }\n",
              "    90% {\n",
              "      border-color: transparent;\n",
              "      border-bottom-color: var(--fill-color);\n",
              "    }\n",
              "  }\n",
              "</style>\n",
              "\n",
              "  <script>\n",
              "    async function quickchart(key) {\n",
              "      const quickchartButtonEl =\n",
              "        document.querySelector('#' + key + ' button');\n",
              "      quickchartButtonEl.disabled = true;  // To prevent multiple clicks.\n",
              "      quickchartButtonEl.classList.add('colab-df-spinner');\n",
              "      try {\n",
              "        const charts = await google.colab.kernel.invokeFunction(\n",
              "            'suggestCharts', [key], {});\n",
              "      } catch (error) {\n",
              "        console.error('Error during call to suggestCharts:', error);\n",
              "      }\n",
              "      quickchartButtonEl.classList.remove('colab-df-spinner');\n",
              "      quickchartButtonEl.classList.add('colab-df-quickchart-complete');\n",
              "    }\n",
              "    (() => {\n",
              "      let quickchartButtonEl =\n",
              "        document.querySelector('#df-04c979da-12ba-49c4-81cb-c2be57e9b8f4 button');\n",
              "      quickchartButtonEl.style.display =\n",
              "        google.colab.kernel.accessAllowed ? 'block' : 'none';\n",
              "    })();\n",
              "  </script>\n",
              "</div>\n",
              "    </div>\n",
              "  </div>\n"
            ],
            "application/vnd.google.colaboratory.intrinsic+json": {
              "type": "dataframe",
              "variable_name": "posts"
            }
          },
          "metadata": {},
          "execution_count": 19
        }
      ],
      "source": [
        "posts.head()"
      ]
    },
    {
      "cell_type": "markdown",
      "metadata": {
        "id": "1bc37SGA7Wvv"
      },
      "source": [
        "# Working with Sqlite and SQL Magic\n",
        "In this section let's spend a little time understanding a bit more about how we can work with Sqlite within Jupyter.\n",
        "\n",
        "Let's look at 2 ways to query the sqlite database: using SQL Magic or using Pandas.  Either way is fine for this project."
      ]
    },
    {
      "cell_type": "markdown",
      "metadata": {
        "id": "EPDDLq2h7Wvv"
      },
      "source": [
        "## Writing queries with SQL Magic\n",
        "\n",
        "You will now need to write some queries to get answers to the questions in the requirements.  \n",
        "\n",
        "For single-line queries, start the cell with `%sql` and simply enter your query:"
      ]
    },
    {
      "cell_type": "code",
      "execution_count": 20,
      "metadata": {
        "colab": {
          "base_uri": "https://localhost:8080/",
          "height": 95
        },
        "id": "qzITRa0U7Wvw",
        "outputId": "8ea57984-0ca7-48e9-9a76-83c66129bc17"
      },
      "outputs": [
        {
          "output_type": "stream",
          "name": "stdout",
          "text": [
            " * sqlite:///chatdata.db\n",
            "Done.\n"
          ]
        },
        {
          "output_type": "execute_result",
          "data": {
            "text/plain": [
              "[(50000,)]"
            ],
            "text/html": [
              "<table>\n",
              "    <thead>\n",
              "        <tr>\n",
              "            <th>COUNT(*)</th>\n",
              "        </tr>\n",
              "    </thead>\n",
              "    <tbody>\n",
              "        <tr>\n",
              "            <td>50000</td>\n",
              "        </tr>\n",
              "    </tbody>\n",
              "</table>"
            ]
          },
          "metadata": {},
          "execution_count": 20
        }
      ],
      "source": [
        "# This is an example\n",
        "%sql SELECT COUNT(*) FROM comments"
      ]
    },
    {
      "cell_type": "markdown",
      "metadata": {
        "id": "97tKi3xO7Wvw"
      },
      "source": [
        "For multi line sql statements use `%%sql` as follows. This tells Jupyter that *everything* in this cell should be interpreted as sql. So, NO comments other statements are allowed:"
      ]
    },
    {
      "cell_type": "code",
      "execution_count": 21,
      "metadata": {
        "colab": {
          "base_uri": "https://localhost:8080/",
          "height": 353
        },
        "id": "d0bfYii07Wvw",
        "outputId": "e19332b4-d5c1-4913-8369-7e27e9534f67"
      },
      "outputs": [
        {
          "output_type": "stream",
          "name": "stdout",
          "text": [
            " * sqlite:///chatdata.db\n",
            "Done.\n"
          ]
        },
        {
          "output_type": "execute_result",
          "data": {
            "text/plain": [
              "[(723182, 385124, 0, '@BenBolker I don\\'t understand. The fit cannot be done for the negative $y$. So intuitively I\\'d think that in order to retain the relativity of the  ... (24 characters truncated) ... rror\" or \"flip\" it to the positive axis? Would it be possible to adjust every point individually? Basically e.g. take $abs(y_i)$ instead of minimums.'),\n",
              " (723183, 385124, 3, \"You can't add *less* than (`-min(y)`), but you could add *more*. I'm going to stop answering now sorry, because **judging what the 'best' approach is ... (60 characters truncated) ...  of the analysis, why you need to fit an exponential, your level of computational and statistical sophistication and that of your audience, etc. ...)\"),\n",
              " (723186, 385137, 0, 'nice. If you felt like doing the work it would be nice to generate an image/contour plot of log-likelihood as a function of (mu, theta) and show the lines corresponding to the two `size` values .'),\n",
              " (723187, 385137, 0, 'i.e. `emdbook::curve3d(-sum(dnbinom(y,mu=mu,size=size,log=TRUE)),\\n                 xlim=c(2,5),ylim=c(0.2,0.5),\\n                 varnames=c(\"mu\",\"s ... (57 characters truncated) ... ,col=\"red\")\\nabline(h=fit.what$theta,col=\"blue\")\\n` ... although doesn\\'t look this is actually the answer - mu-hat is independent of theta-hat ... ?'),\n",
              " (723188, 385134, 0, 'Don\\'t you mean \"so variance should be $\\\\sigma^2/(n\\\\mu^2)$\"')]"
            ],
            "text/html": [
              "<table>\n",
              "    <thead>\n",
              "        <tr>\n",
              "            <th>Id</th>\n",
              "            <th>PostId</th>\n",
              "            <th>Score</th>\n",
              "            <th>Text</th>\n",
              "        </tr>\n",
              "    </thead>\n",
              "    <tbody>\n",
              "        <tr>\n",
              "            <td>723182</td>\n",
              "            <td>385124</td>\n",
              "            <td>0</td>\n",
              "            <td>@BenBolker I don&#x27;t understand. The fit cannot be done for the negative $y$. So intuitively I&#x27;d think that in order to retain the relativity of the data, one&#x27;d ideally &quot;mirror&quot; or &quot;flip&quot; it to the positive axis? Would it be possible to adjust every point individually? Basically e.g. take $abs(y_i)$ instead of minimums.</td>\n",
              "        </tr>\n",
              "        <tr>\n",
              "            <td>723183</td>\n",
              "            <td>385124</td>\n",
              "            <td>3</td>\n",
              "            <td>You can&#x27;t add *less* than (`-min(y)`), but you could add *more*. I&#x27;m going to stop answering now sorry, because **judging what the &#x27;best&#x27; approach is depends on much more context that we don&#x27;t have** (the goal of the analysis, why you need to fit an exponential, your level of computational and statistical sophistication and that of your audience, etc. ...)</td>\n",
              "        </tr>\n",
              "        <tr>\n",
              "            <td>723186</td>\n",
              "            <td>385137</td>\n",
              "            <td>0</td>\n",
              "            <td>nice. If you felt like doing the work it would be nice to generate an image/contour plot of log-likelihood as a function of (mu, theta) and show the lines corresponding to the two `size` values .</td>\n",
              "        </tr>\n",
              "        <tr>\n",
              "            <td>723187</td>\n",
              "            <td>385137</td>\n",
              "            <td>0</td>\n",
              "            <td>i.e. `emdbook::curve3d(-sum(dnbinom(y,mu=mu,size=size,log=TRUE)),<br>                 xlim=c(2,5),ylim=c(0.2,0.5),<br>                 varnames=c(&quot;mu&quot;,&quot;size&quot;),<br>                 sys3d=&quot;contour&quot;)<br>abline(h=3.2/7,col=&quot;red&quot;)<br>abline(h=fit.what$theta,col=&quot;blue&quot;)<br>` ... although doesn&#x27;t look this is actually the answer - mu-hat is independent of theta-hat ... ?</td>\n",
              "        </tr>\n",
              "        <tr>\n",
              "            <td>723188</td>\n",
              "            <td>385134</td>\n",
              "            <td>0</td>\n",
              "            <td>Don&#x27;t you mean &quot;so variance should be $\\sigma^2/(n\\mu^2)$&quot;</td>\n",
              "        </tr>\n",
              "    </tbody>\n",
              "</table>"
            ]
          },
          "metadata": {},
          "execution_count": 21
        }
      ],
      "source": [
        "%%sql\n",
        "SELECT Id, PostId, Score, Text\n",
        "    FROM comments\n",
        "        LIMIT 5"
      ]
    },
    {
      "cell_type": "markdown",
      "metadata": {
        "id": "WaliZEYg7Wvx"
      },
      "source": [
        "## Writing queries with Pandas\n",
        "Another way to write queries is to use pandas:"
      ]
    },
    {
      "cell_type": "code",
      "execution_count": 22,
      "metadata": {
        "scrolled": true,
        "colab": {
          "base_uri": "https://localhost:8080/",
          "height": 206
        },
        "id": "bL6lIpkx7Wvx",
        "outputId": "57077963-2311-4f80-dc17-299be629dbff"
      },
      "outputs": [
        {
          "output_type": "execute_result",
          "data": {
            "text/plain": [
              "       Id  PostId  Score                                               Text\n",
              "0  723182  385124      0  @BenBolker I don't understand. The fit cannot ...\n",
              "1  723183  385124      3  You can't add *less* than (`-min(y)`), but you...\n",
              "2  723186  385137      0  nice. If you felt like doing the work it would...\n",
              "3  723187  385137      0  i.e. `emdbook::curve3d(-sum(dnbinom(y,mu=mu,si...\n",
              "4  723188  385134      0  Don't you mean \"so variance should be $\\sigma^..."
            ],
            "text/html": [
              "\n",
              "  <div id=\"df-62d53e76-9f91-4060-97bf-222ecace8290\" class=\"colab-df-container\">\n",
              "    <div>\n",
              "<style scoped>\n",
              "    .dataframe tbody tr th:only-of-type {\n",
              "        vertical-align: middle;\n",
              "    }\n",
              "\n",
              "    .dataframe tbody tr th {\n",
              "        vertical-align: top;\n",
              "    }\n",
              "\n",
              "    .dataframe thead th {\n",
              "        text-align: right;\n",
              "    }\n",
              "</style>\n",
              "<table border=\"1\" class=\"dataframe\">\n",
              "  <thead>\n",
              "    <tr style=\"text-align: right;\">\n",
              "      <th></th>\n",
              "      <th>Id</th>\n",
              "      <th>PostId</th>\n",
              "      <th>Score</th>\n",
              "      <th>Text</th>\n",
              "    </tr>\n",
              "  </thead>\n",
              "  <tbody>\n",
              "    <tr>\n",
              "      <th>0</th>\n",
              "      <td>723182</td>\n",
              "      <td>385124</td>\n",
              "      <td>0</td>\n",
              "      <td>@BenBolker I don't understand. The fit cannot ...</td>\n",
              "    </tr>\n",
              "    <tr>\n",
              "      <th>1</th>\n",
              "      <td>723183</td>\n",
              "      <td>385124</td>\n",
              "      <td>3</td>\n",
              "      <td>You can't add *less* than (`-min(y)`), but you...</td>\n",
              "    </tr>\n",
              "    <tr>\n",
              "      <th>2</th>\n",
              "      <td>723186</td>\n",
              "      <td>385137</td>\n",
              "      <td>0</td>\n",
              "      <td>nice. If you felt like doing the work it would...</td>\n",
              "    </tr>\n",
              "    <tr>\n",
              "      <th>3</th>\n",
              "      <td>723187</td>\n",
              "      <td>385137</td>\n",
              "      <td>0</td>\n",
              "      <td>i.e. `emdbook::curve3d(-sum(dnbinom(y,mu=mu,si...</td>\n",
              "    </tr>\n",
              "    <tr>\n",
              "      <th>4</th>\n",
              "      <td>723188</td>\n",
              "      <td>385134</td>\n",
              "      <td>0</td>\n",
              "      <td>Don't you mean \"so variance should be $\\sigma^...</td>\n",
              "    </tr>\n",
              "  </tbody>\n",
              "</table>\n",
              "</div>\n",
              "    <div class=\"colab-df-buttons\">\n",
              "\n",
              "  <div class=\"colab-df-container\">\n",
              "    <button class=\"colab-df-convert\" onclick=\"convertToInteractive('df-62d53e76-9f91-4060-97bf-222ecace8290')\"\n",
              "            title=\"Convert this dataframe to an interactive table.\"\n",
              "            style=\"display:none;\">\n",
              "\n",
              "  <svg xmlns=\"http://www.w3.org/2000/svg\" height=\"24px\" viewBox=\"0 -960 960 960\">\n",
              "    <path d=\"M120-120v-720h720v720H120Zm60-500h600v-160H180v160Zm220 220h160v-160H400v160Zm0 220h160v-160H400v160ZM180-400h160v-160H180v160Zm440 0h160v-160H620v160ZM180-180h160v-160H180v160Zm440 0h160v-160H620v160Z\"/>\n",
              "  </svg>\n",
              "    </button>\n",
              "\n",
              "  <style>\n",
              "    .colab-df-container {\n",
              "      display:flex;\n",
              "      gap: 12px;\n",
              "    }\n",
              "\n",
              "    .colab-df-convert {\n",
              "      background-color: #E8F0FE;\n",
              "      border: none;\n",
              "      border-radius: 50%;\n",
              "      cursor: pointer;\n",
              "      display: none;\n",
              "      fill: #1967D2;\n",
              "      height: 32px;\n",
              "      padding: 0 0 0 0;\n",
              "      width: 32px;\n",
              "    }\n",
              "\n",
              "    .colab-df-convert:hover {\n",
              "      background-color: #E2EBFA;\n",
              "      box-shadow: 0px 1px 2px rgba(60, 64, 67, 0.3), 0px 1px 3px 1px rgba(60, 64, 67, 0.15);\n",
              "      fill: #174EA6;\n",
              "    }\n",
              "\n",
              "    .colab-df-buttons div {\n",
              "      margin-bottom: 4px;\n",
              "    }\n",
              "\n",
              "    [theme=dark] .colab-df-convert {\n",
              "      background-color: #3B4455;\n",
              "      fill: #D2E3FC;\n",
              "    }\n",
              "\n",
              "    [theme=dark] .colab-df-convert:hover {\n",
              "      background-color: #434B5C;\n",
              "      box-shadow: 0px 1px 3px 1px rgba(0, 0, 0, 0.15);\n",
              "      filter: drop-shadow(0px 1px 2px rgba(0, 0, 0, 0.3));\n",
              "      fill: #FFFFFF;\n",
              "    }\n",
              "  </style>\n",
              "\n",
              "    <script>\n",
              "      const buttonEl =\n",
              "        document.querySelector('#df-62d53e76-9f91-4060-97bf-222ecace8290 button.colab-df-convert');\n",
              "      buttonEl.style.display =\n",
              "        google.colab.kernel.accessAllowed ? 'block' : 'none';\n",
              "\n",
              "      async function convertToInteractive(key) {\n",
              "        const element = document.querySelector('#df-62d53e76-9f91-4060-97bf-222ecace8290');\n",
              "        const dataTable =\n",
              "          await google.colab.kernel.invokeFunction('convertToInteractive',\n",
              "                                                    [key], {});\n",
              "        if (!dataTable) return;\n",
              "\n",
              "        const docLinkHtml = 'Like what you see? Visit the ' +\n",
              "          '<a target=\"_blank\" href=https://colab.research.google.com/notebooks/data_table.ipynb>data table notebook</a>'\n",
              "          + ' to learn more about interactive tables.';\n",
              "        element.innerHTML = '';\n",
              "        dataTable['output_type'] = 'display_data';\n",
              "        await google.colab.output.renderOutput(dataTable, element);\n",
              "        const docLink = document.createElement('div');\n",
              "        docLink.innerHTML = docLinkHtml;\n",
              "        element.appendChild(docLink);\n",
              "      }\n",
              "    </script>\n",
              "  </div>\n",
              "\n",
              "\n",
              "<div id=\"df-5aae2a0d-7eb0-4467-b248-83d46689be7f\">\n",
              "  <button class=\"colab-df-quickchart\" onclick=\"quickchart('df-5aae2a0d-7eb0-4467-b248-83d46689be7f')\"\n",
              "            title=\"Suggest charts\"\n",
              "            style=\"display:none;\">\n",
              "\n",
              "<svg xmlns=\"http://www.w3.org/2000/svg\" height=\"24px\"viewBox=\"0 0 24 24\"\n",
              "     width=\"24px\">\n",
              "    <g>\n",
              "        <path d=\"M19 3H5c-1.1 0-2 .9-2 2v14c0 1.1.9 2 2 2h14c1.1 0 2-.9 2-2V5c0-1.1-.9-2-2-2zM9 17H7v-7h2v7zm4 0h-2V7h2v10zm4 0h-2v-4h2v4z\"/>\n",
              "    </g>\n",
              "</svg>\n",
              "  </button>\n",
              "\n",
              "<style>\n",
              "  .colab-df-quickchart {\n",
              "      --bg-color: #E8F0FE;\n",
              "      --fill-color: #1967D2;\n",
              "      --hover-bg-color: #E2EBFA;\n",
              "      --hover-fill-color: #174EA6;\n",
              "      --disabled-fill-color: #AAA;\n",
              "      --disabled-bg-color: #DDD;\n",
              "  }\n",
              "\n",
              "  [theme=dark] .colab-df-quickchart {\n",
              "      --bg-color: #3B4455;\n",
              "      --fill-color: #D2E3FC;\n",
              "      --hover-bg-color: #434B5C;\n",
              "      --hover-fill-color: #FFFFFF;\n",
              "      --disabled-bg-color: #3B4455;\n",
              "      --disabled-fill-color: #666;\n",
              "  }\n",
              "\n",
              "  .colab-df-quickchart {\n",
              "    background-color: var(--bg-color);\n",
              "    border: none;\n",
              "    border-radius: 50%;\n",
              "    cursor: pointer;\n",
              "    display: none;\n",
              "    fill: var(--fill-color);\n",
              "    height: 32px;\n",
              "    padding: 0;\n",
              "    width: 32px;\n",
              "  }\n",
              "\n",
              "  .colab-df-quickchart:hover {\n",
              "    background-color: var(--hover-bg-color);\n",
              "    box-shadow: 0 1px 2px rgba(60, 64, 67, 0.3), 0 1px 3px 1px rgba(60, 64, 67, 0.15);\n",
              "    fill: var(--button-hover-fill-color);\n",
              "  }\n",
              "\n",
              "  .colab-df-quickchart-complete:disabled,\n",
              "  .colab-df-quickchart-complete:disabled:hover {\n",
              "    background-color: var(--disabled-bg-color);\n",
              "    fill: var(--disabled-fill-color);\n",
              "    box-shadow: none;\n",
              "  }\n",
              "\n",
              "  .colab-df-spinner {\n",
              "    border: 2px solid var(--fill-color);\n",
              "    border-color: transparent;\n",
              "    border-bottom-color: var(--fill-color);\n",
              "    animation:\n",
              "      spin 1s steps(1) infinite;\n",
              "  }\n",
              "\n",
              "  @keyframes spin {\n",
              "    0% {\n",
              "      border-color: transparent;\n",
              "      border-bottom-color: var(--fill-color);\n",
              "      border-left-color: var(--fill-color);\n",
              "    }\n",
              "    20% {\n",
              "      border-color: transparent;\n",
              "      border-left-color: var(--fill-color);\n",
              "      border-top-color: var(--fill-color);\n",
              "    }\n",
              "    30% {\n",
              "      border-color: transparent;\n",
              "      border-left-color: var(--fill-color);\n",
              "      border-top-color: var(--fill-color);\n",
              "      border-right-color: var(--fill-color);\n",
              "    }\n",
              "    40% {\n",
              "      border-color: transparent;\n",
              "      border-right-color: var(--fill-color);\n",
              "      border-top-color: var(--fill-color);\n",
              "    }\n",
              "    60% {\n",
              "      border-color: transparent;\n",
              "      border-right-color: var(--fill-color);\n",
              "    }\n",
              "    80% {\n",
              "      border-color: transparent;\n",
              "      border-right-color: var(--fill-color);\n",
              "      border-bottom-color: var(--fill-color);\n",
              "    }\n",
              "    90% {\n",
              "      border-color: transparent;\n",
              "      border-bottom-color: var(--fill-color);\n",
              "    }\n",
              "  }\n",
              "</style>\n",
              "\n",
              "  <script>\n",
              "    async function quickchart(key) {\n",
              "      const quickchartButtonEl =\n",
              "        document.querySelector('#' + key + ' button');\n",
              "      quickchartButtonEl.disabled = true;  // To prevent multiple clicks.\n",
              "      quickchartButtonEl.classList.add('colab-df-spinner');\n",
              "      try {\n",
              "        const charts = await google.colab.kernel.invokeFunction(\n",
              "            'suggestCharts', [key], {});\n",
              "      } catch (error) {\n",
              "        console.error('Error during call to suggestCharts:', error);\n",
              "      }\n",
              "      quickchartButtonEl.classList.remove('colab-df-spinner');\n",
              "      quickchartButtonEl.classList.add('colab-df-quickchart-complete');\n",
              "    }\n",
              "    (() => {\n",
              "      let quickchartButtonEl =\n",
              "        document.querySelector('#df-5aae2a0d-7eb0-4467-b248-83d46689be7f button');\n",
              "      quickchartButtonEl.style.display =\n",
              "        google.colab.kernel.accessAllowed ? 'block' : 'none';\n",
              "    })();\n",
              "  </script>\n",
              "</div>\n",
              "    </div>\n",
              "  </div>\n"
            ],
            "application/vnd.google.colaboratory.intrinsic+json": {
              "type": "dataframe",
              "variable_name": "result",
              "summary": "{\n  \"name\": \"result\",\n  \"rows\": 5,\n  \"fields\": [\n    {\n      \"column\": \"Id\",\n      \"properties\": {\n        \"dtype\": \"number\",\n        \"std\": 2,\n        \"min\": 723182,\n        \"max\": 723188,\n        \"num_unique_values\": 5,\n        \"samples\": [\n          723183,\n          723188,\n          723186\n        ],\n        \"semantic_type\": \"\",\n        \"description\": \"\"\n      }\n    },\n    {\n      \"column\": \"PostId\",\n      \"properties\": {\n        \"dtype\": \"number\",\n        \"std\": 6,\n        \"min\": 385124,\n        \"max\": 385137,\n        \"num_unique_values\": 3,\n        \"samples\": [\n          385124,\n          385137,\n          385134\n        ],\n        \"semantic_type\": \"\",\n        \"description\": \"\"\n      }\n    },\n    {\n      \"column\": \"Score\",\n      \"properties\": {\n        \"dtype\": \"number\",\n        \"std\": 1,\n        \"min\": 0,\n        \"max\": 3,\n        \"num_unique_values\": 2,\n        \"samples\": [\n          3,\n          0\n        ],\n        \"semantic_type\": \"\",\n        \"description\": \"\"\n      }\n    },\n    {\n      \"column\": \"Text\",\n      \"properties\": {\n        \"dtype\": \"string\",\n        \"num_unique_values\": 5,\n        \"samples\": [\n          \"You can't add *less* than (`-min(y)`), but you could add *more*. I'm going to stop answering now sorry, because **judging what the 'best' approach is depends on much more context that we don't have** (the goal of the analysis, why you need to fit an exponential, your level of computational and statistical sophistication and that of your audience, etc. ...)\",\n          \"Don't you mean \\\"so variance should be $\\\\sigma^2/(n\\\\mu^2)$\\\"\"\n        ],\n        \"semantic_type\": \"\",\n        \"description\": \"\"\n      }\n    }\n  ]\n}"
            }
          },
          "metadata": {},
          "execution_count": 22
        }
      ],
      "source": [
        "sql = \"\"\"\n",
        "SELECT Id, PostId, Score, Text\n",
        "    FROM comments\n",
        "        LIMIT 5\n",
        "        \"\"\"\n",
        "result = pd.read_sql(sql, con)\n",
        "result"
      ]
    },
    {
      "cell_type": "markdown",
      "metadata": {
        "id": "DSsab-sz7Wvy"
      },
      "source": [
        "# Creating Tables with Referential Integrity"
      ]
    },
    {
      "cell_type": "markdown",
      "metadata": {
        "id": "i6VZbB9h7WwG"
      },
      "source": [
        "When we loaded the csv files into Sqlite database tables, Sqlite created the tables for us behind the scenes. Let's inspect this a bit more.\n",
        "\n",
        "We can see how Sqlite created the tables by querying the `sqlite_master` table, which Sqlite uses to keep track of what objects have been created in the database:"
      ]
    },
    {
      "cell_type": "code",
      "execution_count": 23,
      "metadata": {
        "colab": {
          "base_uri": "https://localhost:8080/",
          "height": 883
        },
        "id": "a6jAtuuZ7WwH",
        "outputId": "1a33adde-5291-47b1-9cc9-cf0963cd1789"
      },
      "outputs": [
        {
          "output_type": "stream",
          "name": "stdout",
          "text": [
            " * sqlite:///chatdata.db\n",
            "Done.\n"
          ]
        },
        {
          "output_type": "execute_result",
          "data": {
            "text/plain": [
              "[('CREATE TABLE \"comments\" (\\n\"Id\" INTEGER,\\n  \"PostId\" INTEGER,\\n  \"Score\" INTEGER,\\n  \"Text\" TEXT,\\n  \"CreationDate\" TEXT,\\n  \"UserId\" INTEGER\\n)',),\n",
              " ('CREATE TABLE \"posts\" (\\n\"Id\" INTEGER,\\n  \"PostTypeId\" INTEGER,\\n  \"AcceptedAnswerId\" INTEGER,\\n  \"ParentId\" INTEGER,\\n  \"CreationDate\" TEXT,\\n  \"Scor ... (240 characters truncated) ...   \"Tags\" TEXT,\\n  \"AnswerCount\" INTEGER,\\n  \"CommentCount\" INTEGER,\\n  \"FavoriteCount\" INTEGER,\\n  \"ClosedDate\" TEXT,\\n  \"CommunityOwnedDate\" TEXT\\n)',),\n",
              " ('CREATE TABLE \"users\" (\\n\"Id\" INTEGER,\\n  \"Reputation\" INTEGER,\\n  \"CreationDate\" TEXT,\\n  \"DisplayName\" TEXT,\\n  \"LastAccessDate\" TEXT,\\n  \"WebsiteUr ... (17 characters truncated) ... tion\" TEXT,\\n  \"AboutMe\" TEXT,\\n  \"Views\" INTEGER,\\n  \"UpVotes\" INTEGER,\\n  \"DownVotes\" INTEGER,\\n  \"ProfileImageUrl\" TEXT,\\n  \"AccountId\" INTEGER\\n)',)]"
            ],
            "text/html": [
              "<table>\n",
              "    <thead>\n",
              "        <tr>\n",
              "            <th>sql</th>\n",
              "        </tr>\n",
              "    </thead>\n",
              "    <tbody>\n",
              "        <tr>\n",
              "            <td>CREATE TABLE &quot;comments&quot; (<br>&quot;Id&quot; INTEGER,<br>  &quot;PostId&quot; INTEGER,<br>  &quot;Score&quot; INTEGER,<br>  &quot;Text&quot; TEXT,<br>  &quot;CreationDate&quot; TEXT,<br>  &quot;UserId&quot; INTEGER<br>)</td>\n",
              "        </tr>\n",
              "        <tr>\n",
              "            <td>CREATE TABLE &quot;posts&quot; (<br>&quot;Id&quot; INTEGER,<br>  &quot;PostTypeId&quot; INTEGER,<br>  &quot;AcceptedAnswerId&quot; INTEGER,<br>  &quot;ParentId&quot; INTEGER,<br>  &quot;CreationDate&quot; TEXT,<br>  &quot;Score&quot; INTEGER,<br>  &quot;ViewCount&quot; INTEGER,<br>  &quot;Body&quot; TEXT,<br>  &quot;OwnerUserId&quot; INTEGER,<br>  &quot;OwnerDisplayName&quot; TEXT,<br>  &quot;LastEditorUserId&quot; INTEGER,<br>  &quot;LastEditorDisplayName&quot; TEXT,<br>  &quot;LastEditDate&quot; TEXT,<br>  &quot;LastActivityDate&quot; TEXT,<br>  &quot;Title&quot; TEXT,<br>  &quot;Tags&quot; TEXT,<br>  &quot;AnswerCount&quot; INTEGER,<br>  &quot;CommentCount&quot; INTEGER,<br>  &quot;FavoriteCount&quot; INTEGER,<br>  &quot;ClosedDate&quot; TEXT,<br>  &quot;CommunityOwnedDate&quot; TEXT<br>)</td>\n",
              "        </tr>\n",
              "        <tr>\n",
              "            <td>CREATE TABLE &quot;users&quot; (<br>&quot;Id&quot; INTEGER,<br>  &quot;Reputation&quot; INTEGER,<br>  &quot;CreationDate&quot; TEXT,<br>  &quot;DisplayName&quot; TEXT,<br>  &quot;LastAccessDate&quot; TEXT,<br>  &quot;WebsiteUrl&quot; TEXT,<br>  &quot;Location&quot; TEXT,<br>  &quot;AboutMe&quot; TEXT,<br>  &quot;Views&quot; INTEGER,<br>  &quot;UpVotes&quot; INTEGER,<br>  &quot;DownVotes&quot; INTEGER,<br>  &quot;ProfileImageUrl&quot; TEXT,<br>  &quot;AccountId&quot; INTEGER<br>)</td>\n",
              "        </tr>\n",
              "    </tbody>\n",
              "</table>"
            ]
          },
          "metadata": {},
          "execution_count": 23
        }
      ],
      "source": [
        "%%sql\n",
        "select sql from sqlite_master"
      ]
    },
    {
      "cell_type": "markdown",
      "metadata": {
        "id": "506v5KoV7WwH"
      },
      "source": [
        "The above results show the `CREATE TABLE` statements that could be used by Sqlite to recreate the tables with the exact same structure.\n",
        "\n",
        "The problem with the CREATE TABLE statements above is that they don't enforce **referential integrity**.  In other words, they don't ensure that every UserId and PostId in the comments table refers to an actual UserId and PostId in the users and posts tables.  At the moment. we can insert any old number here, and even have multiple users with the same Id!  One of the advantages of working with relational databases is that they can enforce the correct uniqueness and relationships in the data, but at the moment we are not using that feature.  So let's fix that...\n",
        "\n",
        "First, let's drop the original tables:\n"
      ]
    },
    {
      "cell_type": "code",
      "execution_count": 24,
      "metadata": {
        "colab": {
          "base_uri": "https://localhost:8080/"
        },
        "id": "LgT9fTHC7WwH",
        "outputId": "6775e7b8-4098-4037-c85c-f5cf1f00c8f5"
      },
      "outputs": [
        {
          "output_type": "stream",
          "name": "stdout",
          "text": [
            " * sqlite:///chatdata.db\n",
            "Done.\n",
            "Done.\n",
            "Done.\n"
          ]
        },
        {
          "output_type": "execute_result",
          "data": {
            "text/plain": [
              "[]"
            ]
          },
          "metadata": {},
          "execution_count": 24
        }
      ],
      "source": [
        "%%sql\n",
        "DROP TABLE comments;\n",
        "DROP TABLE users;\n",
        "DROP TABLE posts;"
      ]
    },
    {
      "cell_type": "markdown",
      "metadata": {
        "id": "Iu0rpngr7WwI"
      },
      "source": [
        "Prove that this worked by selecting the names of the tables back.  We should have no tables:"
      ]
    },
    {
      "cell_type": "code",
      "execution_count": 25,
      "metadata": {
        "colab": {
          "base_uri": "https://localhost:8080/",
          "height": 74
        },
        "id": "6G5hqh247WwI",
        "outputId": "e61be7de-070b-4746-db9c-5f64328798a3"
      },
      "outputs": [
        {
          "output_type": "stream",
          "name": "stdout",
          "text": [
            " * sqlite:///chatdata.db\n",
            "Done.\n"
          ]
        },
        {
          "output_type": "execute_result",
          "data": {
            "text/plain": [
              "[]"
            ],
            "text/html": [
              "<table>\n",
              "    <thead>\n",
              "        <tr>\n",
              "            <th>name</th>\n",
              "        </tr>\n",
              "    </thead>\n",
              "    <tbody>\n",
              "    </tbody>\n",
              "</table>"
            ]
          },
          "metadata": {},
          "execution_count": 25
        }
      ],
      "source": [
        "%%sql\n",
        "SELECT name FROM sqlite_master WHERE type='table'\n",
        "    ORDER BY name"
      ]
    },
    {
      "cell_type": "markdown",
      "metadata": {
        "id": "TFhNq_iU7WwI"
      },
      "source": [
        "In Sqlite we need to enable the enforcement of foreign key constraints:"
      ]
    },
    {
      "cell_type": "code",
      "execution_count": 26,
      "metadata": {
        "colab": {
          "base_uri": "https://localhost:8080/"
        },
        "id": "rY3OZrf17WwI",
        "outputId": "2fbe9179-4ed1-4dc9-cf28-854f7c5a285a"
      },
      "outputs": [
        {
          "output_type": "stream",
          "name": "stdout",
          "text": [
            " * sqlite:///chatdata.db\n",
            "Done.\n"
          ]
        },
        {
          "output_type": "execute_result",
          "data": {
            "text/plain": [
              "[]"
            ]
          },
          "metadata": {},
          "execution_count": 26
        }
      ],
      "source": [
        "%%sql\n",
        "PRAGMA foreign_keys=ON;"
      ]
    },
    {
      "cell_type": "markdown",
      "metadata": {
        "id": "KBUNenRk7WwJ"
      },
      "source": [
        "Now recreate the users table with a **primary key constraint** by copying the CREATE TABLE statement from above and adding the NOT NULL PRIMARY KEY clause to the Id:"
      ]
    },
    {
      "cell_type": "code",
      "execution_count": 27,
      "metadata": {
        "colab": {
          "base_uri": "https://localhost:8080/"
        },
        "id": "WI2V7fu17WwJ",
        "outputId": "ca7781ee-52aa-443c-b996-d7a23deb69c0"
      },
      "outputs": [
        {
          "output_type": "stream",
          "name": "stdout",
          "text": [
            " * sqlite:///chatdata.db\n",
            "Done.\n"
          ]
        },
        {
          "output_type": "execute_result",
          "data": {
            "text/plain": [
              "[]"
            ]
          },
          "metadata": {},
          "execution_count": 27
        }
      ],
      "source": [
        "%%sql\n",
        "CREATE TABLE \"users\" (\n",
        "\"Id\" INTEGER NOT NULL PRIMARY KEY,\n",
        "\"Reputation\" INTEGER,\n",
        "\"CreationDate\" TEXT,\n",
        "\"DisplayName\" TEXT,\n",
        "\"LastAccessDate\" TEXT,\n",
        "\"WebsiteUrl\" TEXT,\n",
        "\"Location\" TEXT,\n",
        "\"AboutMe\" TEXT,\n",
        "\"Views\" INTEGER,\n",
        "\"UpVotes\" INTEGER,\n",
        "\"DownVotes\" INTEGER,\n",
        "\"ProfileImageUrl\" TEXT,\n",
        "\"AccountId\" INTEGER\n",
        ");\n"
      ]
    },
    {
      "cell_type": "markdown",
      "metadata": {
        "id": "XuYnYp-a7WwJ"
      },
      "source": [
        "Now do the same for the posts table:\n",
        "\n",
        "<div style=\"background-color:lemonchiffon; border:1px solid; padding:5px; margin:5px; font-weight:bold\"><font color=\"crimson\">\n",
        "TODO: Complete the following code cell\n",
        "    </font></div>"
      ]
    },
    {
      "cell_type": "code",
      "execution_count": 28,
      "metadata": {
        "id": "1F1qEHFp7WwK",
        "colab": {
          "base_uri": "https://localhost:8080/"
        },
        "outputId": "77fe3034-6f3b-4673-fb88-7c21e57d028e"
      },
      "outputs": [
        {
          "output_type": "stream",
          "name": "stdout",
          "text": [
            " * sqlite:///chatdata.db\n",
            "Done.\n"
          ]
        },
        {
          "output_type": "execute_result",
          "data": {
            "text/plain": [
              "[]"
            ]
          },
          "metadata": {},
          "execution_count": 28
        }
      ],
      "source": [
        "# Run the CREATE TABLE statement for the posts table, including the primary key constraint\n",
        "%%sql\n",
        "CREATE TABLE \"posts\" (\n",
        "\"Id\" INTEGER NOT NULL PRIMARY KEY,\n",
        "\"PostTypeId\" INTEGER,\n",
        "\"AcceptedAnswerId\" INTEGER,\n",
        "\"ParentId\" INTEGER,\n",
        "\"CreationDate\" TEXT,\n",
        "\"Score\" INTEGER,\n",
        "\"ViewCount\" INTEGER,\n",
        "\"Body\" TEXT,\n",
        "\"OwnerUserId\" INTEGER,\n",
        "\"OwnerDisplayName\" TEXT,\n",
        "\"LastEditorUserId\" INTEGER,\n",
        "\"LastEditorDisplayName\" TEXT,\n",
        "\"LastEditDate\" TEXT,\n",
        "\"LastActivityDate\" TEXT,\n",
        "\"Title\" TEXT,\n",
        "\"Tags\" TEXT,\n",
        "\"AnswerCount\" INTEGER,\n",
        "\"CommentCount\" INTEGER,\n",
        "\"FavoriteCount\" INTEGER,\n",
        "\"ClosedDate\" TEXT,\n",
        "\"CommunityOwnedDate\" TEXT\n",
        ");\n"
      ]
    },
    {
      "cell_type": "markdown",
      "metadata": {
        "id": "ImssVEDl7WwK"
      },
      "source": [
        "Now for the comments table.  We need to add the primary key constraint on the id here as we did for users and posts, but we also need to add FOREIGN KEY constraints on the UserId and PostId. Read the documentation here and find our how to do that: https://www.sqlite.org/foreignkeys.html.  Then create the comments table with the correct constraints:\n",
        "\n",
        "<div style=\"background-color:lemonchiffon; border:1px solid; padding:5px; margin:5px; font-weight:bold\"><font color=\"crimson\">\n",
        "TODO: Complete the following code cell\n",
        "    </font></div>"
      ]
    },
    {
      "cell_type": "code",
      "execution_count": 29,
      "metadata": {
        "id": "7JH0tF6H7WwK",
        "colab": {
          "base_uri": "https://localhost:8080/"
        },
        "outputId": "136344aa-7e88-4c81-c744-606491d9066d"
      },
      "outputs": [
        {
          "output_type": "stream",
          "name": "stdout",
          "text": [
            " * sqlite:///chatdata.db\n",
            "Done.\n"
          ]
        },
        {
          "output_type": "execute_result",
          "data": {
            "text/plain": [
              "[]"
            ]
          },
          "metadata": {},
          "execution_count": 29
        }
      ],
      "source": [
        "# Run the CREATE TABLE statement for the comments table, including the primary key constraint and the 2 foreign key constraints\n",
        "%%sql\n",
        "CREATE TABLE \"comments\" (\n",
        "\"Id\" INTEGER NOT NULL PRIMARY KEY,\n",
        "\"PostId\" INTEGER,\n",
        "\"Score\" INTEGER,\n",
        "\"Text\" TEXT,\n",
        "\"CreationDate\" TEXT,\n",
        "\"UserId\" INTEGER,\n",
        "FOREIGN KEY (\"UserId\") REFERENCES \"users\" (\"Id\"),\n",
        "FOREIGN KEY (\"PostId\") REFERENCES \"posts\" (\"Id\")\n",
        ");"
      ]
    },
    {
      "cell_type": "markdown",
      "metadata": {
        "id": "nOuHQhW57WwK"
      },
      "source": [
        "*Now* we can re-insert the data into these constrained tables.  First users:"
      ]
    },
    {
      "cell_type": "code",
      "execution_count": 30,
      "metadata": {
        "id": "QaMRhJay7WwL",
        "colab": {
          "base_uri": "https://localhost:8080/"
        },
        "outputId": "1ae6ca31-a03d-4c76-8a24-3b33bb0161e3"
      },
      "outputs": [
        {
          "output_type": "execute_result",
          "data": {
            "text/plain": [
              "18412"
            ]
          },
          "metadata": {},
          "execution_count": 30
        }
      ],
      "source": [
        "# Insert data into the new users table\n",
        "users.to_sql('users', con, if_exists='append', index=False)"
      ]
    },
    {
      "cell_type": "markdown",
      "metadata": {
        "id": "gr4Q44RT7WwL"
      },
      "source": [
        "Now posts:\n",
        "\n",
        "<div style=\"background-color:lemonchiffon; border:1px solid; padding:5px; margin:5px; font-weight:bold\"><font color=\"crimson\">\n",
        "TODO: Complete the following code cell\n",
        "    </font></div>"
      ]
    },
    {
      "cell_type": "code",
      "execution_count": 31,
      "metadata": {
        "id": "J9a9vcmp7WwM",
        "colab": {
          "base_uri": "https://localhost:8080/"
        },
        "outputId": "91b28358-16fb-4faf-d6de-b5c1d85fb647"
      },
      "outputs": [
        {
          "output_type": "execute_result",
          "data": {
            "text/plain": [
              "42234"
            ]
          },
          "metadata": {},
          "execution_count": 31
        }
      ],
      "source": [
        "# Insert data into the new posts table\n",
        "posts.to_sql('posts', con, if_exists='append', index=False)"
      ]
    },
    {
      "cell_type": "markdown",
      "metadata": {
        "id": "XwACtC-Y7WwM"
      },
      "source": [
        "Finally comments, which references the users and posts tables:\n",
        "\n",
        "<div style=\"background-color:lemonchiffon; border:1px solid; padding:5px; margin:5px; font-weight:bold\"><font color=\"crimson\">\n",
        "TODO: Complete the following code cell\n",
        "    </font></div>"
      ]
    },
    {
      "cell_type": "code",
      "execution_count": 32,
      "metadata": {
        "id": "DBu2BBvo7WwM",
        "colab": {
          "base_uri": "https://localhost:8080/"
        },
        "outputId": "7eed1625-c803-4f1d-dff0-7d5b8822870d"
      },
      "outputs": [
        {
          "output_type": "execute_result",
          "data": {
            "text/plain": [
              "50000"
            ]
          },
          "metadata": {},
          "execution_count": 32
        }
      ],
      "source": [
        "# Insert data into the new comments table\n",
        "comments.to_sql('comments', con, if_exists='append', index=False)"
      ]
    },
    {
      "cell_type": "markdown",
      "metadata": {
        "id": "Mzgg7JdA7WwN"
      },
      "source": [
        "Now check that we have the 3 new table definitions in Sqlite:"
      ]
    },
    {
      "cell_type": "code",
      "execution_count": 33,
      "metadata": {
        "id": "Pvapevrg7WwN",
        "colab": {
          "base_uri": "https://localhost:8080/",
          "height": 137
        },
        "outputId": "6f4fd0f8-be0c-4217-a0d6-2eae86863e2b"
      },
      "outputs": [
        {
          "output_type": "stream",
          "name": "stdout",
          "text": [
            " * sqlite:///chatdata.db\n",
            "Done.\n"
          ]
        },
        {
          "output_type": "execute_result",
          "data": {
            "text/plain": [
              "[('comments',), ('posts',), ('users',)]"
            ],
            "text/html": [
              "<table>\n",
              "    <thead>\n",
              "        <tr>\n",
              "            <th>name</th>\n",
              "        </tr>\n",
              "    </thead>\n",
              "    <tbody>\n",
              "        <tr>\n",
              "            <td>comments</td>\n",
              "        </tr>\n",
              "        <tr>\n",
              "            <td>posts</td>\n",
              "        </tr>\n",
              "        <tr>\n",
              "            <td>users</td>\n",
              "        </tr>\n",
              "    </tbody>\n",
              "</table>"
            ]
          },
          "metadata": {},
          "execution_count": 33
        }
      ],
      "source": [
        "%%sql\n",
        "SELECT name FROM sqlite_master WHERE type='table'\n",
        "    ORDER BY name"
      ]
    },
    {
      "cell_type": "markdown",
      "metadata": {
        "id": "fpL5h8SM7WwN"
      },
      "source": [
        "We now have all the data in tables in Sqlite and the tables will enforce the referential integrity."
      ]
    },
    {
      "cell_type": "markdown",
      "metadata": {
        "id": "YGuqZ37I7WwO"
      },
      "source": [
        "# Example Query and Pattern for Tasks 2 and 3\n",
        "\n",
        "As you work through the next tasks, you will need to:\n",
        "\n",
        "1. Prepare the Sqlite query to answer the question\n",
        "2. Test it\n",
        "3. Insert it into the `queries` table, so we have a record of it for others.\n",
        "\n",
        "This is the process that we want you to follow for this project while completing it."
      ]
    },
    {
      "cell_type": "markdown",
      "metadata": {
        "id": "xAaKVeyJ7WwO"
      },
      "source": [
        "Let's see an example of this by answering the following question:\n",
        "\n",
        "**Which 5 users have viewed the most times and what is the sum of those views per user?**\n",
        "\n",
        "## Prepare the Sqlite query\n",
        "\n",
        "First, let's write the query:"
      ]
    },
    {
      "cell_type": "code",
      "execution_count": 34,
      "metadata": {
        "id": "eYiOwZ-t7WwP",
        "colab": {
          "base_uri": "https://localhost:8080/",
          "height": 206
        },
        "outputId": "ea961224-0152-4c20-c960-eaae72c8d06f"
      },
      "outputs": [
        {
          "output_type": "execute_result",
          "data": {
            "text/plain": [
              "     Id  TotalViews\n",
              "0   919       85180\n",
              "1  4253       35119\n",
              "2   805       34637\n",
              "3  7290       32639\n",
              "4  3277       29255"
            ],
            "text/html": [
              "\n",
              "  <div id=\"df-2dfc037a-ee5e-41ab-8eb7-88b8ba6b9f52\" class=\"colab-df-container\">\n",
              "    <div>\n",
              "<style scoped>\n",
              "    .dataframe tbody tr th:only-of-type {\n",
              "        vertical-align: middle;\n",
              "    }\n",
              "\n",
              "    .dataframe tbody tr th {\n",
              "        vertical-align: top;\n",
              "    }\n",
              "\n",
              "    .dataframe thead th {\n",
              "        text-align: right;\n",
              "    }\n",
              "</style>\n",
              "<table border=\"1\" class=\"dataframe\">\n",
              "  <thead>\n",
              "    <tr style=\"text-align: right;\">\n",
              "      <th></th>\n",
              "      <th>Id</th>\n",
              "      <th>TotalViews</th>\n",
              "    </tr>\n",
              "  </thead>\n",
              "  <tbody>\n",
              "    <tr>\n",
              "      <th>0</th>\n",
              "      <td>919</td>\n",
              "      <td>85180</td>\n",
              "    </tr>\n",
              "    <tr>\n",
              "      <th>1</th>\n",
              "      <td>4253</td>\n",
              "      <td>35119</td>\n",
              "    </tr>\n",
              "    <tr>\n",
              "      <th>2</th>\n",
              "      <td>805</td>\n",
              "      <td>34637</td>\n",
              "    </tr>\n",
              "    <tr>\n",
              "      <th>3</th>\n",
              "      <td>7290</td>\n",
              "      <td>32639</td>\n",
              "    </tr>\n",
              "    <tr>\n",
              "      <th>4</th>\n",
              "      <td>3277</td>\n",
              "      <td>29255</td>\n",
              "    </tr>\n",
              "  </tbody>\n",
              "</table>\n",
              "</div>\n",
              "    <div class=\"colab-df-buttons\">\n",
              "\n",
              "  <div class=\"colab-df-container\">\n",
              "    <button class=\"colab-df-convert\" onclick=\"convertToInteractive('df-2dfc037a-ee5e-41ab-8eb7-88b8ba6b9f52')\"\n",
              "            title=\"Convert this dataframe to an interactive table.\"\n",
              "            style=\"display:none;\">\n",
              "\n",
              "  <svg xmlns=\"http://www.w3.org/2000/svg\" height=\"24px\" viewBox=\"0 -960 960 960\">\n",
              "    <path d=\"M120-120v-720h720v720H120Zm60-500h600v-160H180v160Zm220 220h160v-160H400v160Zm0 220h160v-160H400v160ZM180-400h160v-160H180v160Zm440 0h160v-160H620v160ZM180-180h160v-160H180v160Zm440 0h160v-160H620v160Z\"/>\n",
              "  </svg>\n",
              "    </button>\n",
              "\n",
              "  <style>\n",
              "    .colab-df-container {\n",
              "      display:flex;\n",
              "      gap: 12px;\n",
              "    }\n",
              "\n",
              "    .colab-df-convert {\n",
              "      background-color: #E8F0FE;\n",
              "      border: none;\n",
              "      border-radius: 50%;\n",
              "      cursor: pointer;\n",
              "      display: none;\n",
              "      fill: #1967D2;\n",
              "      height: 32px;\n",
              "      padding: 0 0 0 0;\n",
              "      width: 32px;\n",
              "    }\n",
              "\n",
              "    .colab-df-convert:hover {\n",
              "      background-color: #E2EBFA;\n",
              "      box-shadow: 0px 1px 2px rgba(60, 64, 67, 0.3), 0px 1px 3px 1px rgba(60, 64, 67, 0.15);\n",
              "      fill: #174EA6;\n",
              "    }\n",
              "\n",
              "    .colab-df-buttons div {\n",
              "      margin-bottom: 4px;\n",
              "    }\n",
              "\n",
              "    [theme=dark] .colab-df-convert {\n",
              "      background-color: #3B4455;\n",
              "      fill: #D2E3FC;\n",
              "    }\n",
              "\n",
              "    [theme=dark] .colab-df-convert:hover {\n",
              "      background-color: #434B5C;\n",
              "      box-shadow: 0px 1px 3px 1px rgba(0, 0, 0, 0.15);\n",
              "      filter: drop-shadow(0px 1px 2px rgba(0, 0, 0, 0.3));\n",
              "      fill: #FFFFFF;\n",
              "    }\n",
              "  </style>\n",
              "\n",
              "    <script>\n",
              "      const buttonEl =\n",
              "        document.querySelector('#df-2dfc037a-ee5e-41ab-8eb7-88b8ba6b9f52 button.colab-df-convert');\n",
              "      buttonEl.style.display =\n",
              "        google.colab.kernel.accessAllowed ? 'block' : 'none';\n",
              "\n",
              "      async function convertToInteractive(key) {\n",
              "        const element = document.querySelector('#df-2dfc037a-ee5e-41ab-8eb7-88b8ba6b9f52');\n",
              "        const dataTable =\n",
              "          await google.colab.kernel.invokeFunction('convertToInteractive',\n",
              "                                                    [key], {});\n",
              "        if (!dataTable) return;\n",
              "\n",
              "        const docLinkHtml = 'Like what you see? Visit the ' +\n",
              "          '<a target=\"_blank\" href=https://colab.research.google.com/notebooks/data_table.ipynb>data table notebook</a>'\n",
              "          + ' to learn more about interactive tables.';\n",
              "        element.innerHTML = '';\n",
              "        dataTable['output_type'] = 'display_data';\n",
              "        await google.colab.output.renderOutput(dataTable, element);\n",
              "        const docLink = document.createElement('div');\n",
              "        docLink.innerHTML = docLinkHtml;\n",
              "        element.appendChild(docLink);\n",
              "      }\n",
              "    </script>\n",
              "  </div>\n",
              "\n",
              "\n",
              "<div id=\"df-3ebdc20b-d35d-4a5b-964e-746a35fb299c\">\n",
              "  <button class=\"colab-df-quickchart\" onclick=\"quickchart('df-3ebdc20b-d35d-4a5b-964e-746a35fb299c')\"\n",
              "            title=\"Suggest charts\"\n",
              "            style=\"display:none;\">\n",
              "\n",
              "<svg xmlns=\"http://www.w3.org/2000/svg\" height=\"24px\"viewBox=\"0 0 24 24\"\n",
              "     width=\"24px\">\n",
              "    <g>\n",
              "        <path d=\"M19 3H5c-1.1 0-2 .9-2 2v14c0 1.1.9 2 2 2h14c1.1 0 2-.9 2-2V5c0-1.1-.9-2-2-2zM9 17H7v-7h2v7zm4 0h-2V7h2v10zm4 0h-2v-4h2v4z\"/>\n",
              "    </g>\n",
              "</svg>\n",
              "  </button>\n",
              "\n",
              "<style>\n",
              "  .colab-df-quickchart {\n",
              "      --bg-color: #E8F0FE;\n",
              "      --fill-color: #1967D2;\n",
              "      --hover-bg-color: #E2EBFA;\n",
              "      --hover-fill-color: #174EA6;\n",
              "      --disabled-fill-color: #AAA;\n",
              "      --disabled-bg-color: #DDD;\n",
              "  }\n",
              "\n",
              "  [theme=dark] .colab-df-quickchart {\n",
              "      --bg-color: #3B4455;\n",
              "      --fill-color: #D2E3FC;\n",
              "      --hover-bg-color: #434B5C;\n",
              "      --hover-fill-color: #FFFFFF;\n",
              "      --disabled-bg-color: #3B4455;\n",
              "      --disabled-fill-color: #666;\n",
              "  }\n",
              "\n",
              "  .colab-df-quickchart {\n",
              "    background-color: var(--bg-color);\n",
              "    border: none;\n",
              "    border-radius: 50%;\n",
              "    cursor: pointer;\n",
              "    display: none;\n",
              "    fill: var(--fill-color);\n",
              "    height: 32px;\n",
              "    padding: 0;\n",
              "    width: 32px;\n",
              "  }\n",
              "\n",
              "  .colab-df-quickchart:hover {\n",
              "    background-color: var(--hover-bg-color);\n",
              "    box-shadow: 0 1px 2px rgba(60, 64, 67, 0.3), 0 1px 3px 1px rgba(60, 64, 67, 0.15);\n",
              "    fill: var(--button-hover-fill-color);\n",
              "  }\n",
              "\n",
              "  .colab-df-quickchart-complete:disabled,\n",
              "  .colab-df-quickchart-complete:disabled:hover {\n",
              "    background-color: var(--disabled-bg-color);\n",
              "    fill: var(--disabled-fill-color);\n",
              "    box-shadow: none;\n",
              "  }\n",
              "\n",
              "  .colab-df-spinner {\n",
              "    border: 2px solid var(--fill-color);\n",
              "    border-color: transparent;\n",
              "    border-bottom-color: var(--fill-color);\n",
              "    animation:\n",
              "      spin 1s steps(1) infinite;\n",
              "  }\n",
              "\n",
              "  @keyframes spin {\n",
              "    0% {\n",
              "      border-color: transparent;\n",
              "      border-bottom-color: var(--fill-color);\n",
              "      border-left-color: var(--fill-color);\n",
              "    }\n",
              "    20% {\n",
              "      border-color: transparent;\n",
              "      border-left-color: var(--fill-color);\n",
              "      border-top-color: var(--fill-color);\n",
              "    }\n",
              "    30% {\n",
              "      border-color: transparent;\n",
              "      border-left-color: var(--fill-color);\n",
              "      border-top-color: var(--fill-color);\n",
              "      border-right-color: var(--fill-color);\n",
              "    }\n",
              "    40% {\n",
              "      border-color: transparent;\n",
              "      border-right-color: var(--fill-color);\n",
              "      border-top-color: var(--fill-color);\n",
              "    }\n",
              "    60% {\n",
              "      border-color: transparent;\n",
              "      border-right-color: var(--fill-color);\n",
              "    }\n",
              "    80% {\n",
              "      border-color: transparent;\n",
              "      border-right-color: var(--fill-color);\n",
              "      border-bottom-color: var(--fill-color);\n",
              "    }\n",
              "    90% {\n",
              "      border-color: transparent;\n",
              "      border-bottom-color: var(--fill-color);\n",
              "    }\n",
              "  }\n",
              "</style>\n",
              "\n",
              "  <script>\n",
              "    async function quickchart(key) {\n",
              "      const quickchartButtonEl =\n",
              "        document.querySelector('#' + key + ' button');\n",
              "      quickchartButtonEl.disabled = true;  // To prevent multiple clicks.\n",
              "      quickchartButtonEl.classList.add('colab-df-spinner');\n",
              "      try {\n",
              "        const charts = await google.colab.kernel.invokeFunction(\n",
              "            'suggestCharts', [key], {});\n",
              "      } catch (error) {\n",
              "        console.error('Error during call to suggestCharts:', error);\n",
              "      }\n",
              "      quickchartButtonEl.classList.remove('colab-df-spinner');\n",
              "      quickchartButtonEl.classList.add('colab-df-quickchart-complete');\n",
              "    }\n",
              "    (() => {\n",
              "      let quickchartButtonEl =\n",
              "        document.querySelector('#df-3ebdc20b-d35d-4a5b-964e-746a35fb299c button');\n",
              "      quickchartButtonEl.style.display =\n",
              "        google.colab.kernel.accessAllowed ? 'block' : 'none';\n",
              "    })();\n",
              "  </script>\n",
              "</div>\n",
              "    </div>\n",
              "  </div>\n"
            ],
            "application/vnd.google.colaboratory.intrinsic+json": {
              "type": "dataframe",
              "variable_name": "result",
              "summary": "{\n  \"name\": \"result\",\n  \"rows\": 5,\n  \"fields\": [\n    {\n      \"column\": \"Id\",\n      \"properties\": {\n        \"dtype\": \"number\",\n        \"std\": 2679,\n        \"min\": 805,\n        \"max\": 7290,\n        \"num_unique_values\": 5,\n        \"samples\": [\n          4253,\n          3277,\n          805\n        ],\n        \"semantic_type\": \"\",\n        \"description\": \"\"\n      }\n    },\n    {\n      \"column\": \"TotalViews\",\n      \"properties\": {\n        \"dtype\": \"number\",\n        \"std\": 23488,\n        \"min\": 29255,\n        \"max\": 85180,\n        \"num_unique_values\": 5,\n        \"samples\": [\n          35119,\n          29255,\n          34637\n        ],\n        \"semantic_type\": \"\",\n        \"description\": \"\"\n      }\n    }\n  ]\n}"
            }
          },
          "metadata": {},
          "execution_count": 34
        }
      ],
      "source": [
        "sql = \"\"\"\n",
        "SELECT Id, SUM(Views) AS TotalViews\n",
        "    FROM Users\n",
        "        GROUP BY Id\n",
        "            ORDER BY TotalViews DESC\n",
        "                LIMIT 5\n",
        "                \"\"\"\n",
        "result = pd.read_sql(sql, con) # con is the connection to the database\n",
        "result"
      ]
    },
    {
      "cell_type": "markdown",
      "metadata": {
        "id": "ri0yYJuZ7WwP"
      },
      "source": [
        "## Test the query\n",
        "You can optionally prove the query worked by performing the same query in Pandas:"
      ]
    },
    {
      "cell_type": "code",
      "execution_count": 35,
      "metadata": {
        "id": "sdz72CxW7WwQ",
        "colab": {
          "base_uri": "https://localhost:8080/"
        },
        "outputId": "e9bc0dec-5255-49fe-cfa7-968c379dad6f"
      },
      "outputs": [
        {
          "output_type": "stream",
          "name": "stderr",
          "text": [
            "<ipython-input-35-7b2c47bab8fa>:1: FutureWarning: The default value of numeric_only in DataFrameGroupBy.sum is deprecated. In a future version, numeric_only will default to False. Either specify numeric_only or select only columns which should be valid for the function.\n",
            "  results = users.groupby(['Id']).sum().sort_values('Views', ascending = False)[:5]\n"
          ]
        },
        {
          "output_type": "execute_result",
          "data": {
            "text/plain": [
              "Id\n",
              "919     85180\n",
              "4253    35119\n",
              "805     34637\n",
              "7290    32639\n",
              "3277    29255\n",
              "Name: Views, dtype: int64"
            ]
          },
          "metadata": {},
          "execution_count": 35
        }
      ],
      "source": [
        "results = users.groupby(['Id']).sum().sort_values('Views', ascending = False)[:5]\n",
        "results['Views']"
      ]
    },
    {
      "cell_type": "markdown",
      "metadata": {
        "id": "8U8445rY7WwQ"
      },
      "source": [
        "## Insert the query into the `queries` table\n",
        "Now we need to put this query into the `queries` table in sqlite. Remember we want these queries to be accessible to everybody that should have access to them. We do not want people writing and rewriting the same queires over and over again. The easiest thing to do is create a dictionary with the values and insert these into the queries table.  Note that the values are provided as lists as we are inserting a list of values (i.e. a number of rows) into the table.  In this case the number of rows is 1, so we have lists of 1 item.\n",
        "\n",
        "So here, we have a column called 'task' with a list of values, a column called 'action' with a list of values, etc."
      ]
    },
    {
      "cell_type": "code",
      "execution_count": 36,
      "metadata": {
        "id": "tn0hwRHh7WwQ",
        "colab": {
          "base_uri": "https://localhost:8080/"
        },
        "outputId": "f9444971-39b2-4312-dd73-a1d8c9ec7a3b"
      },
      "outputs": [
        {
          "output_type": "execute_result",
          "data": {
            "text/plain": [
              "{'task': ['Single Table Queries'],\n",
              " 'action': ['Which 5 users have viewed the most times and what is the sum of those views per user?'],\n",
              " 'query': ['\\nSELECT Id, SUM(Views) AS TotalViews\\n    FROM Users\\n        GROUP BY Id\\n            ORDER BY TotalViews DESC\\n                LIMIT 5\\n                ']}"
            ]
          },
          "metadata": {},
          "execution_count": 36
        }
      ],
      "source": [
        "query_dict = {\n",
        "              'task': ['Single Table Queries'],\n",
        "              'action': ['Which 5 users have viewed the most times and what is the sum of those views per user?'],\n",
        "              'query': [sql]\n",
        "             }\n",
        "query_dict"
      ]
    },
    {
      "cell_type": "markdown",
      "metadata": {
        "id": "1y_tUHFj7WwR"
      },
      "source": [
        "Now that you have the data structure (query_dict) containing the data, create a pandas dataframe that holds those values:"
      ]
    },
    {
      "cell_type": "code",
      "execution_count": 37,
      "metadata": {
        "id": "k0exEY1r7WwR",
        "colab": {
          "base_uri": "https://localhost:8080/",
          "height": 81
        },
        "outputId": "b9565697-1b4c-4da8-accd-04a5494b5790"
      },
      "outputs": [
        {
          "output_type": "execute_result",
          "data": {
            "text/plain": [
              "                   task                                             action  \\\n",
              "0  Single Table Queries  Which 5 users have viewed the most times and w...   \n",
              "\n",
              "                                               query  \n",
              "0  \\nSELECT Id, SUM(Views) AS TotalViews\\n    FRO...  "
            ],
            "text/html": [
              "\n",
              "  <div id=\"df-47ccc847-6ae5-4224-a49e-5cf231640d2b\" class=\"colab-df-container\">\n",
              "    <div>\n",
              "<style scoped>\n",
              "    .dataframe tbody tr th:only-of-type {\n",
              "        vertical-align: middle;\n",
              "    }\n",
              "\n",
              "    .dataframe tbody tr th {\n",
              "        vertical-align: top;\n",
              "    }\n",
              "\n",
              "    .dataframe thead th {\n",
              "        text-align: right;\n",
              "    }\n",
              "</style>\n",
              "<table border=\"1\" class=\"dataframe\">\n",
              "  <thead>\n",
              "    <tr style=\"text-align: right;\">\n",
              "      <th></th>\n",
              "      <th>task</th>\n",
              "      <th>action</th>\n",
              "      <th>query</th>\n",
              "    </tr>\n",
              "  </thead>\n",
              "  <tbody>\n",
              "    <tr>\n",
              "      <th>0</th>\n",
              "      <td>Single Table Queries</td>\n",
              "      <td>Which 5 users have viewed the most times and w...</td>\n",
              "      <td>\\nSELECT Id, SUM(Views) AS TotalViews\\n    FRO...</td>\n",
              "    </tr>\n",
              "  </tbody>\n",
              "</table>\n",
              "</div>\n",
              "    <div class=\"colab-df-buttons\">\n",
              "\n",
              "  <div class=\"colab-df-container\">\n",
              "    <button class=\"colab-df-convert\" onclick=\"convertToInteractive('df-47ccc847-6ae5-4224-a49e-5cf231640d2b')\"\n",
              "            title=\"Convert this dataframe to an interactive table.\"\n",
              "            style=\"display:none;\">\n",
              "\n",
              "  <svg xmlns=\"http://www.w3.org/2000/svg\" height=\"24px\" viewBox=\"0 -960 960 960\">\n",
              "    <path d=\"M120-120v-720h720v720H120Zm60-500h600v-160H180v160Zm220 220h160v-160H400v160Zm0 220h160v-160H400v160ZM180-400h160v-160H180v160Zm440 0h160v-160H620v160ZM180-180h160v-160H180v160Zm440 0h160v-160H620v160Z\"/>\n",
              "  </svg>\n",
              "    </button>\n",
              "\n",
              "  <style>\n",
              "    .colab-df-container {\n",
              "      display:flex;\n",
              "      gap: 12px;\n",
              "    }\n",
              "\n",
              "    .colab-df-convert {\n",
              "      background-color: #E8F0FE;\n",
              "      border: none;\n",
              "      border-radius: 50%;\n",
              "      cursor: pointer;\n",
              "      display: none;\n",
              "      fill: #1967D2;\n",
              "      height: 32px;\n",
              "      padding: 0 0 0 0;\n",
              "      width: 32px;\n",
              "    }\n",
              "\n",
              "    .colab-df-convert:hover {\n",
              "      background-color: #E2EBFA;\n",
              "      box-shadow: 0px 1px 2px rgba(60, 64, 67, 0.3), 0px 1px 3px 1px rgba(60, 64, 67, 0.15);\n",
              "      fill: #174EA6;\n",
              "    }\n",
              "\n",
              "    .colab-df-buttons div {\n",
              "      margin-bottom: 4px;\n",
              "    }\n",
              "\n",
              "    [theme=dark] .colab-df-convert {\n",
              "      background-color: #3B4455;\n",
              "      fill: #D2E3FC;\n",
              "    }\n",
              "\n",
              "    [theme=dark] .colab-df-convert:hover {\n",
              "      background-color: #434B5C;\n",
              "      box-shadow: 0px 1px 3px 1px rgba(0, 0, 0, 0.15);\n",
              "      filter: drop-shadow(0px 1px 2px rgba(0, 0, 0, 0.3));\n",
              "      fill: #FFFFFF;\n",
              "    }\n",
              "  </style>\n",
              "\n",
              "    <script>\n",
              "      const buttonEl =\n",
              "        document.querySelector('#df-47ccc847-6ae5-4224-a49e-5cf231640d2b button.colab-df-convert');\n",
              "      buttonEl.style.display =\n",
              "        google.colab.kernel.accessAllowed ? 'block' : 'none';\n",
              "\n",
              "      async function convertToInteractive(key) {\n",
              "        const element = document.querySelector('#df-47ccc847-6ae5-4224-a49e-5cf231640d2b');\n",
              "        const dataTable =\n",
              "          await google.colab.kernel.invokeFunction('convertToInteractive',\n",
              "                                                    [key], {});\n",
              "        if (!dataTable) return;\n",
              "\n",
              "        const docLinkHtml = 'Like what you see? Visit the ' +\n",
              "          '<a target=\"_blank\" href=https://colab.research.google.com/notebooks/data_table.ipynb>data table notebook</a>'\n",
              "          + ' to learn more about interactive tables.';\n",
              "        element.innerHTML = '';\n",
              "        dataTable['output_type'] = 'display_data';\n",
              "        await google.colab.output.renderOutput(dataTable, element);\n",
              "        const docLink = document.createElement('div');\n",
              "        docLink.innerHTML = docLinkHtml;\n",
              "        element.appendChild(docLink);\n",
              "      }\n",
              "    </script>\n",
              "  </div>\n",
              "\n",
              "    </div>\n",
              "  </div>\n"
            ],
            "application/vnd.google.colaboratory.intrinsic+json": {
              "type": "dataframe",
              "variable_name": "queries",
              "summary": "{\n  \"name\": \"queries\",\n  \"rows\": 1,\n  \"fields\": [\n    {\n      \"column\": \"task\",\n      \"properties\": {\n        \"dtype\": \"string\",\n        \"num_unique_values\": 1,\n        \"samples\": [\n          \"Single Table Queries\"\n        ],\n        \"semantic_type\": \"\",\n        \"description\": \"\"\n      }\n    },\n    {\n      \"column\": \"action\",\n      \"properties\": {\n        \"dtype\": \"string\",\n        \"num_unique_values\": 1,\n        \"samples\": [\n          \"Which 5 users have viewed the most times and what is the sum of those views per user?\"\n        ],\n        \"semantic_type\": \"\",\n        \"description\": \"\"\n      }\n    },\n    {\n      \"column\": \"query\",\n      \"properties\": {\n        \"dtype\": \"string\",\n        \"num_unique_values\": 1,\n        \"samples\": [\n          \"\\nSELECT Id, SUM(Views) AS TotalViews\\n    FROM Users\\n        GROUP BY Id\\n            ORDER BY TotalViews DESC\\n                LIMIT 5\\n                \"\n        ],\n        \"semantic_type\": \"\",\n        \"description\": \"\"\n      }\n    }\n  ]\n}"
            }
          },
          "metadata": {},
          "execution_count": 37
        }
      ],
      "source": [
        "queries = pd.DataFrame(query_dict)\n",
        "queries"
      ]
    },
    {
      "cell_type": "markdown",
      "metadata": {
        "id": "cRqXQJXG7WwS"
      },
      "source": [
        "Now load that pandas dataframe (queries) into the sqlite table called queries. In this case, you use append NOT replace. You will be adding to this tables as you go thru this project."
      ]
    },
    {
      "cell_type": "code",
      "execution_count": 38,
      "metadata": {
        "id": "_tLfNqNL7WwS",
        "colab": {
          "base_uri": "https://localhost:8080/",
          "height": 81
        },
        "outputId": "c5463d66-4c5b-4395-cafb-f38129ca24f6"
      },
      "outputs": [
        {
          "output_type": "execute_result",
          "data": {
            "text/plain": [
              "                   task                                             action  \\\n",
              "0  Single Table Queries  Which 5 users have viewed the most times and w...   \n",
              "\n",
              "                                               query  \n",
              "0  \\nSELECT Id, SUM(Views) AS TotalViews\\n    FRO...  "
            ],
            "text/html": [
              "\n",
              "  <div id=\"df-c1fd1a2a-c80a-46d0-8109-09fc3b0f92c4\" class=\"colab-df-container\">\n",
              "    <div>\n",
              "<style scoped>\n",
              "    .dataframe tbody tr th:only-of-type {\n",
              "        vertical-align: middle;\n",
              "    }\n",
              "\n",
              "    .dataframe tbody tr th {\n",
              "        vertical-align: top;\n",
              "    }\n",
              "\n",
              "    .dataframe thead th {\n",
              "        text-align: right;\n",
              "    }\n",
              "</style>\n",
              "<table border=\"1\" class=\"dataframe\">\n",
              "  <thead>\n",
              "    <tr style=\"text-align: right;\">\n",
              "      <th></th>\n",
              "      <th>task</th>\n",
              "      <th>action</th>\n",
              "      <th>query</th>\n",
              "    </tr>\n",
              "  </thead>\n",
              "  <tbody>\n",
              "    <tr>\n",
              "      <th>0</th>\n",
              "      <td>Single Table Queries</td>\n",
              "      <td>Which 5 users have viewed the most times and w...</td>\n",
              "      <td>\\nSELECT Id, SUM(Views) AS TotalViews\\n    FRO...</td>\n",
              "    </tr>\n",
              "  </tbody>\n",
              "</table>\n",
              "</div>\n",
              "    <div class=\"colab-df-buttons\">\n",
              "\n",
              "  <div class=\"colab-df-container\">\n",
              "    <button class=\"colab-df-convert\" onclick=\"convertToInteractive('df-c1fd1a2a-c80a-46d0-8109-09fc3b0f92c4')\"\n",
              "            title=\"Convert this dataframe to an interactive table.\"\n",
              "            style=\"display:none;\">\n",
              "\n",
              "  <svg xmlns=\"http://www.w3.org/2000/svg\" height=\"24px\" viewBox=\"0 -960 960 960\">\n",
              "    <path d=\"M120-120v-720h720v720H120Zm60-500h600v-160H180v160Zm220 220h160v-160H400v160Zm0 220h160v-160H400v160ZM180-400h160v-160H180v160Zm440 0h160v-160H620v160ZM180-180h160v-160H180v160Zm440 0h160v-160H620v160Z\"/>\n",
              "  </svg>\n",
              "    </button>\n",
              "\n",
              "  <style>\n",
              "    .colab-df-container {\n",
              "      display:flex;\n",
              "      gap: 12px;\n",
              "    }\n",
              "\n",
              "    .colab-df-convert {\n",
              "      background-color: #E8F0FE;\n",
              "      border: none;\n",
              "      border-radius: 50%;\n",
              "      cursor: pointer;\n",
              "      display: none;\n",
              "      fill: #1967D2;\n",
              "      height: 32px;\n",
              "      padding: 0 0 0 0;\n",
              "      width: 32px;\n",
              "    }\n",
              "\n",
              "    .colab-df-convert:hover {\n",
              "      background-color: #E2EBFA;\n",
              "      box-shadow: 0px 1px 2px rgba(60, 64, 67, 0.3), 0px 1px 3px 1px rgba(60, 64, 67, 0.15);\n",
              "      fill: #174EA6;\n",
              "    }\n",
              "\n",
              "    .colab-df-buttons div {\n",
              "      margin-bottom: 4px;\n",
              "    }\n",
              "\n",
              "    [theme=dark] .colab-df-convert {\n",
              "      background-color: #3B4455;\n",
              "      fill: #D2E3FC;\n",
              "    }\n",
              "\n",
              "    [theme=dark] .colab-df-convert:hover {\n",
              "      background-color: #434B5C;\n",
              "      box-shadow: 0px 1px 3px 1px rgba(0, 0, 0, 0.15);\n",
              "      filter: drop-shadow(0px 1px 2px rgba(0, 0, 0, 0.3));\n",
              "      fill: #FFFFFF;\n",
              "    }\n",
              "  </style>\n",
              "\n",
              "    <script>\n",
              "      const buttonEl =\n",
              "        document.querySelector('#df-c1fd1a2a-c80a-46d0-8109-09fc3b0f92c4 button.colab-df-convert');\n",
              "      buttonEl.style.display =\n",
              "        google.colab.kernel.accessAllowed ? 'block' : 'none';\n",
              "\n",
              "      async function convertToInteractive(key) {\n",
              "        const element = document.querySelector('#df-c1fd1a2a-c80a-46d0-8109-09fc3b0f92c4');\n",
              "        const dataTable =\n",
              "          await google.colab.kernel.invokeFunction('convertToInteractive',\n",
              "                                                    [key], {});\n",
              "        if (!dataTable) return;\n",
              "\n",
              "        const docLinkHtml = 'Like what you see? Visit the ' +\n",
              "          '<a target=\"_blank\" href=https://colab.research.google.com/notebooks/data_table.ipynb>data table notebook</a>'\n",
              "          + ' to learn more about interactive tables.';\n",
              "        element.innerHTML = '';\n",
              "        dataTable['output_type'] = 'display_data';\n",
              "        await google.colab.output.renderOutput(dataTable, element);\n",
              "        const docLink = document.createElement('div');\n",
              "        docLink.innerHTML = docLinkHtml;\n",
              "        element.appendChild(docLink);\n",
              "      }\n",
              "    </script>\n",
              "  </div>\n",
              "\n",
              "    </div>\n",
              "  </div>\n"
            ],
            "application/vnd.google.colaboratory.intrinsic+json": {
              "type": "dataframe",
              "variable_name": "queries",
              "summary": "{\n  \"name\": \"queries\",\n  \"rows\": 1,\n  \"fields\": [\n    {\n      \"column\": \"task\",\n      \"properties\": {\n        \"dtype\": \"string\",\n        \"num_unique_values\": 1,\n        \"samples\": [\n          \"Single Table Queries\"\n        ],\n        \"semantic_type\": \"\",\n        \"description\": \"\"\n      }\n    },\n    {\n      \"column\": \"action\",\n      \"properties\": {\n        \"dtype\": \"string\",\n        \"num_unique_values\": 1,\n        \"samples\": [\n          \"Which 5 users have viewed the most times and what is the sum of those views per user?\"\n        ],\n        \"semantic_type\": \"\",\n        \"description\": \"\"\n      }\n    },\n    {\n      \"column\": \"query\",\n      \"properties\": {\n        \"dtype\": \"string\",\n        \"num_unique_values\": 1,\n        \"samples\": [\n          \"\\nSELECT Id, SUM(Views) AS TotalViews\\n    FROM Users\\n        GROUP BY Id\\n            ORDER BY TotalViews DESC\\n                LIMIT 5\\n                \"\n        ],\n        \"semantic_type\": \"\",\n        \"description\": \"\"\n      }\n    }\n  ]\n}"
            }
          },
          "metadata": {},
          "execution_count": 38
        }
      ],
      "source": [
        "# load query into sqlite\n",
        "queries.to_sql('queries', con, if_exists='append', index=False)\n",
        "\n",
        "# read back in to prove that it worked\n",
        "sql = 'SELECT * FROM queries'\n",
        "queries = pd.read_sql(sql, con)\n",
        "queries.head()"
      ]
    },
    {
      "cell_type": "markdown",
      "metadata": {
        "id": "XLSbhX7W7WwT"
      },
      "source": [
        "It is likely that as you iterate thru this notebook you will create some duplicate entries in the query table. Not a big deal. Just tell sql or pandas (much easier in pandas) to drop the duplicates! If you drop the duplicates in Pandas you will have to write the entire dataframe back to sqlite. Otherwise it is changed in memory in Pandas but NOT in sqlite on the disk drive (or SDD). Just do this drop at the end of this notebook so that you are not constantly dealing with this."
      ]
    },
    {
      "cell_type": "markdown",
      "metadata": {
        "id": "uDbnnEIg7WwT"
      },
      "source": [
        "So, to summarise, as you go through the following tasks you need to:\n",
        "\n",
        "- answer the question in sql\n",
        "- prove it in pandas (if you want to)\n",
        "- put the query into the queries table"
      ]
    },
    {
      "cell_type": "markdown",
      "metadata": {
        "id": "9Qhw36JF7WwU"
      },
      "source": [
        "# Task 1 (continued): Insert the CREATE TABLE Statements into the `queries` Table\n",
        "\n",
        "Now that we understand how to populate the `queries` table, let's insert the CREATE TABLE statements into it.  First let's define a function to help us insert into the queries table:\n"
      ]
    },
    {
      "cell_type": "code",
      "execution_count": 39,
      "metadata": {
        "id": "eFRlyYYT7WwU"
      },
      "outputs": [],
      "source": [
        "# Define a function that will insert into the queries table\n",
        "def store_query(task, action, query):\n",
        "    query_dict = {\n",
        "                  'task': [task],\n",
        "                  'action': [action],\n",
        "                  'query': [query]\n",
        "                 }\n",
        "\n",
        "    # put query into the query_dict\n",
        "    queries = pd.DataFrame(query_dict)\n",
        "\n",
        "    # load query into sqlite\n",
        "    queries.to_sql('queries', con, if_exists='append', index=False)"
      ]
    },
    {
      "cell_type": "markdown",
      "metadata": {
        "id": "l9cae3UM7WwU"
      },
      "source": [
        "Now we can specify the queries and call the above function to store them.  The first one is done for you."
      ]
    },
    {
      "cell_type": "code",
      "execution_count": 40,
      "metadata": {
        "id": "lLknNJmq7WwV"
      },
      "outputs": [],
      "source": [
        "sql = \"\"\"\n",
        "    CREATE TABLE \"comments\" (\n",
        "    \"Id\" INTEGER,\n",
        "    \"PostId\" INTEGER,\n",
        "    \"Score\" INTEGER,\n",
        "    \"Text\" TEXT,\n",
        "    \"CreationDate\" TEXT,\n",
        "    \"UserId\" INTEGER\n",
        "    )\n",
        "    \"\"\"\n",
        "store_query(\"Task 1\", \"Create table comments\", sql)"
      ]
    },
    {
      "cell_type": "markdown",
      "metadata": {
        "id": "LlCspsZD7WwV"
      },
      "source": [
        "Let's prove it works by selecting back from the queries table:"
      ]
    },
    {
      "cell_type": "code",
      "execution_count": 41,
      "metadata": {
        "id": "H7ioUYSP7WwV",
        "colab": {
          "base_uri": "https://localhost:8080/",
          "height": 342
        },
        "outputId": "a79065d8-44b6-4df9-f182-28470a77006b"
      },
      "outputs": [
        {
          "output_type": "stream",
          "name": "stdout",
          "text": [
            " * sqlite:///chatdata.db\n",
            "Done.\n"
          ]
        },
        {
          "output_type": "execute_result",
          "data": {
            "text/plain": [
              "[('Single Table Queries', 'Which 5 users have viewed the most times and what is the sum of those views per user?', '\\nSELECT Id, SUM(Views) AS TotalViews\\n    FROM Users\\n        GROUP BY Id\\n            ORDER BY TotalViews DESC\\n                LIMIT 5\\n                '),\n",
              " ('Task 1', 'Create table comments', '\\n    CREATE TABLE \"comments\" (\\n    \"Id\" INTEGER,\\n    \"PostId\" INTEGER,\\n    \"Score\" INTEGER,\\n    \"Text\" TEXT,\\n    \"CreationDate\" TEXT,\\n    \"UserId\" INTEGER\\n    )\\n    ')]"
            ],
            "text/html": [
              "<table>\n",
              "    <thead>\n",
              "        <tr>\n",
              "            <th>task</th>\n",
              "            <th>action</th>\n",
              "            <th>query</th>\n",
              "        </tr>\n",
              "    </thead>\n",
              "    <tbody>\n",
              "        <tr>\n",
              "            <td>Single Table Queries</td>\n",
              "            <td>Which 5 users have viewed the most times and what is the sum of those views per user?</td>\n",
              "            <td><br>SELECT Id, SUM(Views) AS TotalViews<br>    FROM Users<br>        GROUP BY Id<br>            ORDER BY TotalViews DESC<br>                LIMIT 5<br>                </td>\n",
              "        </tr>\n",
              "        <tr>\n",
              "            <td>Task 1</td>\n",
              "            <td>Create table comments</td>\n",
              "            <td><br>    CREATE TABLE &quot;comments&quot; (<br>    &quot;Id&quot; INTEGER,<br>    &quot;PostId&quot; INTEGER,<br>    &quot;Score&quot; INTEGER,<br>    &quot;Text&quot; TEXT,<br>    &quot;CreationDate&quot; TEXT,<br>    &quot;UserId&quot; INTEGER<br>    )<br>    </td>\n",
              "        </tr>\n",
              "    </tbody>\n",
              "</table>"
            ]
          },
          "metadata": {},
          "execution_count": 41
        }
      ],
      "source": [
        "# Prove it works\n",
        "%sql SELECT * FROM queries"
      ]
    },
    {
      "cell_type": "markdown",
      "metadata": {
        "id": "Tr4zGO2g7WwV"
      },
      "source": [
        "## Insert the other CREATE TABLE statements into the `queries` table.\n",
        "Follow the above pattern to complete these code cells:\n",
        "\n",
        "<div style=\"background-color:lemonchiffon; border:1px solid; padding:5px; margin:5px; font-weight:bold\"><font color=\"crimson\">\n",
        "TODO: Complete the following code cells\n",
        "    </font></div>"
      ]
    },
    {
      "cell_type": "code",
      "execution_count": 42,
      "metadata": {
        "id": "wKYs_ka-7WwW"
      },
      "outputs": [],
      "source": [
        "# Insert the CREATE TABLE for posts into the queries table\n",
        "sql = \"\"\"\n",
        "    CREATE TABLE \"posts\" (\n",
        "    \"Id\" INTEGER NOT NULL PRIMARY KEY,\n",
        "    \"PostTypeId\" INTEGER,\n",
        "    \"AcceptedAnswerId\" INTEGER,\n",
        "    \"ParentId\" INTEGER,\n",
        "    \"CreationDate\" TEXT,\n",
        "    \"Score\" INTEGER,\n",
        "    \"ViewCount\" INTEGER,\n",
        "    \"Body\" TEXT,\n",
        "    \"OwnerUserId\" INTEGER,\n",
        "    \"OwnerDisplayName\" TEXT,\n",
        "    \"LastEditorUserId\" INTEGER,\n",
        "    \"LastEditorDisplayName\" TEXT,\n",
        "    \"LastEditDate\" TEXT,\n",
        "    \"LastActivityDate\" TEXT,\n",
        "    \"Title\" TEXT,\n",
        "    \"Tags\" TEXT,\n",
        "    \"AnswerCount\" INTEGER,\n",
        "    \"CommentCount\" INTEGER,\n",
        "    \"FavoriteCount\" INTEGER,\n",
        "    \"ClosedDate\" TEXT,\n",
        "    \"CommunityOwnedDate\" TEXT\n",
        "    )\n",
        "    \"\"\"\n",
        "store_query(\"Task 2\", \"Create table posts\", sql)"
      ]
    },
    {
      "cell_type": "code",
      "execution_count": 43,
      "metadata": {
        "id": "iozO4lBY7WwW"
      },
      "outputs": [],
      "source": [
        "# Insert the CREATE TABLE for users into the queries table\n",
        "sql = \"\"\"\n",
        "    CREATE TABLE \"users\" (\n",
        "    \"Id\" INTEGER NOT NULL PRIMARY KEY,\n",
        "    \"Reputation\" INTEGER,\n",
        "    \"CreationDate\" TEXT,\n",
        "    \"DisplayName\" TEXT,\n",
        "    \"LastAccessDate\" TEXT,\n",
        "    \"WebsiteUrl\" TEXT,\n",
        "    \"Location\" TEXT,\n",
        "    \"AboutMe\" TEXT,\n",
        "    \"Views\" INTEGER,\n",
        "    \"UpVotes\" INTEGER,\n",
        "    \"DownVotes\" INTEGER,\n",
        "    \"ProfileImageUrl\" TEXT,\n",
        "    \"AccountId\" INTEGER\n",
        "    )\n",
        "    \"\"\"\n",
        "store_query(\"Task 3\", \"Create table users\", sql)"
      ]
    },
    {
      "cell_type": "code",
      "source": [
        "# Prove it works\n",
        "%sql SELECT * FROM queries"
      ],
      "metadata": {
        "colab": {
          "base_uri": "https://localhost:8080/",
          "height": 1000
        },
        "id": "q14yhscbCeLI",
        "outputId": "92bdc69c-326a-4325-db68-ff683cbc2ed7"
      },
      "execution_count": 44,
      "outputs": [
        {
          "output_type": "stream",
          "name": "stdout",
          "text": [
            " * sqlite:///chatdata.db\n",
            "Done.\n"
          ]
        },
        {
          "output_type": "execute_result",
          "data": {
            "text/plain": [
              "[('Single Table Queries', 'Which 5 users have viewed the most times and what is the sum of those views per user?', '\\nSELECT Id, SUM(Views) AS TotalViews\\n    FROM Users\\n        GROUP BY Id\\n            ORDER BY TotalViews DESC\\n                LIMIT 5\\n                '),\n",
              " ('Task 1', 'Create table comments', '\\n    CREATE TABLE \"comments\" (\\n    \"Id\" INTEGER,\\n    \"PostId\" INTEGER,\\n    \"Score\" INTEGER,\\n    \"Text\" TEXT,\\n    \"CreationDate\" TEXT,\\n    \"UserId\" INTEGER\\n    )\\n    '),\n",
              " ('Task 2', 'Create table posts', '\\n    CREATE TABLE \"posts\" (\\n    \"Id\" INTEGER NOT NULL PRIMARY KEY,\\n    \"PostTypeId\" INTEGER,\\n    \"AcceptedAnswerId\" INTEGER,\\n    \"ParentId\" INTE ... (321 characters truncated) ... \"AnswerCount\" INTEGER,\\n    \"CommentCount\" INTEGER,\\n    \"FavoriteCount\" INTEGER,\\n    \"ClosedDate\" TEXT,\\n    \"CommunityOwnedDate\" TEXT\\n    )\\n    '),\n",
              " ('Task 3', 'Create table users', '\\n    CREATE TABLE \"users\" (\\n    \"Id\" INTEGER NOT NULL PRIMARY KEY,\\n    \"Reputation\" INTEGER,\\n    \"CreationDate\" TEXT,\\n    \"DisplayName\" TEXT,\\n  ... (82 characters truncated) ... tMe\" TEXT,\\n    \"Views\" INTEGER,\\n    \"UpVotes\" INTEGER,\\n    \"DownVotes\" INTEGER,\\n    \"ProfileImageUrl\" TEXT,\\n    \"AccountId\" INTEGER\\n    )\\n    ')]"
            ],
            "text/html": [
              "<table>\n",
              "    <thead>\n",
              "        <tr>\n",
              "            <th>task</th>\n",
              "            <th>action</th>\n",
              "            <th>query</th>\n",
              "        </tr>\n",
              "    </thead>\n",
              "    <tbody>\n",
              "        <tr>\n",
              "            <td>Single Table Queries</td>\n",
              "            <td>Which 5 users have viewed the most times and what is the sum of those views per user?</td>\n",
              "            <td><br>SELECT Id, SUM(Views) AS TotalViews<br>    FROM Users<br>        GROUP BY Id<br>            ORDER BY TotalViews DESC<br>                LIMIT 5<br>                </td>\n",
              "        </tr>\n",
              "        <tr>\n",
              "            <td>Task 1</td>\n",
              "            <td>Create table comments</td>\n",
              "            <td><br>    CREATE TABLE &quot;comments&quot; (<br>    &quot;Id&quot; INTEGER,<br>    &quot;PostId&quot; INTEGER,<br>    &quot;Score&quot; INTEGER,<br>    &quot;Text&quot; TEXT,<br>    &quot;CreationDate&quot; TEXT,<br>    &quot;UserId&quot; INTEGER<br>    )<br>    </td>\n",
              "        </tr>\n",
              "        <tr>\n",
              "            <td>Task 2</td>\n",
              "            <td>Create table posts</td>\n",
              "            <td><br>    CREATE TABLE &quot;posts&quot; (<br>    &quot;Id&quot; INTEGER NOT NULL PRIMARY KEY,<br>    &quot;PostTypeId&quot; INTEGER,<br>    &quot;AcceptedAnswerId&quot; INTEGER,<br>    &quot;ParentId&quot; INTEGER,<br>    &quot;CreationDate&quot; TEXT,<br>    &quot;Score&quot; INTEGER,<br>    &quot;ViewCount&quot; INTEGER,<br>    &quot;Body&quot; TEXT,<br>    &quot;OwnerUserId&quot; INTEGER,<br>    &quot;OwnerDisplayName&quot; TEXT,<br>    &quot;LastEditorUserId&quot; INTEGER,<br>    &quot;LastEditorDisplayName&quot; TEXT,<br>    &quot;LastEditDate&quot; TEXT,<br>    &quot;LastActivityDate&quot; TEXT,<br>    &quot;Title&quot; TEXT,<br>    &quot;Tags&quot; TEXT,<br>    &quot;AnswerCount&quot; INTEGER,<br>    &quot;CommentCount&quot; INTEGER,<br>    &quot;FavoriteCount&quot; INTEGER,<br>    &quot;ClosedDate&quot; TEXT,<br>    &quot;CommunityOwnedDate&quot; TEXT<br>    )<br>    </td>\n",
              "        </tr>\n",
              "        <tr>\n",
              "            <td>Task 3</td>\n",
              "            <td>Create table users</td>\n",
              "            <td><br>    CREATE TABLE &quot;users&quot; (<br>    &quot;Id&quot; INTEGER NOT NULL PRIMARY KEY,<br>    &quot;Reputation&quot; INTEGER,<br>    &quot;CreationDate&quot; TEXT,<br>    &quot;DisplayName&quot; TEXT,<br>    &quot;LastAccessDate&quot; TEXT,<br>    &quot;WebsiteUrl&quot; TEXT,<br>    &quot;Location&quot; TEXT,<br>    &quot;AboutMe&quot; TEXT,<br>    &quot;Views&quot; INTEGER,<br>    &quot;UpVotes&quot; INTEGER,<br>    &quot;DownVotes&quot; INTEGER,<br>    &quot;ProfileImageUrl&quot; TEXT,<br>    &quot;AccountId&quot; INTEGER<br>    )<br>    </td>\n",
              "        </tr>\n",
              "    </tbody>\n",
              "</table>"
            ]
          },
          "metadata": {},
          "execution_count": 44
        }
      ]
    },
    {
      "cell_type": "markdown",
      "metadata": {
        "id": "5oamKQcp7WwW"
      },
      "source": [
        "## Count the Number of Rows in Each Table\n",
        "Run some queries to count the number of rows in each of the tables.  Don't forget to insert the query into the queries table.\n",
        "\n",
        "<div style=\"background-color:lemonchiffon; border:1px solid; padding:5px; margin:5px; font-weight:bold\"><font color=\"crimson\">\n",
        "TODO: Complete the following code cells\n",
        "    </font></div>"
      ]
    },
    {
      "cell_type": "code",
      "execution_count": 58,
      "metadata": {
        "id": "9_ngIhHj7WwX",
        "colab": {
          "base_uri": "https://localhost:8080/"
        },
        "outputId": "ca6b68b4-c476-4f3e-c794-1bbe0c1544b4"
      },
      "outputs": [
        {
          "output_type": "stream",
          "name": "stdout",
          "text": [
            "Number of rows in comments table: 50000\n"
          ]
        }
      ],
      "source": [
        "# Count the number of rows in the comments table\n",
        "\n",
        "# Define SQL queries to count the number of rows in table\n",
        "sql_comments_count = 'SELECT COUNT(*) FROM comments;'\n",
        "\n",
        "# Execute the SQL queries to get the row counts\n",
        "comments_count = pd.read_sql(sql_comments_count, con).iloc[0, 0]\n",
        "\n",
        "# Print the row counts for each table\n",
        "print(f'Number of rows in comments table: {comments_count}')\n"
      ]
    },
    {
      "cell_type": "code",
      "execution_count": 59,
      "metadata": {
        "id": "KA-7QYEZ7WwX",
        "colab": {
          "base_uri": "https://localhost:8080/"
        },
        "outputId": "e17501ce-14f3-4988-e7a0-50533e87ee3a"
      },
      "outputs": [
        {
          "output_type": "stream",
          "name": "stdout",
          "text": [
            "Number of rows in users table: 18412\n"
          ]
        }
      ],
      "source": [
        "# Count the number of rows in the users table\n",
        "sql_users_count = 'SELECT COUNT(*) FROM users;'\n",
        "\n",
        "users_count = pd.read_sql(sql_users_count, con).iloc[0, 0]\n",
        "\n",
        "print(f'Number of rows in users table: {users_count}')\n"
      ]
    },
    {
      "cell_type": "code",
      "execution_count": 60,
      "metadata": {
        "id": "iCGlA4VG7WwX",
        "colab": {
          "base_uri": "https://localhost:8080/"
        },
        "outputId": "48940cfb-4ebb-4d39-bf7e-f397db3497dc"
      },
      "outputs": [
        {
          "output_type": "stream",
          "name": "stdout",
          "text": [
            "Number of rows in posts table: 42234\n"
          ]
        }
      ],
      "source": [
        "# Count the number of rows in the posts table\n",
        "sql_posts_count = 'SELECT COUNT(*) FROM posts;'\n",
        "\n",
        "posts_count = pd.read_sql(sql_posts_count, con).iloc[0, 0]\n",
        "\n",
        "print(f'Number of rows in posts table: {posts_count}')\n"
      ]
    },
    {
      "cell_type": "markdown",
      "metadata": {
        "id": "T4VEHVt_7WwY"
      },
      "source": [
        "## Do some Random Checks on the Data\n",
        "Let's write some queries that select 5 random rows from each table.  The queries are provided here:\n",
        "\n",
        "    select * from Comments order by random() limit 5;\n",
        "    select * from Users order by random() limit 5;\n",
        "    select * from Posts order by random() limit 5;\n",
        "\n",
        "Enter the queries into the code cells below and insert the queries into the `queries` table in the same was as you did for the CREATE TABLE statements.\n",
        "\n",
        "<div style=\"background-color:lemonchiffon; border:1px solid; padding:5px; margin:5px; font-weight:bold\"><font color=\"crimson\">\n",
        "TODO: Complete the following code cells\n",
        "    </font></div>"
      ]
    },
    {
      "cell_type": "code",
      "execution_count": 64,
      "metadata": {
        "id": "cagGHQ_r7WwY",
        "colab": {
          "base_uri": "https://localhost:8080/",
          "height": 1000
        },
        "outputId": "401ccdeb-d703-46dd-c578-7dbdcde383ec"
      },
      "outputs": [
        {
          "output_type": "stream",
          "name": "stdout",
          "text": [
            " * sqlite:///chatdata.db\n",
            "Done.\n"
          ]
        },
        {
          "output_type": "execute_result",
          "data": {
            "text/plain": [
              "[(398507, 2, 0, 398502, '2019-03-20 12:18:05', 0, 0, '<p>Let <span class=\"math-container\">$i=1,...,n$</span> and <span class=\"math-container\">$X_i =1$</span> is customer <span class=\"math-container\">$i$< ... (817 characters truncated) ... \\n<p>You can do this in R for example </p>\\n\\n<pre><code>N &lt;- 100\\np &lt;- c(0.7,rep(0.6,N-1))\\nx &lt;- as.numeric(runif(N)&lt;p)\\n</code></pre>\\n', 16367, None, 0, None, None, '2019-03-20 12:18:05', None, None, 0, 0, 0, None, None),\n",
              " (410176, 1, 0, 0, '2019-05-26 15:38:27', 0, 32, '<p>My understanding is that events are subsets of the total outcomes in a sample space. So if two events are mutually exclusive, then they (the sets) ... (941 characters truncated) ...  determine the probability of the event? If true, would we be able to see these affects graphically when we talk about conditional probability?</p>\\n', 203187, None, 0, None, None, '2019-05-26 21:08:06', 'Can independent/dependent events be thought of graphically?', '<probability><conditional-probability><independence>', 2, 0, 0, None, None),\n",
              " (422386, 1, 0, 0, '2019-08-15 19:33:10', 0, 36, '<p>I\\'m generating random values from the multivariate skew-normal, and I want that the marginal distributions from this multivariate one have fixed  ... (1440 characters truncated) ... ppose to be equal, right? What can I do to generate multivariate skew normal with fixed parameters for the skew-normal marginals distributions?</p>\\n', 187095, None, 0, None, None, '2019-10-21 14:23:11', 'Generating random values from a multivariate skew-normal with fixed marginals', '<r><random-generation><skew-normal>', 1, 0, 0, None, None),\n",
              " (403740, 1, 0, 0, '2019-04-18 05:43:32', 1, 97, '<p>I am aware of that multiple testing correction is needed when multiple hypothesis tests are simultaneously performed. However, I am a little confu ... (456 characters truncated) ... airwise fisher exact test was carried out individually and each raw p-value represents the significance of correponding paired features, right?</p>\\n', 228643, None, 0, None, None, '2019-04-18 05:53:22', 'Does multiple pairwise fisher exact test need multiple testing correction?', '<fishers-exact>', 1, 0, 0, None, None),\n",
              " (423481, 2, 0, 422672, '2019-08-24 03:32:40', 0, 0, '<p>Okay, I think I\\'ve figured this one out. First some notation. We have an observation <span class=\"math-container\">$i$</span> in group <span class ... (7947 characters truncated) ... s overlap zero. I didn\\'t show the results for that, but I did it a few times and feel pretty confident that the differences are just MC error.</p>\\n', 95436, None, 95436, None, '2019-08-24 05:41:46', '2019-08-24 05:41:46', None, None, 0, 6, 0, None, None)]"
            ],
            "text/html": [
              "<table>\n",
              "    <thead>\n",
              "        <tr>\n",
              "            <th>Id</th>\n",
              "            <th>PostTypeId</th>\n",
              "            <th>AcceptedAnswerId</th>\n",
              "            <th>ParentId</th>\n",
              "            <th>CreationDate</th>\n",
              "            <th>Score</th>\n",
              "            <th>ViewCount</th>\n",
              "            <th>Body</th>\n",
              "            <th>OwnerUserId</th>\n",
              "            <th>OwnerDisplayName</th>\n",
              "            <th>LastEditorUserId</th>\n",
              "            <th>LastEditorDisplayName</th>\n",
              "            <th>LastEditDate</th>\n",
              "            <th>LastActivityDate</th>\n",
              "            <th>Title</th>\n",
              "            <th>Tags</th>\n",
              "            <th>AnswerCount</th>\n",
              "            <th>CommentCount</th>\n",
              "            <th>FavoriteCount</th>\n",
              "            <th>ClosedDate</th>\n",
              "            <th>CommunityOwnedDate</th>\n",
              "        </tr>\n",
              "    </thead>\n",
              "    <tbody>\n",
              "        <tr>\n",
              "            <td>398507</td>\n",
              "            <td>2</td>\n",
              "            <td>0</td>\n",
              "            <td>398502</td>\n",
              "            <td>2019-03-20 12:18:05</td>\n",
              "            <td>0</td>\n",
              "            <td>0</td>\n",
              "            <td>&lt;p&gt;Let &lt;span class=&quot;math-container&quot;&gt;$i=1,...,n$&lt;/span&gt; and &lt;span class=&quot;math-container&quot;&gt;$X_i =1$&lt;/span&gt; is customer &lt;span class=&quot;math-container&quot;&gt;$i$&lt;/span&gt; buys and &lt;span class=&quot;math-container&quot;&gt;$X_i=0$&lt;/span&gt; if not. Let &lt;span class=&quot;math-container&quot;&gt;$X_i \\sim Bernoulli(p_i)$&lt;/span&gt; with &lt;span class=&quot;math-container&quot;&gt;$p_1=0.7$&lt;/span&gt; and &lt;span class=&quot;math-container&quot;&gt;$p_i=0.6$&lt;/span&gt; for &lt;span class=&quot;math-container&quot;&gt;$i&amp;gt;1$&lt;/span&gt;.&lt;/p&gt;<br><br>&lt;p&gt;You can simulate it by constructing the vector &lt;span class=&quot;math-container&quot;&gt;$p = (p_1,...,p_n)$&lt;/span&gt; then draw &lt;span class=&quot;math-container&quot;&gt;$U=(U_1,...,U_n)$&lt;/span&gt; uniform [0,1] variables and for each &lt;span class=&quot;math-container&quot;&gt;$i$&lt;/span&gt; let&lt;/p&gt;<br><br>&lt;p&gt;&lt;span class=&quot;math-container&quot;&gt;$$X_i = I[U_i&amp;lt;p_i]$$&lt;/span&gt;&lt;/p&gt;<br><br>&lt;p&gt;which will have the property of being 1 with probability &lt;span class=&quot;math-container&quot;&gt;$p_i$&lt;/span&gt; following from &lt;span class=&quot;math-container&quot;&gt;$Pr(U_i \\leq r) = \\int_0^r dt = r$&lt;/span&gt;.&lt;/p&gt;<br><br>&lt;p&gt;You can do this in R for example &lt;/p&gt;<br><br>&lt;pre&gt;&lt;code&gt;N &amp;lt;- 100<br>p &amp;lt;- c(0.7,rep(0.6,N-1))<br>x &amp;lt;- as.numeric(runif(N)&amp;lt;p)<br>&lt;/code&gt;&lt;/pre&gt;<br></td>\n",
              "            <td>16367</td>\n",
              "            <td>None</td>\n",
              "            <td>0</td>\n",
              "            <td>None</td>\n",
              "            <td>None</td>\n",
              "            <td>2019-03-20 12:18:05</td>\n",
              "            <td>None</td>\n",
              "            <td>None</td>\n",
              "            <td>0</td>\n",
              "            <td>0</td>\n",
              "            <td>0</td>\n",
              "            <td>None</td>\n",
              "            <td>None</td>\n",
              "        </tr>\n",
              "        <tr>\n",
              "            <td>410176</td>\n",
              "            <td>1</td>\n",
              "            <td>0</td>\n",
              "            <td>0</td>\n",
              "            <td>2019-05-26 15:38:27</td>\n",
              "            <td>0</td>\n",
              "            <td>32</td>\n",
              "            <td>&lt;p&gt;My understanding is that events are subsets of the total outcomes in a sample space. So if two events are mutually exclusive, then they (the sets) do not overlap in the sample space. This can be seen graphically.&lt;/p&gt;<br><br>&lt;p&gt;If events are independent, I understand it to mean that the occurrence of one does not affect the probability of the other occurring and vice versa and if events are dependent I understand that the occurrence of one affects the probability of another. So if we define &lt;span class=&quot;math-container&quot;&gt;$P(A)$&lt;/span&gt; = &lt;span class=&quot;math-container&quot;&gt;$\\frac{|A|}{|S|}$&lt;/span&gt; where &lt;span class=&quot;math-container&quot;&gt;$A$&lt;/span&gt; is the event and &lt;span class=&quot;math-container&quot;&gt;$S$&lt;/span&gt; is the sample space so if events &lt;span class=&quot;math-container&quot;&gt;$A$&lt;/span&gt; and &lt;span class=&quot;math-container&quot;&gt;$B$&lt;/span&gt; are dependent, does that mean that the cardinalities of &lt;span class=&quot;math-container&quot;&gt;$A$&lt;/span&gt; and &lt;span class=&quot;math-container&quot;&gt;$B$&lt;/span&gt; have some relation to each other wherein one affects the other somehow? Shouldn&#x27;t it be true since the cardinality of the sets directly determine the probability of the event? If true, would we be able to see these affects graphically when we talk about conditional probability?&lt;/p&gt;<br></td>\n",
              "            <td>203187</td>\n",
              "            <td>None</td>\n",
              "            <td>0</td>\n",
              "            <td>None</td>\n",
              "            <td>None</td>\n",
              "            <td>2019-05-26 21:08:06</td>\n",
              "            <td>Can independent/dependent events be thought of graphically?</td>\n",
              "            <td>&lt;probability&gt;&lt;conditional-probability&gt;&lt;independence&gt;</td>\n",
              "            <td>2</td>\n",
              "            <td>0</td>\n",
              "            <td>0</td>\n",
              "            <td>None</td>\n",
              "            <td>None</td>\n",
              "        </tr>\n",
              "        <tr>\n",
              "            <td>422386</td>\n",
              "            <td>1</td>\n",
              "            <td>0</td>\n",
              "            <td>0</td>\n",
              "            <td>2019-08-15 19:33:10</td>\n",
              "            <td>0</td>\n",
              "            <td>36</td>\n",
              "            <td>&lt;p&gt;I&#x27;m generating random values from the multivariate skew-normal, and I want that the marginal distributions from this multivariate one have fixed parameters as the following:&lt;/p&gt;<br><br>&lt;p&gt;I&#x27;m generating from multivariate skew-normal: &lt;span class=&quot;math-container&quot;&gt;$X=SN_2\\left(\\mu=(0,0),\\Sigma=\\left[ {\\begin{array}{*{20}{c}}<br>1&amp;amp;{.5}\\\\<br>{.5}&amp;amp;1<br>\\end{array}} \\right], \\lambda=(.9,.9) \\right)$&lt;/span&gt;,&lt;/p&gt;<br><br>&lt;p&gt;in the univariate case I have:&lt;/p&gt;<br><br>&lt;p&gt;&lt;span class=&quot;math-container&quot;&gt;$Y=SN_1(\\mu=0, \\sigma^2=1,\\lambda=.9)$&lt;/span&gt;&lt;/p&gt;<br><br>&lt;p&gt;Then, if I generate a lot of values from this distributions I expect to have the same empirical distribution, in &lt;span class=&quot;math-container&quot;&gt;$R$&lt;/span&gt;, I would have the graphics very similar from:&lt;/p&gt;<br><br>&lt;pre&gt;&lt;code&gt;&amp;gt; plot(density(X[1,]))<br>&amp;gt; plot(density(Y))<br>&lt;/code&gt;&lt;/pre&gt;<br><br>&lt;p&gt;where &lt;span class=&quot;math-container&quot;&gt;$X$&lt;/span&gt; is a matrix 2x2. &lt;/p&gt;<br><br>&lt;p&gt;But it&#x27;s not what I&#x27;m getting. &lt;/p&gt;<br><br>&lt;p&gt;Bellow are my &quot;real code&quot;&lt;/p&gt;<br><br>&lt;pre&gt;&lt;code&gt;&amp;gt; library(sn)<br>&amp;gt; a &amp;lt;- c(1,.5)<br>&amp;gt; b &amp;lt;- c(.5,1)<br>&amp;gt; ma=matrix(c(a,b),ncol = 2, byrow = F)<br>&amp;gt; op &amp;lt;- list(xi=rep(0,2), Psi=ma, lambda=rep(6.297913,2))<br>&amp;gt; YN&amp;lt;- rmsn(1, dp=op2dp(op,&quot;SN&quot;))[1,]<br>&amp;gt; <br>&amp;gt; SN = replicate(100000,expr = rmsn(1, dp=op2dp(op,&quot;SN&quot;))[1,])<br>&amp;gt; <br>&amp;gt; plot(density(SN[1,]))<br>&amp;gt; curve(dsn(x,dp=c(0,1,6.297913)),col=3,add=T)<br>&lt;/code&gt;&lt;/pre&gt;<br><br>&lt;p&gt;&lt;a href=&quot;https://i.stack.imgur.com/eVIVL.png&quot; rel=&quot;nofollow noreferrer&quot;&gt;&lt;img src=&quot;https://i.stack.imgur.com/eVIVL.png&quot; alt=&quot;enter image description here&quot;&gt;&lt;/a&gt;&lt;/p&gt;<br><br>&lt;p&gt;This curves is suppose to be equal, right? What can I do to generate multivariate skew normal with fixed parameters for the skew-normal marginals distributions?&lt;/p&gt;<br></td>\n",
              "            <td>187095</td>\n",
              "            <td>None</td>\n",
              "            <td>0</td>\n",
              "            <td>None</td>\n",
              "            <td>None</td>\n",
              "            <td>2019-10-21 14:23:11</td>\n",
              "            <td>Generating random values from a multivariate skew-normal with fixed marginals</td>\n",
              "            <td>&lt;r&gt;&lt;random-generation&gt;&lt;skew-normal&gt;</td>\n",
              "            <td>1</td>\n",
              "            <td>0</td>\n",
              "            <td>0</td>\n",
              "            <td>None</td>\n",
              "            <td>None</td>\n",
              "        </tr>\n",
              "        <tr>\n",
              "            <td>403740</td>\n",
              "            <td>1</td>\n",
              "            <td>0</td>\n",
              "            <td>0</td>\n",
              "            <td>2019-04-18 05:43:32</td>\n",
              "            <td>1</td>\n",
              "            <td>97</td>\n",
              "            <td>&lt;p&gt;I am aware of that multiple testing correction is needed when multiple hypothesis tests are simultaneously performed. However, I am a little confused by the word &quot;simultaneously&quot;.&lt;/p&gt;<br><br>&lt;p&gt;Say I have hundereds of samples and I derived multiple features (variables) from each sample. With this sample-feature matrix, I would like to perform pairwise fisher exact test for feature co-occurrence. &lt;strong&gt;Do I need to carry out multiple testing correction on the P-value of each paired feature&lt;/strong&gt;? &lt;/p&gt;<br><br>&lt;p&gt;I guess multiple testing correction is needed. However, I can consider that each of the pairwise fisher exact test was carried out individually and each raw p-value represents the significance of correponding paired features, right?&lt;/p&gt;<br></td>\n",
              "            <td>228643</td>\n",
              "            <td>None</td>\n",
              "            <td>0</td>\n",
              "            <td>None</td>\n",
              "            <td>None</td>\n",
              "            <td>2019-04-18 05:53:22</td>\n",
              "            <td>Does multiple pairwise fisher exact test need multiple testing correction?</td>\n",
              "            <td>&lt;fishers-exact&gt;</td>\n",
              "            <td>1</td>\n",
              "            <td>0</td>\n",
              "            <td>0</td>\n",
              "            <td>None</td>\n",
              "            <td>None</td>\n",
              "        </tr>\n",
              "        <tr>\n",
              "            <td>423481</td>\n",
              "            <td>2</td>\n",
              "            <td>0</td>\n",
              "            <td>422672</td>\n",
              "            <td>2019-08-24 03:32:40</td>\n",
              "            <td>0</td>\n",
              "            <td>0</td>\n",
              "            <td>&lt;p&gt;Okay, I think I&#x27;ve figured this one out. First some notation. We have an observation &lt;span class=&quot;math-container&quot;&gt;$i$&lt;/span&gt; in group &lt;span class=&quot;math-container&quot;&gt;$j$&lt;/span&gt; where the outcome of interest &lt;span class=&quot;math-container&quot;&gt;$Y$&lt;/span&gt; follows a Bernoulli distribution and you&#x27;ll be placing a linear predictor on it&#x27;s &lt;span class=&quot;math-container&quot;&gt;$p$&lt;/span&gt; parameter using the inverse logit link:&lt;/p&gt;<br><br>&lt;p&gt;&lt;span class=&quot;math-container&quot;&gt;\\begin{align}<br>Y_{ij} &amp;amp;\\sim \\text{B}(p_{ij})\\\\<br>p_{ij} &amp;amp;= \\text{logit}^{-1}(\\alpha + \\beta c_{ij} + \\gamma_j),<br>\\end{align}&lt;/span&gt;&lt;/p&gt;<br><br>&lt;p&gt;where &lt;span class=&quot;math-container&quot;&gt;$\\alpha$&lt;/span&gt; is the global intercept, &lt;span class=&quot;math-container&quot;&gt;$\\beta$&lt;/span&gt; is the change associated to changes in the condition &lt;span class=&quot;math-container&quot;&gt;$c_{ij}$&lt;/span&gt; and &lt;span class=&quot;math-container&quot;&gt;$\\gamma_j$&lt;/span&gt; is the group-specific intercept.&lt;/p&gt;<br><br>&lt;p&gt;It can be shown that the specific value we choose for contrasts (e.g. &lt;span class=&quot;math-container&quot;&gt;$-\\frac{1}{2}$&lt;/span&gt; and &lt;span class=&quot;math-container&quot;&gt;$\\frac{1}{2}$&lt;/span&gt; or &lt;span class=&quot;math-container&quot;&gt;$-1$&lt;/span&gt; and &lt;span class=&quot;math-container&quot;&gt;$1$&lt;/span&gt;) will only change the scale of &lt;span class=&quot;math-container&quot;&gt;$\\beta$&lt;/span&gt;, so I&#x27;ll pick the first one because it leaves &lt;span class=&quot;math-container&quot;&gt;$\\beta$&lt;/span&gt; unchanged compared to dummy coding and hence makes the math easier.&lt;/p&gt;<br><br>&lt;p&gt;It&#x27;s easy to check that the choice of coding won&#x27;t affect the meaning of the slope, which is the difference between each of the conditions in a given group:&lt;/p&gt;<br><br>&lt;p&gt;&lt;span class=&quot;math-container&quot;&gt;\\begin{align}<br>(\\alpha + \\beta + \\gamma_j) - (\\alpha + \\gamma_j) &amp;amp;= \\beta\\\\<br>(\\alpha + 0.5\\beta + \\gamma_j) - (\\alpha - 0.5\\beta + \\gamma_j) &amp;amp;= \\beta<br>\\end{align}&lt;/span&gt;&lt;/p&gt;<br><br>&lt;p&gt;The presence of group-specific effects didn&#x27;t make a difference there. If we had used &lt;span class=&quot;math-container&quot;&gt;$1$&lt;/span&gt; instead for the contrasts, the difference for the second equation would be &lt;span class=&quot;math-container&quot;&gt;$2\\beta$&lt;/span&gt;, meaning the model would return a slope that is scaled to half of that under dummy coding.&lt;/p&gt;<br><br>&lt;p&gt;Now, does this mean there are no differences at all? Not necessarily.&lt;/p&gt;<br><br>&lt;p&gt;It seems reasonable to ask that, regardless of coding, our model should predict the same values given a group and condition. Let &lt;span class=&quot;math-container&quot;&gt;$p_{0j}$&lt;/span&gt; be the predicted probability under dummy coding and &lt;span class=&quot;math-container&quot;&gt;$p_{-j}$&lt;/span&gt; the predicted probability under contrast coding. Since we don&#x27;t yet know what the effect of coding will be on the global and group intercepts, let&#x27;s also distinguish those: &lt;span class=&quot;math-container&quot;&gt;$\\alpha_D$&lt;/span&gt; and &lt;span class=&quot;math-container&quot;&gt;$\\gamma_{Dj}$&lt;/span&gt; will be the parameters under dummy coding while &lt;span class=&quot;math-container&quot;&gt;$\\alpha_C$&lt;/span&gt; and &lt;span class=&quot;math-container&quot;&gt;$\\gamma_{Cj}$&lt;/span&gt; the ones for contrast coding. We then have&lt;/p&gt;<br><br>&lt;p&gt;&lt;span class=&quot;math-container&quot;&gt;\\begin{align}<br>p_{0j} = p_{-j}\\\\<br>\\Rightarrow \\text{logit}^{-1}(\\alpha_D + \\gamma_{Dj}) = \\text{logit}^{-1}(\\alpha_C - 0.5\\beta + \\gamma_{Cj})\\\\<br>\\Rightarrow \\alpha_D + \\gamma_{Dj} = \\alpha_C - 0.5\\beta + \\gamma_{Cj}<br>\\end{align}&lt;/span&gt;&lt;/p&gt;<br><br>&lt;p&gt;This relates our dummy coding parameters to the contrast ones. But there&#x27;s two of them and a single equation, so we need more information to assign them unique values.&lt;/p&gt;<br><br>&lt;p&gt;For the sake of argument, let&#x27;s see what happens if we set the group intercepts to be equal:&lt;/p&gt;<br><br>&lt;p&gt;&lt;span class=&quot;math-container&quot;&gt;$$\\alpha_D = \\alpha_C - 0.5\\beta$$&lt;/span&gt;&lt;/p&gt;<br><br>&lt;p&gt;This is the result you&#x27;re already familiar with, where &lt;span class=&quot;math-container&quot;&gt;$\\alpha_C$&lt;/span&gt; is bigger than &lt;span class=&quot;math-container&quot;&gt;$\\alpha_D$&lt;/span&gt; by half a &lt;span class=&quot;math-container&quot;&gt;$\\beta$&lt;/span&gt;, or we can say it&#x27;s placed at the &quot;average&quot; of both conditions.&lt;/p&gt;<br><br>&lt;p&gt;If instead we want to keep the global intercepts unchanged, we&#x27;d have&lt;/p&gt;<br><br>&lt;p&gt;&lt;span class=&quot;math-container&quot;&gt;$$\\gamma_{Dj} = \\gamma_{Cj} - 0.5\\beta$$&lt;/span&gt;&lt;/p&gt;<br><br>&lt;p&gt;which by itself isn&#x27;t any big revelation. Until we remember that those group intercepts have a distribution! That distribution is commonly assumed to be a zero-centered normal. But &lt;span class=&quot;math-container&quot;&gt;$\\beta$&lt;/span&gt; in general won&#x27;t be zero, so the assumption that &lt;span class=&quot;math-container&quot;&gt;$\\gamma_{Dj}$&lt;/span&gt; comes from &lt;span class=&quot;math-container&quot;&gt;$N(0,\\sigma)$&lt;/span&gt; means that &lt;span class=&quot;math-container&quot;&gt;$\\gamma_{Cj}$&lt;/span&gt; must come from &lt;span class=&quot;math-container&quot;&gt;$N(0.5\\beta,\\sigma)$&lt;/span&gt;.&lt;/p&gt;<br><br>&lt;p&gt;Now, what&#x27;s going to happen when you try to fit the model? Since a zero-centered normal is the default assumption for every package I&#x27;ve seen, this means the global intercept would be the one to &quot;absorb&quot; the changes introduced by contrast coding.&lt;/p&gt;<br><br>&lt;p&gt;&lt;strong&gt;Now for some simulations&lt;/strong&gt;&lt;/p&gt;<br><br>&lt;pre&gt;&lt;code&gt;## Simulation function<br>datasim &amp;lt;- function(npercg, ngroup, alpha, beta, sigma){<br>  # npercg: number of observations per condition per group<br>  # ngroup: number of groups<br>  # beta: effect size for the condition<br>  # sigma: random intercept spread<br><br>  if(npercg&amp;lt;1|ngroup&amp;lt;1|sigma&amp;lt;=0)stop(&quot;Something&#x27;s wrong with your inputs&quot;)<br><br>  c0 &amp;lt;- rep(0, npercg) <br>  c1 &amp;lt;- c0 + 1<br>  cx &amp;lt;- c(c0, c1)<br><br>  gid&amp;lt;- 1:ngroup<br>  g  &amp;lt;- rnorm(ngroup, mean = 0, sd = sigma)<br>  gv &amp;lt;- rep(g, each = 2*npercg)<br><br>  p  &amp;lt;- 1/(1 + exp(-(alpha + beta*cx + gv)))<br><br>  data.frame(y = rbinom(length(p), 1, p), x = cx,<br>             probability = p, group = as.factor(rep(gid, each = 2*npercg)), rintercept = gv)<br><br>}<br><br>### Simulate dataset<br>set.seed(69420)<br>d1 &amp;lt;- datasim(40, 30, -0.25, 1, 0.33)<br><br>### Fitting<br>library(lme4)<br><br>freq_dummy &amp;lt;- glmer(y ~ x + (1|group), data = d1, family = binomial)<br>freq_contr &amp;lt;- glmer(y ~ I(x-0.5) + (1|group), data = d1, family = binomial)<br>freq_contr2&amp;lt;- glmer(y ~ I(2*(x-0.5)) + (1|group), data = d1, family = binomial)<br><br>library(brms)<br>options(mc.cores = 4)<br>cl &amp;lt;- list(max_treedepth = 13)<br><br>bayes_dummy &amp;lt;- brm(y ~ x + (1|group), data = d1, family = bernoulli(), control = cl)<br>bayes_contr &amp;lt;- brm(y ~ I(x-0.5) + (1|group), data = d1, family = bernoulli(), control = cl)<br>bayes_contr2&amp;lt;- brm(y ~ I(2*(x-0.5)) + (1|group), data = d1, family = bernoulli(), control = cl)<br><br>### Results<br>matrix(c(summary(freq_dummy)&lt;span class=&quot;math-container&quot;&gt;$coefficients[,1],<br>   summary(freq_contr)$&lt;/span&gt;coefficients[,1],<br>       summary(freq_contr2)$coefficients[,1]), nrow = 2)<br><br>#            [,1]      [,2]      [,3]<br># [1,] -0.2283242 0.2948815 0.2948815<br># [2,]  1.0464066 1.0464027 0.5232013<br><br>summary(freq_dummy)&lt;span class=&quot;math-container&quot;&gt;$varcor<br>summary(freq_contr)$&lt;/span&gt;varcor<br>summary(freq_contr2)$varcor<br><br># Groups Name        Std.Dev.<br># group  (Intercept) 0.33464<br># group  (Intercept) 0.33464<br># group  (Intercept) 0.33464<br><br>matrix(c(summary(bayes_dummy)&lt;span class=&quot;math-container&quot;&gt;$fixed[,1],<br>     summary(bayes_contr)$&lt;/span&gt;fixed[,1],<br>         summary(bayes_contr2)$fixed[,1]), nrow = 2)<br><br>#            [,1]      [,2]      [,3]<br># [1,] -0.2312706 0.2963076 0.2960156<br># [2,]  1.0481774 1.0492645 0.5235235<br><br>summary(bayes_dummy)&lt;span class=&quot;math-container&quot;&gt;$random<br>summary(bayes_contr)$&lt;/span&gt;random<br>summary(bayes_contr2)$random<br><br>#                Estimate  Est.Error  l-95% CI u-95% CI Eff.Sample     Rhat<br># sd(Intercept) 0.3616682 0.07577461 0.2328071 0.524049   1281.155 1.001547<br># sd(Intercept)   0.36224 0.07594461 0.2316291 0.5347441  1396.271 1.001551<br># sd(Intercept) 0.3632387 0.07466388 0.2350172 0.5263185  1571.552 1.001344<br>&lt;/code&gt;&lt;/pre&gt;<br><br>&lt;p&gt;I&#x27;d say this confirms the reasoning we developed previously. As for the small differences in the Bayesian models, how can we know they are are solely attributable to Montcaro error? It&#x27;s pretty simple: just run the same model a couple of times and you&#x27;ll notice that the same-model differences are enough to make the inter-model differences overlap zero. I didn&#x27;t show the results for that, but I did it a few times and feel pretty confident that the differences are just MC error.&lt;/p&gt;<br></td>\n",
              "            <td>95436</td>\n",
              "            <td>None</td>\n",
              "            <td>95436</td>\n",
              "            <td>None</td>\n",
              "            <td>2019-08-24 05:41:46</td>\n",
              "            <td>2019-08-24 05:41:46</td>\n",
              "            <td>None</td>\n",
              "            <td>None</td>\n",
              "            <td>0</td>\n",
              "            <td>6</td>\n",
              "            <td>0</td>\n",
              "            <td>None</td>\n",
              "            <td>None</td>\n",
              "        </tr>\n",
              "    </tbody>\n",
              "</table>"
            ]
          },
          "metadata": {},
          "execution_count": 64
        }
      ],
      "source": [
        "# Run the query to select 5 random rows from the posts table\n",
        "%%sql\n",
        "select * from Posts order by random() limit 5;"
      ]
    },
    {
      "cell_type": "code",
      "execution_count": 65,
      "metadata": {
        "id": "AndMvLXm7WwY",
        "colab": {
          "base_uri": "https://localhost:8080/",
          "height": 405
        },
        "outputId": "0cc9e9ac-0a2a-4e76-feda-148950423fdd"
      },
      "outputs": [
        {
          "output_type": "stream",
          "name": "stdout",
          "text": [
            " * sqlite:///chatdata.db\n",
            "Done.\n"
          ]
        },
        {
          "output_type": "execute_result",
          "data": {
            "text/plain": [
              "[(790705, 423716, 2, 'The method you describe is one standard as percentile bootstrap. I am not clear whether you imagine that bootstrapping is expected to yield  a normal ... (291 characters truncated) ... ariables, considering a different parameterisation, considering a quite different model just as plausibly as advice to proceed in the same direction.', '2019-08-26 12:27:37', 22047),\n",
              " (757888, 244074, 0, 'You might find this article useful: https://medium.com/@aliaksei.mikhailiuk/can-you-do-better-sampling-strategies-with-an-emphasis-on-gibbs-sampling-practicals-and-code-c97730d54ebc', '2019-04-27 15:46:43', 245613),\n",
              " (754730, 403490, 2, \"Welcome to the site. We are trying to build a permanent repository of high-quality \\nstatistical information in the form of questions & answers. Thus, we're wary of \\nlink-only answers, due to linkrot. Can you post a full citation & a summary of the \\ninformation at the link, in case it goes dead?\", '2019-04-17 01:51:05', 7290),\n",
              " (765115, 408884, 0, 'On a different level would robust Anova be an option for my data?', '2019-05-22 08:55:44', 246147),\n",
              " (782196, 419005, 1, 'I think that for any statistician working in multiple testing these notions are equivalent. By the way, another related notion that is different that ... (255 characters truncated) ... hian, \"AdaPT: an interactive procedure for multiple testingwith side information\" (JRSSB, 2018). The discussion just below it might interest you too.', '2019-07-26 05:47:40', 58602)]"
            ],
            "text/html": [
              "<table>\n",
              "    <thead>\n",
              "        <tr>\n",
              "            <th>Id</th>\n",
              "            <th>PostId</th>\n",
              "            <th>Score</th>\n",
              "            <th>Text</th>\n",
              "            <th>CreationDate</th>\n",
              "            <th>UserId</th>\n",
              "        </tr>\n",
              "    </thead>\n",
              "    <tbody>\n",
              "        <tr>\n",
              "            <td>790705</td>\n",
              "            <td>423716</td>\n",
              "            <td>2</td>\n",
              "            <td>The method you describe is one standard as percentile bootstrap. I am not clear whether you imagine that bootstrapping is expected to yield  a normal distribution of estimates, as in general it is not. It&#x27;s hard to say whether this is &quot;okay&quot; for any of your purposes. We would need to know much more about your model, its parameterisation and the data. The advice could include checking for outliers, considering a transformation of your variables, considering a different parameterisation, considering a quite different model just as plausibly as advice to proceed in the same direction.</td>\n",
              "            <td>2019-08-26 12:27:37</td>\n",
              "            <td>22047</td>\n",
              "        </tr>\n",
              "        <tr>\n",
              "            <td>757888</td>\n",
              "            <td>244074</td>\n",
              "            <td>0</td>\n",
              "            <td>You might find this article useful: https://medium.com/@aliaksei.mikhailiuk/can-you-do-better-sampling-strategies-with-an-emphasis-on-gibbs-sampling-practicals-and-code-c97730d54ebc</td>\n",
              "            <td>2019-04-27 15:46:43</td>\n",
              "            <td>245613</td>\n",
              "        </tr>\n",
              "        <tr>\n",
              "            <td>754730</td>\n",
              "            <td>403490</td>\n",
              "            <td>2</td>\n",
              "            <td>Welcome to the site. We are trying to build a permanent repository of high-quality <br>statistical information in the form of questions &amp; answers. Thus, we&#x27;re wary of <br>link-only answers, due to linkrot. Can you post a full citation &amp; a summary of the <br>information at the link, in case it goes dead?</td>\n",
              "            <td>2019-04-17 01:51:05</td>\n",
              "            <td>7290</td>\n",
              "        </tr>\n",
              "        <tr>\n",
              "            <td>765115</td>\n",
              "            <td>408884</td>\n",
              "            <td>0</td>\n",
              "            <td>On a different level would robust Anova be an option for my data?</td>\n",
              "            <td>2019-05-22 08:55:44</td>\n",
              "            <td>246147</td>\n",
              "        </tr>\n",
              "        <tr>\n",
              "            <td>782196</td>\n",
              "            <td>419005</td>\n",
              "            <td>1</td>\n",
              "            <td>I think that for any statistician working in multiple testing these notions are equivalent. By the way, another related notion that is different that has recently come up in the context of Knockoff-based FDR methods (rather than Benjamini-Hochberg variants) is the notion of mirror-conservatism. It is implied by uniformity but is not implied nor implies conservativeness. See equation (3) in Lei and Fithian, &quot;AdaPT: an interactive procedure for multiple testingwith side information&quot; (JRSSB, 2018). The discussion just below it might interest you too.</td>\n",
              "            <td>2019-07-26 05:47:40</td>\n",
              "            <td>58602</td>\n",
              "        </tr>\n",
              "    </tbody>\n",
              "</table>"
            ]
          },
          "metadata": {},
          "execution_count": 65
        }
      ],
      "source": [
        "# Run the query to select 5 random rows from the posts comments\n",
        "%%sql\n",
        "select * from Comments order by random() limit 5;"
      ]
    },
    {
      "cell_type": "code",
      "execution_count": 66,
      "metadata": {
        "id": "jqacM4OJ7WwZ",
        "colab": {
          "base_uri": "https://localhost:8080/",
          "height": 286
        },
        "outputId": "e7ccac15-cc91-4637-a844-3754810d69a3"
      },
      "outputs": [
        {
          "output_type": "stream",
          "name": "stdout",
          "text": [
            " * sqlite:///chatdata.db\n",
            "Done.\n"
          ]
        },
        {
          "output_type": "execute_result",
          "data": {
            "text/plain": [
              "[(54805, 202, '2014-08-27 17:11:20', 'Bryan Glazer', '2019-09-30 01:56:26', None, None, None, 1, 14, 1, 'https://www.gravatar.com/avatar/315b0f894dcee19eab3a7305dabf6ecd?s=128&d=identicon&r=PG', 368423),\n",
              " (237830, 11, '2019-02-15 16:02:58', 'jrunnels', '2019-05-13 16:38:26', None, None, None, 1, 0, 0, 'https://www.gravatar.com/avatar/a962f021f194927c3c0a68a260884b27?s=128&d=identicon&r=PG&f=1', 15341244),\n",
              " (93253, 739, '2015-10-27 00:03:05', 'JPJ', '2019-11-22 01:39:51', None, None, None, 110, 53, 0, 'https://graph.facebook.com/16917224/picture?type=large', 4275271),\n",
              " (254115, 1, '2019-07-19 08:33:42', 'Dam', '2019-07-25 11:35:12', None, None, None, 0, 0, 0, None, 16347852),\n",
              " (90512, 101, '2015-09-27 03:21:36', 'Carlos Mendoza', '2019-11-25 18:07:52', None, None, None, 0, 3, 0, 'https://i.stack.imgur.com/7xGeT.jpg?s=128&g=1', 4530765)]"
            ],
            "text/html": [
              "<table>\n",
              "    <thead>\n",
              "        <tr>\n",
              "            <th>Id</th>\n",
              "            <th>Reputation</th>\n",
              "            <th>CreationDate</th>\n",
              "            <th>DisplayName</th>\n",
              "            <th>LastAccessDate</th>\n",
              "            <th>WebsiteUrl</th>\n",
              "            <th>Location</th>\n",
              "            <th>AboutMe</th>\n",
              "            <th>Views</th>\n",
              "            <th>UpVotes</th>\n",
              "            <th>DownVotes</th>\n",
              "            <th>ProfileImageUrl</th>\n",
              "            <th>AccountId</th>\n",
              "        </tr>\n",
              "    </thead>\n",
              "    <tbody>\n",
              "        <tr>\n",
              "            <td>54805</td>\n",
              "            <td>202</td>\n",
              "            <td>2014-08-27 17:11:20</td>\n",
              "            <td>Bryan Glazer</td>\n",
              "            <td>2019-09-30 01:56:26</td>\n",
              "            <td>None</td>\n",
              "            <td>None</td>\n",
              "            <td>None</td>\n",
              "            <td>1</td>\n",
              "            <td>14</td>\n",
              "            <td>1</td>\n",
              "            <td>https://www.gravatar.com/avatar/315b0f894dcee19eab3a7305dabf6ecd?s=128&amp;d=identicon&amp;r=PG</td>\n",
              "            <td>368423</td>\n",
              "        </tr>\n",
              "        <tr>\n",
              "            <td>237830</td>\n",
              "            <td>11</td>\n",
              "            <td>2019-02-15 16:02:58</td>\n",
              "            <td>jrunnels</td>\n",
              "            <td>2019-05-13 16:38:26</td>\n",
              "            <td>None</td>\n",
              "            <td>None</td>\n",
              "            <td>None</td>\n",
              "            <td>1</td>\n",
              "            <td>0</td>\n",
              "            <td>0</td>\n",
              "            <td>https://www.gravatar.com/avatar/a962f021f194927c3c0a68a260884b27?s=128&amp;d=identicon&amp;r=PG&amp;f=1</td>\n",
              "            <td>15341244</td>\n",
              "        </tr>\n",
              "        <tr>\n",
              "            <td>93253</td>\n",
              "            <td>739</td>\n",
              "            <td>2015-10-27 00:03:05</td>\n",
              "            <td>JPJ</td>\n",
              "            <td>2019-11-22 01:39:51</td>\n",
              "            <td>None</td>\n",
              "            <td>None</td>\n",
              "            <td>None</td>\n",
              "            <td>110</td>\n",
              "            <td>53</td>\n",
              "            <td>0</td>\n",
              "            <td>https://graph.facebook.com/16917224/picture?type=large</td>\n",
              "            <td>4275271</td>\n",
              "        </tr>\n",
              "        <tr>\n",
              "            <td>254115</td>\n",
              "            <td>1</td>\n",
              "            <td>2019-07-19 08:33:42</td>\n",
              "            <td>Dam</td>\n",
              "            <td>2019-07-25 11:35:12</td>\n",
              "            <td>None</td>\n",
              "            <td>None</td>\n",
              "            <td>None</td>\n",
              "            <td>0</td>\n",
              "            <td>0</td>\n",
              "            <td>0</td>\n",
              "            <td>None</td>\n",
              "            <td>16347852</td>\n",
              "        </tr>\n",
              "        <tr>\n",
              "            <td>90512</td>\n",
              "            <td>101</td>\n",
              "            <td>2015-09-27 03:21:36</td>\n",
              "            <td>Carlos Mendoza</td>\n",
              "            <td>2019-11-25 18:07:52</td>\n",
              "            <td>None</td>\n",
              "            <td>None</td>\n",
              "            <td>None</td>\n",
              "            <td>0</td>\n",
              "            <td>3</td>\n",
              "            <td>0</td>\n",
              "            <td>https://i.stack.imgur.com/7xGeT.jpg?s=128&amp;g=1</td>\n",
              "            <td>4530765</td>\n",
              "        </tr>\n",
              "    </tbody>\n",
              "</table>"
            ]
          },
          "metadata": {},
          "execution_count": 66
        }
      ],
      "source": [
        "# Run the query to select 5 random rows from the users table\n",
        "%%sql\n",
        "select * from Users order by random() limit 5;"
      ]
    },
    {
      "cell_type": "markdown",
      "metadata": {
        "id": "-wgCguJf7WwZ"
      },
      "source": [
        "# Task 2: Create Single Table Queries\n"
      ]
    },
    {
      "cell_type": "markdown",
      "metadata": {
        "id": "34e_SZUk7WwZ"
      },
      "source": [
        "## Lifecycle Stage: Analyze\n",
        "We can now start the analysis with our single-table queries.  First we need to create a new computed column to help with one of the queries.  The code below creates a column called LEN_BODY which is the length of the BODY text:\n"
      ]
    },
    {
      "cell_type": "code",
      "execution_count": 67,
      "metadata": {
        "id": "NSJZrW2l7Wwa",
        "colab": {
          "base_uri": "https://localhost:8080/"
        },
        "outputId": "be155da1-f903-45c0-80e7-a4c0643514bb"
      },
      "outputs": [
        {
          "output_type": "stream",
          "name": "stdout",
          "text": [
            " * sqlite:///chatdata.db\n",
            "Done.\n"
          ]
        },
        {
          "output_type": "execute_result",
          "data": {
            "text/plain": [
              "[]"
            ]
          },
          "metadata": {},
          "execution_count": 67
        }
      ],
      "source": [
        "%%sql\n",
        "ALTER TABLE POSTS ADD COLUMN LEN_BODY INT"
      ]
    },
    {
      "cell_type": "code",
      "execution_count": 68,
      "metadata": {
        "id": "kHr0lt5U7Wwa",
        "colab": {
          "base_uri": "https://localhost:8080/"
        },
        "outputId": "7f63c1ec-6d1e-421d-e340-be035b115d14"
      },
      "outputs": [
        {
          "output_type": "stream",
          "name": "stdout",
          "text": [
            " * sqlite:///chatdata.db\n",
            "42234 rows affected.\n"
          ]
        },
        {
          "output_type": "execute_result",
          "data": {
            "text/plain": [
              "[]"
            ]
          },
          "metadata": {},
          "execution_count": 68
        }
      ],
      "source": [
        "%%sql\n",
        "UPDATE POSTS SET LEN_BODY = LENGTH(BODY)"
      ]
    },
    {
      "cell_type": "markdown",
      "metadata": {
        "id": "qYniI6Ew7Wwb"
      },
      "source": [
        "### Single Table Queries\n",
        "From the Template SQL Queries there are a series of queries requested. You are responsible for coding the result. Use the pattern above to accomplish the coding objective.  Copy and paste the question (column B Action) into a markdown cell and answer the query. Use the pattern that you have been using above.\n",
        "\n",
        "<div style=\"background-color:lemonchiffon; border:1px solid; padding:5px; margin:5px; font-weight:bold\"><font color=\"crimson\">\n",
        "TODO: Enter your code below.  Just keep on inserting cells as you need them.\n",
        "    </font></div>"
      ]
    },
    {
      "cell_type": "code",
      "execution_count": 70,
      "metadata": {
        "id": "LENkQa9j7Wwb",
        "colab": {
          "base_uri": "https://localhost:8080/"
        },
        "outputId": "4f57487c-6507-4225-8917-73838750b4cf"
      },
      "outputs": [
        {
          "output_type": "stream",
          "name": "stdout",
          "text": [
            "Number of posts with 0 comments: 21713\n"
          ]
        }
      ],
      "source": [
        "# How many posts have 0 comments?\n",
        "sql_zero_comments = 'SELECT COUNT(*) FROM posts WHERE CommentCount = 0;'\n",
        "zero_comments_count = pd.read_sql(sql_zero_comments, con).iloc[0, 0]\n",
        "print(f'Number of posts with 0 comments: {zero_comments_count}')"
      ]
    },
    {
      "cell_type": "code",
      "execution_count": 71,
      "metadata": {
        "id": "8BVk66CV7Wwc",
        "colab": {
          "base_uri": "https://localhost:8080/"
        },
        "outputId": "6a456487-0e1a-4d47-db4c-932f9b833f57"
      },
      "outputs": [
        {
          "output_type": "stream",
          "name": "stdout",
          "text": [
            "Number of posts with 1 comment: 6460\n"
          ]
        }
      ],
      "source": [
        "# How many posts have 1 comment?\n",
        "sql_one_comment = 'SELECT COUNT(*) FROM posts WHERE CommentCount = 1;'\n",
        "one_comment_count = pd.read_sql(sql_one_comment, con).iloc[0, 0]\n",
        "print(f'Number of posts with 1 comment: {one_comment_count}')"
      ]
    },
    {
      "cell_type": "code",
      "execution_count": 72,
      "metadata": {
        "id": "W_PPt3FA7Wwc",
        "colab": {
          "base_uri": "https://localhost:8080/"
        },
        "outputId": "f4e73a44-d5e0-4f88-da46-cb37078a6454"
      },
      "outputs": [
        {
          "output_type": "stream",
          "name": "stdout",
          "text": [
            "Number of posts with 2 or more comments: 14061\n"
          ]
        }
      ],
      "source": [
        "# How many posts have 2 comments or more?\n",
        "sql_two_or_more_comments = 'SELECT COUNT(*) FROM posts WHERE CommentCount >= 2;'\n",
        "two_or_more_comments_count = pd.read_sql(sql_two_or_more_comments, con).iloc[0, 0]\n",
        "print(f'Number of posts with 2 or more comments: {two_or_more_comments_count}')"
      ]
    },
    {
      "cell_type": "code",
      "execution_count": 73,
      "metadata": {
        "id": "emotd7P27Wwc",
        "colab": {
          "base_uri": "https://localhost:8080/"
        },
        "outputId": "4369a71b-0ac6-4c78-eb75-7effa9904b44"
      },
      "outputs": [
        {
          "output_type": "stream",
          "name": "stdout",
          "text": [
            "Top 5 posts with the highest viewcount:\n",
            "       Id  PostTypeId  AcceptedAnswerId  ParentId         CreationDate  Score  \\\n",
            "0  388566           1            388582         0  2019-01-22 15:16:47     56   \n",
            "1  394118           1            394128         0  2019-02-24 14:07:11     64   \n",
            "2  431370           1            431397         0  2019-10-14 11:29:21     77   \n",
            "3  398646           1            398653         0  2019-03-21 01:19:52     61   \n",
            "4  434128           1            434579         0  2019-11-01 13:07:36     73   \n",
            "\n",
            "   ViewCount                                               Body  OwnerUserId  \\\n",
            "0      19542  <ul>\\n<li>Statement One (S1): \"One in 80 death...       228214   \n",
            "1      16317  <p>A human child at age 2 needs around 5 insta...       107213   \n",
            "2      11723  <p>It seems very counter intuitive to many peo...       262594   \n",
            "3       9850  <p>The title of the Comment in Nature <a href=...       163067   \n",
            "4       6718  <p>I am designing a one year program in data a...        14188   \n",
            "\n",
            "  OwnerDisplayName  ...         LastEditDate     LastActivityDate  \\\n",
            "0             None  ...  2019-01-22 21:40:39  2019-01-24 17:09:47   \n",
            "1             None  ...  2019-02-25 22:40:22  2019-03-03 17:37:05   \n",
            "2             None  ...  2019-11-28 01:44:34  2019-11-28 01:44:34   \n",
            "3             None  ...  2019-03-22 22:14:04  2019-03-30 19:35:27   \n",
            "4             None  ...                 None  2019-11-26 00:59:15   \n",
            "\n",
            "                                               Title  \\\n",
            "0  Is it wrong to rephrase \"1 in 80 deaths is cau...   \n",
            "1  Why do neural networks need so many training e...   \n",
            "2  Is there a name for the phenomenon of false po...   \n",
            "3  What does \"Scientists rise up against statisti...   \n",
            "4  Famous statistical wins and horror stories for...   \n",
            "\n",
            "                                                Tags AnswerCount CommentCount  \\\n",
            "0                             <interpretation><risk>           9           15   \n",
            "1                    <neural-networks><neuroscience>          12           24   \n",
            "2              <probability><terminology><intuition>           8            9   \n",
            "3          <statistical-significance><p-value><bias>          10            7   \n",
            "4  <mathematical-statistics><data-visualization><...          13            7   \n",
            "\n",
            "   FavoriteCount  ClosedDate   CommunityOwnedDate LEN_BODY  \n",
            "0             15        None                 None     2270  \n",
            "1             38        None                 None      512  \n",
            "2             18        None                 None      811  \n",
            "3             34        None                 None     2148  \n",
            "4             70        None  2019-11-01 15:12:41     1172  \n",
            "\n",
            "[5 rows x 22 columns]\n"
          ]
        }
      ],
      "source": [
        "# Find the 5 posts with the highest viewcount\n",
        "sql_top_5_viewcount = 'SELECT * FROM posts ORDER BY ViewCount DESC LIMIT 5;'\n",
        "top_5_viewcount = pd.read_sql(sql_top_5_viewcount, con)\n",
        "print('Top 5 posts with the highest viewcount:')\n",
        "print(top_5_viewcount)"
      ]
    },
    {
      "cell_type": "code",
      "source": [
        "# Find the top 5 posts with the highest scores\n",
        "sql_top_5_scores = 'SELECT * FROM posts ORDER BY Score DESC LIMIT 5;'\n",
        "top_5_scores = pd.read_sql(sql_top_5_scores, con)\n",
        "print('Top 5 posts with the highest scores:')\n",
        "print(top_5_scores)"
      ],
      "metadata": {
        "colab": {
          "base_uri": "https://localhost:8080/"
        },
        "id": "mR2aP-Aj0Qfl",
        "outputId": "cdde9ea4-612e-4088-d41a-779c2d3035d2"
      },
      "execution_count": 74,
      "outputs": [
        {
          "output_type": "stream",
          "name": "stdout",
          "text": [
            "Top 5 posts with the highest scores:\n",
            "       Id  PostTypeId  AcceptedAnswerId  ParentId         CreationDate  Score  \\\n",
            "0  431397           2                 0    431370  2019-10-14 14:29:36    101   \n",
            "1  394128           2                 0    394118  2019-02-24 15:44:44    100   \n",
            "2  426878           2                 0    426873  2019-09-11 23:23:31     93   \n",
            "3  388578           2                 0    388566  2019-01-22 15:48:47     80   \n",
            "4  431370           1            431397         0  2019-10-14 11:29:21     77   \n",
            "\n",
            "   ViewCount                                               Body  OwnerUserId  \\\n",
            "0          0  <p>Yes there is. Generally it is termed <stron...       142976   \n",
            "1          0  <p>I caution against expecting strong resembla...        22311   \n",
            "2          0  <p><strong>tl;dr</strong> Even though this is ...       119015   \n",
            "3          0  <p>To me \"1 in 80 deaths...\" is by far the cle...       227039   \n",
            "4      11723  <p>It seems very counter intuitive to many peo...       262594   \n",
            "\n",
            "  OwnerDisplayName  ...         LastEditDate     LastActivityDate  \\\n",
            "0             None  ...                 None  2019-10-14 14:29:36   \n",
            "1             None  ...  2019-03-03 17:37:05  2019-03-03 17:37:05   \n",
            "2             None  ...  2019-09-13 14:02:28  2019-09-13 14:02:28   \n",
            "3             None  ...                 None  2019-01-22 15:48:47   \n",
            "4             None  ...  2019-11-28 01:44:34  2019-11-28 01:44:34   \n",
            "\n",
            "                                               Title  \\\n",
            "0                                               None   \n",
            "1                                               None   \n",
            "2                                               None   \n",
            "3                                               None   \n",
            "4  Is there a name for the phenomenon of false po...   \n",
            "\n",
            "                                    Tags AnswerCount CommentCount  \\\n",
            "0                                   None           0            0   \n",
            "1                                   None           0           15   \n",
            "2                                   None           0            6   \n",
            "3                                   None           0           11   \n",
            "4  <probability><terminology><intuition>           8            9   \n",
            "\n",
            "   FavoriteCount  ClosedDate  CommunityOwnedDate LEN_BODY  \n",
            "0              0        None                None      269  \n",
            "1              0        None                None     5829  \n",
            "2              0        None                None     4627  \n",
            "3              0        None                None      572  \n",
            "4             18        None                None      811  \n",
            "\n",
            "[5 rows x 22 columns]\n"
          ]
        }
      ]
    },
    {
      "cell_type": "code",
      "source": [
        "# What are the 5 most frequent scores on posts?\n",
        "sql_most_frequent_scores = '''\n",
        "    SELECT Score, COUNT(*) AS Frequency\n",
        "    FROM posts\n",
        "    GROUP BY Score\n",
        "    ORDER BY Frequency DESC\n",
        "    LIMIT 5;\n",
        "'''\n",
        "most_frequent_scores = pd.read_sql(sql_most_frequent_scores, con)\n",
        "print('5 most frequent scores on posts:')\n",
        "print(most_frequent_scores)"
      ],
      "metadata": {
        "colab": {
          "base_uri": "https://localhost:8080/"
        },
        "id": "dS54XnqA0QiG",
        "outputId": "f1ac337f-482b-4386-9686-e6740965bf01"
      },
      "execution_count": 75,
      "outputs": [
        {
          "output_type": "stream",
          "name": "stdout",
          "text": [
            "5 most frequent scores on posts:\n",
            "   Score  Frequency\n",
            "0      0      19888\n",
            "1      1      11867\n",
            "2      2       5094\n",
            "3      3       2228\n",
            "4      4       1059\n"
          ]
        }
      ]
    },
    {
      "cell_type": "code",
      "source": [
        "# How many posts have the keyword \"data\" in their tags?\n",
        "sql_data_tags_count = \"SELECT COUNT(*) FROM posts WHERE Tags LIKE '%<data>%' ESCAPE '/';\"\n",
        "data_tags_count = pd.read_sql(sql_data_tags_count, con).iloc[0, 0]\n",
        "print(f'Number of posts with \"data\" in their tags: {data_tags_count}')"
      ],
      "metadata": {
        "colab": {
          "base_uri": "https://localhost:8080/"
        },
        "id": "juLEhpEw0Qk0",
        "outputId": "408ed448-5d7a-431e-a435-396dc18e3088"
      },
      "execution_count": 76,
      "outputs": [
        {
          "output_type": "stream",
          "name": "stdout",
          "text": [
            "Number of posts with \"data\" in their tags: 0\n"
          ]
        }
      ]
    },
    {
      "cell_type": "code",
      "source": [
        "# What are the 5 most frequent commentcount for posts?\n",
        "sql_most_frequent_commentcounts = '''\n",
        "    SELECT CommentCount, COUNT(*) AS Frequency\n",
        "    FROM posts\n",
        "    GROUP BY CommentCount\n",
        "    ORDER BY Frequency DESC\n",
        "    LIMIT 5;\n",
        "'''\n",
        "most_frequent_commentcounts = pd.read_sql(sql_most_frequent_commentcounts, con)\n",
        "print('5 most frequent commentcounts for posts:')\n",
        "print(most_frequent_commentcounts)"
      ],
      "metadata": {
        "colab": {
          "base_uri": "https://localhost:8080/"
        },
        "id": "TeSd34Fj0QoP",
        "outputId": "4015707b-fa0e-4a88-b5ef-399590b5ab5d"
      },
      "execution_count": 77,
      "outputs": [
        {
          "output_type": "stream",
          "name": "stdout",
          "text": [
            "5 most frequent commentcounts for posts:\n",
            "   CommentCount  Frequency\n",
            "0             0      21713\n",
            "1             1       6460\n",
            "2             2       4966\n",
            "3             3       3063\n",
            "4             4       2026\n"
          ]
        }
      ]
    },
    {
      "cell_type": "code",
      "source": [
        "# How many posts have an accepted answer?\n",
        "sql_posts_with_accepted_answer = 'SELECT COUNT(*) FROM posts WHERE AcceptedAnswerId > 0;'\n",
        "posts_with_accepted_answer_count = pd.read_sql(sql_posts_with_accepted_answer, con).iloc[0, 0]\n",
        "print(f'Number of posts with an accepted answer: {posts_with_accepted_answer_count}')"
      ],
      "metadata": {
        "colab": {
          "base_uri": "https://localhost:8080/"
        },
        "id": "H97BdhmC0bTt",
        "outputId": "529eda59-4b76-4fb6-88c4-a92b1e579262"
      },
      "execution_count": 79,
      "outputs": [
        {
          "output_type": "stream",
          "name": "stdout",
          "text": [
            "Number of posts with an accepted answer: 5341\n"
          ]
        }
      ]
    },
    {
      "cell_type": "code",
      "source": [
        "# What is the average reputation of users?\n",
        "sql_avg_reputation = 'SELECT AVG(Reputation) FROM users;'\n",
        "avg_reputation = pd.read_sql(sql_avg_reputation, con).iloc[0, 0]\n",
        "print(f'Average reputation of users: {avg_reputation}')"
      ],
      "metadata": {
        "colab": {
          "base_uri": "https://localhost:8080/"
        },
        "id": "Kq9nJaK00bVx",
        "outputId": "895d8396-35c7-462a-ca2b-b4b8b0e1a75d"
      },
      "execution_count": 80,
      "outputs": [
        {
          "output_type": "stream",
          "name": "stdout",
          "text": [
            "Average reputation of users: 312.3509124484032\n"
          ]
        }
      ]
    },
    {
      "cell_type": "code",
      "source": [
        "# What are the min and max reputation of users?\n",
        "sql_min_max_reputation = 'SELECT MIN(Reputation), MAX(Reputation) FROM users;'\n",
        "min_max_reputation = pd.read_sql(sql_min_max_reputation, con).iloc[0]\n",
        "print(f'Minimum reputation of users: {min_max_reputation[0]}')\n",
        "print(f'Maximum reputation of users: {min_max_reputation[1]}')"
      ],
      "metadata": {
        "colab": {
          "base_uri": "https://localhost:8080/"
        },
        "id": "QfjJ0lgH0bYU",
        "outputId": "de9c154a-428c-44a3-e215-64e8a9fed2de"
      },
      "execution_count": 81,
      "outputs": [
        {
          "output_type": "stream",
          "name": "stdout",
          "text": [
            "Minimum reputation of users: 1\n",
            "Maximum reputation of users: 228662\n"
          ]
        }
      ]
    },
    {
      "cell_type": "code",
      "source": [
        "# What is the length of the body of 5 most viewed posts?\n",
        "sql_length_body_top_5_viewed_posts = '''\n",
        "    SELECT LENGTH(Body) AS BodyLength\n",
        "    FROM posts\n",
        "    ORDER BY ViewCount DESC\n",
        "    LIMIT 5;\n",
        "'''\n",
        "length_body_top_5_viewed_posts = pd.read_sql(sql_length_body_top_5_viewed_posts, con)\n",
        "print('Length of the body of 5 most viewed posts:')\n",
        "print(length_body_top_5_viewed_posts)"
      ],
      "metadata": {
        "colab": {
          "base_uri": "https://localhost:8080/"
        },
        "id": "cC6g43oB0bbv",
        "outputId": "4cffaf66-c5a0-44ec-9ce3-d4bc31f61751"
      },
      "execution_count": 82,
      "outputs": [
        {
          "output_type": "stream",
          "name": "stdout",
          "text": [
            "Length of the body of 5 most viewed posts:\n",
            "   BodyLength\n",
            "0        2270\n",
            "1         512\n",
            "2         811\n",
            "3        2148\n",
            "4        1172\n"
          ]
        }
      ]
    },
    {
      "cell_type": "code",
      "source": [
        "# How many different locations are there in the users table?\n",
        "sql_unique_locations_count = 'SELECT COUNT(DISTINCT Location) FROM users;'\n",
        "unique_locations_count = pd.read_sql(sql_unique_locations_count, con).iloc[0, 0]\n",
        "print(f'Number of different locations in the users table: {unique_locations_count}')"
      ],
      "metadata": {
        "colab": {
          "base_uri": "https://localhost:8080/"
        },
        "id": "M_YmhiHD0oHv",
        "outputId": "19d854ac-e475-4ee6-8bfc-489d2dcf6538"
      },
      "execution_count": 83,
      "outputs": [
        {
          "output_type": "stream",
          "name": "stdout",
          "text": [
            "Number of different locations in the users table: 1900\n"
          ]
        }
      ]
    },
    {
      "cell_type": "code",
      "source": [
        "# What are the top 5 locations of users?\n",
        "sql_top_5_locations = '''\n",
        "    SELECT Location, COUNT(*) AS Frequency\n",
        "    FROM users\n",
        "    GROUP BY Location\n",
        "    ORDER BY Frequency DESC\n",
        "    LIMIT 5;\n",
        "'''\n",
        "top_5_locations = pd.read_sql(sql_top_5_locations, con)\n",
        "print('Top 5 locations of users:')\n",
        "print(top_5_locations)"
      ],
      "metadata": {
        "colab": {
          "base_uri": "https://localhost:8080/"
        },
        "id": "rbsg2t9a0oJ3",
        "outputId": "8d6e6b02-e42a-40d2-966c-3143598cbe83"
      },
      "execution_count": 84,
      "outputs": [
        {
          "output_type": "stream",
          "name": "stdout",
          "text": [
            "Top 5 locations of users:\n",
            "        Location  Frequency\n",
            "0           None      13335\n",
            "1        Germany        117\n",
            "2          India        100\n",
            "3  United States         69\n",
            "4  Paris, France         66\n"
          ]
        }
      ]
    },
    {
      "cell_type": "code",
      "source": [
        "# Rank the days of the week from highest to lowest in terms of the volume of ViewCount as a percentage\n",
        "sql_days_viewcount_percentage = '''\n",
        "    SELECT\n",
        "        CAST(strftime('%w', CreationDate) AS INTEGER) AS DayOfWeek,\n",
        "        SUM(ViewCount) * 100.0 / (SELECT SUM(ViewCount) FROM posts) AS Percentage\n",
        "    FROM posts\n",
        "    GROUP BY DayOfWeek\n",
        "    ORDER BY Percentage DESC;\n",
        "'''\n",
        "days_viewcount_percentage = pd.read_sql(sql_days_viewcount_percentage, con)\n",
        "print('Days of the week ranked by ViewCount percentage:')\n",
        "print(days_viewcount_percentage)"
      ],
      "metadata": {
        "colab": {
          "base_uri": "https://localhost:8080/"
        },
        "id": "LxZ28yTT0uAE",
        "outputId": "58286eda-1ef1-4a9e-93ae-e6944c72773e"
      },
      "execution_count": 85,
      "outputs": [
        {
          "output_type": "stream",
          "name": "stdout",
          "text": [
            "Days of the week ranked by ViewCount percentage:\n",
            "   DayOfWeek  Percentage\n",
            "0          4   16.819476\n",
            "1          3   16.768689\n",
            "2          2   16.255034\n",
            "3          1   15.806727\n",
            "4          5   13.563061\n",
            "5          0   11.895609\n",
            "6          6    8.891404\n"
          ]
        }
      ]
    },
    {
      "cell_type": "code",
      "source": [],
      "metadata": {
        "id": "Q4nsp63_0uDj"
      },
      "execution_count": null,
      "outputs": []
    },
    {
      "cell_type": "code",
      "source": [],
      "metadata": {
        "id": "Hk-gR5XK0oNa"
      },
      "execution_count": null,
      "outputs": []
    },
    {
      "cell_type": "markdown",
      "metadata": {
        "id": "kfBgjDxI7Wwc"
      },
      "source": [
        "# Task 3: Cross Table Queries"
      ]
    },
    {
      "cell_type": "markdown",
      "metadata": {
        "id": "UP8FmuH87Wwc"
      },
      "source": [
        "## Lifecycle Stage: Analyze\n",
        "Let's continue the analysis with our multi-table queries.  "
      ]
    },
    {
      "cell_type": "markdown",
      "metadata": {
        "id": "sXF8yDYP7Wwc"
      },
      "source": [
        "### Cross Table Queries\n",
        "\n",
        "From the Template SQL Queries there are a series of queries requested. You are responsible for coding the result. Use the pattern above to accomplish the coding objective.  Copy and paste the question (column B Action) into a markdown cell and answer the query. Use the pattern that you have been using above.\n",
        "\n",
        "<div style=\"background-color:lemonchiffon; border:1px solid; padding:5px; margin:5px; font-weight:bold\"><font color=\"crimson\">\n",
        "TODO: Enter your code below.  Just keep on inserting cells as you need them.\n",
        "    </font></div>\n",
        "\n"
      ]
    },
    {
      "cell_type": "code",
      "execution_count": 86,
      "metadata": {
        "id": "x2DVYbIx7Wwd",
        "colab": {
          "base_uri": "https://localhost:8080/"
        },
        "outputId": "552159bf-0320-4839-8d04-b0fc81d2147f"
      },
      "outputs": [
        {
          "output_type": "stream",
          "name": "stdout",
          "text": [
            "Number of posts created by users with filled out \"AboutMe\" section: 17189\n"
          ]
        }
      ],
      "source": [
        "# How many posts have been created by a user that has a filled out the \"AboutMe\" section?\n",
        "sql_posts_by_user_with_aboutme = '''\n",
        "    SELECT COUNT(DISTINCT p.Id) AS NumPosts\n",
        "    FROM posts p\n",
        "    JOIN users u ON p.OwnerUserId = u.Id\n",
        "    WHERE u.AboutMe IS NOT NULL;\n",
        "'''\n",
        "posts_by_user_with_aboutme = pd.read_sql(sql_posts_by_user_with_aboutme, con).iloc[0, 0]\n",
        "print(f'Number of posts created by users with filled out \"AboutMe\" section: {posts_by_user_with_aboutme}')"
      ]
    },
    {
      "cell_type": "code",
      "execution_count": 100,
      "metadata": {
        "id": "uqjYar0m7Wwd",
        "colab": {
          "base_uri": "https://localhost:8080/"
        },
        "outputId": "04be2e65-41db-4ff8-d032-7e0b34b4b97a"
      },
      "outputs": [
        {
          "output_type": "stream",
          "name": "stdout",
          "text": [
            "Number of posts per user with filled out \"AboutMe\" section:\n",
            "   NumPosts\n",
            "0  4.274807\n"
          ]
        }
      ],
      "source": [
        "# Considering only the users with an \"AboutMe,\" how many posts are there per user?\n",
        "sql_posts_per_user_with_aboutme =  '''\n",
        "    SELECT CAST(COUNT(*) AS FLOAT) / 4021 AS NumPosts\n",
        "    FROM posts p\n",
        "    JOIN users u ON p.OwnerUserId = u.Id\n",
        "    WHERE u.AboutMe IS NOT NULL\n",
        "'''\n",
        "posts_per_user_with_aboutme = pd.read_sql(sql_posts_per_user_with_aboutme, con)\n",
        "posts_per_user_with_aboutme['NumPosts'] = posts_per_user_with_aboutme['NumPosts'].astype(float)\n",
        "print('Number of posts per user with filled out \"AboutMe\" section:')\n",
        "print(posts_per_user_with_aboutme)"
      ]
    },
    {
      "cell_type": "code",
      "execution_count": 101,
      "metadata": {
        "id": "I4N42wXr7Wwd",
        "colab": {
          "base_uri": "https://localhost:8080/"
        },
        "outputId": "12a793bf-fc6c-4e85-dd09-3ec8137b52c7"
      },
      "outputs": [
        {
          "output_type": "stream",
          "name": "stdout",
          "text": [
            "Top 10 posts by number of comments:\n",
            "       Id  NumComments\n",
            "0  386853           66\n",
            "1  386556           34\n",
            "2  395232           31\n",
            "3  418910           31\n",
            "4  402987           27\n",
            "5  386075           26\n",
            "6  394118           24\n",
            "7  398828           23\n",
            "8  402950           23\n",
            "9  396111           22\n"
          ]
        }
      ],
      "source": [
        "# Not taking into account the commentcount field in the table posts, what are the Top 10 posts in terms of number of comments?\n",
        "sql_top_10_posts_by_comments = '''\n",
        "    SELECT p.Id, COUNT(c.Id) AS NumComments\n",
        "    FROM posts p\n",
        "    LEFT JOIN comments c ON p.Id = c.PostId\n",
        "    GROUP BY p.Id\n",
        "    ORDER BY NumComments DESC\n",
        "    LIMIT 10;\n",
        "'''\n",
        "top_10_posts_by_comments = pd.read_sql(sql_top_10_posts_by_comments, con)\n",
        "print('Top 10 posts by number of comments:')\n",
        "print(top_10_posts_by_comments)"
      ]
    },
    {
      "cell_type": "code",
      "execution_count": 102,
      "metadata": {
        "id": "1oqc44vz7Wwd",
        "colab": {
          "base_uri": "https://localhost:8080/"
        },
        "outputId": "ca1bb61c-13cf-4502-d719-fea18f76d285"
      },
      "outputs": [
        {
          "output_type": "stream",
          "name": "stdout",
          "text": [
            "Top 10 posts by cumulative score:\n",
            "       Id  CumulativeScore\n",
            "0  394118              306\n",
            "1  394128              169\n",
            "2  388578              141\n",
            "3  398653              111\n",
            "4  388566              101\n",
            "5  431397              101\n",
            "6  398646               99\n",
            "7  421677               96\n",
            "8  426878               93\n",
            "9  420526               92\n"
          ]
        }
      ],
      "source": [
        "# What are the Top 10 posts which have the highest cummulative (post score + comment score) score?\n",
        "sql_top_10_posts_by_cumulative_score = '''\n",
        "    SELECT p.Id, (p.Score + IFNULL(SUM(c.Score), 0)) AS CumulativeScore\n",
        "    FROM posts p\n",
        "    LEFT JOIN comments c ON p.Id = c.PostId\n",
        "    GROUP BY p.Id\n",
        "    ORDER BY CumulativeScore DESC\n",
        "    LIMIT 10;\n",
        "'''\n",
        "top_10_posts_by_cumulative_score = pd.read_sql(sql_top_10_posts_by_cumulative_score, con)\n",
        "print('Top 10 posts by cumulative score:')\n",
        "print(top_10_posts_by_cumulative_score)"
      ]
    },
    {
      "cell_type": "code",
      "source": [
        "# Who are the top 10 users who comment the most?\n",
        "sql_top_10_users_comment_most = '''\n",
        "    SELECT c.UserId, COUNT(c.Id) AS NumComments, u.Reputation\n",
        "    FROM comments c\n",
        "    JOIN users u ON c.UserId = u.Id\n",
        "    GROUP BY c.UserId\n",
        "    ORDER BY NumComments DESC\n",
        "    LIMIT 10;\n",
        "'''\n",
        "top_10_users_comment_most = pd.read_sql(sql_top_10_users_comment_most, con)\n",
        "print('Top 10 users who comment the most:')\n",
        "print(top_10_users_comment_most)"
      ],
      "metadata": {
        "colab": {
          "base_uri": "https://localhost:8080/"
        },
        "id": "4nwL5f7d1Sy7",
        "outputId": "0a918edd-5891-4d42-97e5-92101d86309f"
      },
      "execution_count": 103,
      "outputs": [
        {
          "output_type": "stream",
          "name": "stdout",
          "text": [
            "Top 10 users who comment the most:\n",
            "   UserId  NumComments  Reputation\n",
            "0     919         3301      223056\n",
            "1     805         1153      228662\n",
            "2  143489         1024        2890\n",
            "3   11887          805       39200\n",
            "4   85665          691       17391\n",
            "5  164061          540       13485\n",
            "6   22047          536       41385\n",
            "7  158565          504        6482\n",
            "8    7962          492        8030\n",
            "9   35989          470       71548\n"
          ]
        }
      ]
    },
    {
      "cell_type": "code",
      "source": [
        "# Who are the top 10 users who post the most?\n",
        "sql_top_10_users_post_most = '''\n",
        "    SELECT p.OwnerUserId, COUNT(p.Id) AS NumPosts, u.Reputation\n",
        "    FROM posts p\n",
        "    JOIN users u ON p.OwnerUserId = u.Id\n",
        "    GROUP BY p.OwnerUserId\n",
        "    ORDER BY NumPosts DESC\n",
        "    LIMIT 10;\n",
        "'''\n",
        "top_10_users_post_most = pd.read_sql(sql_top_10_users_post_most, con)\n",
        "print('Top 10 users who post the most:')\n",
        "print(top_10_users_post_most)"
      ],
      "metadata": {
        "colab": {
          "base_uri": "https://localhost:8080/"
        },
        "id": "TXn-V8o-1S1G",
        "outputId": "eb3ade90-59c9-4a98-c48d-a65f7fb0f824"
      },
      "execution_count": 104,
      "outputs": [
        {
          "output_type": "stream",
          "name": "stdout",
          "text": [
            "Top 10 users who post the most:\n",
            "   OwnerUserId  NumPosts  Reputation\n",
            "0       204068       637       17404\n",
            "1        85665       545       17391\n",
            "2       173082       435       42553\n",
            "3        11887       435       39200\n",
            "4          686       386       85077\n",
            "5         1352       285       59160\n",
            "6         3382       274       24841\n",
            "7         7224       233       65999\n",
            "8        35989       230       71548\n",
            "9          805       230      228662\n"
          ]
        }
      ]
    },
    {
      "cell_type": "code",
      "source": [],
      "metadata": {
        "id": "8sUjDJmF1S4h"
      },
      "execution_count": 104,
      "outputs": []
    },
    {
      "cell_type": "markdown",
      "metadata": {
        "id": "5xgjpfPM7Wwd"
      },
      "source": [
        "# Task 4: Check the Queries Table\n",
        "\n",
        "Now let's tidy up and check the queries table.\n",
        "\n",
        "First let's check it's contents:"
      ]
    },
    {
      "cell_type": "code",
      "execution_count": 105,
      "metadata": {
        "id": "tu_nx_BY7Wwe",
        "colab": {
          "base_uri": "https://localhost:8080/",
          "height": 1000
        },
        "outputId": "299fb140-2cce-4c94-8d0e-4782c32035d0"
      },
      "outputs": [
        {
          "output_type": "stream",
          "name": "stdout",
          "text": [
            " * sqlite:///chatdata.db\n",
            "Done.\n"
          ]
        },
        {
          "output_type": "execute_result",
          "data": {
            "text/plain": [
              "[('Single Table Queries', 'Which 5 users have viewed the most times and what is the sum of those views per user?', '\\nSELECT Id, SUM(Views) AS TotalViews\\n    FROM Users\\n        GROUP BY Id\\n            ORDER BY TotalViews DESC\\n                LIMIT 5\\n                ', None),\n",
              " ('Task 1', 'Create table comments', '\\n    CREATE TABLE \"comments\" (\\n    \"Id\" INTEGER,\\n    \"PostId\" INTEGER,\\n    \"Score\" INTEGER,\\n    \"Text\" TEXT,\\n    \"CreationDate\" TEXT,\\n    \"UserId\" INTEGER\\n    )\\n    ', None),\n",
              " ('Task 2', 'Create table posts', '\\n    CREATE TABLE \"posts\" (\\n    \"Id\" INTEGER NOT NULL PRIMARY KEY,\\n    \"PostTypeId\" INTEGER,\\n    \"AcceptedAnswerId\" INTEGER,\\n    \"ParentId\" INTE ... (321 characters truncated) ... \"AnswerCount\" INTEGER,\\n    \"CommentCount\" INTEGER,\\n    \"FavoriteCount\" INTEGER,\\n    \"ClosedDate\" TEXT,\\n    \"CommunityOwnedDate\" TEXT\\n    )\\n    ', None),\n",
              " ('Task 3', 'Create table users', '\\n    CREATE TABLE \"users\" (\\n    \"Id\" INTEGER NOT NULL PRIMARY KEY,\\n    \"Reputation\" INTEGER,\\n    \"CreationDate\" TEXT,\\n    \"DisplayName\" TEXT,\\n  ... (82 characters truncated) ... tMe\" TEXT,\\n    \"Views\" INTEGER,\\n    \"UpVotes\" INTEGER,\\n    \"DownVotes\" INTEGER,\\n    \"ProfileImageUrl\" TEXT,\\n    \"AccountId\" INTEGER\\n    )\\n    ', None),\n",
              " ('Task 2', 'Count the number of rows in the users table', 'SQL query: SELECT COUNT(*) FROM users;', None),\n",
              " ('Task 2', 'Count the number of rows in the posts table', 'SQL query: SELECT COUNT(*) FROM users;', None),\n",
              " ('Task 2', 'Count the number of rows in the comments table', 'SQL query: SELECT COUNT(*) FROM users;', None),\n",
              " ('Task 2', 'Count the number of rows in the users table', 'SQL query: SELECT COUNT(*) FROM users;', None),\n",
              " ('Task 2', 'Count the number of rows in the posts table', 'SQL query: SELECT COUNT(*) FROM users;', None),\n",
              " ('Task 2', 'Count the number of rows in the comments table', 'SQL query: SELECT COUNT(*) FROM users;', None)]"
            ],
            "text/html": [
              "<table>\n",
              "    <thead>\n",
              "        <tr>\n",
              "            <th>task</th>\n",
              "            <th>action</th>\n",
              "            <th>query</th>\n",
              "            <th>query_description</th>\n",
              "        </tr>\n",
              "    </thead>\n",
              "    <tbody>\n",
              "        <tr>\n",
              "            <td>Single Table Queries</td>\n",
              "            <td>Which 5 users have viewed the most times and what is the sum of those views per user?</td>\n",
              "            <td><br>SELECT Id, SUM(Views) AS TotalViews<br>    FROM Users<br>        GROUP BY Id<br>            ORDER BY TotalViews DESC<br>                LIMIT 5<br>                </td>\n",
              "            <td>None</td>\n",
              "        </tr>\n",
              "        <tr>\n",
              "            <td>Task 1</td>\n",
              "            <td>Create table comments</td>\n",
              "            <td><br>    CREATE TABLE &quot;comments&quot; (<br>    &quot;Id&quot; INTEGER,<br>    &quot;PostId&quot; INTEGER,<br>    &quot;Score&quot; INTEGER,<br>    &quot;Text&quot; TEXT,<br>    &quot;CreationDate&quot; TEXT,<br>    &quot;UserId&quot; INTEGER<br>    )<br>    </td>\n",
              "            <td>None</td>\n",
              "        </tr>\n",
              "        <tr>\n",
              "            <td>Task 2</td>\n",
              "            <td>Create table posts</td>\n",
              "            <td><br>    CREATE TABLE &quot;posts&quot; (<br>    &quot;Id&quot; INTEGER NOT NULL PRIMARY KEY,<br>    &quot;PostTypeId&quot; INTEGER,<br>    &quot;AcceptedAnswerId&quot; INTEGER,<br>    &quot;ParentId&quot; INTEGER,<br>    &quot;CreationDate&quot; TEXT,<br>    &quot;Score&quot; INTEGER,<br>    &quot;ViewCount&quot; INTEGER,<br>    &quot;Body&quot; TEXT,<br>    &quot;OwnerUserId&quot; INTEGER,<br>    &quot;OwnerDisplayName&quot; TEXT,<br>    &quot;LastEditorUserId&quot; INTEGER,<br>    &quot;LastEditorDisplayName&quot; TEXT,<br>    &quot;LastEditDate&quot; TEXT,<br>    &quot;LastActivityDate&quot; TEXT,<br>    &quot;Title&quot; TEXT,<br>    &quot;Tags&quot; TEXT,<br>    &quot;AnswerCount&quot; INTEGER,<br>    &quot;CommentCount&quot; INTEGER,<br>    &quot;FavoriteCount&quot; INTEGER,<br>    &quot;ClosedDate&quot; TEXT,<br>    &quot;CommunityOwnedDate&quot; TEXT<br>    )<br>    </td>\n",
              "            <td>None</td>\n",
              "        </tr>\n",
              "        <tr>\n",
              "            <td>Task 3</td>\n",
              "            <td>Create table users</td>\n",
              "            <td><br>    CREATE TABLE &quot;users&quot; (<br>    &quot;Id&quot; INTEGER NOT NULL PRIMARY KEY,<br>    &quot;Reputation&quot; INTEGER,<br>    &quot;CreationDate&quot; TEXT,<br>    &quot;DisplayName&quot; TEXT,<br>    &quot;LastAccessDate&quot; TEXT,<br>    &quot;WebsiteUrl&quot; TEXT,<br>    &quot;Location&quot; TEXT,<br>    &quot;AboutMe&quot; TEXT,<br>    &quot;Views&quot; INTEGER,<br>    &quot;UpVotes&quot; INTEGER,<br>    &quot;DownVotes&quot; INTEGER,<br>    &quot;ProfileImageUrl&quot; TEXT,<br>    &quot;AccountId&quot; INTEGER<br>    )<br>    </td>\n",
              "            <td>None</td>\n",
              "        </tr>\n",
              "        <tr>\n",
              "            <td>Task 2</td>\n",
              "            <td>Count the number of rows in the users table</td>\n",
              "            <td>SQL query: SELECT COUNT(*) FROM users;</td>\n",
              "            <td>None</td>\n",
              "        </tr>\n",
              "        <tr>\n",
              "            <td>Task 2</td>\n",
              "            <td>Count the number of rows in the posts table</td>\n",
              "            <td>SQL query: SELECT COUNT(*) FROM users;</td>\n",
              "            <td>None</td>\n",
              "        </tr>\n",
              "        <tr>\n",
              "            <td>Task 2</td>\n",
              "            <td>Count the number of rows in the comments table</td>\n",
              "            <td>SQL query: SELECT COUNT(*) FROM users;</td>\n",
              "            <td>None</td>\n",
              "        </tr>\n",
              "        <tr>\n",
              "            <td>Task 2</td>\n",
              "            <td>Count the number of rows in the users table</td>\n",
              "            <td>SQL query: SELECT COUNT(*) FROM users;</td>\n",
              "            <td>None</td>\n",
              "        </tr>\n",
              "        <tr>\n",
              "            <td>Task 2</td>\n",
              "            <td>Count the number of rows in the posts table</td>\n",
              "            <td>SQL query: SELECT COUNT(*) FROM users;</td>\n",
              "            <td>None</td>\n",
              "        </tr>\n",
              "        <tr>\n",
              "            <td>Task 2</td>\n",
              "            <td>Count the number of rows in the comments table</td>\n",
              "            <td>SQL query: SELECT COUNT(*) FROM users;</td>\n",
              "            <td>None</td>\n",
              "        </tr>\n",
              "    </tbody>\n",
              "</table>"
            ]
          },
          "metadata": {},
          "execution_count": 105
        }
      ],
      "source": [
        "%sql SELECT * FROM queries"
      ]
    },
    {
      "cell_type": "markdown",
      "metadata": {
        "id": "EHPdCJ9e7Wwe"
      },
      "source": [
        "## Drop Duplicates\n",
        "\n",
        "You likely have some duplicates. Lets drop them."
      ]
    },
    {
      "cell_type": "code",
      "execution_count": 106,
      "metadata": {
        "id": "BopFNhNn7Wwe"
      },
      "outputs": [],
      "source": [
        "# Read the queries table into pandas\n",
        "sql = 'SELECT * FROM queries'\n",
        "queries = pd.read_sql(sql, con)\n",
        "\n",
        "# Drop duplicates\n",
        "queries.drop_duplicates(inplace = True) # drop duplicates"
      ]
    },
    {
      "cell_type": "markdown",
      "metadata": {
        "id": "LHkypkV97Wwf"
      },
      "source": [
        "## Case Issues"
      ]
    },
    {
      "cell_type": "markdown",
      "metadata": {
        "id": "Eoa7-vek7Wwf"
      },
      "source": [
        "Remember, SQL is case insensitive. Pandas IS case sensitive. Lets deal with this now by making all of the text uppercase."
      ]
    },
    {
      "cell_type": "code",
      "execution_count": 107,
      "metadata": {
        "id": "WU-Ra7If7Wwf",
        "colab": {
          "base_uri": "https://localhost:8080/",
          "height": 303
        },
        "outputId": "ed418170-9c4c-4fa1-bd65-b93ff79daabe"
      },
      "outputs": [
        {
          "output_type": "execute_result",
          "data": {
            "text/plain": [
              "                   task                                             action  \\\n",
              "0  SINGLE TABLE QUERIES  WHICH 5 USERS HAVE VIEWED THE MOST TIMES AND W...   \n",
              "1                TASK 1                              CREATE TABLE COMMENTS   \n",
              "2                TASK 2                                 CREATE TABLE POSTS   \n",
              "3                TASK 3                                 CREATE TABLE USERS   \n",
              "4                TASK 2        COUNT THE NUMBER OF ROWS IN THE USERS TABLE   \n",
              "5                TASK 2        COUNT THE NUMBER OF ROWS IN THE POSTS TABLE   \n",
              "6                TASK 2     COUNT THE NUMBER OF ROWS IN THE COMMENTS TABLE   \n",
              "\n",
              "                                               query query_description  \n",
              "0  \\nSELECT ID, SUM(VIEWS) AS TOTALVIEWS\\n    FRO...              None  \n",
              "1  \\n    CREATE TABLE \"COMMENTS\" (\\n    \"ID\" INTE...              None  \n",
              "2  \\n    CREATE TABLE \"POSTS\" (\\n    \"ID\" INTEGER...              None  \n",
              "3  \\n    CREATE TABLE \"USERS\" (\\n    \"ID\" INTEGER...              None  \n",
              "4             SQL QUERY: SELECT COUNT(*) FROM USERS;              None  \n",
              "5             SQL QUERY: SELECT COUNT(*) FROM USERS;              None  \n",
              "6             SQL QUERY: SELECT COUNT(*) FROM USERS;              None  "
            ],
            "text/html": [
              "\n",
              "  <div id=\"df-b8549342-4309-49b0-adbb-c1a29b8b322d\" class=\"colab-df-container\">\n",
              "    <div>\n",
              "<style scoped>\n",
              "    .dataframe tbody tr th:only-of-type {\n",
              "        vertical-align: middle;\n",
              "    }\n",
              "\n",
              "    .dataframe tbody tr th {\n",
              "        vertical-align: top;\n",
              "    }\n",
              "\n",
              "    .dataframe thead th {\n",
              "        text-align: right;\n",
              "    }\n",
              "</style>\n",
              "<table border=\"1\" class=\"dataframe\">\n",
              "  <thead>\n",
              "    <tr style=\"text-align: right;\">\n",
              "      <th></th>\n",
              "      <th>task</th>\n",
              "      <th>action</th>\n",
              "      <th>query</th>\n",
              "      <th>query_description</th>\n",
              "    </tr>\n",
              "  </thead>\n",
              "  <tbody>\n",
              "    <tr>\n",
              "      <th>0</th>\n",
              "      <td>SINGLE TABLE QUERIES</td>\n",
              "      <td>WHICH 5 USERS HAVE VIEWED THE MOST TIMES AND W...</td>\n",
              "      <td>\\nSELECT ID, SUM(VIEWS) AS TOTALVIEWS\\n    FRO...</td>\n",
              "      <td>None</td>\n",
              "    </tr>\n",
              "    <tr>\n",
              "      <th>1</th>\n",
              "      <td>TASK 1</td>\n",
              "      <td>CREATE TABLE COMMENTS</td>\n",
              "      <td>\\n    CREATE TABLE \"COMMENTS\" (\\n    \"ID\" INTE...</td>\n",
              "      <td>None</td>\n",
              "    </tr>\n",
              "    <tr>\n",
              "      <th>2</th>\n",
              "      <td>TASK 2</td>\n",
              "      <td>CREATE TABLE POSTS</td>\n",
              "      <td>\\n    CREATE TABLE \"POSTS\" (\\n    \"ID\" INTEGER...</td>\n",
              "      <td>None</td>\n",
              "    </tr>\n",
              "    <tr>\n",
              "      <th>3</th>\n",
              "      <td>TASK 3</td>\n",
              "      <td>CREATE TABLE USERS</td>\n",
              "      <td>\\n    CREATE TABLE \"USERS\" (\\n    \"ID\" INTEGER...</td>\n",
              "      <td>None</td>\n",
              "    </tr>\n",
              "    <tr>\n",
              "      <th>4</th>\n",
              "      <td>TASK 2</td>\n",
              "      <td>COUNT THE NUMBER OF ROWS IN THE USERS TABLE</td>\n",
              "      <td>SQL QUERY: SELECT COUNT(*) FROM USERS;</td>\n",
              "      <td>None</td>\n",
              "    </tr>\n",
              "    <tr>\n",
              "      <th>5</th>\n",
              "      <td>TASK 2</td>\n",
              "      <td>COUNT THE NUMBER OF ROWS IN THE POSTS TABLE</td>\n",
              "      <td>SQL QUERY: SELECT COUNT(*) FROM USERS;</td>\n",
              "      <td>None</td>\n",
              "    </tr>\n",
              "    <tr>\n",
              "      <th>6</th>\n",
              "      <td>TASK 2</td>\n",
              "      <td>COUNT THE NUMBER OF ROWS IN THE COMMENTS TABLE</td>\n",
              "      <td>SQL QUERY: SELECT COUNT(*) FROM USERS;</td>\n",
              "      <td>None</td>\n",
              "    </tr>\n",
              "  </tbody>\n",
              "</table>\n",
              "</div>\n",
              "    <div class=\"colab-df-buttons\">\n",
              "\n",
              "  <div class=\"colab-df-container\">\n",
              "    <button class=\"colab-df-convert\" onclick=\"convertToInteractive('df-b8549342-4309-49b0-adbb-c1a29b8b322d')\"\n",
              "            title=\"Convert this dataframe to an interactive table.\"\n",
              "            style=\"display:none;\">\n",
              "\n",
              "  <svg xmlns=\"http://www.w3.org/2000/svg\" height=\"24px\" viewBox=\"0 -960 960 960\">\n",
              "    <path d=\"M120-120v-720h720v720H120Zm60-500h600v-160H180v160Zm220 220h160v-160H400v160Zm0 220h160v-160H400v160ZM180-400h160v-160H180v160Zm440 0h160v-160H620v160ZM180-180h160v-160H180v160Zm440 0h160v-160H620v160Z\"/>\n",
              "  </svg>\n",
              "    </button>\n",
              "\n",
              "  <style>\n",
              "    .colab-df-container {\n",
              "      display:flex;\n",
              "      gap: 12px;\n",
              "    }\n",
              "\n",
              "    .colab-df-convert {\n",
              "      background-color: #E8F0FE;\n",
              "      border: none;\n",
              "      border-radius: 50%;\n",
              "      cursor: pointer;\n",
              "      display: none;\n",
              "      fill: #1967D2;\n",
              "      height: 32px;\n",
              "      padding: 0 0 0 0;\n",
              "      width: 32px;\n",
              "    }\n",
              "\n",
              "    .colab-df-convert:hover {\n",
              "      background-color: #E2EBFA;\n",
              "      box-shadow: 0px 1px 2px rgba(60, 64, 67, 0.3), 0px 1px 3px 1px rgba(60, 64, 67, 0.15);\n",
              "      fill: #174EA6;\n",
              "    }\n",
              "\n",
              "    .colab-df-buttons div {\n",
              "      margin-bottom: 4px;\n",
              "    }\n",
              "\n",
              "    [theme=dark] .colab-df-convert {\n",
              "      background-color: #3B4455;\n",
              "      fill: #D2E3FC;\n",
              "    }\n",
              "\n",
              "    [theme=dark] .colab-df-convert:hover {\n",
              "      background-color: #434B5C;\n",
              "      box-shadow: 0px 1px 3px 1px rgba(0, 0, 0, 0.15);\n",
              "      filter: drop-shadow(0px 1px 2px rgba(0, 0, 0, 0.3));\n",
              "      fill: #FFFFFF;\n",
              "    }\n",
              "  </style>\n",
              "\n",
              "    <script>\n",
              "      const buttonEl =\n",
              "        document.querySelector('#df-b8549342-4309-49b0-adbb-c1a29b8b322d button.colab-df-convert');\n",
              "      buttonEl.style.display =\n",
              "        google.colab.kernel.accessAllowed ? 'block' : 'none';\n",
              "\n",
              "      async function convertToInteractive(key) {\n",
              "        const element = document.querySelector('#df-b8549342-4309-49b0-adbb-c1a29b8b322d');\n",
              "        const dataTable =\n",
              "          await google.colab.kernel.invokeFunction('convertToInteractive',\n",
              "                                                    [key], {});\n",
              "        if (!dataTable) return;\n",
              "\n",
              "        const docLinkHtml = 'Like what you see? Visit the ' +\n",
              "          '<a target=\"_blank\" href=https://colab.research.google.com/notebooks/data_table.ipynb>data table notebook</a>'\n",
              "          + ' to learn more about interactive tables.';\n",
              "        element.innerHTML = '';\n",
              "        dataTable['output_type'] = 'display_data';\n",
              "        await google.colab.output.renderOutput(dataTable, element);\n",
              "        const docLink = document.createElement('div');\n",
              "        docLink.innerHTML = docLinkHtml;\n",
              "        element.appendChild(docLink);\n",
              "      }\n",
              "    </script>\n",
              "  </div>\n",
              "\n",
              "\n",
              "<div id=\"df-d2f3063d-d67a-4212-90fc-60c833f5d8b9\">\n",
              "  <button class=\"colab-df-quickchart\" onclick=\"quickchart('df-d2f3063d-d67a-4212-90fc-60c833f5d8b9')\"\n",
              "            title=\"Suggest charts\"\n",
              "            style=\"display:none;\">\n",
              "\n",
              "<svg xmlns=\"http://www.w3.org/2000/svg\" height=\"24px\"viewBox=\"0 0 24 24\"\n",
              "     width=\"24px\">\n",
              "    <g>\n",
              "        <path d=\"M19 3H5c-1.1 0-2 .9-2 2v14c0 1.1.9 2 2 2h14c1.1 0 2-.9 2-2V5c0-1.1-.9-2-2-2zM9 17H7v-7h2v7zm4 0h-2V7h2v10zm4 0h-2v-4h2v4z\"/>\n",
              "    </g>\n",
              "</svg>\n",
              "  </button>\n",
              "\n",
              "<style>\n",
              "  .colab-df-quickchart {\n",
              "      --bg-color: #E8F0FE;\n",
              "      --fill-color: #1967D2;\n",
              "      --hover-bg-color: #E2EBFA;\n",
              "      --hover-fill-color: #174EA6;\n",
              "      --disabled-fill-color: #AAA;\n",
              "      --disabled-bg-color: #DDD;\n",
              "  }\n",
              "\n",
              "  [theme=dark] .colab-df-quickchart {\n",
              "      --bg-color: #3B4455;\n",
              "      --fill-color: #D2E3FC;\n",
              "      --hover-bg-color: #434B5C;\n",
              "      --hover-fill-color: #FFFFFF;\n",
              "      --disabled-bg-color: #3B4455;\n",
              "      --disabled-fill-color: #666;\n",
              "  }\n",
              "\n",
              "  .colab-df-quickchart {\n",
              "    background-color: var(--bg-color);\n",
              "    border: none;\n",
              "    border-radius: 50%;\n",
              "    cursor: pointer;\n",
              "    display: none;\n",
              "    fill: var(--fill-color);\n",
              "    height: 32px;\n",
              "    padding: 0;\n",
              "    width: 32px;\n",
              "  }\n",
              "\n",
              "  .colab-df-quickchart:hover {\n",
              "    background-color: var(--hover-bg-color);\n",
              "    box-shadow: 0 1px 2px rgba(60, 64, 67, 0.3), 0 1px 3px 1px rgba(60, 64, 67, 0.15);\n",
              "    fill: var(--button-hover-fill-color);\n",
              "  }\n",
              "\n",
              "  .colab-df-quickchart-complete:disabled,\n",
              "  .colab-df-quickchart-complete:disabled:hover {\n",
              "    background-color: var(--disabled-bg-color);\n",
              "    fill: var(--disabled-fill-color);\n",
              "    box-shadow: none;\n",
              "  }\n",
              "\n",
              "  .colab-df-spinner {\n",
              "    border: 2px solid var(--fill-color);\n",
              "    border-color: transparent;\n",
              "    border-bottom-color: var(--fill-color);\n",
              "    animation:\n",
              "      spin 1s steps(1) infinite;\n",
              "  }\n",
              "\n",
              "  @keyframes spin {\n",
              "    0% {\n",
              "      border-color: transparent;\n",
              "      border-bottom-color: var(--fill-color);\n",
              "      border-left-color: var(--fill-color);\n",
              "    }\n",
              "    20% {\n",
              "      border-color: transparent;\n",
              "      border-left-color: var(--fill-color);\n",
              "      border-top-color: var(--fill-color);\n",
              "    }\n",
              "    30% {\n",
              "      border-color: transparent;\n",
              "      border-left-color: var(--fill-color);\n",
              "      border-top-color: var(--fill-color);\n",
              "      border-right-color: var(--fill-color);\n",
              "    }\n",
              "    40% {\n",
              "      border-color: transparent;\n",
              "      border-right-color: var(--fill-color);\n",
              "      border-top-color: var(--fill-color);\n",
              "    }\n",
              "    60% {\n",
              "      border-color: transparent;\n",
              "      border-right-color: var(--fill-color);\n",
              "    }\n",
              "    80% {\n",
              "      border-color: transparent;\n",
              "      border-right-color: var(--fill-color);\n",
              "      border-bottom-color: var(--fill-color);\n",
              "    }\n",
              "    90% {\n",
              "      border-color: transparent;\n",
              "      border-bottom-color: var(--fill-color);\n",
              "    }\n",
              "  }\n",
              "</style>\n",
              "\n",
              "  <script>\n",
              "    async function quickchart(key) {\n",
              "      const quickchartButtonEl =\n",
              "        document.querySelector('#' + key + ' button');\n",
              "      quickchartButtonEl.disabled = true;  // To prevent multiple clicks.\n",
              "      quickchartButtonEl.classList.add('colab-df-spinner');\n",
              "      try {\n",
              "        const charts = await google.colab.kernel.invokeFunction(\n",
              "            'suggestCharts', [key], {});\n",
              "      } catch (error) {\n",
              "        console.error('Error during call to suggestCharts:', error);\n",
              "      }\n",
              "      quickchartButtonEl.classList.remove('colab-df-spinner');\n",
              "      quickchartButtonEl.classList.add('colab-df-quickchart-complete');\n",
              "    }\n",
              "    (() => {\n",
              "      let quickchartButtonEl =\n",
              "        document.querySelector('#df-d2f3063d-d67a-4212-90fc-60c833f5d8b9 button');\n",
              "      quickchartButtonEl.style.display =\n",
              "        google.colab.kernel.accessAllowed ? 'block' : 'none';\n",
              "    })();\n",
              "  </script>\n",
              "</div>\n",
              "    </div>\n",
              "  </div>\n"
            ],
            "application/vnd.google.colaboratory.intrinsic+json": {
              "type": "dataframe",
              "variable_name": "queries",
              "repr_error": "Out of range float values are not JSON compliant: nan"
            }
          },
          "metadata": {},
          "execution_count": 107
        }
      ],
      "source": [
        "for col in queries.columns:\n",
        "    queries[col] = queries[col].str.upper()\n",
        "\n",
        "queries"
      ]
    },
    {
      "cell_type": "code",
      "execution_count": 108,
      "metadata": {
        "id": "rma94lEM7Wwf",
        "colab": {
          "base_uri": "https://localhost:8080/"
        },
        "outputId": "74782311-e59c-4e33-f227-63b0226e36cf"
      },
      "outputs": [
        {
          "output_type": "execute_result",
          "data": {
            "text/plain": [
              "7"
            ]
          },
          "metadata": {},
          "execution_count": 108
        }
      ],
      "source": [
        "# Write the now deduped uppercase dataframe back to sqlite and replace the table\n",
        "queries.to_sql('queries', con, if_exists='replace', index=False)"
      ]
    },
    {
      "cell_type": "markdown",
      "metadata": {
        "id": "trVgbcCp7Wwf"
      },
      "source": [
        "## Use Case\n",
        "\n",
        "Now that we have this queries table, lets give you some ideas about how you would use it.\n",
        "\n",
        "Suppose you wanted to find all of the queries where you did a GROUP BY:"
      ]
    },
    {
      "cell_type": "code",
      "execution_count": 109,
      "metadata": {
        "id": "LSIhrl3l7Wwf",
        "colab": {
          "base_uri": "https://localhost:8080/",
          "height": 182
        },
        "outputId": "db13f542-efe5-4d72-d842-fc03d7262891"
      },
      "outputs": [
        {
          "output_type": "stream",
          "name": "stdout",
          "text": [
            " * sqlite:///chatdata.db\n",
            "Done.\n"
          ]
        },
        {
          "output_type": "execute_result",
          "data": {
            "text/plain": [
              "[('\\nSELECT ID, SUM(VIEWS) AS TOTALVIEWS\\n    FROM USERS\\n        GROUP BY ID\\n            ORDER BY TOTALVIEWS DESC\\n                LIMIT 5\\n                ',)]"
            ],
            "text/html": [
              "<table>\n",
              "    <thead>\n",
              "        <tr>\n",
              "            <th>query</th>\n",
              "        </tr>\n",
              "    </thead>\n",
              "    <tbody>\n",
              "        <tr>\n",
              "            <td><br>SELECT ID, SUM(VIEWS) AS TOTALVIEWS<br>    FROM USERS<br>        GROUP BY ID<br>            ORDER BY TOTALVIEWS DESC<br>                LIMIT 5<br>                </td>\n",
              "        </tr>\n",
              "    </tbody>\n",
              "</table>"
            ]
          },
          "metadata": {},
          "execution_count": 109
        }
      ],
      "source": [
        "%%sql\n",
        "SELECT query\n",
        "    FROM queries\n",
        "        WHERE query LIKE '%GROUP BY%'"
      ]
    },
    {
      "cell_type": "markdown",
      "metadata": {
        "id": "32fsdJ-u7Wwg"
      },
      "source": [
        "## Now Your Turn\n",
        "Find the queries that have 'DISTINCT' in them. You can do it with the %sql command or with Pandas and sql.\n",
        "\n",
        "<div style=\"background-color:lemonchiffon; border:1px solid; padding:5px; margin:5px; font-weight:bold\"><font color=\"crimson\">\n",
        "TODO: Complete the following code cell\n",
        "    </font></div>"
      ]
    },
    {
      "cell_type": "code",
      "execution_count": 114,
      "metadata": {
        "id": "6yzIiknL7Wwg",
        "colab": {
          "base_uri": "https://localhost:8080/",
          "height": 74
        },
        "outputId": "2ebdbd2c-4e99-4708-8be7-bccd9ce59c09"
      },
      "outputs": [
        {
          "output_type": "stream",
          "name": "stdout",
          "text": [
            " * sqlite:///chatdata.db\n",
            "Done.\n"
          ]
        },
        {
          "output_type": "execute_result",
          "data": {
            "text/plain": [
              "[]"
            ],
            "text/html": [
              "<table>\n",
              "    <thead>\n",
              "        <tr>\n",
              "            <th>query</th>\n",
              "        </tr>\n",
              "    </thead>\n",
              "    <tbody>\n",
              "    </tbody>\n",
              "</table>"
            ]
          },
          "metadata": {},
          "execution_count": 114
        }
      ],
      "source": [
        "%%sql\n",
        "SELECT query\n",
        "FROM queries\n",
        "WHERE query LIKE '%DISTINCT%'"
      ]
    },
    {
      "cell_type": "markdown",
      "metadata": {
        "id": "PlhlkzxM7Wwg"
      },
      "source": [
        "# Close SQLite\n",
        "\n",
        "It is good practise to close all relational databases as soon as you are finished updating them."
      ]
    },
    {
      "cell_type": "code",
      "execution_count": 115,
      "metadata": {
        "id": "LXIzs-3r7Wwg"
      },
      "outputs": [],
      "source": [
        "con.close()"
      ]
    },
    {
      "cell_type": "markdown",
      "metadata": {
        "id": "nfOuwp7J7Wwg"
      },
      "source": [
        "# All Done!\n",
        "\n",
        "Great job. You now have a good idea for how to use sql and pandas with sql. You can create your own databases from csv files and you can do extensive querying using sql. These are valuable skills that will take you a long ways in todays technological world."
      ]
    }
  ],
  "metadata": {
    "kernelspec": {
      "display_name": "Python 3",
      "language": "python",
      "name": "python3"
    },
    "language_info": {
      "codemirror_mode": {
        "name": "ipython",
        "version": 3
      },
      "file_extension": ".py",
      "mimetype": "text/x-python",
      "name": "python",
      "nbconvert_exporter": "python",
      "pygments_lexer": "ipython3",
      "version": "3.8.8"
    },
    "toc": {
      "base_numbering": 1,
      "nav_menu": {},
      "number_sections": true,
      "sideBar": true,
      "skip_h1_title": false,
      "title_cell": "Table of Contents",
      "title_sidebar": "Contents",
      "toc_cell": false,
      "toc_position": {
        "height": "calc(100% - 180px)",
        "left": "10px",
        "top": "150px",
        "width": "293.993px"
      },
      "toc_section_display": true,
      "toc_window_display": true
    },
    "colab": {
      "provenance": []
    }
  },
  "nbformat": 4,
  "nbformat_minor": 0
}